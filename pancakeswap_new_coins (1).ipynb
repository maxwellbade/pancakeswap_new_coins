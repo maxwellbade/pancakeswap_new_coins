{
 "cells": [
  {
   "cell_type": "code",
   "execution_count": 10,
   "metadata": {},
   "outputs": [],
   "source": [
    "import json\n",
    "import csv\n",
    "from copy import deepcopy\n",
    "import pandas as pd\n",
    "import plotly.express as px\n",
    "import plotly.graph_objects as go\n",
    "import numpy as np\n",
    "import os\n",
    "# pd.set_option('display.float_format', lambda x: '%.3f' % x)\n",
    "# from IPython.core.display import display, HTML\n",
    "# !display(HTML(“<style>.container { width:80% !important; }</style>“))"
   ]
  },
  {
   "cell_type": "code",
   "execution_count": 85,
   "metadata": {
    "scrolled": true
   },
   "outputs": [
    {
     "name": "stdout",
     "output_type": "stream",
     "text": [
      "     index buy_symbol sell_symbol  #_trades  trade_amount_$  \\\n",
      "0        0       BUSD        WBNB    238999   262498069.770   \n",
      "1        1       WBNB        BUSD    237546   261352487.634   \n",
      "2        4       Cake        WBNB    146410    57425499.867   \n",
      "3        2       WBNB    SAFEMOON     94819    86607693.891   \n",
      "4       11       WBNB       BUNNY    145229    36157925.904   \n",
      "..     ...        ...         ...       ...             ...   \n",
      "995    890        DIS        WBNB       107      200406.290   \n",
      "996    885       WBNB        bLEO        91      204275.294   \n",
      "997    991       BUSD          DX       108      161787.149   \n",
      "998    935       WBNB     UNICORN        68      182357.295   \n",
      "999    290       SAFU        WBNB         1     1288882.628   \n",
      "\n",
      "     num_trades_x_tradeamount  \n",
      "0          62736776176938.789  \n",
      "1          62083238027443.891  \n",
      "2           8407667435540.632  \n",
      "3           8212054927042.438  \n",
      "4           5251179421103.349  \n",
      "..                        ...  \n",
      "995              21443473.059  \n",
      "996              18589051.748  \n",
      "997              17473012.102  \n",
      "998              12400296.042  \n",
      "999               1288882.628  \n",
      "\n",
      "[1000 rows x 6 columns]\n"
     ]
    }
   ],
   "source": [
    "data = json.load(open('/Users/max.bade/Downloads/pancakeswap_coins.txt'))\n",
    "\n",
    "def cross_join(left, right):\n",
    "    new_rows = []\n",
    "    for left_row in left:\n",
    "        for right_row in right:\n",
    "            temp_row = deepcopy(left_row)\n",
    "            for key, value in right_row.items():\n",
    "                temp_row[key] = value\n",
    "            new_rows.append(deepcopy(temp_row))\n",
    "    return new_rows\n",
    "\n",
    "\n",
    "def flatten_list(data):\n",
    "    for elem in data:\n",
    "        if isinstance(elem, list):\n",
    "            yield from flatten_list(elem)\n",
    "        else:\n",
    "            yield elem\n",
    "\n",
    "\n",
    "def json_to_dataframe(data_in):\n",
    "    def flatten_json(data, prev_heading=''):\n",
    "        if isinstance(data, dict):\n",
    "            rows = [{}]\n",
    "            for key, value in data.items():\n",
    "                rows = cross_join(rows, flatten_json(value, prev_heading + '.' + key))\n",
    "        elif isinstance(data, list):\n",
    "            rows = []\n",
    "            for i in range(len(data)):\n",
    "                [rows.append(elem) for elem in flatten_list(flatten_json(data[i], prev_heading))]\n",
    "        else:\n",
    "            rows = [{prev_heading[1:]: data}]\n",
    "        return rows\n",
    "\n",
    "    return pd.DataFrame(flatten_json(data_in))\n",
    "\n",
    "\n",
    "if __name__ == '__main__':\n",
    "    df = json_to_dataframe(data)\n",
    "    df.columns = ['buy_symbol','sell_symbol','#_trades','trade_amount_$']\n",
    "    df['num_trades_x_tradeamount'] = df['#_trades'] * df['trade_amount_$']\n",
    "    df = df.sort_values(by='num_trades_x_tradeamount',ascending=False).reset_index()\n",
    "    print(df)"
   ]
  },
  {
   "cell_type": "code",
   "execution_count": 84,
   "metadata": {},
   "outputs": [
    {
     "data": {
      "text/html": [
       "<div>\n",
       "<style scoped>\n",
       "    .dataframe tbody tr th:only-of-type {\n",
       "        vertical-align: middle;\n",
       "    }\n",
       "\n",
       "    .dataframe tbody tr th {\n",
       "        vertical-align: top;\n",
       "    }\n",
       "\n",
       "    .dataframe thead th {\n",
       "        text-align: right;\n",
       "    }\n",
       "</style>\n",
       "<table border=\"1\" class=\"dataframe\">\n",
       "  <thead>\n",
       "    <tr style=\"text-align: right;\">\n",
       "      <th></th>\n",
       "      <th>index</th>\n",
       "      <th>buy_symbol</th>\n",
       "      <th>sell_symbol</th>\n",
       "      <th>#_trades</th>\n",
       "      <th>trade_amount_$</th>\n",
       "      <th>num_trades_x_tradeamount</th>\n",
       "    </tr>\n",
       "  </thead>\n",
       "  <tbody>\n",
       "    <tr>\n",
       "      <th>0</th>\n",
       "      <td>0</td>\n",
       "      <td>BUSD</td>\n",
       "      <td>WBNB</td>\n",
       "      <td>238999</td>\n",
       "      <td>262498069.770</td>\n",
       "      <td>62736776176938.789</td>\n",
       "    </tr>\n",
       "    <tr>\n",
       "      <th>1</th>\n",
       "      <td>1</td>\n",
       "      <td>WBNB</td>\n",
       "      <td>BUSD</td>\n",
       "      <td>237546</td>\n",
       "      <td>261352487.634</td>\n",
       "      <td>62083238027443.891</td>\n",
       "    </tr>\n",
       "    <tr>\n",
       "      <th>2</th>\n",
       "      <td>4</td>\n",
       "      <td>Cake</td>\n",
       "      <td>WBNB</td>\n",
       "      <td>146410</td>\n",
       "      <td>57425499.867</td>\n",
       "      <td>8407667435540.632</td>\n",
       "    </tr>\n",
       "    <tr>\n",
       "      <th>3</th>\n",
       "      <td>2</td>\n",
       "      <td>WBNB</td>\n",
       "      <td>SAFEMOON</td>\n",
       "      <td>94819</td>\n",
       "      <td>86607693.891</td>\n",
       "      <td>8212054927042.438</td>\n",
       "    </tr>\n",
       "    <tr>\n",
       "      <th>4</th>\n",
       "      <td>11</td>\n",
       "      <td>WBNB</td>\n",
       "      <td>BUNNY</td>\n",
       "      <td>145229</td>\n",
       "      <td>36157925.904</td>\n",
       "      <td>5251179421103.349</td>\n",
       "    </tr>\n",
       "    <tr>\n",
       "      <th>5</th>\n",
       "      <td>7</td>\n",
       "      <td>USDT</td>\n",
       "      <td>WBNB</td>\n",
       "      <td>98457</td>\n",
       "      <td>42170315.574</td>\n",
       "      <td>4151962760491.640</td>\n",
       "    </tr>\n",
       "    <tr>\n",
       "      <th>6</th>\n",
       "      <td>8</td>\n",
       "      <td>WBNB</td>\n",
       "      <td>USDT</td>\n",
       "      <td>81792</td>\n",
       "      <td>42109778.263</td>\n",
       "      <td>3444242983647.673</td>\n",
       "    </tr>\n",
       "    <tr>\n",
       "      <th>7</th>\n",
       "      <td>3</td>\n",
       "      <td>SAFEMOON</td>\n",
       "      <td>WBNB</td>\n",
       "      <td>38980</td>\n",
       "      <td>78247163.353</td>\n",
       "      <td>3050074427514.440</td>\n",
       "    </tr>\n",
       "    <tr>\n",
       "      <th>8</th>\n",
       "      <td>5</td>\n",
       "      <td>WBNB</td>\n",
       "      <td>Cake</td>\n",
       "      <td>43750</td>\n",
       "      <td>56879590.642</td>\n",
       "      <td>2488482090597.602</td>\n",
       "    </tr>\n",
       "    <tr>\n",
       "      <th>9</th>\n",
       "      <td>10</td>\n",
       "      <td>WBNB</td>\n",
       "      <td>CUMMIES</td>\n",
       "      <td>39950</td>\n",
       "      <td>37223501.700</td>\n",
       "      <td>1487078892909.037</td>\n",
       "    </tr>\n",
       "    <tr>\n",
       "      <th>10</th>\n",
       "      <td>6</td>\n",
       "      <td>BUNNY</td>\n",
       "      <td>WBNB</td>\n",
       "      <td>25641</td>\n",
       "      <td>45193482.990</td>\n",
       "      <td>1158806097336.938</td>\n",
       "    </tr>\n",
       "    <tr>\n",
       "      <th>11</th>\n",
       "      <td>17</td>\n",
       "      <td>USDT</td>\n",
       "      <td>BUSD</td>\n",
       "      <td>32054</td>\n",
       "      <td>31227465.585</td>\n",
       "      <td>1000965181873.859</td>\n",
       "    </tr>\n",
       "    <tr>\n",
       "      <th>12</th>\n",
       "      <td>16</td>\n",
       "      <td>BUSD</td>\n",
       "      <td>USDT</td>\n",
       "      <td>30872</td>\n",
       "      <td>31252319.735</td>\n",
       "      <td>964821614858.625</td>\n",
       "    </tr>\n",
       "    <tr>\n",
       "      <th>13</th>\n",
       "      <td>20</td>\n",
       "      <td>WBNB</td>\n",
       "      <td>ETH</td>\n",
       "      <td>28349</td>\n",
       "      <td>27681705.230</td>\n",
       "      <td>784748661572.120</td>\n",
       "    </tr>\n",
       "    <tr>\n",
       "      <th>14</th>\n",
       "      <td>25</td>\n",
       "      <td>WBNB</td>\n",
       "      <td>NFTART</td>\n",
       "      <td>45709</td>\n",
       "      <td>16328499.917</td>\n",
       "      <td>746359402714.007</td>\n",
       "    </tr>\n",
       "    <tr>\n",
       "      <th>15</th>\n",
       "      <td>21</td>\n",
       "      <td>ETH</td>\n",
       "      <td>WBNB</td>\n",
       "      <td>25524</td>\n",
       "      <td>27362965.921</td>\n",
       "      <td>698412342170.183</td>\n",
       "    </tr>\n",
       "    <tr>\n",
       "      <th>16</th>\n",
       "      <td>13</td>\n",
       "      <td>CUMMIES</td>\n",
       "      <td>WBNB</td>\n",
       "      <td>13394</td>\n",
       "      <td>35794497.124</td>\n",
       "      <td>479431494474.892</td>\n",
       "    </tr>\n",
       "    <tr>\n",
       "      <th>17</th>\n",
       "      <td>9</td>\n",
       "      <td>EPS</td>\n",
       "      <td>WBNB</td>\n",
       "      <td>12114</td>\n",
       "      <td>38512668.835</td>\n",
       "      <td>466542470269.933</td>\n",
       "    </tr>\n",
       "    <tr>\n",
       "      <th>18</th>\n",
       "      <td>24</td>\n",
       "      <td>NFTART</td>\n",
       "      <td>WBNB</td>\n",
       "      <td>26870</td>\n",
       "      <td>16503141.300</td>\n",
       "      <td>443439406730.876</td>\n",
       "    </tr>\n",
       "    <tr>\n",
       "      <th>19</th>\n",
       "      <td>28</td>\n",
       "      <td>WBNB</td>\n",
       "      <td>BONFIRE</td>\n",
       "      <td>33742</td>\n",
       "      <td>12892727.520</td>\n",
       "      <td>435026411986.893</td>\n",
       "    </tr>\n",
       "  </tbody>\n",
       "</table>\n",
       "</div>"
      ],
      "text/plain": [
       "    index buy_symbol sell_symbol  #_trades  trade_amount_$  \\\n",
       "0       0       BUSD        WBNB    238999   262498069.770   \n",
       "1       1       WBNB        BUSD    237546   261352487.634   \n",
       "2       4       Cake        WBNB    146410    57425499.867   \n",
       "3       2       WBNB    SAFEMOON     94819    86607693.891   \n",
       "4      11       WBNB       BUNNY    145229    36157925.904   \n",
       "5       7       USDT        WBNB     98457    42170315.574   \n",
       "6       8       WBNB        USDT     81792    42109778.263   \n",
       "7       3   SAFEMOON        WBNB     38980    78247163.353   \n",
       "8       5       WBNB        Cake     43750    56879590.642   \n",
       "9      10       WBNB     CUMMIES     39950    37223501.700   \n",
       "10      6      BUNNY        WBNB     25641    45193482.990   \n",
       "11     17       USDT        BUSD     32054    31227465.585   \n",
       "12     16       BUSD        USDT     30872    31252319.735   \n",
       "13     20       WBNB         ETH     28349    27681705.230   \n",
       "14     25       WBNB      NFTART     45709    16328499.917   \n",
       "15     21        ETH        WBNB     25524    27362965.921   \n",
       "16     13    CUMMIES        WBNB     13394    35794497.124   \n",
       "17      9        EPS        WBNB     12114    38512668.835   \n",
       "18     24     NFTART        WBNB     26870    16503141.300   \n",
       "19     28       WBNB     BONFIRE     33742    12892727.520   \n",
       "\n",
       "    num_trades_x_tradeamount  \n",
       "0         62736776176938.789  \n",
       "1         62083238027443.891  \n",
       "2          8407667435540.632  \n",
       "3          8212054927042.438  \n",
       "4          5251179421103.349  \n",
       "5          4151962760491.640  \n",
       "6          3444242983647.673  \n",
       "7          3050074427514.440  \n",
       "8          2488482090597.602  \n",
       "9          1487078892909.037  \n",
       "10         1158806097336.938  \n",
       "11         1000965181873.859  \n",
       "12          964821614858.625  \n",
       "13          784748661572.120  \n",
       "14          746359402714.007  \n",
       "15          698412342170.183  \n",
       "16          479431494474.892  \n",
       "17          466542470269.933  \n",
       "18          443439406730.876  \n",
       "19          435026411986.893  "
      ]
     },
     "execution_count": 84,
     "metadata": {},
     "output_type": "execute_result"
    }
   ],
   "source": [
    "df['num_trades_x_tradeamount'] = df['#_trades'] * df['trade_amount_$']\n",
    "df = df.sort_values(by='num_trades_x_tradeamount',ascending=False).reset_index()\n",
    "df.head(20)"
   ]
  },
  {
   "cell_type": "code",
   "execution_count": 74,
   "metadata": {},
   "outputs": [
    {
     "data": {
      "text/html": [
       "<div>\n",
       "<style scoped>\n",
       "    .dataframe tbody tr th:only-of-type {\n",
       "        vertical-align: middle;\n",
       "    }\n",
       "\n",
       "    .dataframe tbody tr th {\n",
       "        vertical-align: top;\n",
       "    }\n",
       "\n",
       "    .dataframe thead th {\n",
       "        text-align: right;\n",
       "    }\n",
       "</style>\n",
       "<table border=\"1\" class=\"dataframe\">\n",
       "  <thead>\n",
       "    <tr style=\"text-align: right;\">\n",
       "      <th></th>\n",
       "      <th>buy_symbol</th>\n",
       "      <th>sell_symbol</th>\n",
       "      <th>#_trades</th>\n",
       "      <th>trade_amount_$</th>\n",
       "      <th>num_trades_x_tradeamount</th>\n",
       "    </tr>\n",
       "  </thead>\n",
       "  <tbody>\n",
       "    <tr>\n",
       "      <th>2</th>\n",
       "      <td>SAFEMOON</td>\n",
       "      <td>WBNB</td>\n",
       "      <td>41935</td>\n",
       "      <td>81162073.932</td>\n",
       "      <td>3403531570338.039</td>\n",
       "    </tr>\n",
       "    <tr>\n",
       "      <th>6</th>\n",
       "      <td>BUNNY</td>\n",
       "      <td>WBNB</td>\n",
       "      <td>26081</td>\n",
       "      <td>48737076.017</td>\n",
       "      <td>1271111679597.978</td>\n",
       "    </tr>\n",
       "    <tr>\n",
       "      <th>22</th>\n",
       "      <td>NFTART</td>\n",
       "      <td>WBNB</td>\n",
       "      <td>31992</td>\n",
       "      <td>20129674.865</td>\n",
       "      <td>643988558294.336</td>\n",
       "    </tr>\n",
       "    <tr>\n",
       "      <th>10</th>\n",
       "      <td>EPS</td>\n",
       "      <td>WBNB</td>\n",
       "      <td>12652</td>\n",
       "      <td>40471628.073</td>\n",
       "      <td>512047038377.303</td>\n",
       "    </tr>\n",
       "    <tr>\n",
       "      <th>15</th>\n",
       "      <td>BSCPAD</td>\n",
       "      <td>WBNB</td>\n",
       "      <td>11767</td>\n",
       "      <td>33939339.250</td>\n",
       "      <td>399364204956.553</td>\n",
       "    </tr>\n",
       "  </tbody>\n",
       "</table>\n",
       "</div>"
      ],
      "text/plain": [
       "   buy_symbol sell_symbol  #_trades  trade_amount_$  num_trades_x_tradeamount\n",
       "2    SAFEMOON        WBNB     41935    81162073.932         3403531570338.039\n",
       "6       BUNNY        WBNB     26081    48737076.017         1271111679597.978\n",
       "22     NFTART        WBNB     31992    20129674.865          643988558294.336\n",
       "10        EPS        WBNB     12652    40471628.073          512047038377.303\n",
       "15     BSCPAD        WBNB     11767    33939339.250          399364204956.553"
      ]
     },
     "execution_count": 74,
     "metadata": {},
     "output_type": "execute_result"
    }
   ],
   "source": [
    "coins_to_remove = ['BUSD','WBNB','ETH','USDT','USDC','BTC','Cake']\n",
    "df1 = df[~df.buy_symbol.isin(coins_to_remove)].head(100)\n",
    "df2 = df[~df.sell_symbol.isin(coins_to_remove)].head(100)\n",
    "df1.head()"
   ]
  },
  {
   "cell_type": "code",
   "execution_count": 82,
   "metadata": {
    "scrolled": false
   },
   "outputs": [
    {
     "data": {
      "application/vnd.plotly.v1+json": {
       "config": {
        "plotlyServerURL": "https://plot.ly"
       },
       "data": [
        {
         "alignmentgroup": "True",
         "hovertemplate": "buy_symbol=%{x}<br>#_trades=%{y}<extra></extra>",
         "legendgroup": "SAFEMOON",
         "marker": {
          "color": "rgb(229, 134, 6)"
         },
         "name": "SAFEMOON",
         "offsetgroup": "SAFEMOON",
         "orientation": "v",
         "showlegend": true,
         "textposition": "auto",
         "type": "bar",
         "x": [
          "SAFEMOON"
         ],
         "xaxis": "x",
         "y": [
          41935
         ],
         "yaxis": "y"
        },
        {
         "alignmentgroup": "True",
         "hovertemplate": "buy_symbol=%{x}<br>#_trades=%{y}<extra></extra>",
         "legendgroup": "BUNNY",
         "marker": {
          "color": "rgb(93, 105, 177)"
         },
         "name": "BUNNY",
         "offsetgroup": "BUNNY",
         "orientation": "v",
         "showlegend": true,
         "textposition": "auto",
         "type": "bar",
         "x": [
          "BUNNY"
         ],
         "xaxis": "x",
         "y": [
          26081
         ],
         "yaxis": "y"
        },
        {
         "alignmentgroup": "True",
         "hovertemplate": "buy_symbol=%{x}<br>#_trades=%{y}<extra></extra>",
         "legendgroup": "NFTART",
         "marker": {
          "color": "rgb(82, 188, 163)"
         },
         "name": "NFTART",
         "offsetgroup": "NFTART",
         "orientation": "v",
         "showlegend": true,
         "textposition": "auto",
         "type": "bar",
         "x": [
          "NFTART"
         ],
         "xaxis": "x",
         "y": [
          31992
         ],
         "yaxis": "y"
        },
        {
         "alignmentgroup": "True",
         "hovertemplate": "buy_symbol=%{x}<br>#_trades=%{y}<extra></extra>",
         "legendgroup": "EPS",
         "marker": {
          "color": "rgb(153, 201, 69)"
         },
         "name": "EPS",
         "offsetgroup": "EPS",
         "orientation": "v",
         "showlegend": true,
         "textposition": "auto",
         "type": "bar",
         "x": [
          "EPS"
         ],
         "xaxis": "x",
         "y": [
          12652
         ],
         "yaxis": "y"
        },
        {
         "alignmentgroup": "True",
         "hovertemplate": "buy_symbol=%{x}<br>#_trades=%{y}<extra></extra>",
         "legendgroup": "BSCPAD",
         "marker": {
          "color": "rgb(204, 97, 176)"
         },
         "name": "BSCPAD",
         "offsetgroup": "BSCPAD",
         "orientation": "v",
         "showlegend": true,
         "textposition": "auto",
         "type": "bar",
         "x": [
          "BSCPAD"
         ],
         "xaxis": "x",
         "y": [
          11767
         ],
         "yaxis": "y"
        },
        {
         "alignmentgroup": "True",
         "hovertemplate": "buy_symbol=%{x}<br>#_trades=%{y}<extra></extra>",
         "legendgroup": "AUTO",
         "marker": {
          "color": "rgb(36, 121, 108)"
         },
         "name": "AUTO",
         "offsetgroup": "AUTO",
         "orientation": "v",
         "showlegend": true,
         "textposition": "auto",
         "type": "bar",
         "x": [
          "AUTO"
         ],
         "xaxis": "x",
         "y": [
          12118
         ],
         "yaxis": "y"
        },
        {
         "alignmentgroup": "True",
         "hovertemplate": "buy_symbol=%{x}<br>#_trades=%{y}<extra></extra>",
         "legendgroup": "Dogefather",
         "marker": {
          "color": "rgb(218, 165, 27)"
         },
         "name": "Dogefather",
         "offsetgroup": "Dogefather",
         "orientation": "v",
         "showlegend": true,
         "textposition": "auto",
         "type": "bar",
         "x": [
          "Dogefather"
         ],
         "xaxis": "x",
         "y": [
          21427
         ],
         "yaxis": "y"
        },
        {
         "alignmentgroup": "True",
         "hovertemplate": "buy_symbol=%{x}<br>#_trades=%{y}<extra></extra>",
         "legendgroup": "CUMMIES",
         "marker": {
          "color": "rgb(47, 138, 196)"
         },
         "name": "CUMMIES",
         "offsetgroup": "CUMMIES",
         "orientation": "v",
         "showlegend": true,
         "textposition": "auto",
         "type": "bar",
         "x": [
          "CUMMIES"
         ],
         "xaxis": "x",
         "y": [
          11409
         ],
         "yaxis": "y"
        },
        {
         "alignmentgroup": "True",
         "hovertemplate": "buy_symbol=%{x}<br>#_trades=%{y}<extra></extra>",
         "legendgroup": "ElonGate",
         "marker": {
          "color": "rgb(118, 78, 159)"
         },
         "name": "ElonGate",
         "offsetgroup": "ElonGate",
         "orientation": "v",
         "showlegend": true,
         "textposition": "auto",
         "type": "bar",
         "x": [
          "ElonGate"
         ],
         "xaxis": "x",
         "y": [
          19131
         ],
         "yaxis": "y"
        },
        {
         "alignmentgroup": "True",
         "hovertemplate": "buy_symbol=%{x}<br>#_trades=%{y}<extra></extra>",
         "legendgroup": "BTCB",
         "marker": {
          "color": "rgb(237, 100, 90)"
         },
         "name": "BTCB",
         "offsetgroup": "BTCB",
         "orientation": "v",
         "showlegend": true,
         "textposition": "auto",
         "type": "bar",
         "x": [
          "BTCB",
          "BTCB"
         ],
         "xaxis": "x",
         "y": [
          15482,
          6755
         ],
         "yaxis": "y"
        },
        {
         "alignmentgroup": "True",
         "hovertemplate": "buy_symbol=%{x}<br>#_trades=%{y}<extra></extra>",
         "legendgroup": "ECP",
         "marker": {
          "color": "rgb(165, 170, 153)"
         },
         "name": "ECP",
         "offsetgroup": "ECP",
         "orientation": "v",
         "showlegend": true,
         "textposition": "auto",
         "type": "bar",
         "x": [
          "ECP"
         ],
         "xaxis": "x",
         "y": [
          16946
         ],
         "yaxis": "y"
        },
        {
         "alignmentgroup": "True",
         "hovertemplate": "buy_symbol=%{x}<br>#_trades=%{y}<extra></extra>",
         "legendgroup": "BONFIRE",
         "marker": {
          "color": "rgb(229, 134, 6)"
         },
         "name": "BONFIRE",
         "offsetgroup": "BONFIRE",
         "orientation": "v",
         "showlegend": true,
         "textposition": "auto",
         "type": "bar",
         "x": [
          "BONFIRE"
         ],
         "xaxis": "x",
         "y": [
          13818
         ],
         "yaxis": "y"
        },
        {
         "alignmentgroup": "True",
         "hovertemplate": "buy_symbol=%{x}<br>#_trades=%{y}<extra></extra>",
         "legendgroup": "SEED",
         "marker": {
          "color": "rgb(93, 105, 177)"
         },
         "name": "SEED",
         "offsetgroup": "SEED",
         "orientation": "v",
         "showlegend": true,
         "textposition": "auto",
         "type": "bar",
         "x": [
          "SEED",
          "SEED"
         ],
         "xaxis": "x",
         "y": [
          10487,
          11314
         ],
         "yaxis": "y"
        },
        {
         "alignmentgroup": "True",
         "hovertemplate": "buy_symbol=%{x}<br>#_trades=%{y}<extra></extra>",
         "legendgroup": "SAFEMARS",
         "marker": {
          "color": "rgb(82, 188, 163)"
         },
         "name": "SAFEMARS",
         "offsetgroup": "SAFEMARS",
         "orientation": "v",
         "showlegend": true,
         "textposition": "auto",
         "type": "bar",
         "x": [
          "SAFEMARS"
         ],
         "xaxis": "x",
         "y": [
          13584
         ],
         "yaxis": "y"
        },
        {
         "alignmentgroup": "True",
         "hovertemplate": "buy_symbol=%{x}<br>#_trades=%{y}<extra></extra>",
         "legendgroup": "100x",
         "marker": {
          "color": "rgb(153, 201, 69)"
         },
         "name": "100x",
         "offsetgroup": "100x",
         "orientation": "v",
         "showlegend": true,
         "textposition": "auto",
         "type": "bar",
         "x": [
          "100x"
         ],
         "xaxis": "x",
         "y": [
          16635
         ],
         "yaxis": "y"
        },
        {
         "alignmentgroup": "True",
         "hovertemplate": "buy_symbol=%{x}<br>#_trades=%{y}<extra></extra>",
         "legendgroup": "ALPACA",
         "marker": {
          "color": "rgb(204, 97, 176)"
         },
         "name": "ALPACA",
         "offsetgroup": "ALPACA",
         "orientation": "v",
         "showlegend": true,
         "textposition": "auto",
         "type": "bar",
         "x": [
          "ALPACA"
         ],
         "xaxis": "x",
         "y": [
          7464
         ],
         "yaxis": "y"
        },
        {
         "alignmentgroup": "True",
         "hovertemplate": "buy_symbol=%{x}<br>#_trades=%{y}<extra></extra>",
         "legendgroup": "SPORE",
         "marker": {
          "color": "rgb(36, 121, 108)"
         },
         "name": "SPORE",
         "offsetgroup": "SPORE",
         "orientation": "v",
         "showlegend": true,
         "textposition": "auto",
         "type": "bar",
         "x": [
          "SPORE"
         ],
         "xaxis": "x",
         "y": [
          24390
         ],
         "yaxis": "y"
        },
        {
         "alignmentgroup": "True",
         "hovertemplate": "buy_symbol=%{x}<br>#_trades=%{y}<extra></extra>",
         "legendgroup": "BSCS",
         "marker": {
          "color": "rgb(218, 165, 27)"
         },
         "name": "BSCS",
         "offsetgroup": "BSCS",
         "orientation": "v",
         "showlegend": true,
         "textposition": "auto",
         "type": "bar",
         "x": [
          "BSCS"
         ],
         "xaxis": "x",
         "y": [
          8930
         ],
         "yaxis": "y"
        },
        {
         "alignmentgroup": "True",
         "hovertemplate": "buy_symbol=%{x}<br>#_trades=%{y}<extra></extra>",
         "legendgroup": "EGG",
         "marker": {
          "color": "rgb(47, 138, 196)"
         },
         "name": "EGG",
         "offsetgroup": "EGG",
         "orientation": "v",
         "showlegend": true,
         "textposition": "auto",
         "type": "bar",
         "x": [
          "EGG",
          "EGG"
         ],
         "xaxis": "x",
         "y": [
          7614,
          4678
         ],
         "yaxis": "y"
        },
        {
         "alignmentgroup": "True",
         "hovertemplate": "buy_symbol=%{x}<br>#_trades=%{y}<extra></extra>",
         "legendgroup": "Forestry",
         "marker": {
          "color": "rgb(118, 78, 159)"
         },
         "name": "Forestry",
         "offsetgroup": "Forestry",
         "orientation": "v",
         "showlegend": true,
         "textposition": "auto",
         "type": "bar",
         "x": [
          "Forestry"
         ],
         "xaxis": "x",
         "y": [
          10510
         ],
         "yaxis": "y"
        },
        {
         "alignmentgroup": "True",
         "hovertemplate": "buy_symbol=%{x}<br>#_trades=%{y}<extra></extra>",
         "legendgroup": "TBAKE",
         "marker": {
          "color": "rgb(237, 100, 90)"
         },
         "name": "TBAKE",
         "offsetgroup": "TBAKE",
         "orientation": "v",
         "showlegend": true,
         "textposition": "auto",
         "type": "bar",
         "x": [
          "TBAKE"
         ],
         "xaxis": "x",
         "y": [
          8678
         ],
         "yaxis": "y"
        },
        {
         "alignmentgroup": "True",
         "hovertemplate": "buy_symbol=%{x}<br>#_trades=%{y}<extra></extra>",
         "legendgroup": "LOF",
         "marker": {
          "color": "rgb(165, 170, 153)"
         },
         "name": "LOF",
         "offsetgroup": "LOF",
         "orientation": "v",
         "showlegend": true,
         "textposition": "auto",
         "type": "bar",
         "x": [
          "LOF"
         ],
         "xaxis": "x",
         "y": [
          7787
         ],
         "yaxis": "y"
        },
        {
         "alignmentgroup": "True",
         "hovertemplate": "buy_symbol=%{x}<br>#_trades=%{y}<extra></extra>",
         "legendgroup": "BGOV",
         "marker": {
          "color": "rgb(229, 134, 6)"
         },
         "name": "BGOV",
         "offsetgroup": "BGOV",
         "orientation": "v",
         "showlegend": true,
         "textposition": "auto",
         "type": "bar",
         "x": [
          "BGOV"
         ],
         "xaxis": "x",
         "y": [
          6809
         ],
         "yaxis": "y"
        },
        {
         "alignmentgroup": "True",
         "hovertemplate": "buy_symbol=%{x}<br>#_trades=%{y}<extra></extra>",
         "legendgroup": "SPND",
         "marker": {
          "color": "rgb(93, 105, 177)"
         },
         "name": "SPND",
         "offsetgroup": "SPND",
         "orientation": "v",
         "showlegend": true,
         "textposition": "auto",
         "type": "bar",
         "x": [
          "SPND"
         ],
         "xaxis": "x",
         "y": [
          8706
         ],
         "yaxis": "y"
        },
        {
         "alignmentgroup": "True",
         "hovertemplate": "buy_symbol=%{x}<br>#_trades=%{y}<extra></extra>",
         "legendgroup": "MASH",
         "marker": {
          "color": "rgb(82, 188, 163)"
         },
         "name": "MASH",
         "offsetgroup": "MASH",
         "orientation": "v",
         "showlegend": true,
         "textposition": "auto",
         "type": "bar",
         "x": [
          "MASH",
          "MASH"
         ],
         "xaxis": "x",
         "y": [
          8872,
          5378
         ],
         "yaxis": "y"
        },
        {
         "alignmentgroup": "True",
         "hovertemplate": "buy_symbol=%{x}<br>#_trades=%{y}<extra></extra>",
         "legendgroup": "BAKE",
         "marker": {
          "color": "rgb(153, 201, 69)"
         },
         "name": "BAKE",
         "offsetgroup": "BAKE",
         "orientation": "v",
         "showlegend": true,
         "textposition": "auto",
         "type": "bar",
         "x": [
          "BAKE"
         ],
         "xaxis": "x",
         "y": [
          9232
         ],
         "yaxis": "y"
        },
        {
         "alignmentgroup": "True",
         "hovertemplate": "buy_symbol=%{x}<br>#_trades=%{y}<extra></extra>",
         "legendgroup": "BRICK",
         "marker": {
          "color": "rgb(204, 97, 176)"
         },
         "name": "BRICK",
         "offsetgroup": "BRICK",
         "orientation": "v",
         "showlegend": true,
         "textposition": "auto",
         "type": "bar",
         "x": [
          "BRICK",
          "BRICK"
         ],
         "xaxis": "x",
         "y": [
          5861,
          5382
         ],
         "yaxis": "y"
        },
        {
         "alignmentgroup": "True",
         "hovertemplate": "buy_symbol=%{x}<br>#_trades=%{y}<extra></extra>",
         "legendgroup": "KPAD",
         "marker": {
          "color": "rgb(36, 121, 108)"
         },
         "name": "KPAD",
         "offsetgroup": "KPAD",
         "orientation": "v",
         "showlegend": true,
         "textposition": "auto",
         "type": "bar",
         "x": [
          "KPAD"
         ],
         "xaxis": "x",
         "y": [
          5196
         ],
         "yaxis": "y"
        },
        {
         "alignmentgroup": "True",
         "hovertemplate": "buy_symbol=%{x}<br>#_trades=%{y}<extra></extra>",
         "legendgroup": "XVS",
         "marker": {
          "color": "rgb(218, 165, 27)"
         },
         "name": "XVS",
         "offsetgroup": "XVS",
         "orientation": "v",
         "showlegend": true,
         "textposition": "auto",
         "type": "bar",
         "x": [
          "XVS"
         ],
         "xaxis": "x",
         "y": [
          5533
         ],
         "yaxis": "y"
        },
        {
         "alignmentgroup": "True",
         "hovertemplate": "buy_symbol=%{x}<br>#_trades=%{y}<extra></extra>",
         "legendgroup": "SAFEBTC",
         "marker": {
          "color": "rgb(47, 138, 196)"
         },
         "name": "SAFEBTC",
         "offsetgroup": "SAFEBTC",
         "orientation": "v",
         "showlegend": true,
         "textposition": "auto",
         "type": "bar",
         "x": [
          "SAFEBTC"
         ],
         "xaxis": "x",
         "y": [
          9498
         ],
         "yaxis": "y"
        },
        {
         "alignmentgroup": "True",
         "hovertemplate": "buy_symbol=%{x}<br>#_trades=%{y}<extra></extra>",
         "legendgroup": "BOG",
         "marker": {
          "color": "rgb(118, 78, 159)"
         },
         "name": "BOG",
         "offsetgroup": "BOG",
         "orientation": "v",
         "showlegend": true,
         "textposition": "auto",
         "type": "bar",
         "x": [
          "BOG"
         ],
         "xaxis": "x",
         "y": [
          3781
         ],
         "yaxis": "y"
        },
        {
         "alignmentgroup": "True",
         "hovertemplate": "buy_symbol=%{x}<br>#_trades=%{y}<extra></extra>",
         "legendgroup": "DOGE",
         "marker": {
          "color": "rgb(237, 100, 90)"
         },
         "name": "DOGE",
         "offsetgroup": "DOGE",
         "orientation": "v",
         "showlegend": true,
         "textposition": "auto",
         "type": "bar",
         "x": [
          "DOGE"
         ],
         "xaxis": "x",
         "y": [
          6574
         ],
         "yaxis": "y"
        },
        {
         "alignmentgroup": "True",
         "hovertemplate": "buy_symbol=%{x}<br>#_trades=%{y}<extra></extra>",
         "legendgroup": "DAI",
         "marker": {
          "color": "rgb(165, 170, 153)"
         },
         "name": "DAI",
         "offsetgroup": "DAI",
         "orientation": "v",
         "showlegend": true,
         "textposition": "auto",
         "type": "bar",
         "x": [
          "DAI",
          "DAI"
         ],
         "xaxis": "x",
         "y": [
          8433,
          13071
         ],
         "yaxis": "y"
        },
        {
         "alignmentgroup": "True",
         "hovertemplate": "buy_symbol=%{x}<br>#_trades=%{y}<extra></extra>",
         "legendgroup": "upBNB",
         "marker": {
          "color": "rgb(229, 134, 6)"
         },
         "name": "upBNB",
         "offsetgroup": "upBNB",
         "orientation": "v",
         "showlegend": true,
         "textposition": "auto",
         "type": "bar",
         "x": [
          "upBNB"
         ],
         "xaxis": "x",
         "y": [
          4722
         ],
         "yaxis": "y"
        },
        {
         "alignmentgroup": "True",
         "hovertemplate": "buy_symbol=%{x}<br>#_trades=%{y}<extra></extra>",
         "legendgroup": "DINO",
         "marker": {
          "color": "rgb(93, 105, 177)"
         },
         "name": "DINO",
         "offsetgroup": "DINO",
         "orientation": "v",
         "showlegend": true,
         "textposition": "auto",
         "type": "bar",
         "x": [
          "DINO"
         ],
         "xaxis": "x",
         "y": [
          6463
         ],
         "yaxis": "y"
        },
        {
         "alignmentgroup": "True",
         "hovertemplate": "buy_symbol=%{x}<br>#_trades=%{y}<extra></extra>",
         "legendgroup": "TWT",
         "marker": {
          "color": "rgb(82, 188, 163)"
         },
         "name": "TWT",
         "offsetgroup": "TWT",
         "orientation": "v",
         "showlegend": true,
         "textposition": "auto",
         "type": "bar",
         "x": [
          "TWT"
         ],
         "xaxis": "x",
         "y": [
          7074
         ],
         "yaxis": "y"
        },
        {
         "alignmentgroup": "True",
         "hovertemplate": "buy_symbol=%{x}<br>#_trades=%{y}<extra></extra>",
         "legendgroup": "GEN",
         "marker": {
          "color": "rgb(153, 201, 69)"
         },
         "name": "GEN",
         "offsetgroup": "GEN",
         "orientation": "v",
         "showlegend": true,
         "textposition": "auto",
         "type": "bar",
         "x": [
          "GEN",
          "GEN"
         ],
         "xaxis": "x",
         "y": [
          4326,
          4188
         ],
         "yaxis": "y"
        },
        {
         "alignmentgroup": "True",
         "hovertemplate": "buy_symbol=%{x}<br>#_trades=%{y}<extra></extra>",
         "legendgroup": "MEMES",
         "marker": {
          "color": "rgb(204, 97, 176)"
         },
         "name": "MEMES",
         "offsetgroup": "MEMES",
         "orientation": "v",
         "showlegend": true,
         "textposition": "auto",
         "type": "bar",
         "x": [
          "MEMES"
         ],
         "xaxis": "x",
         "y": [
          6848
         ],
         "yaxis": "y"
        },
        {
         "alignmentgroup": "True",
         "hovertemplate": "buy_symbol=%{x}<br>#_trades=%{y}<extra></extra>",
         "legendgroup": "TREE",
         "marker": {
          "color": "rgb(36, 121, 108)"
         },
         "name": "TREE",
         "offsetgroup": "TREE",
         "orientation": "v",
         "showlegend": true,
         "textposition": "auto",
         "type": "bar",
         "x": [
          "TREE"
         ],
         "xaxis": "x",
         "y": [
          6049
         ],
         "yaxis": "y"
        },
        {
         "alignmentgroup": "True",
         "hovertemplate": "buy_symbol=%{x}<br>#_trades=%{y}<extra></extra>",
         "legendgroup": "SENDWHALE",
         "marker": {
          "color": "rgb(218, 165, 27)"
         },
         "name": "SENDWHALE",
         "offsetgroup": "SENDWHALE",
         "orientation": "v",
         "showlegend": true,
         "textposition": "auto",
         "type": "bar",
         "x": [
          "SENDWHALE"
         ],
         "xaxis": "x",
         "y": [
          7637
         ],
         "yaxis": "y"
        },
        {
         "alignmentgroup": "True",
         "hovertemplate": "buy_symbol=%{x}<br>#_trades=%{y}<extra></extra>",
         "legendgroup": "HYPER",
         "marker": {
          "color": "rgb(47, 138, 196)"
         },
         "name": "HYPER",
         "offsetgroup": "HYPER",
         "orientation": "v",
         "showlegend": true,
         "textposition": "auto",
         "type": "bar",
         "x": [
          "HYPER"
         ],
         "xaxis": "x",
         "y": [
          6124
         ],
         "yaxis": "y"
        },
        {
         "alignmentgroup": "True",
         "hovertemplate": "buy_symbol=%{x}<br>#_trades=%{y}<extra></extra>",
         "legendgroup": "SALT",
         "marker": {
          "color": "rgb(118, 78, 159)"
         },
         "name": "SALT",
         "offsetgroup": "SALT",
         "orientation": "v",
         "showlegend": true,
         "textposition": "auto",
         "type": "bar",
         "x": [
          "SALT",
          "SALT"
         ],
         "xaxis": "x",
         "y": [
          4979,
          5227
         ],
         "yaxis": "y"
        },
        {
         "alignmentgroup": "True",
         "hovertemplate": "buy_symbol=%{x}<br>#_trades=%{y}<extra></extra>",
         "legendgroup": "Ramen",
         "marker": {
          "color": "rgb(237, 100, 90)"
         },
         "name": "Ramen",
         "offsetgroup": "Ramen",
         "orientation": "v",
         "showlegend": true,
         "textposition": "auto",
         "type": "bar",
         "x": [
          "Ramen"
         ],
         "xaxis": "x",
         "y": [
          4652
         ],
         "yaxis": "y"
        },
        {
         "alignmentgroup": "True",
         "hovertemplate": "buy_symbol=%{x}<br>#_trades=%{y}<extra></extra>",
         "legendgroup": "DOT",
         "marker": {
          "color": "rgb(165, 170, 153)"
         },
         "name": "DOT",
         "offsetgroup": "DOT",
         "orientation": "v",
         "showlegend": true,
         "textposition": "auto",
         "type": "bar",
         "x": [
          "DOT"
         ],
         "xaxis": "x",
         "y": [
          4834
         ],
         "yaxis": "y"
        },
        {
         "alignmentgroup": "True",
         "hovertemplate": "buy_symbol=%{x}<br>#_trades=%{y}<extra></extra>",
         "legendgroup": "MOONLIGHT",
         "marker": {
          "color": "rgb(229, 134, 6)"
         },
         "name": "MOONLIGHT",
         "offsetgroup": "MOONLIGHT",
         "orientation": "v",
         "showlegend": true,
         "textposition": "auto",
         "type": "bar",
         "x": [
          "MOONLIGHT"
         ],
         "xaxis": "x",
         "y": [
          6671
         ],
         "yaxis": "y"
        },
        {
         "alignmentgroup": "True",
         "hovertemplate": "buy_symbol=%{x}<br>#_trades=%{y}<extra></extra>",
         "legendgroup": "SHILD",
         "marker": {
          "color": "rgb(93, 105, 177)"
         },
         "name": "SHILD",
         "offsetgroup": "SHILD",
         "orientation": "v",
         "showlegend": true,
         "textposition": "auto",
         "type": "bar",
         "x": [
          "SHILD"
         ],
         "xaxis": "x",
         "y": [
          4702
         ],
         "yaxis": "y"
        },
        {
         "alignmentgroup": "True",
         "hovertemplate": "buy_symbol=%{x}<br>#_trades=%{y}<extra></extra>",
         "legendgroup": "SMG",
         "marker": {
          "color": "rgb(82, 188, 163)"
         },
         "name": "SMG",
         "offsetgroup": "SMG",
         "orientation": "v",
         "showlegend": true,
         "textposition": "auto",
         "type": "bar",
         "x": [
          "SMG"
         ],
         "xaxis": "x",
         "y": [
          4970
         ],
         "yaxis": "y"
        },
        {
         "alignmentgroup": "True",
         "hovertemplate": "buy_symbol=%{x}<br>#_trades=%{y}<extra></extra>",
         "legendgroup": "MOONMOON",
         "marker": {
          "color": "rgb(153, 201, 69)"
         },
         "name": "MOONMOON",
         "offsetgroup": "MOONMOON",
         "orientation": "v",
         "showlegend": true,
         "textposition": "auto",
         "type": "bar",
         "x": [
          "MOONMOON"
         ],
         "xaxis": "x",
         "y": [
          6466
         ],
         "yaxis": "y"
        },
        {
         "alignmentgroup": "True",
         "hovertemplate": "buy_symbol=%{x}<br>#_trades=%{y}<extra></extra>",
         "legendgroup": "MOONPIRATE",
         "marker": {
          "color": "rgb(204, 97, 176)"
         },
         "name": "MOONPIRATE",
         "offsetgroup": "MOONPIRATE",
         "orientation": "v",
         "showlegend": true,
         "textposition": "auto",
         "type": "bar",
         "x": [
          "MOONPIRATE"
         ],
         "xaxis": "x",
         "y": [
          6280
         ],
         "yaxis": "y"
        },
        {
         "alignmentgroup": "True",
         "hovertemplate": "buy_symbol=%{x}<br>#_trades=%{y}<extra></extra>",
         "legendgroup": "UST",
         "marker": {
          "color": "rgb(36, 121, 108)"
         },
         "name": "UST",
         "offsetgroup": "UST",
         "orientation": "v",
         "showlegend": true,
         "textposition": "auto",
         "type": "bar",
         "x": [
          "UST",
          "UST"
         ],
         "xaxis": "x",
         "y": [
          6851,
          6104
         ],
         "yaxis": "y"
        },
        {
         "alignmentgroup": "True",
         "hovertemplate": "buy_symbol=%{x}<br>#_trades=%{y}<extra></extra>",
         "legendgroup": "SPE",
         "marker": {
          "color": "rgb(218, 165, 27)"
         },
         "name": "SPE",
         "offsetgroup": "SPE",
         "orientation": "v",
         "showlegend": true,
         "textposition": "auto",
         "type": "bar",
         "x": [
          "SPE"
         ],
         "xaxis": "x",
         "y": [
          5955
         ],
         "yaxis": "y"
        },
        {
         "alignmentgroup": "True",
         "hovertemplate": "buy_symbol=%{x}<br>#_trades=%{y}<extra></extra>",
         "legendgroup": "SLAM",
         "marker": {
          "color": "rgb(47, 138, 196)"
         },
         "name": "SLAM",
         "offsetgroup": "SLAM",
         "orientation": "v",
         "showlegend": true,
         "textposition": "auto",
         "type": "bar",
         "x": [
          "SLAM"
         ],
         "xaxis": "x",
         "y": [
          5113
         ],
         "yaxis": "y"
        },
        {
         "alignmentgroup": "True",
         "hovertemplate": "buy_symbol=%{x}<br>#_trades=%{y}<extra></extra>",
         "legendgroup": "ASS",
         "marker": {
          "color": "rgb(118, 78, 159)"
         },
         "name": "ASS",
         "offsetgroup": "ASS",
         "orientation": "v",
         "showlegend": true,
         "textposition": "auto",
         "type": "bar",
         "x": [
          "ASS"
         ],
         "xaxis": "x",
         "y": [
          6060
         ],
         "yaxis": "y"
        },
        {
         "alignmentgroup": "True",
         "hovertemplate": "buy_symbol=%{x}<br>#_trades=%{y}<extra></extra>",
         "legendgroup": "NIU",
         "marker": {
          "color": "rgb(237, 100, 90)"
         },
         "name": "NIU",
         "offsetgroup": "NIU",
         "orientation": "v",
         "showlegend": true,
         "textposition": "auto",
         "type": "bar",
         "x": [
          "NIU",
          "NIU"
         ],
         "xaxis": "x",
         "y": [
          5931,
          3715
         ],
         "yaxis": "y"
        },
        {
         "alignmentgroup": "True",
         "hovertemplate": "buy_symbol=%{x}<br>#_trades=%{y}<extra></extra>",
         "legendgroup": "ZEP",
         "marker": {
          "color": "rgb(165, 170, 153)"
         },
         "name": "ZEP",
         "offsetgroup": "ZEP",
         "orientation": "v",
         "showlegend": true,
         "textposition": "auto",
         "type": "bar",
         "x": [
          "ZEP"
         ],
         "xaxis": "x",
         "y": [
          5506
         ],
         "yaxis": "y"
        },
        {
         "alignmentgroup": "True",
         "hovertemplate": "buy_symbol=%{x}<br>#_trades=%{y}<extra></extra>",
         "legendgroup": "BETH",
         "marker": {
          "color": "rgb(229, 134, 6)"
         },
         "name": "BETH",
         "offsetgroup": "BETH",
         "orientation": "v",
         "showlegend": true,
         "textposition": "auto",
         "type": "bar",
         "x": [
          "BETH"
         ],
         "xaxis": "x",
         "y": [
          1333
         ],
         "yaxis": "y"
        },
        {
         "alignmentgroup": "True",
         "hovertemplate": "buy_symbol=%{x}<br>#_trades=%{y}<extra></extra>",
         "legendgroup": "ADA",
         "marker": {
          "color": "rgb(93, 105, 177)"
         },
         "name": "ADA",
         "offsetgroup": "ADA",
         "orientation": "v",
         "showlegend": true,
         "textposition": "auto",
         "type": "bar",
         "x": [
          "ADA"
         ],
         "xaxis": "x",
         "y": [
          5192
         ],
         "yaxis": "y"
        },
        {
         "alignmentgroup": "True",
         "hovertemplate": "buy_symbol=%{x}<br>#_trades=%{y}<extra></extra>",
         "legendgroup": "SAFEGALAXY",
         "marker": {
          "color": "rgb(82, 188, 163)"
         },
         "name": "SAFEGALAXY",
         "offsetgroup": "SAFEGALAXY",
         "orientation": "v",
         "showlegend": true,
         "textposition": "auto",
         "type": "bar",
         "x": [
          "SAFEGALAXY"
         ],
         "xaxis": "x",
         "y": [
          4989
         ],
         "yaxis": "y"
        },
        {
         "alignmentgroup": "True",
         "hovertemplate": "buy_symbol=%{x}<br>#_trades=%{y}<extra></extra>",
         "legendgroup": "FEG",
         "marker": {
          "color": "rgb(153, 201, 69)"
         },
         "name": "FEG",
         "offsetgroup": "FEG",
         "orientation": "v",
         "showlegend": true,
         "textposition": "auto",
         "type": "bar",
         "x": [
          "FEG"
         ],
         "xaxis": "x",
         "y": [
          6097
         ],
         "yaxis": "y"
        },
        {
         "alignmentgroup": "True",
         "hovertemplate": "buy_symbol=%{x}<br>#_trades=%{y}<extra></extra>",
         "legendgroup": "SAFEMOONCASH",
         "marker": {
          "color": "rgb(204, 97, 176)"
         },
         "name": "SAFEMOONCASH",
         "offsetgroup": "SAFEMOONCASH",
         "orientation": "v",
         "showlegend": true,
         "textposition": "auto",
         "type": "bar",
         "x": [
          "SAFEMOONCASH"
         ],
         "xaxis": "x",
         "y": [
          4637
         ],
         "yaxis": "y"
        },
        {
         "alignmentgroup": "True",
         "hovertemplate": "buy_symbol=%{x}<br>#_trades=%{y}<extra></extra>",
         "legendgroup": "sBDO",
         "marker": {
          "color": "rgb(36, 121, 108)"
         },
         "name": "sBDO",
         "offsetgroup": "sBDO",
         "orientation": "v",
         "showlegend": true,
         "textposition": "auto",
         "type": "bar",
         "x": [
          "sBDO"
         ],
         "xaxis": "x",
         "y": [
          4336
         ],
         "yaxis": "y"
        },
        {
         "alignmentgroup": "True",
         "hovertemplate": "buy_symbol=%{x}<br>#_trades=%{y}<extra></extra>",
         "legendgroup": "SUPERWAIFU",
         "marker": {
          "color": "rgb(218, 165, 27)"
         },
         "name": "SUPERWAIFU",
         "offsetgroup": "SUPERWAIFU",
         "orientation": "v",
         "showlegend": true,
         "textposition": "auto",
         "type": "bar",
         "x": [
          "SUPERWAIFU"
         ],
         "xaxis": "x",
         "y": [
          6092
         ],
         "yaxis": "y"
        },
        {
         "alignmentgroup": "True",
         "hovertemplate": "buy_symbol=%{x}<br>#_trades=%{y}<extra></extra>",
         "legendgroup": "AQUAGOAT",
         "marker": {
          "color": "rgb(47, 138, 196)"
         },
         "name": "AQUAGOAT",
         "offsetgroup": "AQUAGOAT",
         "orientation": "v",
         "showlegend": true,
         "textposition": "auto",
         "type": "bar",
         "x": [
          "AQUAGOAT"
         ],
         "xaxis": "x",
         "y": [
          7709
         ],
         "yaxis": "y"
        },
        {
         "alignmentgroup": "True",
         "hovertemplate": "buy_symbol=%{x}<br>#_trades=%{y}<extra></extra>",
         "legendgroup": "HAPPY",
         "marker": {
          "color": "rgb(118, 78, 159)"
         },
         "name": "HAPPY",
         "offsetgroup": "HAPPY",
         "orientation": "v",
         "showlegend": true,
         "textposition": "auto",
         "type": "bar",
         "x": [
          "HAPPY"
         ],
         "xaxis": "x",
         "y": [
          4956
         ],
         "yaxis": "y"
        },
        {
         "alignmentgroup": "True",
         "hovertemplate": "buy_symbol=%{x}<br>#_trades=%{y}<extra></extra>",
         "legendgroup": "FOX",
         "marker": {
          "color": "rgb(237, 100, 90)"
         },
         "name": "FOX",
         "offsetgroup": "FOX",
         "orientation": "v",
         "showlegend": true,
         "textposition": "auto",
         "type": "bar",
         "x": [
          "FOX"
         ],
         "xaxis": "x",
         "y": [
          7544
         ],
         "yaxis": "y"
        },
        {
         "alignmentgroup": "True",
         "hovertemplate": "buy_symbol=%{x}<br>#_trades=%{y}<extra></extra>",
         "legendgroup": "DHOUSE",
         "marker": {
          "color": "rgb(165, 170, 153)"
         },
         "name": "DHOUSE",
         "offsetgroup": "DHOUSE",
         "orientation": "v",
         "showlegend": true,
         "textposition": "auto",
         "type": "bar",
         "x": [
          "DHOUSE"
         ],
         "xaxis": "x",
         "y": [
          4371
         ],
         "yaxis": "y"
        },
        {
         "alignmentgroup": "True",
         "hovertemplate": "buy_symbol=%{x}<br>#_trades=%{y}<extra></extra>",
         "legendgroup": "GMT",
         "marker": {
          "color": "rgb(229, 134, 6)"
         },
         "name": "GMT",
         "offsetgroup": "GMT",
         "orientation": "v",
         "showlegend": true,
         "textposition": "auto",
         "type": "bar",
         "x": [
          "GMT"
         ],
         "xaxis": "x",
         "y": [
          1722
         ],
         "yaxis": "y"
        },
        {
         "alignmentgroup": "True",
         "hovertemplate": "buy_symbol=%{x}<br>#_trades=%{y}<extra></extra>",
         "legendgroup": "HyMETEOR",
         "marker": {
          "color": "rgb(93, 105, 177)"
         },
         "name": "HyMETEOR",
         "offsetgroup": "HyMETEOR",
         "orientation": "v",
         "showlegend": true,
         "textposition": "auto",
         "type": "bar",
         "x": [
          "HyMETEOR"
         ],
         "xaxis": "x",
         "y": [
          5435
         ],
         "yaxis": "y"
        },
        {
         "alignmentgroup": "True",
         "hovertemplate": "buy_symbol=%{x}<br>#_trades=%{y}<extra></extra>",
         "legendgroup": "SAFEP",
         "marker": {
          "color": "rgb(82, 188, 163)"
         },
         "name": "SAFEP",
         "offsetgroup": "SAFEP",
         "orientation": "v",
         "showlegend": true,
         "textposition": "auto",
         "type": "bar",
         "x": [
          "SAFEP"
         ],
         "xaxis": "x",
         "y": [
          5843
         ],
         "yaxis": "y"
        },
        {
         "alignmentgroup": "True",
         "hovertemplate": "buy_symbol=%{x}<br>#_trades=%{y}<extra></extra>",
         "legendgroup": "TACOCAT",
         "marker": {
          "color": "rgb(153, 201, 69)"
         },
         "name": "TACOCAT",
         "offsetgroup": "TACOCAT",
         "orientation": "v",
         "showlegend": true,
         "textposition": "auto",
         "type": "bar",
         "x": [
          "TACOCAT"
         ],
         "xaxis": "x",
         "y": [
          3685
         ],
         "yaxis": "y"
        },
        {
         "alignmentgroup": "True",
         "hovertemplate": "buy_symbol=%{x}<br>#_trades=%{y}<extra></extra>",
         "legendgroup": "GEMS",
         "marker": {
          "color": "rgb(204, 97, 176)"
         },
         "name": "GEMS",
         "offsetgroup": "GEMS",
         "orientation": "v",
         "showlegend": true,
         "textposition": "auto",
         "type": "bar",
         "x": [
          "GEMS"
         ],
         "xaxis": "x",
         "y": [
          5513
         ],
         "yaxis": "y"
        },
        {
         "alignmentgroup": "True",
         "hovertemplate": "buy_symbol=%{x}<br>#_trades=%{y}<extra></extra>",
         "legendgroup": "KEY",
         "marker": {
          "color": "rgb(36, 121, 108)"
         },
         "name": "KEY",
         "offsetgroup": "KEY",
         "orientation": "v",
         "showlegend": true,
         "textposition": "auto",
         "type": "bar",
         "x": [
          "KEY"
         ],
         "xaxis": "x",
         "y": [
          5101
         ],
         "yaxis": "y"
        },
        {
         "alignmentgroup": "True",
         "hovertemplate": "buy_symbol=%{x}<br>#_trades=%{y}<extra></extra>",
         "legendgroup": "XRP",
         "marker": {
          "color": "rgb(218, 165, 27)"
         },
         "name": "XRP",
         "offsetgroup": "XRP",
         "orientation": "v",
         "showlegend": true,
         "textposition": "auto",
         "type": "bar",
         "x": [
          "XRP"
         ],
         "xaxis": "x",
         "y": [
          5238
         ],
         "yaxis": "y"
        },
        {
         "alignmentgroup": "True",
         "hovertemplate": "buy_symbol=%{x}<br>#_trades=%{y}<extra></extra>",
         "legendgroup": "OCTA",
         "marker": {
          "color": "rgb(47, 138, 196)"
         },
         "name": "OCTA",
         "offsetgroup": "OCTA",
         "orientation": "v",
         "showlegend": true,
         "textposition": "auto",
         "type": "bar",
         "x": [
          "OCTA"
         ],
         "xaxis": "x",
         "y": [
          4614
         ],
         "yaxis": "y"
        },
        {
         "alignmentgroup": "True",
         "hovertemplate": "buy_symbol=%{x}<br>#_trades=%{y}<extra></extra>",
         "legendgroup": "EULER",
         "marker": {
          "color": "rgb(118, 78, 159)"
         },
         "name": "EULER",
         "offsetgroup": "EULER",
         "orientation": "v",
         "showlegend": true,
         "textposition": "auto",
         "type": "bar",
         "x": [
          "EULER"
         ],
         "xaxis": "x",
         "y": [
          2119
         ],
         "yaxis": "y"
        },
        {
         "alignmentgroup": "True",
         "hovertemplate": "buy_symbol=%{x}<br>#_trades=%{y}<extra></extra>",
         "legendgroup": "RX",
         "marker": {
          "color": "rgb(237, 100, 90)"
         },
         "name": "RX",
         "offsetgroup": "RX",
         "orientation": "v",
         "showlegend": true,
         "textposition": "auto",
         "type": "bar",
         "x": [
          "RX"
         ],
         "xaxis": "x",
         "y": [
          3727
         ],
         "yaxis": "y"
        },
        {
         "alignmentgroup": "True",
         "hovertemplate": "buy_symbol=%{x}<br>#_trades=%{y}<extra></extra>",
         "legendgroup": "PIT",
         "marker": {
          "color": "rgb(165, 170, 153)"
         },
         "name": "PIT",
         "offsetgroup": "PIT",
         "orientation": "v",
         "showlegend": true,
         "textposition": "auto",
         "type": "bar",
         "x": [
          "PIT"
         ],
         "xaxis": "x",
         "y": [
          5939
         ],
         "yaxis": "y"
        },
        {
         "alignmentgroup": "True",
         "hovertemplate": "buy_symbol=%{x}<br>#_trades=%{y}<extra></extra>",
         "legendgroup": "BTS",
         "marker": {
          "color": "rgb(229, 134, 6)"
         },
         "name": "BTS",
         "offsetgroup": "BTS",
         "orientation": "v",
         "showlegend": true,
         "textposition": "auto",
         "type": "bar",
         "x": [
          "BTS"
         ],
         "xaxis": "x",
         "y": [
          2753
         ],
         "yaxis": "y"
        },
        {
         "alignmentgroup": "True",
         "hovertemplate": "buy_symbol=%{x}<br>#_trades=%{y}<extra></extra>",
         "legendgroup": "Hamtaro",
         "marker": {
          "color": "rgb(93, 105, 177)"
         },
         "name": "Hamtaro",
         "offsetgroup": "Hamtaro",
         "orientation": "v",
         "showlegend": true,
         "textposition": "auto",
         "type": "bar",
         "x": [
          "Hamtaro"
         ],
         "xaxis": "x",
         "y": [
          4832
         ],
         "yaxis": "y"
        },
        {
         "alignmentgroup": "True",
         "hovertemplate": "buy_symbol=%{x}<br>#_trades=%{y}<extra></extra>",
         "legendgroup": "MOONSTAR",
         "marker": {
          "color": "rgb(82, 188, 163)"
         },
         "name": "MOONSTAR",
         "offsetgroup": "MOONSTAR",
         "orientation": "v",
         "showlegend": true,
         "textposition": "auto",
         "type": "bar",
         "x": [
          "MOONSTAR"
         ],
         "xaxis": "x",
         "y": [
          4809
         ],
         "yaxis": "y"
        },
        {
         "alignmentgroup": "True",
         "hovertemplate": "buy_symbol=%{x}<br>#_trades=%{y}<extra></extra>",
         "legendgroup": "WAF",
         "marker": {
          "color": "rgb(153, 201, 69)"
         },
         "name": "WAF",
         "offsetgroup": "WAF",
         "orientation": "v",
         "showlegend": true,
         "textposition": "auto",
         "type": "bar",
         "x": [
          "WAF"
         ],
         "xaxis": "x",
         "y": [
          2110
         ],
         "yaxis": "y"
        },
        {
         "alignmentgroup": "True",
         "hovertemplate": "buy_symbol=%{x}<br>#_trades=%{y}<extra></extra>",
         "legendgroup": "ACS",
         "marker": {
          "color": "rgb(204, 97, 176)"
         },
         "name": "ACS",
         "offsetgroup": "ACS",
         "orientation": "v",
         "showlegend": true,
         "textposition": "auto",
         "type": "bar",
         "x": [
          "ACS"
         ],
         "xaxis": "x",
         "y": [
          2930
         ],
         "yaxis": "y"
        },
        {
         "alignmentgroup": "True",
         "hovertemplate": "buy_symbol=%{x}<br>#_trades=%{y}<extra></extra>",
         "legendgroup": "SAFECOMET",
         "marker": {
          "color": "rgb(36, 121, 108)"
         },
         "name": "SAFECOMET",
         "offsetgroup": "SAFECOMET",
         "orientation": "v",
         "showlegend": true,
         "textposition": "auto",
         "type": "bar",
         "x": [
          "SAFECOMET"
         ],
         "xaxis": "x",
         "y": [
          5007
         ],
         "yaxis": "y"
        },
        {
         "alignmentgroup": "True",
         "hovertemplate": "buy_symbol=%{x}<br>#_trades=%{y}<extra></extra>",
         "legendgroup": "MOONSHOT",
         "marker": {
          "color": "rgb(218, 165, 27)"
         },
         "name": "MOONSHOT",
         "offsetgroup": "MOONSHOT",
         "orientation": "v",
         "showlegend": true,
         "textposition": "auto",
         "type": "bar",
         "x": [
          "MOONSHOT"
         ],
         "xaxis": "x",
         "y": [
          3741
         ],
         "yaxis": "y"
        },
        {
         "alignmentgroup": "True",
         "hovertemplate": "buy_symbol=%{x}<br>#_trades=%{y}<extra></extra>",
         "legendgroup": "MOONTOKEN",
         "marker": {
          "color": "rgb(47, 138, 196)"
         },
         "name": "MOONTOKEN",
         "offsetgroup": "MOONTOKEN",
         "orientation": "v",
         "showlegend": true,
         "textposition": "auto",
         "type": "bar",
         "x": [
          "MOONTOKEN"
         ],
         "xaxis": "x",
         "y": [
          4789
         ],
         "yaxis": "y"
        },
        {
         "alignmentgroup": "True",
         "hovertemplate": "buy_symbol=%{x}<br>#_trades=%{y}<extra></extra>",
         "legendgroup": "BBQ",
         "marker": {
          "color": "rgb(118, 78, 159)"
         },
         "name": "BBQ",
         "offsetgroup": "BBQ",
         "orientation": "v",
         "showlegend": true,
         "textposition": "auto",
         "type": "bar",
         "x": [
          "BBQ"
         ],
         "xaxis": "x",
         "y": [
          3373
         ],
         "yaxis": "y"
        },
        {
         "alignmentgroup": "True",
         "hovertemplate": "buy_symbol=%{x}<br>#_trades=%{y}<extra></extra>",
         "legendgroup": "Tcake",
         "marker": {
          "color": "rgb(237, 100, 90)"
         },
         "name": "Tcake",
         "offsetgroup": "Tcake",
         "orientation": "v",
         "showlegend": true,
         "textposition": "auto",
         "type": "bar",
         "x": [
          "Tcake"
         ],
         "xaxis": "x",
         "y": [
          3215
         ],
         "yaxis": "y"
        },
        {
         "alignmentgroup": "True",
         "hovertemplate": "buy_symbol=%{x}<br>#_trades=%{y}<extra></extra>",
         "legendgroup": "MEL",
         "marker": {
          "color": "rgb(165, 170, 153)"
         },
         "name": "MEL",
         "offsetgroup": "MEL",
         "orientation": "v",
         "showlegend": true,
         "textposition": "auto",
         "type": "bar",
         "x": [
          "MEL",
          "MEL"
         ],
         "xaxis": "x",
         "y": [
          3635,
          3130
         ],
         "yaxis": "y"
        },
        {
         "alignmentgroup": "True",
         "hovertemplate": "buy_symbol=%{x}<br>#_trades=%{y}<extra></extra>",
         "legendgroup": "MBS",
         "marker": {
          "color": "rgb(229, 134, 6)"
         },
         "name": "MBS",
         "offsetgroup": "MBS",
         "orientation": "v",
         "showlegend": true,
         "textposition": "auto",
         "type": "bar",
         "x": [
          "MBS"
         ],
         "xaxis": "x",
         "y": [
          3618
         ],
         "yaxis": "y"
        }
       ],
       "layout": {
        "barmode": "relative",
        "legend": {
         "title": {
          "text": "buy_symbol"
         },
         "tracegroupgap": 0
        },
        "template": {
         "data": {
          "bar": [
           {
            "error_x": {
             "color": "#2a3f5f"
            },
            "error_y": {
             "color": "#2a3f5f"
            },
            "marker": {
             "line": {
              "color": "white",
              "width": 0.5
             }
            },
            "type": "bar"
           }
          ],
          "barpolar": [
           {
            "marker": {
             "line": {
              "color": "white",
              "width": 0.5
             }
            },
            "type": "barpolar"
           }
          ],
          "carpet": [
           {
            "aaxis": {
             "endlinecolor": "#2a3f5f",
             "gridcolor": "#C8D4E3",
             "linecolor": "#C8D4E3",
             "minorgridcolor": "#C8D4E3",
             "startlinecolor": "#2a3f5f"
            },
            "baxis": {
             "endlinecolor": "#2a3f5f",
             "gridcolor": "#C8D4E3",
             "linecolor": "#C8D4E3",
             "minorgridcolor": "#C8D4E3",
             "startlinecolor": "#2a3f5f"
            },
            "type": "carpet"
           }
          ],
          "choropleth": [
           {
            "colorbar": {
             "outlinewidth": 0,
             "ticks": ""
            },
            "type": "choropleth"
           }
          ],
          "contour": [
           {
            "colorbar": {
             "outlinewidth": 0,
             "ticks": ""
            },
            "colorscale": [
             [
              0,
              "#0d0887"
             ],
             [
              0.1111111111111111,
              "#46039f"
             ],
             [
              0.2222222222222222,
              "#7201a8"
             ],
             [
              0.3333333333333333,
              "#9c179e"
             ],
             [
              0.4444444444444444,
              "#bd3786"
             ],
             [
              0.5555555555555556,
              "#d8576b"
             ],
             [
              0.6666666666666666,
              "#ed7953"
             ],
             [
              0.7777777777777778,
              "#fb9f3a"
             ],
             [
              0.8888888888888888,
              "#fdca26"
             ],
             [
              1,
              "#f0f921"
             ]
            ],
            "type": "contour"
           }
          ],
          "contourcarpet": [
           {
            "colorbar": {
             "outlinewidth": 0,
             "ticks": ""
            },
            "type": "contourcarpet"
           }
          ],
          "heatmap": [
           {
            "colorbar": {
             "outlinewidth": 0,
             "ticks": ""
            },
            "colorscale": [
             [
              0,
              "#0d0887"
             ],
             [
              0.1111111111111111,
              "#46039f"
             ],
             [
              0.2222222222222222,
              "#7201a8"
             ],
             [
              0.3333333333333333,
              "#9c179e"
             ],
             [
              0.4444444444444444,
              "#bd3786"
             ],
             [
              0.5555555555555556,
              "#d8576b"
             ],
             [
              0.6666666666666666,
              "#ed7953"
             ],
             [
              0.7777777777777778,
              "#fb9f3a"
             ],
             [
              0.8888888888888888,
              "#fdca26"
             ],
             [
              1,
              "#f0f921"
             ]
            ],
            "type": "heatmap"
           }
          ],
          "heatmapgl": [
           {
            "colorbar": {
             "outlinewidth": 0,
             "ticks": ""
            },
            "colorscale": [
             [
              0,
              "#0d0887"
             ],
             [
              0.1111111111111111,
              "#46039f"
             ],
             [
              0.2222222222222222,
              "#7201a8"
             ],
             [
              0.3333333333333333,
              "#9c179e"
             ],
             [
              0.4444444444444444,
              "#bd3786"
             ],
             [
              0.5555555555555556,
              "#d8576b"
             ],
             [
              0.6666666666666666,
              "#ed7953"
             ],
             [
              0.7777777777777778,
              "#fb9f3a"
             ],
             [
              0.8888888888888888,
              "#fdca26"
             ],
             [
              1,
              "#f0f921"
             ]
            ],
            "type": "heatmapgl"
           }
          ],
          "histogram": [
           {
            "marker": {
             "colorbar": {
              "outlinewidth": 0,
              "ticks": ""
             }
            },
            "type": "histogram"
           }
          ],
          "histogram2d": [
           {
            "colorbar": {
             "outlinewidth": 0,
             "ticks": ""
            },
            "colorscale": [
             [
              0,
              "#0d0887"
             ],
             [
              0.1111111111111111,
              "#46039f"
             ],
             [
              0.2222222222222222,
              "#7201a8"
             ],
             [
              0.3333333333333333,
              "#9c179e"
             ],
             [
              0.4444444444444444,
              "#bd3786"
             ],
             [
              0.5555555555555556,
              "#d8576b"
             ],
             [
              0.6666666666666666,
              "#ed7953"
             ],
             [
              0.7777777777777778,
              "#fb9f3a"
             ],
             [
              0.8888888888888888,
              "#fdca26"
             ],
             [
              1,
              "#f0f921"
             ]
            ],
            "type": "histogram2d"
           }
          ],
          "histogram2dcontour": [
           {
            "colorbar": {
             "outlinewidth": 0,
             "ticks": ""
            },
            "colorscale": [
             [
              0,
              "#0d0887"
             ],
             [
              0.1111111111111111,
              "#46039f"
             ],
             [
              0.2222222222222222,
              "#7201a8"
             ],
             [
              0.3333333333333333,
              "#9c179e"
             ],
             [
              0.4444444444444444,
              "#bd3786"
             ],
             [
              0.5555555555555556,
              "#d8576b"
             ],
             [
              0.6666666666666666,
              "#ed7953"
             ],
             [
              0.7777777777777778,
              "#fb9f3a"
             ],
             [
              0.8888888888888888,
              "#fdca26"
             ],
             [
              1,
              "#f0f921"
             ]
            ],
            "type": "histogram2dcontour"
           }
          ],
          "mesh3d": [
           {
            "colorbar": {
             "outlinewidth": 0,
             "ticks": ""
            },
            "type": "mesh3d"
           }
          ],
          "parcoords": [
           {
            "line": {
             "colorbar": {
              "outlinewidth": 0,
              "ticks": ""
             }
            },
            "type": "parcoords"
           }
          ],
          "pie": [
           {
            "automargin": true,
            "type": "pie"
           }
          ],
          "scatter": [
           {
            "marker": {
             "colorbar": {
              "outlinewidth": 0,
              "ticks": ""
             }
            },
            "type": "scatter"
           }
          ],
          "scatter3d": [
           {
            "line": {
             "colorbar": {
              "outlinewidth": 0,
              "ticks": ""
             }
            },
            "marker": {
             "colorbar": {
              "outlinewidth": 0,
              "ticks": ""
             }
            },
            "type": "scatter3d"
           }
          ],
          "scattercarpet": [
           {
            "marker": {
             "colorbar": {
              "outlinewidth": 0,
              "ticks": ""
             }
            },
            "type": "scattercarpet"
           }
          ],
          "scattergeo": [
           {
            "marker": {
             "colorbar": {
              "outlinewidth": 0,
              "ticks": ""
             }
            },
            "type": "scattergeo"
           }
          ],
          "scattergl": [
           {
            "marker": {
             "colorbar": {
              "outlinewidth": 0,
              "ticks": ""
             }
            },
            "type": "scattergl"
           }
          ],
          "scattermapbox": [
           {
            "marker": {
             "colorbar": {
              "outlinewidth": 0,
              "ticks": ""
             }
            },
            "type": "scattermapbox"
           }
          ],
          "scatterpolar": [
           {
            "marker": {
             "colorbar": {
              "outlinewidth": 0,
              "ticks": ""
             }
            },
            "type": "scatterpolar"
           }
          ],
          "scatterpolargl": [
           {
            "marker": {
             "colorbar": {
              "outlinewidth": 0,
              "ticks": ""
             }
            },
            "type": "scatterpolargl"
           }
          ],
          "scatterternary": [
           {
            "marker": {
             "colorbar": {
              "outlinewidth": 0,
              "ticks": ""
             }
            },
            "type": "scatterternary"
           }
          ],
          "surface": [
           {
            "colorbar": {
             "outlinewidth": 0,
             "ticks": ""
            },
            "colorscale": [
             [
              0,
              "#0d0887"
             ],
             [
              0.1111111111111111,
              "#46039f"
             ],
             [
              0.2222222222222222,
              "#7201a8"
             ],
             [
              0.3333333333333333,
              "#9c179e"
             ],
             [
              0.4444444444444444,
              "#bd3786"
             ],
             [
              0.5555555555555556,
              "#d8576b"
             ],
             [
              0.6666666666666666,
              "#ed7953"
             ],
             [
              0.7777777777777778,
              "#fb9f3a"
             ],
             [
              0.8888888888888888,
              "#fdca26"
             ],
             [
              1,
              "#f0f921"
             ]
            ],
            "type": "surface"
           }
          ],
          "table": [
           {
            "cells": {
             "fill": {
              "color": "#EBF0F8"
             },
             "line": {
              "color": "white"
             }
            },
            "header": {
             "fill": {
              "color": "#C8D4E3"
             },
             "line": {
              "color": "white"
             }
            },
            "type": "table"
           }
          ]
         },
         "layout": {
          "annotationdefaults": {
           "arrowcolor": "#2a3f5f",
           "arrowhead": 0,
           "arrowwidth": 1
          },
          "autotypenumbers": "strict",
          "coloraxis": {
           "colorbar": {
            "outlinewidth": 0,
            "ticks": ""
           }
          },
          "colorscale": {
           "diverging": [
            [
             0,
             "#8e0152"
            ],
            [
             0.1,
             "#c51b7d"
            ],
            [
             0.2,
             "#de77ae"
            ],
            [
             0.3,
             "#f1b6da"
            ],
            [
             0.4,
             "#fde0ef"
            ],
            [
             0.5,
             "#f7f7f7"
            ],
            [
             0.6,
             "#e6f5d0"
            ],
            [
             0.7,
             "#b8e186"
            ],
            [
             0.8,
             "#7fbc41"
            ],
            [
             0.9,
             "#4d9221"
            ],
            [
             1,
             "#276419"
            ]
           ],
           "sequential": [
            [
             0,
             "#0d0887"
            ],
            [
             0.1111111111111111,
             "#46039f"
            ],
            [
             0.2222222222222222,
             "#7201a8"
            ],
            [
             0.3333333333333333,
             "#9c179e"
            ],
            [
             0.4444444444444444,
             "#bd3786"
            ],
            [
             0.5555555555555556,
             "#d8576b"
            ],
            [
             0.6666666666666666,
             "#ed7953"
            ],
            [
             0.7777777777777778,
             "#fb9f3a"
            ],
            [
             0.8888888888888888,
             "#fdca26"
            ],
            [
             1,
             "#f0f921"
            ]
           ],
           "sequentialminus": [
            [
             0,
             "#0d0887"
            ],
            [
             0.1111111111111111,
             "#46039f"
            ],
            [
             0.2222222222222222,
             "#7201a8"
            ],
            [
             0.3333333333333333,
             "#9c179e"
            ],
            [
             0.4444444444444444,
             "#bd3786"
            ],
            [
             0.5555555555555556,
             "#d8576b"
            ],
            [
             0.6666666666666666,
             "#ed7953"
            ],
            [
             0.7777777777777778,
             "#fb9f3a"
            ],
            [
             0.8888888888888888,
             "#fdca26"
            ],
            [
             1,
             "#f0f921"
            ]
           ]
          },
          "colorway": [
           "#636efa",
           "#EF553B",
           "#00cc96",
           "#ab63fa",
           "#FFA15A",
           "#19d3f3",
           "#FF6692",
           "#B6E880",
           "#FF97FF",
           "#FECB52"
          ],
          "font": {
           "color": "#2a3f5f"
          },
          "geo": {
           "bgcolor": "white",
           "lakecolor": "white",
           "landcolor": "white",
           "showlakes": true,
           "showland": true,
           "subunitcolor": "#C8D4E3"
          },
          "hoverlabel": {
           "align": "left"
          },
          "hovermode": "closest",
          "mapbox": {
           "style": "light"
          },
          "paper_bgcolor": "white",
          "plot_bgcolor": "white",
          "polar": {
           "angularaxis": {
            "gridcolor": "#EBF0F8",
            "linecolor": "#EBF0F8",
            "ticks": ""
           },
           "bgcolor": "white",
           "radialaxis": {
            "gridcolor": "#EBF0F8",
            "linecolor": "#EBF0F8",
            "ticks": ""
           }
          },
          "scene": {
           "xaxis": {
            "backgroundcolor": "white",
            "gridcolor": "#DFE8F3",
            "gridwidth": 2,
            "linecolor": "#EBF0F8",
            "showbackground": true,
            "ticks": "",
            "zerolinecolor": "#EBF0F8"
           },
           "yaxis": {
            "backgroundcolor": "white",
            "gridcolor": "#DFE8F3",
            "gridwidth": 2,
            "linecolor": "#EBF0F8",
            "showbackground": true,
            "ticks": "",
            "zerolinecolor": "#EBF0F8"
           },
           "zaxis": {
            "backgroundcolor": "white",
            "gridcolor": "#DFE8F3",
            "gridwidth": 2,
            "linecolor": "#EBF0F8",
            "showbackground": true,
            "ticks": "",
            "zerolinecolor": "#EBF0F8"
           }
          },
          "shapedefaults": {
           "line": {
            "color": "#2a3f5f"
           }
          },
          "ternary": {
           "aaxis": {
            "gridcolor": "#DFE8F3",
            "linecolor": "#A2B1C6",
            "ticks": ""
           },
           "baxis": {
            "gridcolor": "#DFE8F3",
            "linecolor": "#A2B1C6",
            "ticks": ""
           },
           "bgcolor": "white",
           "caxis": {
            "gridcolor": "#DFE8F3",
            "linecolor": "#A2B1C6",
            "ticks": ""
           }
          },
          "title": {
           "x": 0.05
          },
          "xaxis": {
           "automargin": true,
           "gridcolor": "#EBF0F8",
           "linecolor": "#EBF0F8",
           "ticks": "",
           "title": {
            "standoff": 15
           },
           "zerolinecolor": "#EBF0F8",
           "zerolinewidth": 2
          },
          "yaxis": {
           "automargin": true,
           "gridcolor": "#EBF0F8",
           "linecolor": "#EBF0F8",
           "ticks": "",
           "title": {
            "standoff": 15
           },
           "zerolinecolor": "#EBF0F8",
           "zerolinewidth": 2
          }
         }
        },
        "title": {
         "text": "<b>Top Buy Symbols by Trading Volume in Past Week on PancakeSwap"
        },
        "xaxis": {
         "anchor": "y",
         "categoryarray": [
          "SAFEMOON",
          "BUNNY",
          "NFTART",
          "EPS",
          "BSCPAD",
          "AUTO",
          "Dogefather",
          "CUMMIES",
          "ElonGate",
          "BTCB",
          "ECP",
          "BONFIRE",
          "SEED",
          "SAFEMARS",
          "100x",
          "ALPACA",
          "SPORE",
          "BSCS",
          "EGG",
          "Forestry",
          "TBAKE",
          "LOF",
          "BGOV",
          "SPND",
          "MASH",
          "BAKE",
          "BRICK",
          "KPAD",
          "XVS",
          "SAFEBTC",
          "BOG",
          "DOGE",
          "DAI",
          "upBNB",
          "DINO",
          "TWT",
          "GEN",
          "MEMES",
          "TREE",
          "SENDWHALE",
          "HYPER",
          "SALT",
          "Ramen",
          "DOT",
          "MOONLIGHT",
          "SHILD",
          "SMG",
          "MOONMOON",
          "MOONPIRATE",
          "UST",
          "SPE",
          "SLAM",
          "ASS",
          "NIU",
          "ZEP",
          "BETH",
          "ADA",
          "SAFEGALAXY",
          "FEG",
          "SAFEMOONCASH",
          "sBDO",
          "SUPERWAIFU",
          "AQUAGOAT",
          "HAPPY",
          "FOX",
          "DHOUSE",
          "GMT",
          "HyMETEOR",
          "SAFEP",
          "TACOCAT",
          "GEMS",
          "KEY",
          "XRP",
          "OCTA",
          "EULER",
          "RX",
          "PIT",
          "BTS",
          "Hamtaro",
          "MOONSTAR",
          "WAF",
          "ACS",
          "SAFECOMET",
          "MOONSHOT",
          "MOONTOKEN",
          "BBQ",
          "Tcake",
          "MEL",
          "MBS"
         ],
         "categoryorder": "array",
         "domain": [
          0,
          1
         ],
         "title": {
          "text": "buy_symbol"
         }
        },
        "yaxis": {
         "anchor": "x",
         "domain": [
          0,
          1
         ],
         "title": {
          "text": "#_trades"
         }
        }
       }
      },
      "text/html": [
       "<div>                            <div id=\"f9d40b84-cb76-4fe4-94a1-efbcf23165e9\" class=\"plotly-graph-div\" style=\"height:525px; width:100%;\"></div>            <script type=\"text/javascript\">                require([\"plotly\"], function(Plotly) {                    window.PLOTLYENV=window.PLOTLYENV || {};                                    if (document.getElementById(\"f9d40b84-cb76-4fe4-94a1-efbcf23165e9\")) {                    Plotly.newPlot(                        \"f9d40b84-cb76-4fe4-94a1-efbcf23165e9\",                        [{\"alignmentgroup\": \"True\", \"hovertemplate\": \"buy_symbol=%{x}<br>#_trades=%{y}<extra></extra>\", \"legendgroup\": \"SAFEMOON\", \"marker\": {\"color\": \"rgb(229, 134, 6)\"}, \"name\": \"SAFEMOON\", \"offsetgroup\": \"SAFEMOON\", \"orientation\": \"v\", \"showlegend\": true, \"textposition\": \"auto\", \"type\": \"bar\", \"x\": [\"SAFEMOON\"], \"xaxis\": \"x\", \"y\": [41935], \"yaxis\": \"y\"}, {\"alignmentgroup\": \"True\", \"hovertemplate\": \"buy_symbol=%{x}<br>#_trades=%{y}<extra></extra>\", \"legendgroup\": \"BUNNY\", \"marker\": {\"color\": \"rgb(93, 105, 177)\"}, \"name\": \"BUNNY\", \"offsetgroup\": \"BUNNY\", \"orientation\": \"v\", \"showlegend\": true, \"textposition\": \"auto\", \"type\": \"bar\", \"x\": [\"BUNNY\"], \"xaxis\": \"x\", \"y\": [26081], \"yaxis\": \"y\"}, {\"alignmentgroup\": \"True\", \"hovertemplate\": \"buy_symbol=%{x}<br>#_trades=%{y}<extra></extra>\", \"legendgroup\": \"NFTART\", \"marker\": {\"color\": \"rgb(82, 188, 163)\"}, \"name\": \"NFTART\", \"offsetgroup\": \"NFTART\", \"orientation\": \"v\", \"showlegend\": true, \"textposition\": \"auto\", \"type\": \"bar\", \"x\": [\"NFTART\"], \"xaxis\": \"x\", \"y\": [31992], \"yaxis\": \"y\"}, {\"alignmentgroup\": \"True\", \"hovertemplate\": \"buy_symbol=%{x}<br>#_trades=%{y}<extra></extra>\", \"legendgroup\": \"EPS\", \"marker\": {\"color\": \"rgb(153, 201, 69)\"}, \"name\": \"EPS\", \"offsetgroup\": \"EPS\", \"orientation\": \"v\", \"showlegend\": true, \"textposition\": \"auto\", \"type\": \"bar\", \"x\": [\"EPS\"], \"xaxis\": \"x\", \"y\": [12652], \"yaxis\": \"y\"}, {\"alignmentgroup\": \"True\", \"hovertemplate\": \"buy_symbol=%{x}<br>#_trades=%{y}<extra></extra>\", \"legendgroup\": \"BSCPAD\", \"marker\": {\"color\": \"rgb(204, 97, 176)\"}, \"name\": \"BSCPAD\", \"offsetgroup\": \"BSCPAD\", \"orientation\": \"v\", \"showlegend\": true, \"textposition\": \"auto\", \"type\": \"bar\", \"x\": [\"BSCPAD\"], \"xaxis\": \"x\", \"y\": [11767], \"yaxis\": \"y\"}, {\"alignmentgroup\": \"True\", \"hovertemplate\": \"buy_symbol=%{x}<br>#_trades=%{y}<extra></extra>\", \"legendgroup\": \"AUTO\", \"marker\": {\"color\": \"rgb(36, 121, 108)\"}, \"name\": \"AUTO\", \"offsetgroup\": \"AUTO\", \"orientation\": \"v\", \"showlegend\": true, \"textposition\": \"auto\", \"type\": \"bar\", \"x\": [\"AUTO\"], \"xaxis\": \"x\", \"y\": [12118], \"yaxis\": \"y\"}, {\"alignmentgroup\": \"True\", \"hovertemplate\": \"buy_symbol=%{x}<br>#_trades=%{y}<extra></extra>\", \"legendgroup\": \"Dogefather\", \"marker\": {\"color\": \"rgb(218, 165, 27)\"}, \"name\": \"Dogefather\", \"offsetgroup\": \"Dogefather\", \"orientation\": \"v\", \"showlegend\": true, \"textposition\": \"auto\", \"type\": \"bar\", \"x\": [\"Dogefather\"], \"xaxis\": \"x\", \"y\": [21427], \"yaxis\": \"y\"}, {\"alignmentgroup\": \"True\", \"hovertemplate\": \"buy_symbol=%{x}<br>#_trades=%{y}<extra></extra>\", \"legendgroup\": \"CUMMIES\", \"marker\": {\"color\": \"rgb(47, 138, 196)\"}, \"name\": \"CUMMIES\", \"offsetgroup\": \"CUMMIES\", \"orientation\": \"v\", \"showlegend\": true, \"textposition\": \"auto\", \"type\": \"bar\", \"x\": [\"CUMMIES\"], \"xaxis\": \"x\", \"y\": [11409], \"yaxis\": \"y\"}, {\"alignmentgroup\": \"True\", \"hovertemplate\": \"buy_symbol=%{x}<br>#_trades=%{y}<extra></extra>\", \"legendgroup\": \"ElonGate\", \"marker\": {\"color\": \"rgb(118, 78, 159)\"}, \"name\": \"ElonGate\", \"offsetgroup\": \"ElonGate\", \"orientation\": \"v\", \"showlegend\": true, \"textposition\": \"auto\", \"type\": \"bar\", \"x\": [\"ElonGate\"], \"xaxis\": \"x\", \"y\": [19131], \"yaxis\": \"y\"}, {\"alignmentgroup\": \"True\", \"hovertemplate\": \"buy_symbol=%{x}<br>#_trades=%{y}<extra></extra>\", \"legendgroup\": \"BTCB\", \"marker\": {\"color\": \"rgb(237, 100, 90)\"}, \"name\": \"BTCB\", \"offsetgroup\": \"BTCB\", \"orientation\": \"v\", \"showlegend\": true, \"textposition\": \"auto\", \"type\": \"bar\", \"x\": [\"BTCB\", \"BTCB\"], \"xaxis\": \"x\", \"y\": [15482, 6755], \"yaxis\": \"y\"}, {\"alignmentgroup\": \"True\", \"hovertemplate\": \"buy_symbol=%{x}<br>#_trades=%{y}<extra></extra>\", \"legendgroup\": \"ECP\", \"marker\": {\"color\": \"rgb(165, 170, 153)\"}, \"name\": \"ECP\", \"offsetgroup\": \"ECP\", \"orientation\": \"v\", \"showlegend\": true, \"textposition\": \"auto\", \"type\": \"bar\", \"x\": [\"ECP\"], \"xaxis\": \"x\", \"y\": [16946], \"yaxis\": \"y\"}, {\"alignmentgroup\": \"True\", \"hovertemplate\": \"buy_symbol=%{x}<br>#_trades=%{y}<extra></extra>\", \"legendgroup\": \"BONFIRE\", \"marker\": {\"color\": \"rgb(229, 134, 6)\"}, \"name\": \"BONFIRE\", \"offsetgroup\": \"BONFIRE\", \"orientation\": \"v\", \"showlegend\": true, \"textposition\": \"auto\", \"type\": \"bar\", \"x\": [\"BONFIRE\"], \"xaxis\": \"x\", \"y\": [13818], \"yaxis\": \"y\"}, {\"alignmentgroup\": \"True\", \"hovertemplate\": \"buy_symbol=%{x}<br>#_trades=%{y}<extra></extra>\", \"legendgroup\": \"SEED\", \"marker\": {\"color\": \"rgb(93, 105, 177)\"}, \"name\": \"SEED\", \"offsetgroup\": \"SEED\", \"orientation\": \"v\", \"showlegend\": true, \"textposition\": \"auto\", \"type\": \"bar\", \"x\": [\"SEED\", \"SEED\"], \"xaxis\": \"x\", \"y\": [10487, 11314], \"yaxis\": \"y\"}, {\"alignmentgroup\": \"True\", \"hovertemplate\": \"buy_symbol=%{x}<br>#_trades=%{y}<extra></extra>\", \"legendgroup\": \"SAFEMARS\", \"marker\": {\"color\": \"rgb(82, 188, 163)\"}, \"name\": \"SAFEMARS\", \"offsetgroup\": \"SAFEMARS\", \"orientation\": \"v\", \"showlegend\": true, \"textposition\": \"auto\", \"type\": \"bar\", \"x\": [\"SAFEMARS\"], \"xaxis\": \"x\", \"y\": [13584], \"yaxis\": \"y\"}, {\"alignmentgroup\": \"True\", \"hovertemplate\": \"buy_symbol=%{x}<br>#_trades=%{y}<extra></extra>\", \"legendgroup\": \"100x\", \"marker\": {\"color\": \"rgb(153, 201, 69)\"}, \"name\": \"100x\", \"offsetgroup\": \"100x\", \"orientation\": \"v\", \"showlegend\": true, \"textposition\": \"auto\", \"type\": \"bar\", \"x\": [\"100x\"], \"xaxis\": \"x\", \"y\": [16635], \"yaxis\": \"y\"}, {\"alignmentgroup\": \"True\", \"hovertemplate\": \"buy_symbol=%{x}<br>#_trades=%{y}<extra></extra>\", \"legendgroup\": \"ALPACA\", \"marker\": {\"color\": \"rgb(204, 97, 176)\"}, \"name\": \"ALPACA\", \"offsetgroup\": \"ALPACA\", \"orientation\": \"v\", \"showlegend\": true, \"textposition\": \"auto\", \"type\": \"bar\", \"x\": [\"ALPACA\"], \"xaxis\": \"x\", \"y\": [7464], \"yaxis\": \"y\"}, {\"alignmentgroup\": \"True\", \"hovertemplate\": \"buy_symbol=%{x}<br>#_trades=%{y}<extra></extra>\", \"legendgroup\": \"SPORE\", \"marker\": {\"color\": \"rgb(36, 121, 108)\"}, \"name\": \"SPORE\", \"offsetgroup\": \"SPORE\", \"orientation\": \"v\", \"showlegend\": true, \"textposition\": \"auto\", \"type\": \"bar\", \"x\": [\"SPORE\"], \"xaxis\": \"x\", \"y\": [24390], \"yaxis\": \"y\"}, {\"alignmentgroup\": \"True\", \"hovertemplate\": \"buy_symbol=%{x}<br>#_trades=%{y}<extra></extra>\", \"legendgroup\": \"BSCS\", \"marker\": {\"color\": \"rgb(218, 165, 27)\"}, \"name\": \"BSCS\", \"offsetgroup\": \"BSCS\", \"orientation\": \"v\", \"showlegend\": true, \"textposition\": \"auto\", \"type\": \"bar\", \"x\": [\"BSCS\"], \"xaxis\": \"x\", \"y\": [8930], \"yaxis\": \"y\"}, {\"alignmentgroup\": \"True\", \"hovertemplate\": \"buy_symbol=%{x}<br>#_trades=%{y}<extra></extra>\", \"legendgroup\": \"EGG\", \"marker\": {\"color\": \"rgb(47, 138, 196)\"}, \"name\": \"EGG\", \"offsetgroup\": \"EGG\", \"orientation\": \"v\", \"showlegend\": true, \"textposition\": \"auto\", \"type\": \"bar\", \"x\": [\"EGG\", \"EGG\"], \"xaxis\": \"x\", \"y\": [7614, 4678], \"yaxis\": \"y\"}, {\"alignmentgroup\": \"True\", \"hovertemplate\": \"buy_symbol=%{x}<br>#_trades=%{y}<extra></extra>\", \"legendgroup\": \"Forestry\", \"marker\": {\"color\": \"rgb(118, 78, 159)\"}, \"name\": \"Forestry\", \"offsetgroup\": \"Forestry\", \"orientation\": \"v\", \"showlegend\": true, \"textposition\": \"auto\", \"type\": \"bar\", \"x\": [\"Forestry\"], \"xaxis\": \"x\", \"y\": [10510], \"yaxis\": \"y\"}, {\"alignmentgroup\": \"True\", \"hovertemplate\": \"buy_symbol=%{x}<br>#_trades=%{y}<extra></extra>\", \"legendgroup\": \"TBAKE\", \"marker\": {\"color\": \"rgb(237, 100, 90)\"}, \"name\": \"TBAKE\", \"offsetgroup\": \"TBAKE\", \"orientation\": \"v\", \"showlegend\": true, \"textposition\": \"auto\", \"type\": \"bar\", \"x\": [\"TBAKE\"], \"xaxis\": \"x\", \"y\": [8678], \"yaxis\": \"y\"}, {\"alignmentgroup\": \"True\", \"hovertemplate\": \"buy_symbol=%{x}<br>#_trades=%{y}<extra></extra>\", \"legendgroup\": \"LOF\", \"marker\": {\"color\": \"rgb(165, 170, 153)\"}, \"name\": \"LOF\", \"offsetgroup\": \"LOF\", \"orientation\": \"v\", \"showlegend\": true, \"textposition\": \"auto\", \"type\": \"bar\", \"x\": [\"LOF\"], \"xaxis\": \"x\", \"y\": [7787], \"yaxis\": \"y\"}, {\"alignmentgroup\": \"True\", \"hovertemplate\": \"buy_symbol=%{x}<br>#_trades=%{y}<extra></extra>\", \"legendgroup\": \"BGOV\", \"marker\": {\"color\": \"rgb(229, 134, 6)\"}, \"name\": \"BGOV\", \"offsetgroup\": \"BGOV\", \"orientation\": \"v\", \"showlegend\": true, \"textposition\": \"auto\", \"type\": \"bar\", \"x\": [\"BGOV\"], \"xaxis\": \"x\", \"y\": [6809], \"yaxis\": \"y\"}, {\"alignmentgroup\": \"True\", \"hovertemplate\": \"buy_symbol=%{x}<br>#_trades=%{y}<extra></extra>\", \"legendgroup\": \"SPND\", \"marker\": {\"color\": \"rgb(93, 105, 177)\"}, \"name\": \"SPND\", \"offsetgroup\": \"SPND\", \"orientation\": \"v\", \"showlegend\": true, \"textposition\": \"auto\", \"type\": \"bar\", \"x\": [\"SPND\"], \"xaxis\": \"x\", \"y\": [8706], \"yaxis\": \"y\"}, {\"alignmentgroup\": \"True\", \"hovertemplate\": \"buy_symbol=%{x}<br>#_trades=%{y}<extra></extra>\", \"legendgroup\": \"MASH\", \"marker\": {\"color\": \"rgb(82, 188, 163)\"}, \"name\": \"MASH\", \"offsetgroup\": \"MASH\", \"orientation\": \"v\", \"showlegend\": true, \"textposition\": \"auto\", \"type\": \"bar\", \"x\": [\"MASH\", \"MASH\"], \"xaxis\": \"x\", \"y\": [8872, 5378], \"yaxis\": \"y\"}, {\"alignmentgroup\": \"True\", \"hovertemplate\": \"buy_symbol=%{x}<br>#_trades=%{y}<extra></extra>\", \"legendgroup\": \"BAKE\", \"marker\": {\"color\": \"rgb(153, 201, 69)\"}, \"name\": \"BAKE\", \"offsetgroup\": \"BAKE\", \"orientation\": \"v\", \"showlegend\": true, \"textposition\": \"auto\", \"type\": \"bar\", \"x\": [\"BAKE\"], \"xaxis\": \"x\", \"y\": [9232], \"yaxis\": \"y\"}, {\"alignmentgroup\": \"True\", \"hovertemplate\": \"buy_symbol=%{x}<br>#_trades=%{y}<extra></extra>\", \"legendgroup\": \"BRICK\", \"marker\": {\"color\": \"rgb(204, 97, 176)\"}, \"name\": \"BRICK\", \"offsetgroup\": \"BRICK\", \"orientation\": \"v\", \"showlegend\": true, \"textposition\": \"auto\", \"type\": \"bar\", \"x\": [\"BRICK\", \"BRICK\"], \"xaxis\": \"x\", \"y\": [5861, 5382], \"yaxis\": \"y\"}, {\"alignmentgroup\": \"True\", \"hovertemplate\": \"buy_symbol=%{x}<br>#_trades=%{y}<extra></extra>\", \"legendgroup\": \"KPAD\", \"marker\": {\"color\": \"rgb(36, 121, 108)\"}, \"name\": \"KPAD\", \"offsetgroup\": \"KPAD\", \"orientation\": \"v\", \"showlegend\": true, \"textposition\": \"auto\", \"type\": \"bar\", \"x\": [\"KPAD\"], \"xaxis\": \"x\", \"y\": [5196], \"yaxis\": \"y\"}, {\"alignmentgroup\": \"True\", \"hovertemplate\": \"buy_symbol=%{x}<br>#_trades=%{y}<extra></extra>\", \"legendgroup\": \"XVS\", \"marker\": {\"color\": \"rgb(218, 165, 27)\"}, \"name\": \"XVS\", \"offsetgroup\": \"XVS\", \"orientation\": \"v\", \"showlegend\": true, \"textposition\": \"auto\", \"type\": \"bar\", \"x\": [\"XVS\"], \"xaxis\": \"x\", \"y\": [5533], \"yaxis\": \"y\"}, {\"alignmentgroup\": \"True\", \"hovertemplate\": \"buy_symbol=%{x}<br>#_trades=%{y}<extra></extra>\", \"legendgroup\": \"SAFEBTC\", \"marker\": {\"color\": \"rgb(47, 138, 196)\"}, \"name\": \"SAFEBTC\", \"offsetgroup\": \"SAFEBTC\", \"orientation\": \"v\", \"showlegend\": true, \"textposition\": \"auto\", \"type\": \"bar\", \"x\": [\"SAFEBTC\"], \"xaxis\": \"x\", \"y\": [9498], \"yaxis\": \"y\"}, {\"alignmentgroup\": \"True\", \"hovertemplate\": \"buy_symbol=%{x}<br>#_trades=%{y}<extra></extra>\", \"legendgroup\": \"BOG\", \"marker\": {\"color\": \"rgb(118, 78, 159)\"}, \"name\": \"BOG\", \"offsetgroup\": \"BOG\", \"orientation\": \"v\", \"showlegend\": true, \"textposition\": \"auto\", \"type\": \"bar\", \"x\": [\"BOG\"], \"xaxis\": \"x\", \"y\": [3781], \"yaxis\": \"y\"}, {\"alignmentgroup\": \"True\", \"hovertemplate\": \"buy_symbol=%{x}<br>#_trades=%{y}<extra></extra>\", \"legendgroup\": \"DOGE\", \"marker\": {\"color\": \"rgb(237, 100, 90)\"}, \"name\": \"DOGE\", \"offsetgroup\": \"DOGE\", \"orientation\": \"v\", \"showlegend\": true, \"textposition\": \"auto\", \"type\": \"bar\", \"x\": [\"DOGE\"], \"xaxis\": \"x\", \"y\": [6574], \"yaxis\": \"y\"}, {\"alignmentgroup\": \"True\", \"hovertemplate\": \"buy_symbol=%{x}<br>#_trades=%{y}<extra></extra>\", \"legendgroup\": \"DAI\", \"marker\": {\"color\": \"rgb(165, 170, 153)\"}, \"name\": \"DAI\", \"offsetgroup\": \"DAI\", \"orientation\": \"v\", \"showlegend\": true, \"textposition\": \"auto\", \"type\": \"bar\", \"x\": [\"DAI\", \"DAI\"], \"xaxis\": \"x\", \"y\": [8433, 13071], \"yaxis\": \"y\"}, {\"alignmentgroup\": \"True\", \"hovertemplate\": \"buy_symbol=%{x}<br>#_trades=%{y}<extra></extra>\", \"legendgroup\": \"upBNB\", \"marker\": {\"color\": \"rgb(229, 134, 6)\"}, \"name\": \"upBNB\", \"offsetgroup\": \"upBNB\", \"orientation\": \"v\", \"showlegend\": true, \"textposition\": \"auto\", \"type\": \"bar\", \"x\": [\"upBNB\"], \"xaxis\": \"x\", \"y\": [4722], \"yaxis\": \"y\"}, {\"alignmentgroup\": \"True\", \"hovertemplate\": \"buy_symbol=%{x}<br>#_trades=%{y}<extra></extra>\", \"legendgroup\": \"DINO\", \"marker\": {\"color\": \"rgb(93, 105, 177)\"}, \"name\": \"DINO\", \"offsetgroup\": \"DINO\", \"orientation\": \"v\", \"showlegend\": true, \"textposition\": \"auto\", \"type\": \"bar\", \"x\": [\"DINO\"], \"xaxis\": \"x\", \"y\": [6463], \"yaxis\": \"y\"}, {\"alignmentgroup\": \"True\", \"hovertemplate\": \"buy_symbol=%{x}<br>#_trades=%{y}<extra></extra>\", \"legendgroup\": \"TWT\", \"marker\": {\"color\": \"rgb(82, 188, 163)\"}, \"name\": \"TWT\", \"offsetgroup\": \"TWT\", \"orientation\": \"v\", \"showlegend\": true, \"textposition\": \"auto\", \"type\": \"bar\", \"x\": [\"TWT\"], \"xaxis\": \"x\", \"y\": [7074], \"yaxis\": \"y\"}, {\"alignmentgroup\": \"True\", \"hovertemplate\": \"buy_symbol=%{x}<br>#_trades=%{y}<extra></extra>\", \"legendgroup\": \"GEN\", \"marker\": {\"color\": \"rgb(153, 201, 69)\"}, \"name\": \"GEN\", \"offsetgroup\": \"GEN\", \"orientation\": \"v\", \"showlegend\": true, \"textposition\": \"auto\", \"type\": \"bar\", \"x\": [\"GEN\", \"GEN\"], \"xaxis\": \"x\", \"y\": [4326, 4188], \"yaxis\": \"y\"}, {\"alignmentgroup\": \"True\", \"hovertemplate\": \"buy_symbol=%{x}<br>#_trades=%{y}<extra></extra>\", \"legendgroup\": \"MEMES\", \"marker\": {\"color\": \"rgb(204, 97, 176)\"}, \"name\": \"MEMES\", \"offsetgroup\": \"MEMES\", \"orientation\": \"v\", \"showlegend\": true, \"textposition\": \"auto\", \"type\": \"bar\", \"x\": [\"MEMES\"], \"xaxis\": \"x\", \"y\": [6848], \"yaxis\": \"y\"}, {\"alignmentgroup\": \"True\", \"hovertemplate\": \"buy_symbol=%{x}<br>#_trades=%{y}<extra></extra>\", \"legendgroup\": \"TREE\", \"marker\": {\"color\": \"rgb(36, 121, 108)\"}, \"name\": \"TREE\", \"offsetgroup\": \"TREE\", \"orientation\": \"v\", \"showlegend\": true, \"textposition\": \"auto\", \"type\": \"bar\", \"x\": [\"TREE\"], \"xaxis\": \"x\", \"y\": [6049], \"yaxis\": \"y\"}, {\"alignmentgroup\": \"True\", \"hovertemplate\": \"buy_symbol=%{x}<br>#_trades=%{y}<extra></extra>\", \"legendgroup\": \"SENDWHALE\", \"marker\": {\"color\": \"rgb(218, 165, 27)\"}, \"name\": \"SENDWHALE\", \"offsetgroup\": \"SENDWHALE\", \"orientation\": \"v\", \"showlegend\": true, \"textposition\": \"auto\", \"type\": \"bar\", \"x\": [\"SENDWHALE\"], \"xaxis\": \"x\", \"y\": [7637], \"yaxis\": \"y\"}, {\"alignmentgroup\": \"True\", \"hovertemplate\": \"buy_symbol=%{x}<br>#_trades=%{y}<extra></extra>\", \"legendgroup\": \"HYPER\", \"marker\": {\"color\": \"rgb(47, 138, 196)\"}, \"name\": \"HYPER\", \"offsetgroup\": \"HYPER\", \"orientation\": \"v\", \"showlegend\": true, \"textposition\": \"auto\", \"type\": \"bar\", \"x\": [\"HYPER\"], \"xaxis\": \"x\", \"y\": [6124], \"yaxis\": \"y\"}, {\"alignmentgroup\": \"True\", \"hovertemplate\": \"buy_symbol=%{x}<br>#_trades=%{y}<extra></extra>\", \"legendgroup\": \"SALT\", \"marker\": {\"color\": \"rgb(118, 78, 159)\"}, \"name\": \"SALT\", \"offsetgroup\": \"SALT\", \"orientation\": \"v\", \"showlegend\": true, \"textposition\": \"auto\", \"type\": \"bar\", \"x\": [\"SALT\", \"SALT\"], \"xaxis\": \"x\", \"y\": [4979, 5227], \"yaxis\": \"y\"}, {\"alignmentgroup\": \"True\", \"hovertemplate\": \"buy_symbol=%{x}<br>#_trades=%{y}<extra></extra>\", \"legendgroup\": \"Ramen\", \"marker\": {\"color\": \"rgb(237, 100, 90)\"}, \"name\": \"Ramen\", \"offsetgroup\": \"Ramen\", \"orientation\": \"v\", \"showlegend\": true, \"textposition\": \"auto\", \"type\": \"bar\", \"x\": [\"Ramen\"], \"xaxis\": \"x\", \"y\": [4652], \"yaxis\": \"y\"}, {\"alignmentgroup\": \"True\", \"hovertemplate\": \"buy_symbol=%{x}<br>#_trades=%{y}<extra></extra>\", \"legendgroup\": \"DOT\", \"marker\": {\"color\": \"rgb(165, 170, 153)\"}, \"name\": \"DOT\", \"offsetgroup\": \"DOT\", \"orientation\": \"v\", \"showlegend\": true, \"textposition\": \"auto\", \"type\": \"bar\", \"x\": [\"DOT\"], \"xaxis\": \"x\", \"y\": [4834], \"yaxis\": \"y\"}, {\"alignmentgroup\": \"True\", \"hovertemplate\": \"buy_symbol=%{x}<br>#_trades=%{y}<extra></extra>\", \"legendgroup\": \"MOONLIGHT\", \"marker\": {\"color\": \"rgb(229, 134, 6)\"}, \"name\": \"MOONLIGHT\", \"offsetgroup\": \"MOONLIGHT\", \"orientation\": \"v\", \"showlegend\": true, \"textposition\": \"auto\", \"type\": \"bar\", \"x\": [\"MOONLIGHT\"], \"xaxis\": \"x\", \"y\": [6671], \"yaxis\": \"y\"}, {\"alignmentgroup\": \"True\", \"hovertemplate\": \"buy_symbol=%{x}<br>#_trades=%{y}<extra></extra>\", \"legendgroup\": \"SHILD\", \"marker\": {\"color\": \"rgb(93, 105, 177)\"}, \"name\": \"SHILD\", \"offsetgroup\": \"SHILD\", \"orientation\": \"v\", \"showlegend\": true, \"textposition\": \"auto\", \"type\": \"bar\", \"x\": [\"SHILD\"], \"xaxis\": \"x\", \"y\": [4702], \"yaxis\": \"y\"}, {\"alignmentgroup\": \"True\", \"hovertemplate\": \"buy_symbol=%{x}<br>#_trades=%{y}<extra></extra>\", \"legendgroup\": \"SMG\", \"marker\": {\"color\": \"rgb(82, 188, 163)\"}, \"name\": \"SMG\", \"offsetgroup\": \"SMG\", \"orientation\": \"v\", \"showlegend\": true, \"textposition\": \"auto\", \"type\": \"bar\", \"x\": [\"SMG\"], \"xaxis\": \"x\", \"y\": [4970], \"yaxis\": \"y\"}, {\"alignmentgroup\": \"True\", \"hovertemplate\": \"buy_symbol=%{x}<br>#_trades=%{y}<extra></extra>\", \"legendgroup\": \"MOONMOON\", \"marker\": {\"color\": \"rgb(153, 201, 69)\"}, \"name\": \"MOONMOON\", \"offsetgroup\": \"MOONMOON\", \"orientation\": \"v\", \"showlegend\": true, \"textposition\": \"auto\", \"type\": \"bar\", \"x\": [\"MOONMOON\"], \"xaxis\": \"x\", \"y\": [6466], \"yaxis\": \"y\"}, {\"alignmentgroup\": \"True\", \"hovertemplate\": \"buy_symbol=%{x}<br>#_trades=%{y}<extra></extra>\", \"legendgroup\": \"MOONPIRATE\", \"marker\": {\"color\": \"rgb(204, 97, 176)\"}, \"name\": \"MOONPIRATE\", \"offsetgroup\": \"MOONPIRATE\", \"orientation\": \"v\", \"showlegend\": true, \"textposition\": \"auto\", \"type\": \"bar\", \"x\": [\"MOONPIRATE\"], \"xaxis\": \"x\", \"y\": [6280], \"yaxis\": \"y\"}, {\"alignmentgroup\": \"True\", \"hovertemplate\": \"buy_symbol=%{x}<br>#_trades=%{y}<extra></extra>\", \"legendgroup\": \"UST\", \"marker\": {\"color\": \"rgb(36, 121, 108)\"}, \"name\": \"UST\", \"offsetgroup\": \"UST\", \"orientation\": \"v\", \"showlegend\": true, \"textposition\": \"auto\", \"type\": \"bar\", \"x\": [\"UST\", \"UST\"], \"xaxis\": \"x\", \"y\": [6851, 6104], \"yaxis\": \"y\"}, {\"alignmentgroup\": \"True\", \"hovertemplate\": \"buy_symbol=%{x}<br>#_trades=%{y}<extra></extra>\", \"legendgroup\": \"SPE\", \"marker\": {\"color\": \"rgb(218, 165, 27)\"}, \"name\": \"SPE\", \"offsetgroup\": \"SPE\", \"orientation\": \"v\", \"showlegend\": true, \"textposition\": \"auto\", \"type\": \"bar\", \"x\": [\"SPE\"], \"xaxis\": \"x\", \"y\": [5955], \"yaxis\": \"y\"}, {\"alignmentgroup\": \"True\", \"hovertemplate\": \"buy_symbol=%{x}<br>#_trades=%{y}<extra></extra>\", \"legendgroup\": \"SLAM\", \"marker\": {\"color\": \"rgb(47, 138, 196)\"}, \"name\": \"SLAM\", \"offsetgroup\": \"SLAM\", \"orientation\": \"v\", \"showlegend\": true, \"textposition\": \"auto\", \"type\": \"bar\", \"x\": [\"SLAM\"], \"xaxis\": \"x\", \"y\": [5113], \"yaxis\": \"y\"}, {\"alignmentgroup\": \"True\", \"hovertemplate\": \"buy_symbol=%{x}<br>#_trades=%{y}<extra></extra>\", \"legendgroup\": \"ASS\", \"marker\": {\"color\": \"rgb(118, 78, 159)\"}, \"name\": \"ASS\", \"offsetgroup\": \"ASS\", \"orientation\": \"v\", \"showlegend\": true, \"textposition\": \"auto\", \"type\": \"bar\", \"x\": [\"ASS\"], \"xaxis\": \"x\", \"y\": [6060], \"yaxis\": \"y\"}, {\"alignmentgroup\": \"True\", \"hovertemplate\": \"buy_symbol=%{x}<br>#_trades=%{y}<extra></extra>\", \"legendgroup\": \"NIU\", \"marker\": {\"color\": \"rgb(237, 100, 90)\"}, \"name\": \"NIU\", \"offsetgroup\": \"NIU\", \"orientation\": \"v\", \"showlegend\": true, \"textposition\": \"auto\", \"type\": \"bar\", \"x\": [\"NIU\", \"NIU\"], \"xaxis\": \"x\", \"y\": [5931, 3715], \"yaxis\": \"y\"}, {\"alignmentgroup\": \"True\", \"hovertemplate\": \"buy_symbol=%{x}<br>#_trades=%{y}<extra></extra>\", \"legendgroup\": \"ZEP\", \"marker\": {\"color\": \"rgb(165, 170, 153)\"}, \"name\": \"ZEP\", \"offsetgroup\": \"ZEP\", \"orientation\": \"v\", \"showlegend\": true, \"textposition\": \"auto\", \"type\": \"bar\", \"x\": [\"ZEP\"], \"xaxis\": \"x\", \"y\": [5506], \"yaxis\": \"y\"}, {\"alignmentgroup\": \"True\", \"hovertemplate\": \"buy_symbol=%{x}<br>#_trades=%{y}<extra></extra>\", \"legendgroup\": \"BETH\", \"marker\": {\"color\": \"rgb(229, 134, 6)\"}, \"name\": \"BETH\", \"offsetgroup\": \"BETH\", \"orientation\": \"v\", \"showlegend\": true, \"textposition\": \"auto\", \"type\": \"bar\", \"x\": [\"BETH\"], \"xaxis\": \"x\", \"y\": [1333], \"yaxis\": \"y\"}, {\"alignmentgroup\": \"True\", \"hovertemplate\": \"buy_symbol=%{x}<br>#_trades=%{y}<extra></extra>\", \"legendgroup\": \"ADA\", \"marker\": {\"color\": \"rgb(93, 105, 177)\"}, \"name\": \"ADA\", \"offsetgroup\": \"ADA\", \"orientation\": \"v\", \"showlegend\": true, \"textposition\": \"auto\", \"type\": \"bar\", \"x\": [\"ADA\"], \"xaxis\": \"x\", \"y\": [5192], \"yaxis\": \"y\"}, {\"alignmentgroup\": \"True\", \"hovertemplate\": \"buy_symbol=%{x}<br>#_trades=%{y}<extra></extra>\", \"legendgroup\": \"SAFEGALAXY\", \"marker\": {\"color\": \"rgb(82, 188, 163)\"}, \"name\": \"SAFEGALAXY\", \"offsetgroup\": \"SAFEGALAXY\", \"orientation\": \"v\", \"showlegend\": true, \"textposition\": \"auto\", \"type\": \"bar\", \"x\": [\"SAFEGALAXY\"], \"xaxis\": \"x\", \"y\": [4989], \"yaxis\": \"y\"}, {\"alignmentgroup\": \"True\", \"hovertemplate\": \"buy_symbol=%{x}<br>#_trades=%{y}<extra></extra>\", \"legendgroup\": \"FEG\", \"marker\": {\"color\": \"rgb(153, 201, 69)\"}, \"name\": \"FEG\", \"offsetgroup\": \"FEG\", \"orientation\": \"v\", \"showlegend\": true, \"textposition\": \"auto\", \"type\": \"bar\", \"x\": [\"FEG\"], \"xaxis\": \"x\", \"y\": [6097], \"yaxis\": \"y\"}, {\"alignmentgroup\": \"True\", \"hovertemplate\": \"buy_symbol=%{x}<br>#_trades=%{y}<extra></extra>\", \"legendgroup\": \"SAFEMOONCASH\", \"marker\": {\"color\": \"rgb(204, 97, 176)\"}, \"name\": \"SAFEMOONCASH\", \"offsetgroup\": \"SAFEMOONCASH\", \"orientation\": \"v\", \"showlegend\": true, \"textposition\": \"auto\", \"type\": \"bar\", \"x\": [\"SAFEMOONCASH\"], \"xaxis\": \"x\", \"y\": [4637], \"yaxis\": \"y\"}, {\"alignmentgroup\": \"True\", \"hovertemplate\": \"buy_symbol=%{x}<br>#_trades=%{y}<extra></extra>\", \"legendgroup\": \"sBDO\", \"marker\": {\"color\": \"rgb(36, 121, 108)\"}, \"name\": \"sBDO\", \"offsetgroup\": \"sBDO\", \"orientation\": \"v\", \"showlegend\": true, \"textposition\": \"auto\", \"type\": \"bar\", \"x\": [\"sBDO\"], \"xaxis\": \"x\", \"y\": [4336], \"yaxis\": \"y\"}, {\"alignmentgroup\": \"True\", \"hovertemplate\": \"buy_symbol=%{x}<br>#_trades=%{y}<extra></extra>\", \"legendgroup\": \"SUPERWAIFU\", \"marker\": {\"color\": \"rgb(218, 165, 27)\"}, \"name\": \"SUPERWAIFU\", \"offsetgroup\": \"SUPERWAIFU\", \"orientation\": \"v\", \"showlegend\": true, \"textposition\": \"auto\", \"type\": \"bar\", \"x\": [\"SUPERWAIFU\"], \"xaxis\": \"x\", \"y\": [6092], \"yaxis\": \"y\"}, {\"alignmentgroup\": \"True\", \"hovertemplate\": \"buy_symbol=%{x}<br>#_trades=%{y}<extra></extra>\", \"legendgroup\": \"AQUAGOAT\", \"marker\": {\"color\": \"rgb(47, 138, 196)\"}, \"name\": \"AQUAGOAT\", \"offsetgroup\": \"AQUAGOAT\", \"orientation\": \"v\", \"showlegend\": true, \"textposition\": \"auto\", \"type\": \"bar\", \"x\": [\"AQUAGOAT\"], \"xaxis\": \"x\", \"y\": [7709], \"yaxis\": \"y\"}, {\"alignmentgroup\": \"True\", \"hovertemplate\": \"buy_symbol=%{x}<br>#_trades=%{y}<extra></extra>\", \"legendgroup\": \"HAPPY\", \"marker\": {\"color\": \"rgb(118, 78, 159)\"}, \"name\": \"HAPPY\", \"offsetgroup\": \"HAPPY\", \"orientation\": \"v\", \"showlegend\": true, \"textposition\": \"auto\", \"type\": \"bar\", \"x\": [\"HAPPY\"], \"xaxis\": \"x\", \"y\": [4956], \"yaxis\": \"y\"}, {\"alignmentgroup\": \"True\", \"hovertemplate\": \"buy_symbol=%{x}<br>#_trades=%{y}<extra></extra>\", \"legendgroup\": \"FOX\", \"marker\": {\"color\": \"rgb(237, 100, 90)\"}, \"name\": \"FOX\", \"offsetgroup\": \"FOX\", \"orientation\": \"v\", \"showlegend\": true, \"textposition\": \"auto\", \"type\": \"bar\", \"x\": [\"FOX\"], \"xaxis\": \"x\", \"y\": [7544], \"yaxis\": \"y\"}, {\"alignmentgroup\": \"True\", \"hovertemplate\": \"buy_symbol=%{x}<br>#_trades=%{y}<extra></extra>\", \"legendgroup\": \"DHOUSE\", \"marker\": {\"color\": \"rgb(165, 170, 153)\"}, \"name\": \"DHOUSE\", \"offsetgroup\": \"DHOUSE\", \"orientation\": \"v\", \"showlegend\": true, \"textposition\": \"auto\", \"type\": \"bar\", \"x\": [\"DHOUSE\"], \"xaxis\": \"x\", \"y\": [4371], \"yaxis\": \"y\"}, {\"alignmentgroup\": \"True\", \"hovertemplate\": \"buy_symbol=%{x}<br>#_trades=%{y}<extra></extra>\", \"legendgroup\": \"GMT\", \"marker\": {\"color\": \"rgb(229, 134, 6)\"}, \"name\": \"GMT\", \"offsetgroup\": \"GMT\", \"orientation\": \"v\", \"showlegend\": true, \"textposition\": \"auto\", \"type\": \"bar\", \"x\": [\"GMT\"], \"xaxis\": \"x\", \"y\": [1722], \"yaxis\": \"y\"}, {\"alignmentgroup\": \"True\", \"hovertemplate\": \"buy_symbol=%{x}<br>#_trades=%{y}<extra></extra>\", \"legendgroup\": \"HyMETEOR\", \"marker\": {\"color\": \"rgb(93, 105, 177)\"}, \"name\": \"HyMETEOR\", \"offsetgroup\": \"HyMETEOR\", \"orientation\": \"v\", \"showlegend\": true, \"textposition\": \"auto\", \"type\": \"bar\", \"x\": [\"HyMETEOR\"], \"xaxis\": \"x\", \"y\": [5435], \"yaxis\": \"y\"}, {\"alignmentgroup\": \"True\", \"hovertemplate\": \"buy_symbol=%{x}<br>#_trades=%{y}<extra></extra>\", \"legendgroup\": \"SAFEP\", \"marker\": {\"color\": \"rgb(82, 188, 163)\"}, \"name\": \"SAFEP\", \"offsetgroup\": \"SAFEP\", \"orientation\": \"v\", \"showlegend\": true, \"textposition\": \"auto\", \"type\": \"bar\", \"x\": [\"SAFEP\"], \"xaxis\": \"x\", \"y\": [5843], \"yaxis\": \"y\"}, {\"alignmentgroup\": \"True\", \"hovertemplate\": \"buy_symbol=%{x}<br>#_trades=%{y}<extra></extra>\", \"legendgroup\": \"TACOCAT\", \"marker\": {\"color\": \"rgb(153, 201, 69)\"}, \"name\": \"TACOCAT\", \"offsetgroup\": \"TACOCAT\", \"orientation\": \"v\", \"showlegend\": true, \"textposition\": \"auto\", \"type\": \"bar\", \"x\": [\"TACOCAT\"], \"xaxis\": \"x\", \"y\": [3685], \"yaxis\": \"y\"}, {\"alignmentgroup\": \"True\", \"hovertemplate\": \"buy_symbol=%{x}<br>#_trades=%{y}<extra></extra>\", \"legendgroup\": \"GEMS\", \"marker\": {\"color\": \"rgb(204, 97, 176)\"}, \"name\": \"GEMS\", \"offsetgroup\": \"GEMS\", \"orientation\": \"v\", \"showlegend\": true, \"textposition\": \"auto\", \"type\": \"bar\", \"x\": [\"GEMS\"], \"xaxis\": \"x\", \"y\": [5513], \"yaxis\": \"y\"}, {\"alignmentgroup\": \"True\", \"hovertemplate\": \"buy_symbol=%{x}<br>#_trades=%{y}<extra></extra>\", \"legendgroup\": \"KEY\", \"marker\": {\"color\": \"rgb(36, 121, 108)\"}, \"name\": \"KEY\", \"offsetgroup\": \"KEY\", \"orientation\": \"v\", \"showlegend\": true, \"textposition\": \"auto\", \"type\": \"bar\", \"x\": [\"KEY\"], \"xaxis\": \"x\", \"y\": [5101], \"yaxis\": \"y\"}, {\"alignmentgroup\": \"True\", \"hovertemplate\": \"buy_symbol=%{x}<br>#_trades=%{y}<extra></extra>\", \"legendgroup\": \"XRP\", \"marker\": {\"color\": \"rgb(218, 165, 27)\"}, \"name\": \"XRP\", \"offsetgroup\": \"XRP\", \"orientation\": \"v\", \"showlegend\": true, \"textposition\": \"auto\", \"type\": \"bar\", \"x\": [\"XRP\"], \"xaxis\": \"x\", \"y\": [5238], \"yaxis\": \"y\"}, {\"alignmentgroup\": \"True\", \"hovertemplate\": \"buy_symbol=%{x}<br>#_trades=%{y}<extra></extra>\", \"legendgroup\": \"OCTA\", \"marker\": {\"color\": \"rgb(47, 138, 196)\"}, \"name\": \"OCTA\", \"offsetgroup\": \"OCTA\", \"orientation\": \"v\", \"showlegend\": true, \"textposition\": \"auto\", \"type\": \"bar\", \"x\": [\"OCTA\"], \"xaxis\": \"x\", \"y\": [4614], \"yaxis\": \"y\"}, {\"alignmentgroup\": \"True\", \"hovertemplate\": \"buy_symbol=%{x}<br>#_trades=%{y}<extra></extra>\", \"legendgroup\": \"EULER\", \"marker\": {\"color\": \"rgb(118, 78, 159)\"}, \"name\": \"EULER\", \"offsetgroup\": \"EULER\", \"orientation\": \"v\", \"showlegend\": true, \"textposition\": \"auto\", \"type\": \"bar\", \"x\": [\"EULER\"], \"xaxis\": \"x\", \"y\": [2119], \"yaxis\": \"y\"}, {\"alignmentgroup\": \"True\", \"hovertemplate\": \"buy_symbol=%{x}<br>#_trades=%{y}<extra></extra>\", \"legendgroup\": \"RX\", \"marker\": {\"color\": \"rgb(237, 100, 90)\"}, \"name\": \"RX\", \"offsetgroup\": \"RX\", \"orientation\": \"v\", \"showlegend\": true, \"textposition\": \"auto\", \"type\": \"bar\", \"x\": [\"RX\"], \"xaxis\": \"x\", \"y\": [3727], \"yaxis\": \"y\"}, {\"alignmentgroup\": \"True\", \"hovertemplate\": \"buy_symbol=%{x}<br>#_trades=%{y}<extra></extra>\", \"legendgroup\": \"PIT\", \"marker\": {\"color\": \"rgb(165, 170, 153)\"}, \"name\": \"PIT\", \"offsetgroup\": \"PIT\", \"orientation\": \"v\", \"showlegend\": true, \"textposition\": \"auto\", \"type\": \"bar\", \"x\": [\"PIT\"], \"xaxis\": \"x\", \"y\": [5939], \"yaxis\": \"y\"}, {\"alignmentgroup\": \"True\", \"hovertemplate\": \"buy_symbol=%{x}<br>#_trades=%{y}<extra></extra>\", \"legendgroup\": \"BTS\", \"marker\": {\"color\": \"rgb(229, 134, 6)\"}, \"name\": \"BTS\", \"offsetgroup\": \"BTS\", \"orientation\": \"v\", \"showlegend\": true, \"textposition\": \"auto\", \"type\": \"bar\", \"x\": [\"BTS\"], \"xaxis\": \"x\", \"y\": [2753], \"yaxis\": \"y\"}, {\"alignmentgroup\": \"True\", \"hovertemplate\": \"buy_symbol=%{x}<br>#_trades=%{y}<extra></extra>\", \"legendgroup\": \"Hamtaro\", \"marker\": {\"color\": \"rgb(93, 105, 177)\"}, \"name\": \"Hamtaro\", \"offsetgroup\": \"Hamtaro\", \"orientation\": \"v\", \"showlegend\": true, \"textposition\": \"auto\", \"type\": \"bar\", \"x\": [\"Hamtaro\"], \"xaxis\": \"x\", \"y\": [4832], \"yaxis\": \"y\"}, {\"alignmentgroup\": \"True\", \"hovertemplate\": \"buy_symbol=%{x}<br>#_trades=%{y}<extra></extra>\", \"legendgroup\": \"MOONSTAR\", \"marker\": {\"color\": \"rgb(82, 188, 163)\"}, \"name\": \"MOONSTAR\", \"offsetgroup\": \"MOONSTAR\", \"orientation\": \"v\", \"showlegend\": true, \"textposition\": \"auto\", \"type\": \"bar\", \"x\": [\"MOONSTAR\"], \"xaxis\": \"x\", \"y\": [4809], \"yaxis\": \"y\"}, {\"alignmentgroup\": \"True\", \"hovertemplate\": \"buy_symbol=%{x}<br>#_trades=%{y}<extra></extra>\", \"legendgroup\": \"WAF\", \"marker\": {\"color\": \"rgb(153, 201, 69)\"}, \"name\": \"WAF\", \"offsetgroup\": \"WAF\", \"orientation\": \"v\", \"showlegend\": true, \"textposition\": \"auto\", \"type\": \"bar\", \"x\": [\"WAF\"], \"xaxis\": \"x\", \"y\": [2110], \"yaxis\": \"y\"}, {\"alignmentgroup\": \"True\", \"hovertemplate\": \"buy_symbol=%{x}<br>#_trades=%{y}<extra></extra>\", \"legendgroup\": \"ACS\", \"marker\": {\"color\": \"rgb(204, 97, 176)\"}, \"name\": \"ACS\", \"offsetgroup\": \"ACS\", \"orientation\": \"v\", \"showlegend\": true, \"textposition\": \"auto\", \"type\": \"bar\", \"x\": [\"ACS\"], \"xaxis\": \"x\", \"y\": [2930], \"yaxis\": \"y\"}, {\"alignmentgroup\": \"True\", \"hovertemplate\": \"buy_symbol=%{x}<br>#_trades=%{y}<extra></extra>\", \"legendgroup\": \"SAFECOMET\", \"marker\": {\"color\": \"rgb(36, 121, 108)\"}, \"name\": \"SAFECOMET\", \"offsetgroup\": \"SAFECOMET\", \"orientation\": \"v\", \"showlegend\": true, \"textposition\": \"auto\", \"type\": \"bar\", \"x\": [\"SAFECOMET\"], \"xaxis\": \"x\", \"y\": [5007], \"yaxis\": \"y\"}, {\"alignmentgroup\": \"True\", \"hovertemplate\": \"buy_symbol=%{x}<br>#_trades=%{y}<extra></extra>\", \"legendgroup\": \"MOONSHOT\", \"marker\": {\"color\": \"rgb(218, 165, 27)\"}, \"name\": \"MOONSHOT\", \"offsetgroup\": \"MOONSHOT\", \"orientation\": \"v\", \"showlegend\": true, \"textposition\": \"auto\", \"type\": \"bar\", \"x\": [\"MOONSHOT\"], \"xaxis\": \"x\", \"y\": [3741], \"yaxis\": \"y\"}, {\"alignmentgroup\": \"True\", \"hovertemplate\": \"buy_symbol=%{x}<br>#_trades=%{y}<extra></extra>\", \"legendgroup\": \"MOONTOKEN\", \"marker\": {\"color\": \"rgb(47, 138, 196)\"}, \"name\": \"MOONTOKEN\", \"offsetgroup\": \"MOONTOKEN\", \"orientation\": \"v\", \"showlegend\": true, \"textposition\": \"auto\", \"type\": \"bar\", \"x\": [\"MOONTOKEN\"], \"xaxis\": \"x\", \"y\": [4789], \"yaxis\": \"y\"}, {\"alignmentgroup\": \"True\", \"hovertemplate\": \"buy_symbol=%{x}<br>#_trades=%{y}<extra></extra>\", \"legendgroup\": \"BBQ\", \"marker\": {\"color\": \"rgb(118, 78, 159)\"}, \"name\": \"BBQ\", \"offsetgroup\": \"BBQ\", \"orientation\": \"v\", \"showlegend\": true, \"textposition\": \"auto\", \"type\": \"bar\", \"x\": [\"BBQ\"], \"xaxis\": \"x\", \"y\": [3373], \"yaxis\": \"y\"}, {\"alignmentgroup\": \"True\", \"hovertemplate\": \"buy_symbol=%{x}<br>#_trades=%{y}<extra></extra>\", \"legendgroup\": \"Tcake\", \"marker\": {\"color\": \"rgb(237, 100, 90)\"}, \"name\": \"Tcake\", \"offsetgroup\": \"Tcake\", \"orientation\": \"v\", \"showlegend\": true, \"textposition\": \"auto\", \"type\": \"bar\", \"x\": [\"Tcake\"], \"xaxis\": \"x\", \"y\": [3215], \"yaxis\": \"y\"}, {\"alignmentgroup\": \"True\", \"hovertemplate\": \"buy_symbol=%{x}<br>#_trades=%{y}<extra></extra>\", \"legendgroup\": \"MEL\", \"marker\": {\"color\": \"rgb(165, 170, 153)\"}, \"name\": \"MEL\", \"offsetgroup\": \"MEL\", \"orientation\": \"v\", \"showlegend\": true, \"textposition\": \"auto\", \"type\": \"bar\", \"x\": [\"MEL\", \"MEL\"], \"xaxis\": \"x\", \"y\": [3635, 3130], \"yaxis\": \"y\"}, {\"alignmentgroup\": \"True\", \"hovertemplate\": \"buy_symbol=%{x}<br>#_trades=%{y}<extra></extra>\", \"legendgroup\": \"MBS\", \"marker\": {\"color\": \"rgb(229, 134, 6)\"}, \"name\": \"MBS\", \"offsetgroup\": \"MBS\", \"orientation\": \"v\", \"showlegend\": true, \"textposition\": \"auto\", \"type\": \"bar\", \"x\": [\"MBS\"], \"xaxis\": \"x\", \"y\": [3618], \"yaxis\": \"y\"}],                        {\"barmode\": \"relative\", \"legend\": {\"title\": {\"text\": \"buy_symbol\"}, \"tracegroupgap\": 0}, \"template\": {\"data\": {\"bar\": [{\"error_x\": {\"color\": \"#2a3f5f\"}, \"error_y\": {\"color\": \"#2a3f5f\"}, \"marker\": {\"line\": {\"color\": \"white\", \"width\": 0.5}}, \"type\": \"bar\"}], \"barpolar\": [{\"marker\": {\"line\": {\"color\": \"white\", \"width\": 0.5}}, \"type\": \"barpolar\"}], \"carpet\": [{\"aaxis\": {\"endlinecolor\": \"#2a3f5f\", \"gridcolor\": \"#C8D4E3\", \"linecolor\": \"#C8D4E3\", \"minorgridcolor\": \"#C8D4E3\", \"startlinecolor\": \"#2a3f5f\"}, \"baxis\": {\"endlinecolor\": \"#2a3f5f\", \"gridcolor\": \"#C8D4E3\", \"linecolor\": \"#C8D4E3\", \"minorgridcolor\": \"#C8D4E3\", \"startlinecolor\": \"#2a3f5f\"}, \"type\": \"carpet\"}], \"choropleth\": [{\"colorbar\": {\"outlinewidth\": 0, \"ticks\": \"\"}, \"type\": \"choropleth\"}], \"contour\": [{\"colorbar\": {\"outlinewidth\": 0, \"ticks\": \"\"}, \"colorscale\": [[0.0, \"#0d0887\"], [0.1111111111111111, \"#46039f\"], [0.2222222222222222, \"#7201a8\"], [0.3333333333333333, \"#9c179e\"], [0.4444444444444444, \"#bd3786\"], [0.5555555555555556, \"#d8576b\"], [0.6666666666666666, \"#ed7953\"], [0.7777777777777778, \"#fb9f3a\"], [0.8888888888888888, \"#fdca26\"], [1.0, \"#f0f921\"]], \"type\": \"contour\"}], \"contourcarpet\": [{\"colorbar\": {\"outlinewidth\": 0, \"ticks\": \"\"}, \"type\": \"contourcarpet\"}], \"heatmap\": [{\"colorbar\": {\"outlinewidth\": 0, \"ticks\": \"\"}, \"colorscale\": [[0.0, \"#0d0887\"], [0.1111111111111111, \"#46039f\"], [0.2222222222222222, \"#7201a8\"], [0.3333333333333333, \"#9c179e\"], [0.4444444444444444, \"#bd3786\"], [0.5555555555555556, \"#d8576b\"], [0.6666666666666666, \"#ed7953\"], [0.7777777777777778, \"#fb9f3a\"], [0.8888888888888888, \"#fdca26\"], [1.0, \"#f0f921\"]], \"type\": \"heatmap\"}], \"heatmapgl\": [{\"colorbar\": {\"outlinewidth\": 0, \"ticks\": \"\"}, \"colorscale\": [[0.0, \"#0d0887\"], [0.1111111111111111, \"#46039f\"], [0.2222222222222222, \"#7201a8\"], [0.3333333333333333, \"#9c179e\"], [0.4444444444444444, \"#bd3786\"], [0.5555555555555556, \"#d8576b\"], [0.6666666666666666, \"#ed7953\"], [0.7777777777777778, \"#fb9f3a\"], [0.8888888888888888, \"#fdca26\"], [1.0, \"#f0f921\"]], \"type\": \"heatmapgl\"}], \"histogram\": [{\"marker\": {\"colorbar\": {\"outlinewidth\": 0, \"ticks\": \"\"}}, \"type\": \"histogram\"}], \"histogram2d\": [{\"colorbar\": {\"outlinewidth\": 0, \"ticks\": \"\"}, \"colorscale\": [[0.0, \"#0d0887\"], [0.1111111111111111, \"#46039f\"], [0.2222222222222222, \"#7201a8\"], [0.3333333333333333, \"#9c179e\"], [0.4444444444444444, \"#bd3786\"], [0.5555555555555556, \"#d8576b\"], [0.6666666666666666, \"#ed7953\"], [0.7777777777777778, \"#fb9f3a\"], [0.8888888888888888, \"#fdca26\"], [1.0, \"#f0f921\"]], \"type\": \"histogram2d\"}], \"histogram2dcontour\": [{\"colorbar\": {\"outlinewidth\": 0, \"ticks\": \"\"}, \"colorscale\": [[0.0, \"#0d0887\"], [0.1111111111111111, \"#46039f\"], [0.2222222222222222, \"#7201a8\"], [0.3333333333333333, \"#9c179e\"], [0.4444444444444444, \"#bd3786\"], [0.5555555555555556, \"#d8576b\"], [0.6666666666666666, \"#ed7953\"], [0.7777777777777778, \"#fb9f3a\"], [0.8888888888888888, \"#fdca26\"], [1.0, \"#f0f921\"]], \"type\": \"histogram2dcontour\"}], \"mesh3d\": [{\"colorbar\": {\"outlinewidth\": 0, \"ticks\": \"\"}, \"type\": \"mesh3d\"}], \"parcoords\": [{\"line\": {\"colorbar\": {\"outlinewidth\": 0, \"ticks\": \"\"}}, \"type\": \"parcoords\"}], \"pie\": [{\"automargin\": true, \"type\": \"pie\"}], \"scatter\": [{\"marker\": {\"colorbar\": {\"outlinewidth\": 0, \"ticks\": \"\"}}, \"type\": \"scatter\"}], \"scatter3d\": [{\"line\": {\"colorbar\": {\"outlinewidth\": 0, \"ticks\": \"\"}}, \"marker\": {\"colorbar\": {\"outlinewidth\": 0, \"ticks\": \"\"}}, \"type\": \"scatter3d\"}], \"scattercarpet\": [{\"marker\": {\"colorbar\": {\"outlinewidth\": 0, \"ticks\": \"\"}}, \"type\": \"scattercarpet\"}], \"scattergeo\": [{\"marker\": {\"colorbar\": {\"outlinewidth\": 0, \"ticks\": \"\"}}, \"type\": \"scattergeo\"}], \"scattergl\": [{\"marker\": {\"colorbar\": {\"outlinewidth\": 0, \"ticks\": \"\"}}, \"type\": \"scattergl\"}], \"scattermapbox\": [{\"marker\": {\"colorbar\": {\"outlinewidth\": 0, \"ticks\": \"\"}}, \"type\": \"scattermapbox\"}], \"scatterpolar\": [{\"marker\": {\"colorbar\": {\"outlinewidth\": 0, \"ticks\": \"\"}}, \"type\": \"scatterpolar\"}], \"scatterpolargl\": [{\"marker\": {\"colorbar\": {\"outlinewidth\": 0, \"ticks\": \"\"}}, \"type\": \"scatterpolargl\"}], \"scatterternary\": [{\"marker\": {\"colorbar\": {\"outlinewidth\": 0, \"ticks\": \"\"}}, \"type\": \"scatterternary\"}], \"surface\": [{\"colorbar\": {\"outlinewidth\": 0, \"ticks\": \"\"}, \"colorscale\": [[0.0, \"#0d0887\"], [0.1111111111111111, \"#46039f\"], [0.2222222222222222, \"#7201a8\"], [0.3333333333333333, \"#9c179e\"], [0.4444444444444444, \"#bd3786\"], [0.5555555555555556, \"#d8576b\"], [0.6666666666666666, \"#ed7953\"], [0.7777777777777778, \"#fb9f3a\"], [0.8888888888888888, \"#fdca26\"], [1.0, \"#f0f921\"]], \"type\": \"surface\"}], \"table\": [{\"cells\": {\"fill\": {\"color\": \"#EBF0F8\"}, \"line\": {\"color\": \"white\"}}, \"header\": {\"fill\": {\"color\": \"#C8D4E3\"}, \"line\": {\"color\": \"white\"}}, \"type\": \"table\"}]}, \"layout\": {\"annotationdefaults\": {\"arrowcolor\": \"#2a3f5f\", \"arrowhead\": 0, \"arrowwidth\": 1}, \"autotypenumbers\": \"strict\", \"coloraxis\": {\"colorbar\": {\"outlinewidth\": 0, \"ticks\": \"\"}}, \"colorscale\": {\"diverging\": [[0, \"#8e0152\"], [0.1, \"#c51b7d\"], [0.2, \"#de77ae\"], [0.3, \"#f1b6da\"], [0.4, \"#fde0ef\"], [0.5, \"#f7f7f7\"], [0.6, \"#e6f5d0\"], [0.7, \"#b8e186\"], [0.8, \"#7fbc41\"], [0.9, \"#4d9221\"], [1, \"#276419\"]], \"sequential\": [[0.0, \"#0d0887\"], [0.1111111111111111, \"#46039f\"], [0.2222222222222222, \"#7201a8\"], [0.3333333333333333, \"#9c179e\"], [0.4444444444444444, \"#bd3786\"], [0.5555555555555556, \"#d8576b\"], [0.6666666666666666, \"#ed7953\"], [0.7777777777777778, \"#fb9f3a\"], [0.8888888888888888, \"#fdca26\"], [1.0, \"#f0f921\"]], \"sequentialminus\": [[0.0, \"#0d0887\"], [0.1111111111111111, \"#46039f\"], [0.2222222222222222, \"#7201a8\"], [0.3333333333333333, \"#9c179e\"], [0.4444444444444444, \"#bd3786\"], [0.5555555555555556, \"#d8576b\"], [0.6666666666666666, \"#ed7953\"], [0.7777777777777778, \"#fb9f3a\"], [0.8888888888888888, \"#fdca26\"], [1.0, \"#f0f921\"]]}, \"colorway\": [\"#636efa\", \"#EF553B\", \"#00cc96\", \"#ab63fa\", \"#FFA15A\", \"#19d3f3\", \"#FF6692\", \"#B6E880\", \"#FF97FF\", \"#FECB52\"], \"font\": {\"color\": \"#2a3f5f\"}, \"geo\": {\"bgcolor\": \"white\", \"lakecolor\": \"white\", \"landcolor\": \"white\", \"showlakes\": true, \"showland\": true, \"subunitcolor\": \"#C8D4E3\"}, \"hoverlabel\": {\"align\": \"left\"}, \"hovermode\": \"closest\", \"mapbox\": {\"style\": \"light\"}, \"paper_bgcolor\": \"white\", \"plot_bgcolor\": \"white\", \"polar\": {\"angularaxis\": {\"gridcolor\": \"#EBF0F8\", \"linecolor\": \"#EBF0F8\", \"ticks\": \"\"}, \"bgcolor\": \"white\", \"radialaxis\": {\"gridcolor\": \"#EBF0F8\", \"linecolor\": \"#EBF0F8\", \"ticks\": \"\"}}, \"scene\": {\"xaxis\": {\"backgroundcolor\": \"white\", \"gridcolor\": \"#DFE8F3\", \"gridwidth\": 2, \"linecolor\": \"#EBF0F8\", \"showbackground\": true, \"ticks\": \"\", \"zerolinecolor\": \"#EBF0F8\"}, \"yaxis\": {\"backgroundcolor\": \"white\", \"gridcolor\": \"#DFE8F3\", \"gridwidth\": 2, \"linecolor\": \"#EBF0F8\", \"showbackground\": true, \"ticks\": \"\", \"zerolinecolor\": \"#EBF0F8\"}, \"zaxis\": {\"backgroundcolor\": \"white\", \"gridcolor\": \"#DFE8F3\", \"gridwidth\": 2, \"linecolor\": \"#EBF0F8\", \"showbackground\": true, \"ticks\": \"\", \"zerolinecolor\": \"#EBF0F8\"}}, \"shapedefaults\": {\"line\": {\"color\": \"#2a3f5f\"}}, \"ternary\": {\"aaxis\": {\"gridcolor\": \"#DFE8F3\", \"linecolor\": \"#A2B1C6\", \"ticks\": \"\"}, \"baxis\": {\"gridcolor\": \"#DFE8F3\", \"linecolor\": \"#A2B1C6\", \"ticks\": \"\"}, \"bgcolor\": \"white\", \"caxis\": {\"gridcolor\": \"#DFE8F3\", \"linecolor\": \"#A2B1C6\", \"ticks\": \"\"}}, \"title\": {\"x\": 0.05}, \"xaxis\": {\"automargin\": true, \"gridcolor\": \"#EBF0F8\", \"linecolor\": \"#EBF0F8\", \"ticks\": \"\", \"title\": {\"standoff\": 15}, \"zerolinecolor\": \"#EBF0F8\", \"zerolinewidth\": 2}, \"yaxis\": {\"automargin\": true, \"gridcolor\": \"#EBF0F8\", \"linecolor\": \"#EBF0F8\", \"ticks\": \"\", \"title\": {\"standoff\": 15}, \"zerolinecolor\": \"#EBF0F8\", \"zerolinewidth\": 2}}}, \"title\": {\"text\": \"<b>Top Buy Symbols by Trading Volume in Past Week on PancakeSwap\"}, \"xaxis\": {\"anchor\": \"y\", \"categoryarray\": [\"SAFEMOON\", \"BUNNY\", \"NFTART\", \"EPS\", \"BSCPAD\", \"AUTO\", \"Dogefather\", \"CUMMIES\", \"ElonGate\", \"BTCB\", \"ECP\", \"BONFIRE\", \"SEED\", \"SAFEMARS\", \"100x\", \"ALPACA\", \"SPORE\", \"BSCS\", \"EGG\", \"Forestry\", \"TBAKE\", \"LOF\", \"BGOV\", \"SPND\", \"MASH\", \"BAKE\", \"BRICK\", \"KPAD\", \"XVS\", \"SAFEBTC\", \"BOG\", \"DOGE\", \"DAI\", \"upBNB\", \"DINO\", \"TWT\", \"GEN\", \"MEMES\", \"TREE\", \"SENDWHALE\", \"HYPER\", \"SALT\", \"Ramen\", \"DOT\", \"MOONLIGHT\", \"SHILD\", \"SMG\", \"MOONMOON\", \"MOONPIRATE\", \"UST\", \"SPE\", \"SLAM\", \"ASS\", \"NIU\", \"ZEP\", \"BETH\", \"ADA\", \"SAFEGALAXY\", \"FEG\", \"SAFEMOONCASH\", \"sBDO\", \"SUPERWAIFU\", \"AQUAGOAT\", \"HAPPY\", \"FOX\", \"DHOUSE\", \"GMT\", \"HyMETEOR\", \"SAFEP\", \"TACOCAT\", \"GEMS\", \"KEY\", \"XRP\", \"OCTA\", \"EULER\", \"RX\", \"PIT\", \"BTS\", \"Hamtaro\", \"MOONSTAR\", \"WAF\", \"ACS\", \"SAFECOMET\", \"MOONSHOT\", \"MOONTOKEN\", \"BBQ\", \"Tcake\", \"MEL\", \"MBS\"], \"categoryorder\": \"array\", \"domain\": [0.0, 1.0], \"title\": {\"text\": \"buy_symbol\"}}, \"yaxis\": {\"anchor\": \"x\", \"domain\": [0.0, 1.0], \"title\": {\"text\": \"#_trades\"}}},                        {\"responsive\": true}                    ).then(function(){\n",
       "                            \n",
       "var gd = document.getElementById('f9d40b84-cb76-4fe4-94a1-efbcf23165e9');\n",
       "var x = new MutationObserver(function (mutations, observer) {{\n",
       "        var display = window.getComputedStyle(gd).display;\n",
       "        if (!display || display === 'none') {{\n",
       "            console.log([gd, 'removed!']);\n",
       "            Plotly.purge(gd);\n",
       "            observer.disconnect();\n",
       "        }}\n",
       "}});\n",
       "\n",
       "// Listen for the removal of the full notebook cells\n",
       "var notebookContainer = gd.closest('#notebook-container');\n",
       "if (notebookContainer) {{\n",
       "    x.observe(notebookContainer, {childList: true});\n",
       "}}\n",
       "\n",
       "// Listen for the clearing of the current output cell\n",
       "var outputEl = gd.closest('.output');\n",
       "if (outputEl) {{\n",
       "    x.observe(outputEl, {childList: true});\n",
       "}}\n",
       "\n",
       "                        })                };                });            </script>        </div>"
      ]
     },
     "metadata": {},
     "output_type": "display_data"
    },
    {
     "data": {
      "application/vnd.plotly.v1+json": {
       "config": {
        "plotlyServerURL": "https://plot.ly"
       },
       "data": [
        {
         "alignmentgroup": "True",
         "hovertemplate": "buy_symbol=%{x}<br>trade_amount_$=%{y}<extra></extra>",
         "legendgroup": "SAFEMOON",
         "marker": {
          "color": "rgb(95, 70, 144)"
         },
         "name": "SAFEMOON",
         "offsetgroup": "SAFEMOON",
         "orientation": "v",
         "showlegend": true,
         "textposition": "auto",
         "type": "bar",
         "x": [
          "SAFEMOON"
         ],
         "xaxis": "x",
         "y": [
          81162073.93199092
         ],
         "yaxis": "y"
        },
        {
         "alignmentgroup": "True",
         "hovertemplate": "buy_symbol=%{x}<br>trade_amount_$=%{y}<extra></extra>",
         "legendgroup": "BUNNY",
         "marker": {
          "color": "rgb(29, 105, 150)"
         },
         "name": "BUNNY",
         "offsetgroup": "BUNNY",
         "orientation": "v",
         "showlegend": true,
         "textposition": "auto",
         "type": "bar",
         "x": [
          "BUNNY"
         ],
         "xaxis": "x",
         "y": [
          48737076.01694636
         ],
         "yaxis": "y"
        },
        {
         "alignmentgroup": "True",
         "hovertemplate": "buy_symbol=%{x}<br>trade_amount_$=%{y}<extra></extra>",
         "legendgroup": "NFTART",
         "marker": {
          "color": "rgb(56, 166, 165)"
         },
         "name": "NFTART",
         "offsetgroup": "NFTART",
         "orientation": "v",
         "showlegend": true,
         "textposition": "auto",
         "type": "bar",
         "x": [
          "NFTART"
         ],
         "xaxis": "x",
         "y": [
          20129674.865414355
         ],
         "yaxis": "y"
        },
        {
         "alignmentgroup": "True",
         "hovertemplate": "buy_symbol=%{x}<br>trade_amount_$=%{y}<extra></extra>",
         "legendgroup": "EPS",
         "marker": {
          "color": "rgb(15, 133, 84)"
         },
         "name": "EPS",
         "offsetgroup": "EPS",
         "orientation": "v",
         "showlegend": true,
         "textposition": "auto",
         "type": "bar",
         "x": [
          "EPS"
         ],
         "xaxis": "x",
         "y": [
          40471628.07281875
         ],
         "yaxis": "y"
        },
        {
         "alignmentgroup": "True",
         "hovertemplate": "buy_symbol=%{x}<br>trade_amount_$=%{y}<extra></extra>",
         "legendgroup": "BSCPAD",
         "marker": {
          "color": "rgb(115, 175, 72)"
         },
         "name": "BSCPAD",
         "offsetgroup": "BSCPAD",
         "orientation": "v",
         "showlegend": true,
         "textposition": "auto",
         "type": "bar",
         "x": [
          "BSCPAD"
         ],
         "xaxis": "x",
         "y": [
          33939339.25015326
         ],
         "yaxis": "y"
        },
        {
         "alignmentgroup": "True",
         "hovertemplate": "buy_symbol=%{x}<br>trade_amount_$=%{y}<extra></extra>",
         "legendgroup": "AUTO",
         "marker": {
          "color": "rgb(237, 173, 8)"
         },
         "name": "AUTO",
         "offsetgroup": "AUTO",
         "orientation": "v",
         "showlegend": true,
         "textposition": "auto",
         "type": "bar",
         "x": [
          "AUTO"
         ],
         "xaxis": "x",
         "y": [
          32317941.41882818
         ],
         "yaxis": "y"
        },
        {
         "alignmentgroup": "True",
         "hovertemplate": "buy_symbol=%{x}<br>trade_amount_$=%{y}<extra></extra>",
         "legendgroup": "Dogefather",
         "marker": {
          "color": "rgb(225, 124, 5)"
         },
         "name": "Dogefather",
         "offsetgroup": "Dogefather",
         "orientation": "v",
         "showlegend": true,
         "textposition": "auto",
         "type": "bar",
         "x": [
          "Dogefather"
         ],
         "xaxis": "x",
         "y": [
          16474876.373657886
         ],
         "yaxis": "y"
        },
        {
         "alignmentgroup": "True",
         "hovertemplate": "buy_symbol=%{x}<br>trade_amount_$=%{y}<extra></extra>",
         "legendgroup": "CUMMIES",
         "marker": {
          "color": "rgb(204, 80, 62)"
         },
         "name": "CUMMIES",
         "offsetgroup": "CUMMIES",
         "orientation": "v",
         "showlegend": true,
         "textposition": "auto",
         "type": "bar",
         "x": [
          "CUMMIES"
         ],
         "xaxis": "x",
         "y": [
          29037879.792440347
         ],
         "yaxis": "y"
        },
        {
         "alignmentgroup": "True",
         "hovertemplate": "buy_symbol=%{x}<br>trade_amount_$=%{y}<extra></extra>",
         "legendgroup": "ElonGate",
         "marker": {
          "color": "rgb(148, 52, 110)"
         },
         "name": "ElonGate",
         "offsetgroup": "ElonGate",
         "orientation": "v",
         "showlegend": true,
         "textposition": "auto",
         "type": "bar",
         "x": [
          "ElonGate"
         ],
         "xaxis": "x",
         "y": [
          15690753.507223792
         ],
         "yaxis": "y"
        },
        {
         "alignmentgroup": "True",
         "hovertemplate": "buy_symbol=%{x}<br>trade_amount_$=%{y}<extra></extra>",
         "legendgroup": "BTCB",
         "marker": {
          "color": "rgb(111, 64, 112)"
         },
         "name": "BTCB",
         "offsetgroup": "BTCB",
         "orientation": "v",
         "showlegend": true,
         "textposition": "auto",
         "type": "bar",
         "x": [
          "BTCB",
          "BTCB"
         ],
         "xaxis": "x",
         "y": [
          18114513.696479883,
          1480685.2322024198
         ],
         "yaxis": "y"
        },
        {
         "alignmentgroup": "True",
         "hovertemplate": "buy_symbol=%{x}<br>trade_amount_$=%{y}<extra></extra>",
         "legendgroup": "ECP",
         "marker": {
          "color": "rgb(102, 102, 102)"
         },
         "name": "ECP",
         "offsetgroup": "ECP",
         "orientation": "v",
         "showlegend": true,
         "textposition": "auto",
         "type": "bar",
         "x": [
          "ECP"
         ],
         "xaxis": "x",
         "y": [
          13935407.511792032
         ],
         "yaxis": "y"
        },
        {
         "alignmentgroup": "True",
         "hovertemplate": "buy_symbol=%{x}<br>trade_amount_$=%{y}<extra></extra>",
         "legendgroup": "BONFIRE",
         "marker": {
          "color": "rgb(95, 70, 144)"
         },
         "name": "BONFIRE",
         "offsetgroup": "BONFIRE",
         "orientation": "v",
         "showlegend": true,
         "textposition": "auto",
         "type": "bar",
         "x": [
          "BONFIRE"
         ],
         "xaxis": "x",
         "y": [
          10641051.271556072
         ],
         "yaxis": "y"
        },
        {
         "alignmentgroup": "True",
         "hovertemplate": "buy_symbol=%{x}<br>trade_amount_$=%{y}<extra></extra>",
         "legendgroup": "SEED",
         "marker": {
          "color": "rgb(29, 105, 150)"
         },
         "name": "SEED",
         "offsetgroup": "SEED",
         "orientation": "v",
         "showlegend": true,
         "textposition": "auto",
         "type": "bar",
         "x": [
          "SEED",
          "SEED"
         ],
         "xaxis": "x",
         "y": [
          9424167.89751965,
          4968059.4981034
         ],
         "yaxis": "y"
        },
        {
         "alignmentgroup": "True",
         "hovertemplate": "buy_symbol=%{x}<br>trade_amount_$=%{y}<extra></extra>",
         "legendgroup": "SAFEMARS",
         "marker": {
          "color": "rgb(56, 166, 165)"
         },
         "name": "SAFEMARS",
         "offsetgroup": "SAFEMARS",
         "orientation": "v",
         "showlegend": true,
         "textposition": "auto",
         "type": "bar",
         "x": [
          "SAFEMARS"
         ],
         "xaxis": "x",
         "y": [
          6924226.515334093
         ],
         "yaxis": "y"
        },
        {
         "alignmentgroup": "True",
         "hovertemplate": "buy_symbol=%{x}<br>trade_amount_$=%{y}<extra></extra>",
         "legendgroup": "100x",
         "marker": {
          "color": "rgb(15, 133, 84)"
         },
         "name": "100x",
         "offsetgroup": "100x",
         "orientation": "v",
         "showlegend": true,
         "textposition": "auto",
         "type": "bar",
         "x": [
          "100x"
         ],
         "xaxis": "x",
         "y": [
          5363397.818693216
         ],
         "yaxis": "y"
        },
        {
         "alignmentgroup": "True",
         "hovertemplate": "buy_symbol=%{x}<br>trade_amount_$=%{y}<extra></extra>",
         "legendgroup": "ALPACA",
         "marker": {
          "color": "rgb(115, 175, 72)"
         },
         "name": "ALPACA",
         "offsetgroup": "ALPACA",
         "orientation": "v",
         "showlegend": true,
         "textposition": "auto",
         "type": "bar",
         "x": [
          "ALPACA"
         ],
         "xaxis": "x",
         "y": [
          11803707.108073644
         ],
         "yaxis": "y"
        },
        {
         "alignmentgroup": "True",
         "hovertemplate": "buy_symbol=%{x}<br>trade_amount_$=%{y}<extra></extra>",
         "legendgroup": "SPORE",
         "marker": {
          "color": "rgb(237, 173, 8)"
         },
         "name": "SPORE",
         "offsetgroup": "SPORE",
         "orientation": "v",
         "showlegend": true,
         "textposition": "auto",
         "type": "bar",
         "x": [
          "SPORE"
         ],
         "xaxis": "x",
         "y": [
          3610584.0273817033
         ],
         "yaxis": "y"
        },
        {
         "alignmentgroup": "True",
         "hovertemplate": "buy_symbol=%{x}<br>trade_amount_$=%{y}<extra></extra>",
         "legendgroup": "BSCS",
         "marker": {
          "color": "rgb(225, 124, 5)"
         },
         "name": "BSCS",
         "offsetgroup": "BSCS",
         "orientation": "v",
         "showlegend": true,
         "textposition": "auto",
         "type": "bar",
         "x": [
          "BSCS"
         ],
         "xaxis": "x",
         "y": [
          8598326.767901793
         ],
         "yaxis": "y"
        },
        {
         "alignmentgroup": "True",
         "hovertemplate": "buy_symbol=%{x}<br>trade_amount_$=%{y}<extra></extra>",
         "legendgroup": "EGG",
         "marker": {
          "color": "rgb(204, 80, 62)"
         },
         "name": "EGG",
         "offsetgroup": "EGG",
         "orientation": "v",
         "showlegend": true,
         "textposition": "auto",
         "type": "bar",
         "x": [
          "EGG",
          "EGG"
         ],
         "xaxis": "x",
         "y": [
          9410867.166456154,
          7939522.61586278
         ],
         "yaxis": "y"
        },
        {
         "alignmentgroup": "True",
         "hovertemplate": "buy_symbol=%{x}<br>trade_amount_$=%{y}<extra></extra>",
         "legendgroup": "Forestry",
         "marker": {
          "color": "rgb(148, 52, 110)"
         },
         "name": "Forestry",
         "offsetgroup": "Forestry",
         "orientation": "v",
         "showlegend": true,
         "textposition": "auto",
         "type": "bar",
         "x": [
          "Forestry"
         ],
         "xaxis": "x",
         "y": [
          6808796.94267435
         ],
         "yaxis": "y"
        },
        {
         "alignmentgroup": "True",
         "hovertemplate": "buy_symbol=%{x}<br>trade_amount_$=%{y}<extra></extra>",
         "legendgroup": "TBAKE",
         "marker": {
          "color": "rgb(111, 64, 112)"
         },
         "name": "TBAKE",
         "offsetgroup": "TBAKE",
         "orientation": "v",
         "showlegend": true,
         "textposition": "auto",
         "type": "bar",
         "x": [
          "TBAKE"
         ],
         "xaxis": "x",
         "y": [
          7065208.922424011
         ],
         "yaxis": "y"
        },
        {
         "alignmentgroup": "True",
         "hovertemplate": "buy_symbol=%{x}<br>trade_amount_$=%{y}<extra></extra>",
         "legendgroup": "LOF",
         "marker": {
          "color": "rgb(102, 102, 102)"
         },
         "name": "LOF",
         "offsetgroup": "LOF",
         "orientation": "v",
         "showlegend": true,
         "textposition": "auto",
         "type": "bar",
         "x": [
          "LOF"
         ],
         "xaxis": "x",
         "y": [
          6810826.626671451
         ],
         "yaxis": "y"
        },
        {
         "alignmentgroup": "True",
         "hovertemplate": "buy_symbol=%{x}<br>trade_amount_$=%{y}<extra></extra>",
         "legendgroup": "BGOV",
         "marker": {
          "color": "rgb(95, 70, 144)"
         },
         "name": "BGOV",
         "offsetgroup": "BGOV",
         "orientation": "v",
         "showlegend": true,
         "textposition": "auto",
         "type": "bar",
         "x": [
          "BGOV"
         ],
         "xaxis": "x",
         "y": [
          7437986.007521063
         ],
         "yaxis": "y"
        },
        {
         "alignmentgroup": "True",
         "hovertemplate": "buy_symbol=%{x}<br>trade_amount_$=%{y}<extra></extra>",
         "legendgroup": "SPND",
         "marker": {
          "color": "rgb(29, 105, 150)"
         },
         "name": "SPND",
         "offsetgroup": "SPND",
         "orientation": "v",
         "showlegend": true,
         "textposition": "auto",
         "type": "bar",
         "x": [
          "SPND"
         ],
         "xaxis": "x",
         "y": [
          5368129.6440067515
         ],
         "yaxis": "y"
        },
        {
         "alignmentgroup": "True",
         "hovertemplate": "buy_symbol=%{x}<br>trade_amount_$=%{y}<extra></extra>",
         "legendgroup": "MASH",
         "marker": {
          "color": "rgb(56, 166, 165)"
         },
         "name": "MASH",
         "offsetgroup": "MASH",
         "orientation": "v",
         "showlegend": true,
         "textposition": "auto",
         "type": "bar",
         "x": [
          "MASH",
          "MASH"
         ],
         "xaxis": "x",
         "y": [
          5207419.088646592,
          3498561.5950942365
         ],
         "yaxis": "y"
        },
        {
         "alignmentgroup": "True",
         "hovertemplate": "buy_symbol=%{x}<br>trade_amount_$=%{y}<extra></extra>",
         "legendgroup": "BAKE",
         "marker": {
          "color": "rgb(15, 133, 84)"
         },
         "name": "BAKE",
         "offsetgroup": "BAKE",
         "orientation": "v",
         "showlegend": true,
         "textposition": "auto",
         "type": "bar",
         "x": [
          "BAKE"
         ],
         "xaxis": "x",
         "y": [
          4854471.325709115
         ],
         "yaxis": "y"
        },
        {
         "alignmentgroup": "True",
         "hovertemplate": "buy_symbol=%{x}<br>trade_amount_$=%{y}<extra></extra>",
         "legendgroup": "BRICK",
         "marker": {
          "color": "rgb(115, 175, 72)"
         },
         "name": "BRICK",
         "offsetgroup": "BRICK",
         "orientation": "v",
         "showlegend": true,
         "textposition": "auto",
         "type": "bar",
         "x": [
          "BRICK",
          "BRICK"
         ],
         "xaxis": "x",
         "y": [
          7364539.711375017,
          3376012.7953428323
         ],
         "yaxis": "y"
        },
        {
         "alignmentgroup": "True",
         "hovertemplate": "buy_symbol=%{x}<br>trade_amount_$=%{y}<extra></extra>",
         "legendgroup": "KPAD",
         "marker": {
          "color": "rgb(237, 173, 8)"
         },
         "name": "KPAD",
         "offsetgroup": "KPAD",
         "orientation": "v",
         "showlegend": true,
         "textposition": "auto",
         "type": "bar",
         "x": [
          "KPAD"
         ],
         "xaxis": "x",
         "y": [
          8169805.378746773
         ],
         "yaxis": "y"
        },
        {
         "alignmentgroup": "True",
         "hovertemplate": "buy_symbol=%{x}<br>trade_amount_$=%{y}<extra></extra>",
         "legendgroup": "XVS",
         "marker": {
          "color": "rgb(225, 124, 5)"
         },
         "name": "XVS",
         "offsetgroup": "XVS",
         "orientation": "v",
         "showlegend": true,
         "textposition": "auto",
         "type": "bar",
         "x": [
          "XVS"
         ],
         "xaxis": "x",
         "y": [
          7137028.979566708
         ],
         "yaxis": "y"
        },
        {
         "alignmentgroup": "True",
         "hovertemplate": "buy_symbol=%{x}<br>trade_amount_$=%{y}<extra></extra>",
         "legendgroup": "SAFEBTC",
         "marker": {
          "color": "rgb(204, 80, 62)"
         },
         "name": "SAFEBTC",
         "offsetgroup": "SAFEBTC",
         "orientation": "v",
         "showlegend": true,
         "textposition": "auto",
         "type": "bar",
         "x": [
          "SAFEBTC"
         ],
         "xaxis": "x",
         "y": [
          4075370.8837696165
         ],
         "yaxis": "y"
        },
        {
         "alignmentgroup": "True",
         "hovertemplate": "buy_symbol=%{x}<br>trade_amount_$=%{y}<extra></extra>",
         "legendgroup": "BOG",
         "marker": {
          "color": "rgb(148, 52, 110)"
         },
         "name": "BOG",
         "offsetgroup": "BOG",
         "orientation": "v",
         "showlegend": true,
         "textposition": "auto",
         "type": "bar",
         "x": [
          "BOG"
         ],
         "xaxis": "x",
         "y": [
          9367588.251919122
         ],
         "yaxis": "y"
        },
        {
         "alignmentgroup": "True",
         "hovertemplate": "buy_symbol=%{x}<br>trade_amount_$=%{y}<extra></extra>",
         "legendgroup": "DOGE",
         "marker": {
          "color": "rgb(111, 64, 112)"
         },
         "name": "DOGE",
         "offsetgroup": "DOGE",
         "orientation": "v",
         "showlegend": true,
         "textposition": "auto",
         "type": "bar",
         "x": [
          "DOGE"
         ],
         "xaxis": "x",
         "y": [
          4868757.9771741405
         ],
         "yaxis": "y"
        },
        {
         "alignmentgroup": "True",
         "hovertemplate": "buy_symbol=%{x}<br>trade_amount_$=%{y}<extra></extra>",
         "legendgroup": "DAI",
         "marker": {
          "color": "rgb(102, 102, 102)"
         },
         "name": "DAI",
         "offsetgroup": "DAI",
         "orientation": "v",
         "showlegend": true,
         "textposition": "auto",
         "type": "bar",
         "x": [
          "DAI",
          "DAI"
         ],
         "xaxis": "x",
         "y": [
          3647429.699458041,
          623199.9745344972
         ],
         "yaxis": "y"
        },
        {
         "alignmentgroup": "True",
         "hovertemplate": "buy_symbol=%{x}<br>trade_amount_$=%{y}<extra></extra>",
         "legendgroup": "upBNB",
         "marker": {
          "color": "rgb(95, 70, 144)"
         },
         "name": "upBNB",
         "offsetgroup": "upBNB",
         "orientation": "v",
         "showlegend": true,
         "textposition": "auto",
         "type": "bar",
         "x": [
          "upBNB"
         ],
         "xaxis": "x",
         "y": [
          6311371.85387205
         ],
         "yaxis": "y"
        },
        {
         "alignmentgroup": "True",
         "hovertemplate": "buy_symbol=%{x}<br>trade_amount_$=%{y}<extra></extra>",
         "legendgroup": "DINO",
         "marker": {
          "color": "rgb(29, 105, 150)"
         },
         "name": "DINO",
         "offsetgroup": "DINO",
         "orientation": "v",
         "showlegend": true,
         "textposition": "auto",
         "type": "bar",
         "x": [
          "DINO"
         ],
         "xaxis": "x",
         "y": [
          4426177.760625676
         ],
         "yaxis": "y"
        },
        {
         "alignmentgroup": "True",
         "hovertemplate": "buy_symbol=%{x}<br>trade_amount_$=%{y}<extra></extra>",
         "legendgroup": "TWT",
         "marker": {
          "color": "rgb(56, 166, 165)"
         },
         "name": "TWT",
         "offsetgroup": "TWT",
         "orientation": "v",
         "showlegend": true,
         "textposition": "auto",
         "type": "bar",
         "x": [
          "TWT"
         ],
         "xaxis": "x",
         "y": [
          4043335.271510934
         ],
         "yaxis": "y"
        },
        {
         "alignmentgroup": "True",
         "hovertemplate": "buy_symbol=%{x}<br>trade_amount_$=%{y}<extra></extra>",
         "legendgroup": "GEN",
         "marker": {
          "color": "rgb(15, 133, 84)"
         },
         "name": "GEN",
         "offsetgroup": "GEN",
         "orientation": "v",
         "showlegend": true,
         "textposition": "auto",
         "type": "bar",
         "x": [
          "GEN",
          "GEN"
         ],
         "xaxis": "x",
         "y": [
          6443372.1238406515,
          3596100.4802292744
         ],
         "yaxis": "y"
        },
        {
         "alignmentgroup": "True",
         "hovertemplate": "buy_symbol=%{x}<br>trade_amount_$=%{y}<extra></extra>",
         "legendgroup": "MEMES",
         "marker": {
          "color": "rgb(115, 175, 72)"
         },
         "name": "MEMES",
         "offsetgroup": "MEMES",
         "orientation": "v",
         "showlegend": true,
         "textposition": "auto",
         "type": "bar",
         "x": [
          "MEMES"
         ],
         "xaxis": "x",
         "y": [
          3928141.3766074777
         ],
         "yaxis": "y"
        },
        {
         "alignmentgroup": "True",
         "hovertemplate": "buy_symbol=%{x}<br>trade_amount_$=%{y}<extra></extra>",
         "legendgroup": "TREE",
         "marker": {
          "color": "rgb(237, 173, 8)"
         },
         "name": "TREE",
         "offsetgroup": "TREE",
         "orientation": "v",
         "showlegend": true,
         "textposition": "auto",
         "type": "bar",
         "x": [
          "TREE"
         ],
         "xaxis": "x",
         "y": [
          4190806.1471470217
         ],
         "yaxis": "y"
        },
        {
         "alignmentgroup": "True",
         "hovertemplate": "buy_symbol=%{x}<br>trade_amount_$=%{y}<extra></extra>",
         "legendgroup": "SENDWHALE",
         "marker": {
          "color": "rgb(225, 124, 5)"
         },
         "name": "SENDWHALE",
         "offsetgroup": "SENDWHALE",
         "orientation": "v",
         "showlegend": true,
         "textposition": "auto",
         "type": "bar",
         "x": [
          "SENDWHALE"
         ],
         "xaxis": "x",
         "y": [
          3296575.9606785043
         ],
         "yaxis": "y"
        },
        {
         "alignmentgroup": "True",
         "hovertemplate": "buy_symbol=%{x}<br>trade_amount_$=%{y}<extra></extra>",
         "legendgroup": "HYPER",
         "marker": {
          "color": "rgb(204, 80, 62)"
         },
         "name": "HYPER",
         "offsetgroup": "HYPER",
         "orientation": "v",
         "showlegend": true,
         "textposition": "auto",
         "type": "bar",
         "x": [
          "HYPER"
         ],
         "xaxis": "x",
         "y": [
          4034343.3187643765
         ],
         "yaxis": "y"
        },
        {
         "alignmentgroup": "True",
         "hovertemplate": "buy_symbol=%{x}<br>trade_amount_$=%{y}<extra></extra>",
         "legendgroup": "SALT",
         "marker": {
          "color": "rgb(148, 52, 110)"
         },
         "name": "SALT",
         "offsetgroup": "SALT",
         "orientation": "v",
         "showlegend": true,
         "textposition": "auto",
         "type": "bar",
         "x": [
          "SALT",
          "SALT"
         ],
         "xaxis": "x",
         "y": [
          4770211.215668895,
          2527547.793592698
         ],
         "yaxis": "y"
        },
        {
         "alignmentgroup": "True",
         "hovertemplate": "buy_symbol=%{x}<br>trade_amount_$=%{y}<extra></extra>",
         "legendgroup": "Ramen",
         "marker": {
          "color": "rgb(111, 64, 112)"
         },
         "name": "Ramen",
         "offsetgroup": "Ramen",
         "orientation": "v",
         "showlegend": true,
         "textposition": "auto",
         "type": "bar",
         "x": [
          "Ramen"
         ],
         "xaxis": "x",
         "y": [
          5039006.520341337
         ],
         "yaxis": "y"
        },
        {
         "alignmentgroup": "True",
         "hovertemplate": "buy_symbol=%{x}<br>trade_amount_$=%{y}<extra></extra>",
         "legendgroup": "DOT",
         "marker": {
          "color": "rgb(102, 102, 102)"
         },
         "name": "DOT",
         "offsetgroup": "DOT",
         "orientation": "v",
         "showlegend": true,
         "textposition": "auto",
         "type": "bar",
         "x": [
          "DOT"
         ],
         "xaxis": "x",
         "y": [
          4736941.432607127
         ],
         "yaxis": "y"
        },
        {
         "alignmentgroup": "True",
         "hovertemplate": "buy_symbol=%{x}<br>trade_amount_$=%{y}<extra></extra>",
         "legendgroup": "MOONLIGHT",
         "marker": {
          "color": "rgb(95, 70, 144)"
         },
         "name": "MOONLIGHT",
         "offsetgroup": "MOONLIGHT",
         "orientation": "v",
         "showlegend": true,
         "textposition": "auto",
         "type": "bar",
         "x": [
          "MOONLIGHT"
         ],
         "xaxis": "x",
         "y": [
          3322833.378146195
         ],
         "yaxis": "y"
        },
        {
         "alignmentgroup": "True",
         "hovertemplate": "buy_symbol=%{x}<br>trade_amount_$=%{y}<extra></extra>",
         "legendgroup": "SHILD",
         "marker": {
          "color": "rgb(29, 105, 150)"
         },
         "name": "SHILD",
         "offsetgroup": "SHILD",
         "orientation": "v",
         "showlegend": true,
         "textposition": "auto",
         "type": "bar",
         "x": [
          "SHILD"
         ],
         "xaxis": "x",
         "y": [
          4674750.700033131
         ],
         "yaxis": "y"
        },
        {
         "alignmentgroup": "True",
         "hovertemplate": "buy_symbol=%{x}<br>trade_amount_$=%{y}<extra></extra>",
         "legendgroup": "SMG",
         "marker": {
          "color": "rgb(56, 166, 165)"
         },
         "name": "SMG",
         "offsetgroup": "SMG",
         "orientation": "v",
         "showlegend": true,
         "textposition": "auto",
         "type": "bar",
         "x": [
          "SMG"
         ],
         "xaxis": "x",
         "y": [
          4414142.123253801
         ],
         "yaxis": "y"
        },
        {
         "alignmentgroup": "True",
         "hovertemplate": "buy_symbol=%{x}<br>trade_amount_$=%{y}<extra></extra>",
         "legendgroup": "MOONMOON",
         "marker": {
          "color": "rgb(15, 133, 84)"
         },
         "name": "MOONMOON",
         "offsetgroup": "MOONMOON",
         "orientation": "v",
         "showlegend": true,
         "textposition": "auto",
         "type": "bar",
         "x": [
          "MOONMOON"
         ],
         "xaxis": "x",
         "y": [
          3367650.092710254
         ],
         "yaxis": "y"
        },
        {
         "alignmentgroup": "True",
         "hovertemplate": "buy_symbol=%{x}<br>trade_amount_$=%{y}<extra></extra>",
         "legendgroup": "MOONPIRATE",
         "marker": {
          "color": "rgb(115, 175, 72)"
         },
         "name": "MOONPIRATE",
         "offsetgroup": "MOONPIRATE",
         "orientation": "v",
         "showlegend": true,
         "textposition": "auto",
         "type": "bar",
         "x": [
          "MOONPIRATE"
         ],
         "xaxis": "x",
         "y": [
          3353202.0880289692
         ],
         "yaxis": "y"
        },
        {
         "alignmentgroup": "True",
         "hovertemplate": "buy_symbol=%{x}<br>trade_amount_$=%{y}<extra></extra>",
         "legendgroup": "UST",
         "marker": {
          "color": "rgb(237, 173, 8)"
         },
         "name": "UST",
         "offsetgroup": "UST",
         "orientation": "v",
         "showlegend": true,
         "textposition": "auto",
         "type": "bar",
         "x": [
          "UST",
          "UST"
         ],
         "xaxis": "x",
         "y": [
          2997251.455581987,
          2008776.2022930998
         ],
         "yaxis": "y"
        },
        {
         "alignmentgroup": "True",
         "hovertemplate": "buy_symbol=%{x}<br>trade_amount_$=%{y}<extra></extra>",
         "legendgroup": "SPE",
         "marker": {
          "color": "rgb(225, 124, 5)"
         },
         "name": "SPE",
         "offsetgroup": "SPE",
         "orientation": "v",
         "showlegend": true,
         "textposition": "auto",
         "type": "bar",
         "x": [
          "SPE"
         ],
         "xaxis": "x",
         "y": [
          3427307.027200673
         ],
         "yaxis": "y"
        },
        {
         "alignmentgroup": "True",
         "hovertemplate": "buy_symbol=%{x}<br>trade_amount_$=%{y}<extra></extra>",
         "legendgroup": "SLAM",
         "marker": {
          "color": "rgb(204, 80, 62)"
         },
         "name": "SLAM",
         "offsetgroup": "SLAM",
         "orientation": "v",
         "showlegend": true,
         "textposition": "auto",
         "type": "bar",
         "x": [
          "SLAM"
         ],
         "xaxis": "x",
         "y": [
          3889450.794222615
         ],
         "yaxis": "y"
        },
        {
         "alignmentgroup": "True",
         "hovertemplate": "buy_symbol=%{x}<br>trade_amount_$=%{y}<extra></extra>",
         "legendgroup": "ASS",
         "marker": {
          "color": "rgb(148, 52, 110)"
         },
         "name": "ASS",
         "offsetgroup": "ASS",
         "orientation": "v",
         "showlegend": true,
         "textposition": "auto",
         "type": "bar",
         "x": [
          "ASS"
         ],
         "xaxis": "x",
         "y": [
          3260949.5940172803
         ],
         "yaxis": "y"
        },
        {
         "alignmentgroup": "True",
         "hovertemplate": "buy_symbol=%{x}<br>trade_amount_$=%{y}<extra></extra>",
         "legendgroup": "NIU",
         "marker": {
          "color": "rgb(111, 64, 112)"
         },
         "name": "NIU",
         "offsetgroup": "NIU",
         "orientation": "v",
         "showlegend": true,
         "textposition": "auto",
         "type": "bar",
         "x": [
          "NIU",
          "NIU"
         ],
         "xaxis": "x",
         "y": [
          3259546.9545043474,
          2102544.6950277607
         ],
         "yaxis": "y"
        },
        {
         "alignmentgroup": "True",
         "hovertemplate": "buy_symbol=%{x}<br>trade_amount_$=%{y}<extra></extra>",
         "legendgroup": "ZEP",
         "marker": {
          "color": "rgb(102, 102, 102)"
         },
         "name": "ZEP",
         "offsetgroup": "ZEP",
         "orientation": "v",
         "showlegend": true,
         "textposition": "auto",
         "type": "bar",
         "x": [
          "ZEP"
         ],
         "xaxis": "x",
         "y": [
          3499186.816705653
         ],
         "yaxis": "y"
        },
        {
         "alignmentgroup": "True",
         "hovertemplate": "buy_symbol=%{x}<br>trade_amount_$=%{y}<extra></extra>",
         "legendgroup": "BETH",
         "marker": {
          "color": "rgb(95, 70, 144)"
         },
         "name": "BETH",
         "offsetgroup": "BETH",
         "orientation": "v",
         "showlegend": true,
         "textposition": "auto",
         "type": "bar",
         "x": [
          "BETH"
         ],
         "xaxis": "x",
         "y": [
          14210523.722053677
         ],
         "yaxis": "y"
        },
        {
         "alignmentgroup": "True",
         "hovertemplate": "buy_symbol=%{x}<br>trade_amount_$=%{y}<extra></extra>",
         "legendgroup": "ADA",
         "marker": {
          "color": "rgb(29, 105, 150)"
         },
         "name": "ADA",
         "offsetgroup": "ADA",
         "orientation": "v",
         "showlegend": true,
         "textposition": "auto",
         "type": "bar",
         "x": [
          "ADA"
         ],
         "xaxis": "x",
         "y": [
          3630237.5422128546
         ],
         "yaxis": "y"
        },
        {
         "alignmentgroup": "True",
         "hovertemplate": "buy_symbol=%{x}<br>trade_amount_$=%{y}<extra></extra>",
         "legendgroup": "SAFEGALAXY",
         "marker": {
          "color": "rgb(56, 166, 165)"
         },
         "name": "SAFEGALAXY",
         "offsetgroup": "SAFEGALAXY",
         "orientation": "v",
         "showlegend": true,
         "textposition": "auto",
         "type": "bar",
         "x": [
          "SAFEGALAXY"
         ],
         "xaxis": "x",
         "y": [
          3772946.7799885436
         ],
         "yaxis": "y"
        },
        {
         "alignmentgroup": "True",
         "hovertemplate": "buy_symbol=%{x}<br>trade_amount_$=%{y}<extra></extra>",
         "legendgroup": "FEG",
         "marker": {
          "color": "rgb(15, 133, 84)"
         },
         "name": "FEG",
         "offsetgroup": "FEG",
         "orientation": "v",
         "showlegend": true,
         "textposition": "auto",
         "type": "bar",
         "x": [
          "FEG"
         ],
         "xaxis": "x",
         "y": [
          3075827.391291884
         ],
         "yaxis": "y"
        },
        {
         "alignmentgroup": "True",
         "hovertemplate": "buy_symbol=%{x}<br>trade_amount_$=%{y}<extra></extra>",
         "legendgroup": "SAFEMOONCASH",
         "marker": {
          "color": "rgb(115, 175, 72)"
         },
         "name": "SAFEMOONCASH",
         "offsetgroup": "SAFEMOONCASH",
         "orientation": "v",
         "showlegend": true,
         "textposition": "auto",
         "type": "bar",
         "x": [
          "SAFEMOONCASH"
         ],
         "xaxis": "x",
         "y": [
          4026967.8327935846
         ],
         "yaxis": "y"
        },
        {
         "alignmentgroup": "True",
         "hovertemplate": "buy_symbol=%{x}<br>trade_amount_$=%{y}<extra></extra>",
         "legendgroup": "sBDO",
         "marker": {
          "color": "rgb(237, 173, 8)"
         },
         "name": "sBDO",
         "offsetgroup": "sBDO",
         "orientation": "v",
         "showlegend": true,
         "textposition": "auto",
         "type": "bar",
         "x": [
          "sBDO"
         ],
         "xaxis": "x",
         "y": [
          4172290.6862287708
         ],
         "yaxis": "y"
        },
        {
         "alignmentgroup": "True",
         "hovertemplate": "buy_symbol=%{x}<br>trade_amount_$=%{y}<extra></extra>",
         "legendgroup": "SUPERWAIFU",
         "marker": {
          "color": "rgb(225, 124, 5)"
         },
         "name": "SUPERWAIFU",
         "offsetgroup": "SUPERWAIFU",
         "orientation": "v",
         "showlegend": true,
         "textposition": "auto",
         "type": "bar",
         "x": [
          "SUPERWAIFU"
         ],
         "xaxis": "x",
         "y": [
          2862370.7554881787
         ],
         "yaxis": "y"
        },
        {
         "alignmentgroup": "True",
         "hovertemplate": "buy_symbol=%{x}<br>trade_amount_$=%{y}<extra></extra>",
         "legendgroup": "AQUAGOAT",
         "marker": {
          "color": "rgb(204, 80, 62)"
         },
         "name": "AQUAGOAT",
         "offsetgroup": "AQUAGOAT",
         "orientation": "v",
         "showlegend": true,
         "textposition": "auto",
         "type": "bar",
         "x": [
          "AQUAGOAT"
         ],
         "xaxis": "x",
         "y": [
          2152336.1293427544
         ],
         "yaxis": "y"
        },
        {
         "alignmentgroup": "True",
         "hovertemplate": "buy_symbol=%{x}<br>trade_amount_$=%{y}<extra></extra>",
         "legendgroup": "HAPPY",
         "marker": {
          "color": "rgb(148, 52, 110)"
         },
         "name": "HAPPY",
         "offsetgroup": "HAPPY",
         "orientation": "v",
         "showlegend": true,
         "textposition": "auto",
         "type": "bar",
         "x": [
          "HAPPY"
         ],
         "xaxis": "x",
         "y": [
          3316962.178767806
         ],
         "yaxis": "y"
        },
        {
         "alignmentgroup": "True",
         "hovertemplate": "buy_symbol=%{x}<br>trade_amount_$=%{y}<extra></extra>",
         "legendgroup": "FOX",
         "marker": {
          "color": "rgb(111, 64, 112)"
         },
         "name": "FOX",
         "offsetgroup": "FOX",
         "orientation": "v",
         "showlegend": true,
         "textposition": "auto",
         "type": "bar",
         "x": [
          "FOX"
         ],
         "xaxis": "x",
         "y": [
          2166803.4925193326
         ],
         "yaxis": "y"
        },
        {
         "alignmentgroup": "True",
         "hovertemplate": "buy_symbol=%{x}<br>trade_amount_$=%{y}<extra></extra>",
         "legendgroup": "DHOUSE",
         "marker": {
          "color": "rgb(102, 102, 102)"
         },
         "name": "DHOUSE",
         "offsetgroup": "DHOUSE",
         "orientation": "v",
         "showlegend": true,
         "textposition": "auto",
         "type": "bar",
         "x": [
          "DHOUSE"
         ],
         "xaxis": "x",
         "y": [
          3116939.6463624947
         ],
         "yaxis": "y"
        },
        {
         "alignmentgroup": "True",
         "hovertemplate": "buy_symbol=%{x}<br>trade_amount_$=%{y}<extra></extra>",
         "legendgroup": "GMT",
         "marker": {
          "color": "rgb(95, 70, 144)"
         },
         "name": "GMT",
         "offsetgroup": "GMT",
         "orientation": "v",
         "showlegend": true,
         "textposition": "auto",
         "type": "bar",
         "x": [
          "GMT"
         ],
         "xaxis": "x",
         "y": [
          7854962.273233393
         ],
         "yaxis": "y"
        },
        {
         "alignmentgroup": "True",
         "hovertemplate": "buy_symbol=%{x}<br>trade_amount_$=%{y}<extra></extra>",
         "legendgroup": "HyMETEOR",
         "marker": {
          "color": "rgb(29, 105, 150)"
         },
         "name": "HyMETEOR",
         "offsetgroup": "HyMETEOR",
         "orientation": "v",
         "showlegend": true,
         "textposition": "auto",
         "type": "bar",
         "x": [
          "HyMETEOR"
         ],
         "xaxis": "x",
         "y": [
          2381939.859601676
         ],
         "yaxis": "y"
        },
        {
         "alignmentgroup": "True",
         "hovertemplate": "buy_symbol=%{x}<br>trade_amount_$=%{y}<extra></extra>",
         "legendgroup": "SAFEP",
         "marker": {
          "color": "rgb(56, 166, 165)"
         },
         "name": "SAFEP",
         "offsetgroup": "SAFEP",
         "orientation": "v",
         "showlegend": true,
         "textposition": "auto",
         "type": "bar",
         "x": [
          "SAFEP"
         ],
         "xaxis": "x",
         "y": [
          2149755.2319320966
         ],
         "yaxis": "y"
        },
        {
         "alignmentgroup": "True",
         "hovertemplate": "buy_symbol=%{x}<br>trade_amount_$=%{y}<extra></extra>",
         "legendgroup": "TACOCAT",
         "marker": {
          "color": "rgb(15, 133, 84)"
         },
         "name": "TACOCAT",
         "offsetgroup": "TACOCAT",
         "orientation": "v",
         "showlegend": true,
         "textposition": "auto",
         "type": "bar",
         "x": [
          "TACOCAT"
         ],
         "xaxis": "x",
         "y": [
          3404350.812325043
         ],
         "yaxis": "y"
        },
        {
         "alignmentgroup": "True",
         "hovertemplate": "buy_symbol=%{x}<br>trade_amount_$=%{y}<extra></extra>",
         "legendgroup": "GEMS",
         "marker": {
          "color": "rgb(115, 175, 72)"
         },
         "name": "GEMS",
         "offsetgroup": "GEMS",
         "orientation": "v",
         "showlegend": true,
         "textposition": "auto",
         "type": "bar",
         "x": [
          "GEMS"
         ],
         "xaxis": "x",
         "y": [
          2266814.1573340246
         ],
         "yaxis": "y"
        },
        {
         "alignmentgroup": "True",
         "hovertemplate": "buy_symbol=%{x}<br>trade_amount_$=%{y}<extra></extra>",
         "legendgroup": "KEY",
         "marker": {
          "color": "rgb(237, 173, 8)"
         },
         "name": "KEY",
         "offsetgroup": "KEY",
         "orientation": "v",
         "showlegend": true,
         "textposition": "auto",
         "type": "bar",
         "x": [
          "KEY"
         ],
         "xaxis": "x",
         "y": [
          2400960.030478806
         ],
         "yaxis": "y"
        },
        {
         "alignmentgroup": "True",
         "hovertemplate": "buy_symbol=%{x}<br>trade_amount_$=%{y}<extra></extra>",
         "legendgroup": "XRP",
         "marker": {
          "color": "rgb(225, 124, 5)"
         },
         "name": "XRP",
         "offsetgroup": "XRP",
         "orientation": "v",
         "showlegend": true,
         "textposition": "auto",
         "type": "bar",
         "x": [
          "XRP"
         ],
         "xaxis": "x",
         "y": [
          2217022.9366487097
         ],
         "yaxis": "y"
        },
        {
         "alignmentgroup": "True",
         "hovertemplate": "buy_symbol=%{x}<br>trade_amount_$=%{y}<extra></extra>",
         "legendgroup": "OCTA",
         "marker": {
          "color": "rgb(204, 80, 62)"
         },
         "name": "OCTA",
         "offsetgroup": "OCTA",
         "orientation": "v",
         "showlegend": true,
         "textposition": "auto",
         "type": "bar",
         "x": [
          "OCTA"
         ],
         "xaxis": "x",
         "y": [
          2420074.466327289
         ],
         "yaxis": "y"
        },
        {
         "alignmentgroup": "True",
         "hovertemplate": "buy_symbol=%{x}<br>trade_amount_$=%{y}<extra></extra>",
         "legendgroup": "EULER",
         "marker": {
          "color": "rgb(148, 52, 110)"
         },
         "name": "EULER",
         "offsetgroup": "EULER",
         "orientation": "v",
         "showlegend": true,
         "textposition": "auto",
         "type": "bar",
         "x": [
          "EULER"
         ],
         "xaxis": "x",
         "y": [
          5155869.506975684
         ],
         "yaxis": "y"
        },
        {
         "alignmentgroup": "True",
         "hovertemplate": "buy_symbol=%{x}<br>trade_amount_$=%{y}<extra></extra>",
         "legendgroup": "RX",
         "marker": {
          "color": "rgb(111, 64, 112)"
         },
         "name": "RX",
         "offsetgroup": "RX",
         "orientation": "v",
         "showlegend": true,
         "textposition": "auto",
         "type": "bar",
         "x": [
          "RX"
         ],
         "xaxis": "x",
         "y": [
          2819263.2760092104
         ],
         "yaxis": "y"
        },
        {
         "alignmentgroup": "True",
         "hovertemplate": "buy_symbol=%{x}<br>trade_amount_$=%{y}<extra></extra>",
         "legendgroup": "PIT",
         "marker": {
          "color": "rgb(102, 102, 102)"
         },
         "name": "PIT",
         "offsetgroup": "PIT",
         "orientation": "v",
         "showlegend": true,
         "textposition": "auto",
         "type": "bar",
         "x": [
          "PIT"
         ],
         "xaxis": "x",
         "y": [
          1725838.9426058694
         ],
         "yaxis": "y"
        },
        {
         "alignmentgroup": "True",
         "hovertemplate": "buy_symbol=%{x}<br>trade_amount_$=%{y}<extra></extra>",
         "legendgroup": "BTS",
         "marker": {
          "color": "rgb(95, 70, 144)"
         },
         "name": "BTS",
         "offsetgroup": "BTS",
         "orientation": "v",
         "showlegend": true,
         "textposition": "auto",
         "type": "bar",
         "x": [
          "BTS"
         ],
         "xaxis": "x",
         "y": [
          3681149.157458463
         ],
         "yaxis": "y"
        },
        {
         "alignmentgroup": "True",
         "hovertemplate": "buy_symbol=%{x}<br>trade_amount_$=%{y}<extra></extra>",
         "legendgroup": "Hamtaro",
         "marker": {
          "color": "rgb(29, 105, 150)"
         },
         "name": "Hamtaro",
         "offsetgroup": "Hamtaro",
         "orientation": "v",
         "showlegend": true,
         "textposition": "auto",
         "type": "bar",
         "x": [
          "Hamtaro"
         ],
         "xaxis": "x",
         "y": [
          2029679.094727309
         ],
         "yaxis": "y"
        },
        {
         "alignmentgroup": "True",
         "hovertemplate": "buy_symbol=%{x}<br>trade_amount_$=%{y}<extra></extra>",
         "legendgroup": "MOONSTAR",
         "marker": {
          "color": "rgb(56, 166, 165)"
         },
         "name": "MOONSTAR",
         "offsetgroup": "MOONSTAR",
         "orientation": "v",
         "showlegend": true,
         "textposition": "auto",
         "type": "bar",
         "x": [
          "MOONSTAR"
         ],
         "xaxis": "x",
         "y": [
          1953110.8400498577
         ],
         "yaxis": "y"
        },
        {
         "alignmentgroup": "True",
         "hovertemplate": "buy_symbol=%{x}<br>trade_amount_$=%{y}<extra></extra>",
         "legendgroup": "WAF",
         "marker": {
          "color": "rgb(15, 133, 84)"
         },
         "name": "WAF",
         "offsetgroup": "WAF",
         "orientation": "v",
         "showlegend": true,
         "textposition": "auto",
         "type": "bar",
         "x": [
          "WAF"
         ],
         "xaxis": "x",
         "y": [
          4437238.431651985
         ],
         "yaxis": "y"
        },
        {
         "alignmentgroup": "True",
         "hovertemplate": "buy_symbol=%{x}<br>trade_amount_$=%{y}<extra></extra>",
         "legendgroup": "ACS",
         "marker": {
          "color": "rgb(115, 175, 72)"
         },
         "name": "ACS",
         "offsetgroup": "ACS",
         "orientation": "v",
         "showlegend": true,
         "textposition": "auto",
         "type": "bar",
         "x": [
          "ACS"
         ],
         "xaxis": "x",
         "y": [
          3150444.4320298047
         ],
         "yaxis": "y"
        },
        {
         "alignmentgroup": "True",
         "hovertemplate": "buy_symbol=%{x}<br>trade_amount_$=%{y}<extra></extra>",
         "legendgroup": "SAFECOMET",
         "marker": {
          "color": "rgb(237, 173, 8)"
         },
         "name": "SAFECOMET",
         "offsetgroup": "SAFECOMET",
         "orientation": "v",
         "showlegend": true,
         "textposition": "auto",
         "type": "bar",
         "x": [
          "SAFECOMET"
         ],
         "xaxis": "x",
         "y": [
          1802556.9172664809
         ],
         "yaxis": "y"
        },
        {
         "alignmentgroup": "True",
         "hovertemplate": "buy_symbol=%{x}<br>trade_amount_$=%{y}<extra></extra>",
         "legendgroup": "MOONSHOT",
         "marker": {
          "color": "rgb(225, 124, 5)"
         },
         "name": "MOONSHOT",
         "offsetgroup": "MOONSHOT",
         "orientation": "v",
         "showlegend": true,
         "textposition": "auto",
         "type": "bar",
         "x": [
          "MOONSHOT"
         ],
         "xaxis": "x",
         "y": [
          2405249.9718910395
         ],
         "yaxis": "y"
        },
        {
         "alignmentgroup": "True",
         "hovertemplate": "buy_symbol=%{x}<br>trade_amount_$=%{y}<extra></extra>",
         "legendgroup": "MOONTOKEN",
         "marker": {
          "color": "rgb(204, 80, 62)"
         },
         "name": "MOONTOKEN",
         "offsetgroup": "MOONTOKEN",
         "orientation": "v",
         "showlegend": true,
         "textposition": "auto",
         "type": "bar",
         "x": [
          "MOONTOKEN"
         ],
         "xaxis": "x",
         "y": [
          1822010.8676767335
         ],
         "yaxis": "y"
        },
        {
         "alignmentgroup": "True",
         "hovertemplate": "buy_symbol=%{x}<br>trade_amount_$=%{y}<extra></extra>",
         "legendgroup": "BBQ",
         "marker": {
          "color": "rgb(148, 52, 110)"
         },
         "name": "BBQ",
         "offsetgroup": "BBQ",
         "orientation": "v",
         "showlegend": true,
         "textposition": "auto",
         "type": "bar",
         "x": [
          "BBQ"
         ],
         "xaxis": "x",
         "y": [
          2411863.5328561673
         ],
         "yaxis": "y"
        },
        {
         "alignmentgroup": "True",
         "hovertemplate": "buy_symbol=%{x}<br>trade_amount_$=%{y}<extra></extra>",
         "legendgroup": "Tcake",
         "marker": {
          "color": "rgb(111, 64, 112)"
         },
         "name": "Tcake",
         "offsetgroup": "Tcake",
         "orientation": "v",
         "showlegend": true,
         "textposition": "auto",
         "type": "bar",
         "x": [
          "Tcake"
         ],
         "xaxis": "x",
         "y": [
          2507915.9019948184
         ],
         "yaxis": "y"
        },
        {
         "alignmentgroup": "True",
         "hovertemplate": "buy_symbol=%{x}<br>trade_amount_$=%{y}<extra></extra>",
         "legendgroup": "MEL",
         "marker": {
          "color": "rgb(102, 102, 102)"
         },
         "name": "MEL",
         "offsetgroup": "MEL",
         "orientation": "v",
         "showlegend": true,
         "textposition": "auto",
         "type": "bar",
         "x": [
          "MEL",
          "MEL"
         ],
         "xaxis": "x",
         "y": [
          2194713.037755548,
          2518599.428714233
         ],
         "yaxis": "y"
        },
        {
         "alignmentgroup": "True",
         "hovertemplate": "buy_symbol=%{x}<br>trade_amount_$=%{y}<extra></extra>",
         "legendgroup": "MBS",
         "marker": {
          "color": "rgb(95, 70, 144)"
         },
         "name": "MBS",
         "offsetgroup": "MBS",
         "orientation": "v",
         "showlegend": true,
         "textposition": "auto",
         "type": "bar",
         "x": [
          "MBS"
         ],
         "xaxis": "x",
         "y": [
          2095409.7069990141
         ],
         "yaxis": "y"
        }
       ],
       "layout": {
        "barmode": "relative",
        "legend": {
         "title": {
          "text": "buy_symbol"
         },
         "tracegroupgap": 0
        },
        "template": {
         "data": {
          "bar": [
           {
            "error_x": {
             "color": "#2a3f5f"
            },
            "error_y": {
             "color": "#2a3f5f"
            },
            "marker": {
             "line": {
              "color": "white",
              "width": 0.5
             }
            },
            "type": "bar"
           }
          ],
          "barpolar": [
           {
            "marker": {
             "line": {
              "color": "white",
              "width": 0.5
             }
            },
            "type": "barpolar"
           }
          ],
          "carpet": [
           {
            "aaxis": {
             "endlinecolor": "#2a3f5f",
             "gridcolor": "#C8D4E3",
             "linecolor": "#C8D4E3",
             "minorgridcolor": "#C8D4E3",
             "startlinecolor": "#2a3f5f"
            },
            "baxis": {
             "endlinecolor": "#2a3f5f",
             "gridcolor": "#C8D4E3",
             "linecolor": "#C8D4E3",
             "minorgridcolor": "#C8D4E3",
             "startlinecolor": "#2a3f5f"
            },
            "type": "carpet"
           }
          ],
          "choropleth": [
           {
            "colorbar": {
             "outlinewidth": 0,
             "ticks": ""
            },
            "type": "choropleth"
           }
          ],
          "contour": [
           {
            "colorbar": {
             "outlinewidth": 0,
             "ticks": ""
            },
            "colorscale": [
             [
              0,
              "#0d0887"
             ],
             [
              0.1111111111111111,
              "#46039f"
             ],
             [
              0.2222222222222222,
              "#7201a8"
             ],
             [
              0.3333333333333333,
              "#9c179e"
             ],
             [
              0.4444444444444444,
              "#bd3786"
             ],
             [
              0.5555555555555556,
              "#d8576b"
             ],
             [
              0.6666666666666666,
              "#ed7953"
             ],
             [
              0.7777777777777778,
              "#fb9f3a"
             ],
             [
              0.8888888888888888,
              "#fdca26"
             ],
             [
              1,
              "#f0f921"
             ]
            ],
            "type": "contour"
           }
          ],
          "contourcarpet": [
           {
            "colorbar": {
             "outlinewidth": 0,
             "ticks": ""
            },
            "type": "contourcarpet"
           }
          ],
          "heatmap": [
           {
            "colorbar": {
             "outlinewidth": 0,
             "ticks": ""
            },
            "colorscale": [
             [
              0,
              "#0d0887"
             ],
             [
              0.1111111111111111,
              "#46039f"
             ],
             [
              0.2222222222222222,
              "#7201a8"
             ],
             [
              0.3333333333333333,
              "#9c179e"
             ],
             [
              0.4444444444444444,
              "#bd3786"
             ],
             [
              0.5555555555555556,
              "#d8576b"
             ],
             [
              0.6666666666666666,
              "#ed7953"
             ],
             [
              0.7777777777777778,
              "#fb9f3a"
             ],
             [
              0.8888888888888888,
              "#fdca26"
             ],
             [
              1,
              "#f0f921"
             ]
            ],
            "type": "heatmap"
           }
          ],
          "heatmapgl": [
           {
            "colorbar": {
             "outlinewidth": 0,
             "ticks": ""
            },
            "colorscale": [
             [
              0,
              "#0d0887"
             ],
             [
              0.1111111111111111,
              "#46039f"
             ],
             [
              0.2222222222222222,
              "#7201a8"
             ],
             [
              0.3333333333333333,
              "#9c179e"
             ],
             [
              0.4444444444444444,
              "#bd3786"
             ],
             [
              0.5555555555555556,
              "#d8576b"
             ],
             [
              0.6666666666666666,
              "#ed7953"
             ],
             [
              0.7777777777777778,
              "#fb9f3a"
             ],
             [
              0.8888888888888888,
              "#fdca26"
             ],
             [
              1,
              "#f0f921"
             ]
            ],
            "type": "heatmapgl"
           }
          ],
          "histogram": [
           {
            "marker": {
             "colorbar": {
              "outlinewidth": 0,
              "ticks": ""
             }
            },
            "type": "histogram"
           }
          ],
          "histogram2d": [
           {
            "colorbar": {
             "outlinewidth": 0,
             "ticks": ""
            },
            "colorscale": [
             [
              0,
              "#0d0887"
             ],
             [
              0.1111111111111111,
              "#46039f"
             ],
             [
              0.2222222222222222,
              "#7201a8"
             ],
             [
              0.3333333333333333,
              "#9c179e"
             ],
             [
              0.4444444444444444,
              "#bd3786"
             ],
             [
              0.5555555555555556,
              "#d8576b"
             ],
             [
              0.6666666666666666,
              "#ed7953"
             ],
             [
              0.7777777777777778,
              "#fb9f3a"
             ],
             [
              0.8888888888888888,
              "#fdca26"
             ],
             [
              1,
              "#f0f921"
             ]
            ],
            "type": "histogram2d"
           }
          ],
          "histogram2dcontour": [
           {
            "colorbar": {
             "outlinewidth": 0,
             "ticks": ""
            },
            "colorscale": [
             [
              0,
              "#0d0887"
             ],
             [
              0.1111111111111111,
              "#46039f"
             ],
             [
              0.2222222222222222,
              "#7201a8"
             ],
             [
              0.3333333333333333,
              "#9c179e"
             ],
             [
              0.4444444444444444,
              "#bd3786"
             ],
             [
              0.5555555555555556,
              "#d8576b"
             ],
             [
              0.6666666666666666,
              "#ed7953"
             ],
             [
              0.7777777777777778,
              "#fb9f3a"
             ],
             [
              0.8888888888888888,
              "#fdca26"
             ],
             [
              1,
              "#f0f921"
             ]
            ],
            "type": "histogram2dcontour"
           }
          ],
          "mesh3d": [
           {
            "colorbar": {
             "outlinewidth": 0,
             "ticks": ""
            },
            "type": "mesh3d"
           }
          ],
          "parcoords": [
           {
            "line": {
             "colorbar": {
              "outlinewidth": 0,
              "ticks": ""
             }
            },
            "type": "parcoords"
           }
          ],
          "pie": [
           {
            "automargin": true,
            "type": "pie"
           }
          ],
          "scatter": [
           {
            "marker": {
             "colorbar": {
              "outlinewidth": 0,
              "ticks": ""
             }
            },
            "type": "scatter"
           }
          ],
          "scatter3d": [
           {
            "line": {
             "colorbar": {
              "outlinewidth": 0,
              "ticks": ""
             }
            },
            "marker": {
             "colorbar": {
              "outlinewidth": 0,
              "ticks": ""
             }
            },
            "type": "scatter3d"
           }
          ],
          "scattercarpet": [
           {
            "marker": {
             "colorbar": {
              "outlinewidth": 0,
              "ticks": ""
             }
            },
            "type": "scattercarpet"
           }
          ],
          "scattergeo": [
           {
            "marker": {
             "colorbar": {
              "outlinewidth": 0,
              "ticks": ""
             }
            },
            "type": "scattergeo"
           }
          ],
          "scattergl": [
           {
            "marker": {
             "colorbar": {
              "outlinewidth": 0,
              "ticks": ""
             }
            },
            "type": "scattergl"
           }
          ],
          "scattermapbox": [
           {
            "marker": {
             "colorbar": {
              "outlinewidth": 0,
              "ticks": ""
             }
            },
            "type": "scattermapbox"
           }
          ],
          "scatterpolar": [
           {
            "marker": {
             "colorbar": {
              "outlinewidth": 0,
              "ticks": ""
             }
            },
            "type": "scatterpolar"
           }
          ],
          "scatterpolargl": [
           {
            "marker": {
             "colorbar": {
              "outlinewidth": 0,
              "ticks": ""
             }
            },
            "type": "scatterpolargl"
           }
          ],
          "scatterternary": [
           {
            "marker": {
             "colorbar": {
              "outlinewidth": 0,
              "ticks": ""
             }
            },
            "type": "scatterternary"
           }
          ],
          "surface": [
           {
            "colorbar": {
             "outlinewidth": 0,
             "ticks": ""
            },
            "colorscale": [
             [
              0,
              "#0d0887"
             ],
             [
              0.1111111111111111,
              "#46039f"
             ],
             [
              0.2222222222222222,
              "#7201a8"
             ],
             [
              0.3333333333333333,
              "#9c179e"
             ],
             [
              0.4444444444444444,
              "#bd3786"
             ],
             [
              0.5555555555555556,
              "#d8576b"
             ],
             [
              0.6666666666666666,
              "#ed7953"
             ],
             [
              0.7777777777777778,
              "#fb9f3a"
             ],
             [
              0.8888888888888888,
              "#fdca26"
             ],
             [
              1,
              "#f0f921"
             ]
            ],
            "type": "surface"
           }
          ],
          "table": [
           {
            "cells": {
             "fill": {
              "color": "#EBF0F8"
             },
             "line": {
              "color": "white"
             }
            },
            "header": {
             "fill": {
              "color": "#C8D4E3"
             },
             "line": {
              "color": "white"
             }
            },
            "type": "table"
           }
          ]
         },
         "layout": {
          "annotationdefaults": {
           "arrowcolor": "#2a3f5f",
           "arrowhead": 0,
           "arrowwidth": 1
          },
          "autotypenumbers": "strict",
          "coloraxis": {
           "colorbar": {
            "outlinewidth": 0,
            "ticks": ""
           }
          },
          "colorscale": {
           "diverging": [
            [
             0,
             "#8e0152"
            ],
            [
             0.1,
             "#c51b7d"
            ],
            [
             0.2,
             "#de77ae"
            ],
            [
             0.3,
             "#f1b6da"
            ],
            [
             0.4,
             "#fde0ef"
            ],
            [
             0.5,
             "#f7f7f7"
            ],
            [
             0.6,
             "#e6f5d0"
            ],
            [
             0.7,
             "#b8e186"
            ],
            [
             0.8,
             "#7fbc41"
            ],
            [
             0.9,
             "#4d9221"
            ],
            [
             1,
             "#276419"
            ]
           ],
           "sequential": [
            [
             0,
             "#0d0887"
            ],
            [
             0.1111111111111111,
             "#46039f"
            ],
            [
             0.2222222222222222,
             "#7201a8"
            ],
            [
             0.3333333333333333,
             "#9c179e"
            ],
            [
             0.4444444444444444,
             "#bd3786"
            ],
            [
             0.5555555555555556,
             "#d8576b"
            ],
            [
             0.6666666666666666,
             "#ed7953"
            ],
            [
             0.7777777777777778,
             "#fb9f3a"
            ],
            [
             0.8888888888888888,
             "#fdca26"
            ],
            [
             1,
             "#f0f921"
            ]
           ],
           "sequentialminus": [
            [
             0,
             "#0d0887"
            ],
            [
             0.1111111111111111,
             "#46039f"
            ],
            [
             0.2222222222222222,
             "#7201a8"
            ],
            [
             0.3333333333333333,
             "#9c179e"
            ],
            [
             0.4444444444444444,
             "#bd3786"
            ],
            [
             0.5555555555555556,
             "#d8576b"
            ],
            [
             0.6666666666666666,
             "#ed7953"
            ],
            [
             0.7777777777777778,
             "#fb9f3a"
            ],
            [
             0.8888888888888888,
             "#fdca26"
            ],
            [
             1,
             "#f0f921"
            ]
           ]
          },
          "colorway": [
           "#636efa",
           "#EF553B",
           "#00cc96",
           "#ab63fa",
           "#FFA15A",
           "#19d3f3",
           "#FF6692",
           "#B6E880",
           "#FF97FF",
           "#FECB52"
          ],
          "font": {
           "color": "#2a3f5f"
          },
          "geo": {
           "bgcolor": "white",
           "lakecolor": "white",
           "landcolor": "white",
           "showlakes": true,
           "showland": true,
           "subunitcolor": "#C8D4E3"
          },
          "hoverlabel": {
           "align": "left"
          },
          "hovermode": "closest",
          "mapbox": {
           "style": "light"
          },
          "paper_bgcolor": "white",
          "plot_bgcolor": "white",
          "polar": {
           "angularaxis": {
            "gridcolor": "#EBF0F8",
            "linecolor": "#EBF0F8",
            "ticks": ""
           },
           "bgcolor": "white",
           "radialaxis": {
            "gridcolor": "#EBF0F8",
            "linecolor": "#EBF0F8",
            "ticks": ""
           }
          },
          "scene": {
           "xaxis": {
            "backgroundcolor": "white",
            "gridcolor": "#DFE8F3",
            "gridwidth": 2,
            "linecolor": "#EBF0F8",
            "showbackground": true,
            "ticks": "",
            "zerolinecolor": "#EBF0F8"
           },
           "yaxis": {
            "backgroundcolor": "white",
            "gridcolor": "#DFE8F3",
            "gridwidth": 2,
            "linecolor": "#EBF0F8",
            "showbackground": true,
            "ticks": "",
            "zerolinecolor": "#EBF0F8"
           },
           "zaxis": {
            "backgroundcolor": "white",
            "gridcolor": "#DFE8F3",
            "gridwidth": 2,
            "linecolor": "#EBF0F8",
            "showbackground": true,
            "ticks": "",
            "zerolinecolor": "#EBF0F8"
           }
          },
          "shapedefaults": {
           "line": {
            "color": "#2a3f5f"
           }
          },
          "ternary": {
           "aaxis": {
            "gridcolor": "#DFE8F3",
            "linecolor": "#A2B1C6",
            "ticks": ""
           },
           "baxis": {
            "gridcolor": "#DFE8F3",
            "linecolor": "#A2B1C6",
            "ticks": ""
           },
           "bgcolor": "white",
           "caxis": {
            "gridcolor": "#DFE8F3",
            "linecolor": "#A2B1C6",
            "ticks": ""
           }
          },
          "title": {
           "x": 0.05
          },
          "xaxis": {
           "automargin": true,
           "gridcolor": "#EBF0F8",
           "linecolor": "#EBF0F8",
           "ticks": "",
           "title": {
            "standoff": 15
           },
           "zerolinecolor": "#EBF0F8",
           "zerolinewidth": 2
          },
          "yaxis": {
           "automargin": true,
           "gridcolor": "#EBF0F8",
           "linecolor": "#EBF0F8",
           "ticks": "",
           "title": {
            "standoff": 15
           },
           "zerolinecolor": "#EBF0F8",
           "zerolinewidth": 2
          }
         }
        },
        "title": {
         "text": "<b>Top Buy Symbols by Trading Amount in Past Week on PancakeSwap"
        },
        "xaxis": {
         "anchor": "y",
         "categoryarray": [
          "SAFEMOON",
          "BUNNY",
          "NFTART",
          "EPS",
          "BSCPAD",
          "AUTO",
          "Dogefather",
          "CUMMIES",
          "ElonGate",
          "BTCB",
          "ECP",
          "BONFIRE",
          "SEED",
          "SAFEMARS",
          "100x",
          "ALPACA",
          "SPORE",
          "BSCS",
          "EGG",
          "Forestry",
          "TBAKE",
          "LOF",
          "BGOV",
          "SPND",
          "MASH",
          "BAKE",
          "BRICK",
          "KPAD",
          "XVS",
          "SAFEBTC",
          "BOG",
          "DOGE",
          "DAI",
          "upBNB",
          "DINO",
          "TWT",
          "GEN",
          "MEMES",
          "TREE",
          "SENDWHALE",
          "HYPER",
          "SALT",
          "Ramen",
          "DOT",
          "MOONLIGHT",
          "SHILD",
          "SMG",
          "MOONMOON",
          "MOONPIRATE",
          "UST",
          "SPE",
          "SLAM",
          "ASS",
          "NIU",
          "ZEP",
          "BETH",
          "ADA",
          "SAFEGALAXY",
          "FEG",
          "SAFEMOONCASH",
          "sBDO",
          "SUPERWAIFU",
          "AQUAGOAT",
          "HAPPY",
          "FOX",
          "DHOUSE",
          "GMT",
          "HyMETEOR",
          "SAFEP",
          "TACOCAT",
          "GEMS",
          "KEY",
          "XRP",
          "OCTA",
          "EULER",
          "RX",
          "PIT",
          "BTS",
          "Hamtaro",
          "MOONSTAR",
          "WAF",
          "ACS",
          "SAFECOMET",
          "MOONSHOT",
          "MOONTOKEN",
          "BBQ",
          "Tcake",
          "MEL",
          "MBS"
         ],
         "categoryorder": "array",
         "domain": [
          0,
          1
         ],
         "title": {
          "text": "buy_symbol"
         }
        },
        "yaxis": {
         "anchor": "x",
         "domain": [
          0,
          1
         ],
         "title": {
          "text": "trade_amount_$"
         }
        }
       }
      },
      "text/html": [
       "<div>                            <div id=\"ca5340f0-2d68-4e23-9b96-c2c61d92189f\" class=\"plotly-graph-div\" style=\"height:525px; width:100%;\"></div>            <script type=\"text/javascript\">                require([\"plotly\"], function(Plotly) {                    window.PLOTLYENV=window.PLOTLYENV || {};                                    if (document.getElementById(\"ca5340f0-2d68-4e23-9b96-c2c61d92189f\")) {                    Plotly.newPlot(                        \"ca5340f0-2d68-4e23-9b96-c2c61d92189f\",                        [{\"alignmentgroup\": \"True\", \"hovertemplate\": \"buy_symbol=%{x}<br>trade_amount_$=%{y}<extra></extra>\", \"legendgroup\": \"SAFEMOON\", \"marker\": {\"color\": \"rgb(95, 70, 144)\"}, \"name\": \"SAFEMOON\", \"offsetgroup\": \"SAFEMOON\", \"orientation\": \"v\", \"showlegend\": true, \"textposition\": \"auto\", \"type\": \"bar\", \"x\": [\"SAFEMOON\"], \"xaxis\": \"x\", \"y\": [81162073.93199092], \"yaxis\": \"y\"}, {\"alignmentgroup\": \"True\", \"hovertemplate\": \"buy_symbol=%{x}<br>trade_amount_$=%{y}<extra></extra>\", \"legendgroup\": \"BUNNY\", \"marker\": {\"color\": \"rgb(29, 105, 150)\"}, \"name\": \"BUNNY\", \"offsetgroup\": \"BUNNY\", \"orientation\": \"v\", \"showlegend\": true, \"textposition\": \"auto\", \"type\": \"bar\", \"x\": [\"BUNNY\"], \"xaxis\": \"x\", \"y\": [48737076.01694636], \"yaxis\": \"y\"}, {\"alignmentgroup\": \"True\", \"hovertemplate\": \"buy_symbol=%{x}<br>trade_amount_$=%{y}<extra></extra>\", \"legendgroup\": \"NFTART\", \"marker\": {\"color\": \"rgb(56, 166, 165)\"}, \"name\": \"NFTART\", \"offsetgroup\": \"NFTART\", \"orientation\": \"v\", \"showlegend\": true, \"textposition\": \"auto\", \"type\": \"bar\", \"x\": [\"NFTART\"], \"xaxis\": \"x\", \"y\": [20129674.865414355], \"yaxis\": \"y\"}, {\"alignmentgroup\": \"True\", \"hovertemplate\": \"buy_symbol=%{x}<br>trade_amount_$=%{y}<extra></extra>\", \"legendgroup\": \"EPS\", \"marker\": {\"color\": \"rgb(15, 133, 84)\"}, \"name\": \"EPS\", \"offsetgroup\": \"EPS\", \"orientation\": \"v\", \"showlegend\": true, \"textposition\": \"auto\", \"type\": \"bar\", \"x\": [\"EPS\"], \"xaxis\": \"x\", \"y\": [40471628.07281875], \"yaxis\": \"y\"}, {\"alignmentgroup\": \"True\", \"hovertemplate\": \"buy_symbol=%{x}<br>trade_amount_$=%{y}<extra></extra>\", \"legendgroup\": \"BSCPAD\", \"marker\": {\"color\": \"rgb(115, 175, 72)\"}, \"name\": \"BSCPAD\", \"offsetgroup\": \"BSCPAD\", \"orientation\": \"v\", \"showlegend\": true, \"textposition\": \"auto\", \"type\": \"bar\", \"x\": [\"BSCPAD\"], \"xaxis\": \"x\", \"y\": [33939339.25015326], \"yaxis\": \"y\"}, {\"alignmentgroup\": \"True\", \"hovertemplate\": \"buy_symbol=%{x}<br>trade_amount_$=%{y}<extra></extra>\", \"legendgroup\": \"AUTO\", \"marker\": {\"color\": \"rgb(237, 173, 8)\"}, \"name\": \"AUTO\", \"offsetgroup\": \"AUTO\", \"orientation\": \"v\", \"showlegend\": true, \"textposition\": \"auto\", \"type\": \"bar\", \"x\": [\"AUTO\"], \"xaxis\": \"x\", \"y\": [32317941.41882818], \"yaxis\": \"y\"}, {\"alignmentgroup\": \"True\", \"hovertemplate\": \"buy_symbol=%{x}<br>trade_amount_$=%{y}<extra></extra>\", \"legendgroup\": \"Dogefather\", \"marker\": {\"color\": \"rgb(225, 124, 5)\"}, \"name\": \"Dogefather\", \"offsetgroup\": \"Dogefather\", \"orientation\": \"v\", \"showlegend\": true, \"textposition\": \"auto\", \"type\": \"bar\", \"x\": [\"Dogefather\"], \"xaxis\": \"x\", \"y\": [16474876.373657886], \"yaxis\": \"y\"}, {\"alignmentgroup\": \"True\", \"hovertemplate\": \"buy_symbol=%{x}<br>trade_amount_$=%{y}<extra></extra>\", \"legendgroup\": \"CUMMIES\", \"marker\": {\"color\": \"rgb(204, 80, 62)\"}, \"name\": \"CUMMIES\", \"offsetgroup\": \"CUMMIES\", \"orientation\": \"v\", \"showlegend\": true, \"textposition\": \"auto\", \"type\": \"bar\", \"x\": [\"CUMMIES\"], \"xaxis\": \"x\", \"y\": [29037879.792440347], \"yaxis\": \"y\"}, {\"alignmentgroup\": \"True\", \"hovertemplate\": \"buy_symbol=%{x}<br>trade_amount_$=%{y}<extra></extra>\", \"legendgroup\": \"ElonGate\", \"marker\": {\"color\": \"rgb(148, 52, 110)\"}, \"name\": \"ElonGate\", \"offsetgroup\": \"ElonGate\", \"orientation\": \"v\", \"showlegend\": true, \"textposition\": \"auto\", \"type\": \"bar\", \"x\": [\"ElonGate\"], \"xaxis\": \"x\", \"y\": [15690753.507223792], \"yaxis\": \"y\"}, {\"alignmentgroup\": \"True\", \"hovertemplate\": \"buy_symbol=%{x}<br>trade_amount_$=%{y}<extra></extra>\", \"legendgroup\": \"BTCB\", \"marker\": {\"color\": \"rgb(111, 64, 112)\"}, \"name\": \"BTCB\", \"offsetgroup\": \"BTCB\", \"orientation\": \"v\", \"showlegend\": true, \"textposition\": \"auto\", \"type\": \"bar\", \"x\": [\"BTCB\", \"BTCB\"], \"xaxis\": \"x\", \"y\": [18114513.696479883, 1480685.2322024198], \"yaxis\": \"y\"}, {\"alignmentgroup\": \"True\", \"hovertemplate\": \"buy_symbol=%{x}<br>trade_amount_$=%{y}<extra></extra>\", \"legendgroup\": \"ECP\", \"marker\": {\"color\": \"rgb(102, 102, 102)\"}, \"name\": \"ECP\", \"offsetgroup\": \"ECP\", \"orientation\": \"v\", \"showlegend\": true, \"textposition\": \"auto\", \"type\": \"bar\", \"x\": [\"ECP\"], \"xaxis\": \"x\", \"y\": [13935407.511792032], \"yaxis\": \"y\"}, {\"alignmentgroup\": \"True\", \"hovertemplate\": \"buy_symbol=%{x}<br>trade_amount_$=%{y}<extra></extra>\", \"legendgroup\": \"BONFIRE\", \"marker\": {\"color\": \"rgb(95, 70, 144)\"}, \"name\": \"BONFIRE\", \"offsetgroup\": \"BONFIRE\", \"orientation\": \"v\", \"showlegend\": true, \"textposition\": \"auto\", \"type\": \"bar\", \"x\": [\"BONFIRE\"], \"xaxis\": \"x\", \"y\": [10641051.271556072], \"yaxis\": \"y\"}, {\"alignmentgroup\": \"True\", \"hovertemplate\": \"buy_symbol=%{x}<br>trade_amount_$=%{y}<extra></extra>\", \"legendgroup\": \"SEED\", \"marker\": {\"color\": \"rgb(29, 105, 150)\"}, \"name\": \"SEED\", \"offsetgroup\": \"SEED\", \"orientation\": \"v\", \"showlegend\": true, \"textposition\": \"auto\", \"type\": \"bar\", \"x\": [\"SEED\", \"SEED\"], \"xaxis\": \"x\", \"y\": [9424167.89751965, 4968059.4981034], \"yaxis\": \"y\"}, {\"alignmentgroup\": \"True\", \"hovertemplate\": \"buy_symbol=%{x}<br>trade_amount_$=%{y}<extra></extra>\", \"legendgroup\": \"SAFEMARS\", \"marker\": {\"color\": \"rgb(56, 166, 165)\"}, \"name\": \"SAFEMARS\", \"offsetgroup\": \"SAFEMARS\", \"orientation\": \"v\", \"showlegend\": true, \"textposition\": \"auto\", \"type\": \"bar\", \"x\": [\"SAFEMARS\"], \"xaxis\": \"x\", \"y\": [6924226.515334093], \"yaxis\": \"y\"}, {\"alignmentgroup\": \"True\", \"hovertemplate\": \"buy_symbol=%{x}<br>trade_amount_$=%{y}<extra></extra>\", \"legendgroup\": \"100x\", \"marker\": {\"color\": \"rgb(15, 133, 84)\"}, \"name\": \"100x\", \"offsetgroup\": \"100x\", \"orientation\": \"v\", \"showlegend\": true, \"textposition\": \"auto\", \"type\": \"bar\", \"x\": [\"100x\"], \"xaxis\": \"x\", \"y\": [5363397.818693216], \"yaxis\": \"y\"}, {\"alignmentgroup\": \"True\", \"hovertemplate\": \"buy_symbol=%{x}<br>trade_amount_$=%{y}<extra></extra>\", \"legendgroup\": \"ALPACA\", \"marker\": {\"color\": \"rgb(115, 175, 72)\"}, \"name\": \"ALPACA\", \"offsetgroup\": \"ALPACA\", \"orientation\": \"v\", \"showlegend\": true, \"textposition\": \"auto\", \"type\": \"bar\", \"x\": [\"ALPACA\"], \"xaxis\": \"x\", \"y\": [11803707.108073644], \"yaxis\": \"y\"}, {\"alignmentgroup\": \"True\", \"hovertemplate\": \"buy_symbol=%{x}<br>trade_amount_$=%{y}<extra></extra>\", \"legendgroup\": \"SPORE\", \"marker\": {\"color\": \"rgb(237, 173, 8)\"}, \"name\": \"SPORE\", \"offsetgroup\": \"SPORE\", \"orientation\": \"v\", \"showlegend\": true, \"textposition\": \"auto\", \"type\": \"bar\", \"x\": [\"SPORE\"], \"xaxis\": \"x\", \"y\": [3610584.0273817033], \"yaxis\": \"y\"}, {\"alignmentgroup\": \"True\", \"hovertemplate\": \"buy_symbol=%{x}<br>trade_amount_$=%{y}<extra></extra>\", \"legendgroup\": \"BSCS\", \"marker\": {\"color\": \"rgb(225, 124, 5)\"}, \"name\": \"BSCS\", \"offsetgroup\": \"BSCS\", \"orientation\": \"v\", \"showlegend\": true, \"textposition\": \"auto\", \"type\": \"bar\", \"x\": [\"BSCS\"], \"xaxis\": \"x\", \"y\": [8598326.767901793], \"yaxis\": \"y\"}, {\"alignmentgroup\": \"True\", \"hovertemplate\": \"buy_symbol=%{x}<br>trade_amount_$=%{y}<extra></extra>\", \"legendgroup\": \"EGG\", \"marker\": {\"color\": \"rgb(204, 80, 62)\"}, \"name\": \"EGG\", \"offsetgroup\": \"EGG\", \"orientation\": \"v\", \"showlegend\": true, \"textposition\": \"auto\", \"type\": \"bar\", \"x\": [\"EGG\", \"EGG\"], \"xaxis\": \"x\", \"y\": [9410867.166456154, 7939522.61586278], \"yaxis\": \"y\"}, {\"alignmentgroup\": \"True\", \"hovertemplate\": \"buy_symbol=%{x}<br>trade_amount_$=%{y}<extra></extra>\", \"legendgroup\": \"Forestry\", \"marker\": {\"color\": \"rgb(148, 52, 110)\"}, \"name\": \"Forestry\", \"offsetgroup\": \"Forestry\", \"orientation\": \"v\", \"showlegend\": true, \"textposition\": \"auto\", \"type\": \"bar\", \"x\": [\"Forestry\"], \"xaxis\": \"x\", \"y\": [6808796.94267435], \"yaxis\": \"y\"}, {\"alignmentgroup\": \"True\", \"hovertemplate\": \"buy_symbol=%{x}<br>trade_amount_$=%{y}<extra></extra>\", \"legendgroup\": \"TBAKE\", \"marker\": {\"color\": \"rgb(111, 64, 112)\"}, \"name\": \"TBAKE\", \"offsetgroup\": \"TBAKE\", \"orientation\": \"v\", \"showlegend\": true, \"textposition\": \"auto\", \"type\": \"bar\", \"x\": [\"TBAKE\"], \"xaxis\": \"x\", \"y\": [7065208.922424011], \"yaxis\": \"y\"}, {\"alignmentgroup\": \"True\", \"hovertemplate\": \"buy_symbol=%{x}<br>trade_amount_$=%{y}<extra></extra>\", \"legendgroup\": \"LOF\", \"marker\": {\"color\": \"rgb(102, 102, 102)\"}, \"name\": \"LOF\", \"offsetgroup\": \"LOF\", \"orientation\": \"v\", \"showlegend\": true, \"textposition\": \"auto\", \"type\": \"bar\", \"x\": [\"LOF\"], \"xaxis\": \"x\", \"y\": [6810826.626671451], \"yaxis\": \"y\"}, {\"alignmentgroup\": \"True\", \"hovertemplate\": \"buy_symbol=%{x}<br>trade_amount_$=%{y}<extra></extra>\", \"legendgroup\": \"BGOV\", \"marker\": {\"color\": \"rgb(95, 70, 144)\"}, \"name\": \"BGOV\", \"offsetgroup\": \"BGOV\", \"orientation\": \"v\", \"showlegend\": true, \"textposition\": \"auto\", \"type\": \"bar\", \"x\": [\"BGOV\"], \"xaxis\": \"x\", \"y\": [7437986.007521063], \"yaxis\": \"y\"}, {\"alignmentgroup\": \"True\", \"hovertemplate\": \"buy_symbol=%{x}<br>trade_amount_$=%{y}<extra></extra>\", \"legendgroup\": \"SPND\", \"marker\": {\"color\": \"rgb(29, 105, 150)\"}, \"name\": \"SPND\", \"offsetgroup\": \"SPND\", \"orientation\": \"v\", \"showlegend\": true, \"textposition\": \"auto\", \"type\": \"bar\", \"x\": [\"SPND\"], \"xaxis\": \"x\", \"y\": [5368129.6440067515], \"yaxis\": \"y\"}, {\"alignmentgroup\": \"True\", \"hovertemplate\": \"buy_symbol=%{x}<br>trade_amount_$=%{y}<extra></extra>\", \"legendgroup\": \"MASH\", \"marker\": {\"color\": \"rgb(56, 166, 165)\"}, \"name\": \"MASH\", \"offsetgroup\": \"MASH\", \"orientation\": \"v\", \"showlegend\": true, \"textposition\": \"auto\", \"type\": \"bar\", \"x\": [\"MASH\", \"MASH\"], \"xaxis\": \"x\", \"y\": [5207419.088646592, 3498561.5950942365], \"yaxis\": \"y\"}, {\"alignmentgroup\": \"True\", \"hovertemplate\": \"buy_symbol=%{x}<br>trade_amount_$=%{y}<extra></extra>\", \"legendgroup\": \"BAKE\", \"marker\": {\"color\": \"rgb(15, 133, 84)\"}, \"name\": \"BAKE\", \"offsetgroup\": \"BAKE\", \"orientation\": \"v\", \"showlegend\": true, \"textposition\": \"auto\", \"type\": \"bar\", \"x\": [\"BAKE\"], \"xaxis\": \"x\", \"y\": [4854471.325709115], \"yaxis\": \"y\"}, {\"alignmentgroup\": \"True\", \"hovertemplate\": \"buy_symbol=%{x}<br>trade_amount_$=%{y}<extra></extra>\", \"legendgroup\": \"BRICK\", \"marker\": {\"color\": \"rgb(115, 175, 72)\"}, \"name\": \"BRICK\", \"offsetgroup\": \"BRICK\", \"orientation\": \"v\", \"showlegend\": true, \"textposition\": \"auto\", \"type\": \"bar\", \"x\": [\"BRICK\", \"BRICK\"], \"xaxis\": \"x\", \"y\": [7364539.711375017, 3376012.7953428323], \"yaxis\": \"y\"}, {\"alignmentgroup\": \"True\", \"hovertemplate\": \"buy_symbol=%{x}<br>trade_amount_$=%{y}<extra></extra>\", \"legendgroup\": \"KPAD\", \"marker\": {\"color\": \"rgb(237, 173, 8)\"}, \"name\": \"KPAD\", \"offsetgroup\": \"KPAD\", \"orientation\": \"v\", \"showlegend\": true, \"textposition\": \"auto\", \"type\": \"bar\", \"x\": [\"KPAD\"], \"xaxis\": \"x\", \"y\": [8169805.378746773], \"yaxis\": \"y\"}, {\"alignmentgroup\": \"True\", \"hovertemplate\": \"buy_symbol=%{x}<br>trade_amount_$=%{y}<extra></extra>\", \"legendgroup\": \"XVS\", \"marker\": {\"color\": \"rgb(225, 124, 5)\"}, \"name\": \"XVS\", \"offsetgroup\": \"XVS\", \"orientation\": \"v\", \"showlegend\": true, \"textposition\": \"auto\", \"type\": \"bar\", \"x\": [\"XVS\"], \"xaxis\": \"x\", \"y\": [7137028.979566708], \"yaxis\": \"y\"}, {\"alignmentgroup\": \"True\", \"hovertemplate\": \"buy_symbol=%{x}<br>trade_amount_$=%{y}<extra></extra>\", \"legendgroup\": \"SAFEBTC\", \"marker\": {\"color\": \"rgb(204, 80, 62)\"}, \"name\": \"SAFEBTC\", \"offsetgroup\": \"SAFEBTC\", \"orientation\": \"v\", \"showlegend\": true, \"textposition\": \"auto\", \"type\": \"bar\", \"x\": [\"SAFEBTC\"], \"xaxis\": \"x\", \"y\": [4075370.8837696165], \"yaxis\": \"y\"}, {\"alignmentgroup\": \"True\", \"hovertemplate\": \"buy_symbol=%{x}<br>trade_amount_$=%{y}<extra></extra>\", \"legendgroup\": \"BOG\", \"marker\": {\"color\": \"rgb(148, 52, 110)\"}, \"name\": \"BOG\", \"offsetgroup\": \"BOG\", \"orientation\": \"v\", \"showlegend\": true, \"textposition\": \"auto\", \"type\": \"bar\", \"x\": [\"BOG\"], \"xaxis\": \"x\", \"y\": [9367588.251919122], \"yaxis\": \"y\"}, {\"alignmentgroup\": \"True\", \"hovertemplate\": \"buy_symbol=%{x}<br>trade_amount_$=%{y}<extra></extra>\", \"legendgroup\": \"DOGE\", \"marker\": {\"color\": \"rgb(111, 64, 112)\"}, \"name\": \"DOGE\", \"offsetgroup\": \"DOGE\", \"orientation\": \"v\", \"showlegend\": true, \"textposition\": \"auto\", \"type\": \"bar\", \"x\": [\"DOGE\"], \"xaxis\": \"x\", \"y\": [4868757.9771741405], \"yaxis\": \"y\"}, {\"alignmentgroup\": \"True\", \"hovertemplate\": \"buy_symbol=%{x}<br>trade_amount_$=%{y}<extra></extra>\", \"legendgroup\": \"DAI\", \"marker\": {\"color\": \"rgb(102, 102, 102)\"}, \"name\": \"DAI\", \"offsetgroup\": \"DAI\", \"orientation\": \"v\", \"showlegend\": true, \"textposition\": \"auto\", \"type\": \"bar\", \"x\": [\"DAI\", \"DAI\"], \"xaxis\": \"x\", \"y\": [3647429.699458041, 623199.9745344972], \"yaxis\": \"y\"}, {\"alignmentgroup\": \"True\", \"hovertemplate\": \"buy_symbol=%{x}<br>trade_amount_$=%{y}<extra></extra>\", \"legendgroup\": \"upBNB\", \"marker\": {\"color\": \"rgb(95, 70, 144)\"}, \"name\": \"upBNB\", \"offsetgroup\": \"upBNB\", \"orientation\": \"v\", \"showlegend\": true, \"textposition\": \"auto\", \"type\": \"bar\", \"x\": [\"upBNB\"], \"xaxis\": \"x\", \"y\": [6311371.85387205], \"yaxis\": \"y\"}, {\"alignmentgroup\": \"True\", \"hovertemplate\": \"buy_symbol=%{x}<br>trade_amount_$=%{y}<extra></extra>\", \"legendgroup\": \"DINO\", \"marker\": {\"color\": \"rgb(29, 105, 150)\"}, \"name\": \"DINO\", \"offsetgroup\": \"DINO\", \"orientation\": \"v\", \"showlegend\": true, \"textposition\": \"auto\", \"type\": \"bar\", \"x\": [\"DINO\"], \"xaxis\": \"x\", \"y\": [4426177.760625676], \"yaxis\": \"y\"}, {\"alignmentgroup\": \"True\", \"hovertemplate\": \"buy_symbol=%{x}<br>trade_amount_$=%{y}<extra></extra>\", \"legendgroup\": \"TWT\", \"marker\": {\"color\": \"rgb(56, 166, 165)\"}, \"name\": \"TWT\", \"offsetgroup\": \"TWT\", \"orientation\": \"v\", \"showlegend\": true, \"textposition\": \"auto\", \"type\": \"bar\", \"x\": [\"TWT\"], \"xaxis\": \"x\", \"y\": [4043335.271510934], \"yaxis\": \"y\"}, {\"alignmentgroup\": \"True\", \"hovertemplate\": \"buy_symbol=%{x}<br>trade_amount_$=%{y}<extra></extra>\", \"legendgroup\": \"GEN\", \"marker\": {\"color\": \"rgb(15, 133, 84)\"}, \"name\": \"GEN\", \"offsetgroup\": \"GEN\", \"orientation\": \"v\", \"showlegend\": true, \"textposition\": \"auto\", \"type\": \"bar\", \"x\": [\"GEN\", \"GEN\"], \"xaxis\": \"x\", \"y\": [6443372.1238406515, 3596100.4802292744], \"yaxis\": \"y\"}, {\"alignmentgroup\": \"True\", \"hovertemplate\": \"buy_symbol=%{x}<br>trade_amount_$=%{y}<extra></extra>\", \"legendgroup\": \"MEMES\", \"marker\": {\"color\": \"rgb(115, 175, 72)\"}, \"name\": \"MEMES\", \"offsetgroup\": \"MEMES\", \"orientation\": \"v\", \"showlegend\": true, \"textposition\": \"auto\", \"type\": \"bar\", \"x\": [\"MEMES\"], \"xaxis\": \"x\", \"y\": [3928141.3766074777], \"yaxis\": \"y\"}, {\"alignmentgroup\": \"True\", \"hovertemplate\": \"buy_symbol=%{x}<br>trade_amount_$=%{y}<extra></extra>\", \"legendgroup\": \"TREE\", \"marker\": {\"color\": \"rgb(237, 173, 8)\"}, \"name\": \"TREE\", \"offsetgroup\": \"TREE\", \"orientation\": \"v\", \"showlegend\": true, \"textposition\": \"auto\", \"type\": \"bar\", \"x\": [\"TREE\"], \"xaxis\": \"x\", \"y\": [4190806.1471470217], \"yaxis\": \"y\"}, {\"alignmentgroup\": \"True\", \"hovertemplate\": \"buy_symbol=%{x}<br>trade_amount_$=%{y}<extra></extra>\", \"legendgroup\": \"SENDWHALE\", \"marker\": {\"color\": \"rgb(225, 124, 5)\"}, \"name\": \"SENDWHALE\", \"offsetgroup\": \"SENDWHALE\", \"orientation\": \"v\", \"showlegend\": true, \"textposition\": \"auto\", \"type\": \"bar\", \"x\": [\"SENDWHALE\"], \"xaxis\": \"x\", \"y\": [3296575.9606785043], \"yaxis\": \"y\"}, {\"alignmentgroup\": \"True\", \"hovertemplate\": \"buy_symbol=%{x}<br>trade_amount_$=%{y}<extra></extra>\", \"legendgroup\": \"HYPER\", \"marker\": {\"color\": \"rgb(204, 80, 62)\"}, \"name\": \"HYPER\", \"offsetgroup\": \"HYPER\", \"orientation\": \"v\", \"showlegend\": true, \"textposition\": \"auto\", \"type\": \"bar\", \"x\": [\"HYPER\"], \"xaxis\": \"x\", \"y\": [4034343.3187643765], \"yaxis\": \"y\"}, {\"alignmentgroup\": \"True\", \"hovertemplate\": \"buy_symbol=%{x}<br>trade_amount_$=%{y}<extra></extra>\", \"legendgroup\": \"SALT\", \"marker\": {\"color\": \"rgb(148, 52, 110)\"}, \"name\": \"SALT\", \"offsetgroup\": \"SALT\", \"orientation\": \"v\", \"showlegend\": true, \"textposition\": \"auto\", \"type\": \"bar\", \"x\": [\"SALT\", \"SALT\"], \"xaxis\": \"x\", \"y\": [4770211.215668895, 2527547.793592698], \"yaxis\": \"y\"}, {\"alignmentgroup\": \"True\", \"hovertemplate\": \"buy_symbol=%{x}<br>trade_amount_$=%{y}<extra></extra>\", \"legendgroup\": \"Ramen\", \"marker\": {\"color\": \"rgb(111, 64, 112)\"}, \"name\": \"Ramen\", \"offsetgroup\": \"Ramen\", \"orientation\": \"v\", \"showlegend\": true, \"textposition\": \"auto\", \"type\": \"bar\", \"x\": [\"Ramen\"], \"xaxis\": \"x\", \"y\": [5039006.520341337], \"yaxis\": \"y\"}, {\"alignmentgroup\": \"True\", \"hovertemplate\": \"buy_symbol=%{x}<br>trade_amount_$=%{y}<extra></extra>\", \"legendgroup\": \"DOT\", \"marker\": {\"color\": \"rgb(102, 102, 102)\"}, \"name\": \"DOT\", \"offsetgroup\": \"DOT\", \"orientation\": \"v\", \"showlegend\": true, \"textposition\": \"auto\", \"type\": \"bar\", \"x\": [\"DOT\"], \"xaxis\": \"x\", \"y\": [4736941.432607127], \"yaxis\": \"y\"}, {\"alignmentgroup\": \"True\", \"hovertemplate\": \"buy_symbol=%{x}<br>trade_amount_$=%{y}<extra></extra>\", \"legendgroup\": \"MOONLIGHT\", \"marker\": {\"color\": \"rgb(95, 70, 144)\"}, \"name\": \"MOONLIGHT\", \"offsetgroup\": \"MOONLIGHT\", \"orientation\": \"v\", \"showlegend\": true, \"textposition\": \"auto\", \"type\": \"bar\", \"x\": [\"MOONLIGHT\"], \"xaxis\": \"x\", \"y\": [3322833.378146195], \"yaxis\": \"y\"}, {\"alignmentgroup\": \"True\", \"hovertemplate\": \"buy_symbol=%{x}<br>trade_amount_$=%{y}<extra></extra>\", \"legendgroup\": \"SHILD\", \"marker\": {\"color\": \"rgb(29, 105, 150)\"}, \"name\": \"SHILD\", \"offsetgroup\": \"SHILD\", \"orientation\": \"v\", \"showlegend\": true, \"textposition\": \"auto\", \"type\": \"bar\", \"x\": [\"SHILD\"], \"xaxis\": \"x\", \"y\": [4674750.700033131], \"yaxis\": \"y\"}, {\"alignmentgroup\": \"True\", \"hovertemplate\": \"buy_symbol=%{x}<br>trade_amount_$=%{y}<extra></extra>\", \"legendgroup\": \"SMG\", \"marker\": {\"color\": \"rgb(56, 166, 165)\"}, \"name\": \"SMG\", \"offsetgroup\": \"SMG\", \"orientation\": \"v\", \"showlegend\": true, \"textposition\": \"auto\", \"type\": \"bar\", \"x\": [\"SMG\"], \"xaxis\": \"x\", \"y\": [4414142.123253801], \"yaxis\": \"y\"}, {\"alignmentgroup\": \"True\", \"hovertemplate\": \"buy_symbol=%{x}<br>trade_amount_$=%{y}<extra></extra>\", \"legendgroup\": \"MOONMOON\", \"marker\": {\"color\": \"rgb(15, 133, 84)\"}, \"name\": \"MOONMOON\", \"offsetgroup\": \"MOONMOON\", \"orientation\": \"v\", \"showlegend\": true, \"textposition\": \"auto\", \"type\": \"bar\", \"x\": [\"MOONMOON\"], \"xaxis\": \"x\", \"y\": [3367650.092710254], \"yaxis\": \"y\"}, {\"alignmentgroup\": \"True\", \"hovertemplate\": \"buy_symbol=%{x}<br>trade_amount_$=%{y}<extra></extra>\", \"legendgroup\": \"MOONPIRATE\", \"marker\": {\"color\": \"rgb(115, 175, 72)\"}, \"name\": \"MOONPIRATE\", \"offsetgroup\": \"MOONPIRATE\", \"orientation\": \"v\", \"showlegend\": true, \"textposition\": \"auto\", \"type\": \"bar\", \"x\": [\"MOONPIRATE\"], \"xaxis\": \"x\", \"y\": [3353202.0880289692], \"yaxis\": \"y\"}, {\"alignmentgroup\": \"True\", \"hovertemplate\": \"buy_symbol=%{x}<br>trade_amount_$=%{y}<extra></extra>\", \"legendgroup\": \"UST\", \"marker\": {\"color\": \"rgb(237, 173, 8)\"}, \"name\": \"UST\", \"offsetgroup\": \"UST\", \"orientation\": \"v\", \"showlegend\": true, \"textposition\": \"auto\", \"type\": \"bar\", \"x\": [\"UST\", \"UST\"], \"xaxis\": \"x\", \"y\": [2997251.455581987, 2008776.2022930998], \"yaxis\": \"y\"}, {\"alignmentgroup\": \"True\", \"hovertemplate\": \"buy_symbol=%{x}<br>trade_amount_$=%{y}<extra></extra>\", \"legendgroup\": \"SPE\", \"marker\": {\"color\": \"rgb(225, 124, 5)\"}, \"name\": \"SPE\", \"offsetgroup\": \"SPE\", \"orientation\": \"v\", \"showlegend\": true, \"textposition\": \"auto\", \"type\": \"bar\", \"x\": [\"SPE\"], \"xaxis\": \"x\", \"y\": [3427307.027200673], \"yaxis\": \"y\"}, {\"alignmentgroup\": \"True\", \"hovertemplate\": \"buy_symbol=%{x}<br>trade_amount_$=%{y}<extra></extra>\", \"legendgroup\": \"SLAM\", \"marker\": {\"color\": \"rgb(204, 80, 62)\"}, \"name\": \"SLAM\", \"offsetgroup\": \"SLAM\", \"orientation\": \"v\", \"showlegend\": true, \"textposition\": \"auto\", \"type\": \"bar\", \"x\": [\"SLAM\"], \"xaxis\": \"x\", \"y\": [3889450.794222615], \"yaxis\": \"y\"}, {\"alignmentgroup\": \"True\", \"hovertemplate\": \"buy_symbol=%{x}<br>trade_amount_$=%{y}<extra></extra>\", \"legendgroup\": \"ASS\", \"marker\": {\"color\": \"rgb(148, 52, 110)\"}, \"name\": \"ASS\", \"offsetgroup\": \"ASS\", \"orientation\": \"v\", \"showlegend\": true, \"textposition\": \"auto\", \"type\": \"bar\", \"x\": [\"ASS\"], \"xaxis\": \"x\", \"y\": [3260949.5940172803], \"yaxis\": \"y\"}, {\"alignmentgroup\": \"True\", \"hovertemplate\": \"buy_symbol=%{x}<br>trade_amount_$=%{y}<extra></extra>\", \"legendgroup\": \"NIU\", \"marker\": {\"color\": \"rgb(111, 64, 112)\"}, \"name\": \"NIU\", \"offsetgroup\": \"NIU\", \"orientation\": \"v\", \"showlegend\": true, \"textposition\": \"auto\", \"type\": \"bar\", \"x\": [\"NIU\", \"NIU\"], \"xaxis\": \"x\", \"y\": [3259546.9545043474, 2102544.6950277607], \"yaxis\": \"y\"}, {\"alignmentgroup\": \"True\", \"hovertemplate\": \"buy_symbol=%{x}<br>trade_amount_$=%{y}<extra></extra>\", \"legendgroup\": \"ZEP\", \"marker\": {\"color\": \"rgb(102, 102, 102)\"}, \"name\": \"ZEP\", \"offsetgroup\": \"ZEP\", \"orientation\": \"v\", \"showlegend\": true, \"textposition\": \"auto\", \"type\": \"bar\", \"x\": [\"ZEP\"], \"xaxis\": \"x\", \"y\": [3499186.816705653], \"yaxis\": \"y\"}, {\"alignmentgroup\": \"True\", \"hovertemplate\": \"buy_symbol=%{x}<br>trade_amount_$=%{y}<extra></extra>\", \"legendgroup\": \"BETH\", \"marker\": {\"color\": \"rgb(95, 70, 144)\"}, \"name\": \"BETH\", \"offsetgroup\": \"BETH\", \"orientation\": \"v\", \"showlegend\": true, \"textposition\": \"auto\", \"type\": \"bar\", \"x\": [\"BETH\"], \"xaxis\": \"x\", \"y\": [14210523.722053677], \"yaxis\": \"y\"}, {\"alignmentgroup\": \"True\", \"hovertemplate\": \"buy_symbol=%{x}<br>trade_amount_$=%{y}<extra></extra>\", \"legendgroup\": \"ADA\", \"marker\": {\"color\": \"rgb(29, 105, 150)\"}, \"name\": \"ADA\", \"offsetgroup\": \"ADA\", \"orientation\": \"v\", \"showlegend\": true, \"textposition\": \"auto\", \"type\": \"bar\", \"x\": [\"ADA\"], \"xaxis\": \"x\", \"y\": [3630237.5422128546], \"yaxis\": \"y\"}, {\"alignmentgroup\": \"True\", \"hovertemplate\": \"buy_symbol=%{x}<br>trade_amount_$=%{y}<extra></extra>\", \"legendgroup\": \"SAFEGALAXY\", \"marker\": {\"color\": \"rgb(56, 166, 165)\"}, \"name\": \"SAFEGALAXY\", \"offsetgroup\": \"SAFEGALAXY\", \"orientation\": \"v\", \"showlegend\": true, \"textposition\": \"auto\", \"type\": \"bar\", \"x\": [\"SAFEGALAXY\"], \"xaxis\": \"x\", \"y\": [3772946.7799885436], \"yaxis\": \"y\"}, {\"alignmentgroup\": \"True\", \"hovertemplate\": \"buy_symbol=%{x}<br>trade_amount_$=%{y}<extra></extra>\", \"legendgroup\": \"FEG\", \"marker\": {\"color\": \"rgb(15, 133, 84)\"}, \"name\": \"FEG\", \"offsetgroup\": \"FEG\", \"orientation\": \"v\", \"showlegend\": true, \"textposition\": \"auto\", \"type\": \"bar\", \"x\": [\"FEG\"], \"xaxis\": \"x\", \"y\": [3075827.391291884], \"yaxis\": \"y\"}, {\"alignmentgroup\": \"True\", \"hovertemplate\": \"buy_symbol=%{x}<br>trade_amount_$=%{y}<extra></extra>\", \"legendgroup\": \"SAFEMOONCASH\", \"marker\": {\"color\": \"rgb(115, 175, 72)\"}, \"name\": \"SAFEMOONCASH\", \"offsetgroup\": \"SAFEMOONCASH\", \"orientation\": \"v\", \"showlegend\": true, \"textposition\": \"auto\", \"type\": \"bar\", \"x\": [\"SAFEMOONCASH\"], \"xaxis\": \"x\", \"y\": [4026967.8327935846], \"yaxis\": \"y\"}, {\"alignmentgroup\": \"True\", \"hovertemplate\": \"buy_symbol=%{x}<br>trade_amount_$=%{y}<extra></extra>\", \"legendgroup\": \"sBDO\", \"marker\": {\"color\": \"rgb(237, 173, 8)\"}, \"name\": \"sBDO\", \"offsetgroup\": \"sBDO\", \"orientation\": \"v\", \"showlegend\": true, \"textposition\": \"auto\", \"type\": \"bar\", \"x\": [\"sBDO\"], \"xaxis\": \"x\", \"y\": [4172290.6862287708], \"yaxis\": \"y\"}, {\"alignmentgroup\": \"True\", \"hovertemplate\": \"buy_symbol=%{x}<br>trade_amount_$=%{y}<extra></extra>\", \"legendgroup\": \"SUPERWAIFU\", \"marker\": {\"color\": \"rgb(225, 124, 5)\"}, \"name\": \"SUPERWAIFU\", \"offsetgroup\": \"SUPERWAIFU\", \"orientation\": \"v\", \"showlegend\": true, \"textposition\": \"auto\", \"type\": \"bar\", \"x\": [\"SUPERWAIFU\"], \"xaxis\": \"x\", \"y\": [2862370.7554881787], \"yaxis\": \"y\"}, {\"alignmentgroup\": \"True\", \"hovertemplate\": \"buy_symbol=%{x}<br>trade_amount_$=%{y}<extra></extra>\", \"legendgroup\": \"AQUAGOAT\", \"marker\": {\"color\": \"rgb(204, 80, 62)\"}, \"name\": \"AQUAGOAT\", \"offsetgroup\": \"AQUAGOAT\", \"orientation\": \"v\", \"showlegend\": true, \"textposition\": \"auto\", \"type\": \"bar\", \"x\": [\"AQUAGOAT\"], \"xaxis\": \"x\", \"y\": [2152336.1293427544], \"yaxis\": \"y\"}, {\"alignmentgroup\": \"True\", \"hovertemplate\": \"buy_symbol=%{x}<br>trade_amount_$=%{y}<extra></extra>\", \"legendgroup\": \"HAPPY\", \"marker\": {\"color\": \"rgb(148, 52, 110)\"}, \"name\": \"HAPPY\", \"offsetgroup\": \"HAPPY\", \"orientation\": \"v\", \"showlegend\": true, \"textposition\": \"auto\", \"type\": \"bar\", \"x\": [\"HAPPY\"], \"xaxis\": \"x\", \"y\": [3316962.178767806], \"yaxis\": \"y\"}, {\"alignmentgroup\": \"True\", \"hovertemplate\": \"buy_symbol=%{x}<br>trade_amount_$=%{y}<extra></extra>\", \"legendgroup\": \"FOX\", \"marker\": {\"color\": \"rgb(111, 64, 112)\"}, \"name\": \"FOX\", \"offsetgroup\": \"FOX\", \"orientation\": \"v\", \"showlegend\": true, \"textposition\": \"auto\", \"type\": \"bar\", \"x\": [\"FOX\"], \"xaxis\": \"x\", \"y\": [2166803.4925193326], \"yaxis\": \"y\"}, {\"alignmentgroup\": \"True\", \"hovertemplate\": \"buy_symbol=%{x}<br>trade_amount_$=%{y}<extra></extra>\", \"legendgroup\": \"DHOUSE\", \"marker\": {\"color\": \"rgb(102, 102, 102)\"}, \"name\": \"DHOUSE\", \"offsetgroup\": \"DHOUSE\", \"orientation\": \"v\", \"showlegend\": true, \"textposition\": \"auto\", \"type\": \"bar\", \"x\": [\"DHOUSE\"], \"xaxis\": \"x\", \"y\": [3116939.6463624947], \"yaxis\": \"y\"}, {\"alignmentgroup\": \"True\", \"hovertemplate\": \"buy_symbol=%{x}<br>trade_amount_$=%{y}<extra></extra>\", \"legendgroup\": \"GMT\", \"marker\": {\"color\": \"rgb(95, 70, 144)\"}, \"name\": \"GMT\", \"offsetgroup\": \"GMT\", \"orientation\": \"v\", \"showlegend\": true, \"textposition\": \"auto\", \"type\": \"bar\", \"x\": [\"GMT\"], \"xaxis\": \"x\", \"y\": [7854962.273233393], \"yaxis\": \"y\"}, {\"alignmentgroup\": \"True\", \"hovertemplate\": \"buy_symbol=%{x}<br>trade_amount_$=%{y}<extra></extra>\", \"legendgroup\": \"HyMETEOR\", \"marker\": {\"color\": \"rgb(29, 105, 150)\"}, \"name\": \"HyMETEOR\", \"offsetgroup\": \"HyMETEOR\", \"orientation\": \"v\", \"showlegend\": true, \"textposition\": \"auto\", \"type\": \"bar\", \"x\": [\"HyMETEOR\"], \"xaxis\": \"x\", \"y\": [2381939.859601676], \"yaxis\": \"y\"}, {\"alignmentgroup\": \"True\", \"hovertemplate\": \"buy_symbol=%{x}<br>trade_amount_$=%{y}<extra></extra>\", \"legendgroup\": \"SAFEP\", \"marker\": {\"color\": \"rgb(56, 166, 165)\"}, \"name\": \"SAFEP\", \"offsetgroup\": \"SAFEP\", \"orientation\": \"v\", \"showlegend\": true, \"textposition\": \"auto\", \"type\": \"bar\", \"x\": [\"SAFEP\"], \"xaxis\": \"x\", \"y\": [2149755.2319320966], \"yaxis\": \"y\"}, {\"alignmentgroup\": \"True\", \"hovertemplate\": \"buy_symbol=%{x}<br>trade_amount_$=%{y}<extra></extra>\", \"legendgroup\": \"TACOCAT\", \"marker\": {\"color\": \"rgb(15, 133, 84)\"}, \"name\": \"TACOCAT\", \"offsetgroup\": \"TACOCAT\", \"orientation\": \"v\", \"showlegend\": true, \"textposition\": \"auto\", \"type\": \"bar\", \"x\": [\"TACOCAT\"], \"xaxis\": \"x\", \"y\": [3404350.812325043], \"yaxis\": \"y\"}, {\"alignmentgroup\": \"True\", \"hovertemplate\": \"buy_symbol=%{x}<br>trade_amount_$=%{y}<extra></extra>\", \"legendgroup\": \"GEMS\", \"marker\": {\"color\": \"rgb(115, 175, 72)\"}, \"name\": \"GEMS\", \"offsetgroup\": \"GEMS\", \"orientation\": \"v\", \"showlegend\": true, \"textposition\": \"auto\", \"type\": \"bar\", \"x\": [\"GEMS\"], \"xaxis\": \"x\", \"y\": [2266814.1573340246], \"yaxis\": \"y\"}, {\"alignmentgroup\": \"True\", \"hovertemplate\": \"buy_symbol=%{x}<br>trade_amount_$=%{y}<extra></extra>\", \"legendgroup\": \"KEY\", \"marker\": {\"color\": \"rgb(237, 173, 8)\"}, \"name\": \"KEY\", \"offsetgroup\": \"KEY\", \"orientation\": \"v\", \"showlegend\": true, \"textposition\": \"auto\", \"type\": \"bar\", \"x\": [\"KEY\"], \"xaxis\": \"x\", \"y\": [2400960.030478806], \"yaxis\": \"y\"}, {\"alignmentgroup\": \"True\", \"hovertemplate\": \"buy_symbol=%{x}<br>trade_amount_$=%{y}<extra></extra>\", \"legendgroup\": \"XRP\", \"marker\": {\"color\": \"rgb(225, 124, 5)\"}, \"name\": \"XRP\", \"offsetgroup\": \"XRP\", \"orientation\": \"v\", \"showlegend\": true, \"textposition\": \"auto\", \"type\": \"bar\", \"x\": [\"XRP\"], \"xaxis\": \"x\", \"y\": [2217022.9366487097], \"yaxis\": \"y\"}, {\"alignmentgroup\": \"True\", \"hovertemplate\": \"buy_symbol=%{x}<br>trade_amount_$=%{y}<extra></extra>\", \"legendgroup\": \"OCTA\", \"marker\": {\"color\": \"rgb(204, 80, 62)\"}, \"name\": \"OCTA\", \"offsetgroup\": \"OCTA\", \"orientation\": \"v\", \"showlegend\": true, \"textposition\": \"auto\", \"type\": \"bar\", \"x\": [\"OCTA\"], \"xaxis\": \"x\", \"y\": [2420074.466327289], \"yaxis\": \"y\"}, {\"alignmentgroup\": \"True\", \"hovertemplate\": \"buy_symbol=%{x}<br>trade_amount_$=%{y}<extra></extra>\", \"legendgroup\": \"EULER\", \"marker\": {\"color\": \"rgb(148, 52, 110)\"}, \"name\": \"EULER\", \"offsetgroup\": \"EULER\", \"orientation\": \"v\", \"showlegend\": true, \"textposition\": \"auto\", \"type\": \"bar\", \"x\": [\"EULER\"], \"xaxis\": \"x\", \"y\": [5155869.506975684], \"yaxis\": \"y\"}, {\"alignmentgroup\": \"True\", \"hovertemplate\": \"buy_symbol=%{x}<br>trade_amount_$=%{y}<extra></extra>\", \"legendgroup\": \"RX\", \"marker\": {\"color\": \"rgb(111, 64, 112)\"}, \"name\": \"RX\", \"offsetgroup\": \"RX\", \"orientation\": \"v\", \"showlegend\": true, \"textposition\": \"auto\", \"type\": \"bar\", \"x\": [\"RX\"], \"xaxis\": \"x\", \"y\": [2819263.2760092104], \"yaxis\": \"y\"}, {\"alignmentgroup\": \"True\", \"hovertemplate\": \"buy_symbol=%{x}<br>trade_amount_$=%{y}<extra></extra>\", \"legendgroup\": \"PIT\", \"marker\": {\"color\": \"rgb(102, 102, 102)\"}, \"name\": \"PIT\", \"offsetgroup\": \"PIT\", \"orientation\": \"v\", \"showlegend\": true, \"textposition\": \"auto\", \"type\": \"bar\", \"x\": [\"PIT\"], \"xaxis\": \"x\", \"y\": [1725838.9426058694], \"yaxis\": \"y\"}, {\"alignmentgroup\": \"True\", \"hovertemplate\": \"buy_symbol=%{x}<br>trade_amount_$=%{y}<extra></extra>\", \"legendgroup\": \"BTS\", \"marker\": {\"color\": \"rgb(95, 70, 144)\"}, \"name\": \"BTS\", \"offsetgroup\": \"BTS\", \"orientation\": \"v\", \"showlegend\": true, \"textposition\": \"auto\", \"type\": \"bar\", \"x\": [\"BTS\"], \"xaxis\": \"x\", \"y\": [3681149.157458463], \"yaxis\": \"y\"}, {\"alignmentgroup\": \"True\", \"hovertemplate\": \"buy_symbol=%{x}<br>trade_amount_$=%{y}<extra></extra>\", \"legendgroup\": \"Hamtaro\", \"marker\": {\"color\": \"rgb(29, 105, 150)\"}, \"name\": \"Hamtaro\", \"offsetgroup\": \"Hamtaro\", \"orientation\": \"v\", \"showlegend\": true, \"textposition\": \"auto\", \"type\": \"bar\", \"x\": [\"Hamtaro\"], \"xaxis\": \"x\", \"y\": [2029679.094727309], \"yaxis\": \"y\"}, {\"alignmentgroup\": \"True\", \"hovertemplate\": \"buy_symbol=%{x}<br>trade_amount_$=%{y}<extra></extra>\", \"legendgroup\": \"MOONSTAR\", \"marker\": {\"color\": \"rgb(56, 166, 165)\"}, \"name\": \"MOONSTAR\", \"offsetgroup\": \"MOONSTAR\", \"orientation\": \"v\", \"showlegend\": true, \"textposition\": \"auto\", \"type\": \"bar\", \"x\": [\"MOONSTAR\"], \"xaxis\": \"x\", \"y\": [1953110.8400498577], \"yaxis\": \"y\"}, {\"alignmentgroup\": \"True\", \"hovertemplate\": \"buy_symbol=%{x}<br>trade_amount_$=%{y}<extra></extra>\", \"legendgroup\": \"WAF\", \"marker\": {\"color\": \"rgb(15, 133, 84)\"}, \"name\": \"WAF\", \"offsetgroup\": \"WAF\", \"orientation\": \"v\", \"showlegend\": true, \"textposition\": \"auto\", \"type\": \"bar\", \"x\": [\"WAF\"], \"xaxis\": \"x\", \"y\": [4437238.431651985], \"yaxis\": \"y\"}, {\"alignmentgroup\": \"True\", \"hovertemplate\": \"buy_symbol=%{x}<br>trade_amount_$=%{y}<extra></extra>\", \"legendgroup\": \"ACS\", \"marker\": {\"color\": \"rgb(115, 175, 72)\"}, \"name\": \"ACS\", \"offsetgroup\": \"ACS\", \"orientation\": \"v\", \"showlegend\": true, \"textposition\": \"auto\", \"type\": \"bar\", \"x\": [\"ACS\"], \"xaxis\": \"x\", \"y\": [3150444.4320298047], \"yaxis\": \"y\"}, {\"alignmentgroup\": \"True\", \"hovertemplate\": \"buy_symbol=%{x}<br>trade_amount_$=%{y}<extra></extra>\", \"legendgroup\": \"SAFECOMET\", \"marker\": {\"color\": \"rgb(237, 173, 8)\"}, \"name\": \"SAFECOMET\", \"offsetgroup\": \"SAFECOMET\", \"orientation\": \"v\", \"showlegend\": true, \"textposition\": \"auto\", \"type\": \"bar\", \"x\": [\"SAFECOMET\"], \"xaxis\": \"x\", \"y\": [1802556.9172664809], \"yaxis\": \"y\"}, {\"alignmentgroup\": \"True\", \"hovertemplate\": \"buy_symbol=%{x}<br>trade_amount_$=%{y}<extra></extra>\", \"legendgroup\": \"MOONSHOT\", \"marker\": {\"color\": \"rgb(225, 124, 5)\"}, \"name\": \"MOONSHOT\", \"offsetgroup\": \"MOONSHOT\", \"orientation\": \"v\", \"showlegend\": true, \"textposition\": \"auto\", \"type\": \"bar\", \"x\": [\"MOONSHOT\"], \"xaxis\": \"x\", \"y\": [2405249.9718910395], \"yaxis\": \"y\"}, {\"alignmentgroup\": \"True\", \"hovertemplate\": \"buy_symbol=%{x}<br>trade_amount_$=%{y}<extra></extra>\", \"legendgroup\": \"MOONTOKEN\", \"marker\": {\"color\": \"rgb(204, 80, 62)\"}, \"name\": \"MOONTOKEN\", \"offsetgroup\": \"MOONTOKEN\", \"orientation\": \"v\", \"showlegend\": true, \"textposition\": \"auto\", \"type\": \"bar\", \"x\": [\"MOONTOKEN\"], \"xaxis\": \"x\", \"y\": [1822010.8676767335], \"yaxis\": \"y\"}, {\"alignmentgroup\": \"True\", \"hovertemplate\": \"buy_symbol=%{x}<br>trade_amount_$=%{y}<extra></extra>\", \"legendgroup\": \"BBQ\", \"marker\": {\"color\": \"rgb(148, 52, 110)\"}, \"name\": \"BBQ\", \"offsetgroup\": \"BBQ\", \"orientation\": \"v\", \"showlegend\": true, \"textposition\": \"auto\", \"type\": \"bar\", \"x\": [\"BBQ\"], \"xaxis\": \"x\", \"y\": [2411863.5328561673], \"yaxis\": \"y\"}, {\"alignmentgroup\": \"True\", \"hovertemplate\": \"buy_symbol=%{x}<br>trade_amount_$=%{y}<extra></extra>\", \"legendgroup\": \"Tcake\", \"marker\": {\"color\": \"rgb(111, 64, 112)\"}, \"name\": \"Tcake\", \"offsetgroup\": \"Tcake\", \"orientation\": \"v\", \"showlegend\": true, \"textposition\": \"auto\", \"type\": \"bar\", \"x\": [\"Tcake\"], \"xaxis\": \"x\", \"y\": [2507915.9019948184], \"yaxis\": \"y\"}, {\"alignmentgroup\": \"True\", \"hovertemplate\": \"buy_symbol=%{x}<br>trade_amount_$=%{y}<extra></extra>\", \"legendgroup\": \"MEL\", \"marker\": {\"color\": \"rgb(102, 102, 102)\"}, \"name\": \"MEL\", \"offsetgroup\": \"MEL\", \"orientation\": \"v\", \"showlegend\": true, \"textposition\": \"auto\", \"type\": \"bar\", \"x\": [\"MEL\", \"MEL\"], \"xaxis\": \"x\", \"y\": [2194713.037755548, 2518599.428714233], \"yaxis\": \"y\"}, {\"alignmentgroup\": \"True\", \"hovertemplate\": \"buy_symbol=%{x}<br>trade_amount_$=%{y}<extra></extra>\", \"legendgroup\": \"MBS\", \"marker\": {\"color\": \"rgb(95, 70, 144)\"}, \"name\": \"MBS\", \"offsetgroup\": \"MBS\", \"orientation\": \"v\", \"showlegend\": true, \"textposition\": \"auto\", \"type\": \"bar\", \"x\": [\"MBS\"], \"xaxis\": \"x\", \"y\": [2095409.7069990141], \"yaxis\": \"y\"}],                        {\"barmode\": \"relative\", \"legend\": {\"title\": {\"text\": \"buy_symbol\"}, \"tracegroupgap\": 0}, \"template\": {\"data\": {\"bar\": [{\"error_x\": {\"color\": \"#2a3f5f\"}, \"error_y\": {\"color\": \"#2a3f5f\"}, \"marker\": {\"line\": {\"color\": \"white\", \"width\": 0.5}}, \"type\": \"bar\"}], \"barpolar\": [{\"marker\": {\"line\": {\"color\": \"white\", \"width\": 0.5}}, \"type\": \"barpolar\"}], \"carpet\": [{\"aaxis\": {\"endlinecolor\": \"#2a3f5f\", \"gridcolor\": \"#C8D4E3\", \"linecolor\": \"#C8D4E3\", \"minorgridcolor\": \"#C8D4E3\", \"startlinecolor\": \"#2a3f5f\"}, \"baxis\": {\"endlinecolor\": \"#2a3f5f\", \"gridcolor\": \"#C8D4E3\", \"linecolor\": \"#C8D4E3\", \"minorgridcolor\": \"#C8D4E3\", \"startlinecolor\": \"#2a3f5f\"}, \"type\": \"carpet\"}], \"choropleth\": [{\"colorbar\": {\"outlinewidth\": 0, \"ticks\": \"\"}, \"type\": \"choropleth\"}], \"contour\": [{\"colorbar\": {\"outlinewidth\": 0, \"ticks\": \"\"}, \"colorscale\": [[0.0, \"#0d0887\"], [0.1111111111111111, \"#46039f\"], [0.2222222222222222, \"#7201a8\"], [0.3333333333333333, \"#9c179e\"], [0.4444444444444444, \"#bd3786\"], [0.5555555555555556, \"#d8576b\"], [0.6666666666666666, \"#ed7953\"], [0.7777777777777778, \"#fb9f3a\"], [0.8888888888888888, \"#fdca26\"], [1.0, \"#f0f921\"]], \"type\": \"contour\"}], \"contourcarpet\": [{\"colorbar\": {\"outlinewidth\": 0, \"ticks\": \"\"}, \"type\": \"contourcarpet\"}], \"heatmap\": [{\"colorbar\": {\"outlinewidth\": 0, \"ticks\": \"\"}, \"colorscale\": [[0.0, \"#0d0887\"], [0.1111111111111111, \"#46039f\"], [0.2222222222222222, \"#7201a8\"], [0.3333333333333333, \"#9c179e\"], [0.4444444444444444, \"#bd3786\"], [0.5555555555555556, \"#d8576b\"], [0.6666666666666666, \"#ed7953\"], [0.7777777777777778, \"#fb9f3a\"], [0.8888888888888888, \"#fdca26\"], [1.0, \"#f0f921\"]], \"type\": \"heatmap\"}], \"heatmapgl\": [{\"colorbar\": {\"outlinewidth\": 0, \"ticks\": \"\"}, \"colorscale\": [[0.0, \"#0d0887\"], [0.1111111111111111, \"#46039f\"], [0.2222222222222222, \"#7201a8\"], [0.3333333333333333, \"#9c179e\"], [0.4444444444444444, \"#bd3786\"], [0.5555555555555556, \"#d8576b\"], [0.6666666666666666, \"#ed7953\"], [0.7777777777777778, \"#fb9f3a\"], [0.8888888888888888, \"#fdca26\"], [1.0, \"#f0f921\"]], \"type\": \"heatmapgl\"}], \"histogram\": [{\"marker\": {\"colorbar\": {\"outlinewidth\": 0, \"ticks\": \"\"}}, \"type\": \"histogram\"}], \"histogram2d\": [{\"colorbar\": {\"outlinewidth\": 0, \"ticks\": \"\"}, \"colorscale\": [[0.0, \"#0d0887\"], [0.1111111111111111, \"#46039f\"], [0.2222222222222222, \"#7201a8\"], [0.3333333333333333, \"#9c179e\"], [0.4444444444444444, \"#bd3786\"], [0.5555555555555556, \"#d8576b\"], [0.6666666666666666, \"#ed7953\"], [0.7777777777777778, \"#fb9f3a\"], [0.8888888888888888, \"#fdca26\"], [1.0, \"#f0f921\"]], \"type\": \"histogram2d\"}], \"histogram2dcontour\": [{\"colorbar\": {\"outlinewidth\": 0, \"ticks\": \"\"}, \"colorscale\": [[0.0, \"#0d0887\"], [0.1111111111111111, \"#46039f\"], [0.2222222222222222, \"#7201a8\"], [0.3333333333333333, \"#9c179e\"], [0.4444444444444444, \"#bd3786\"], [0.5555555555555556, \"#d8576b\"], [0.6666666666666666, \"#ed7953\"], [0.7777777777777778, \"#fb9f3a\"], [0.8888888888888888, \"#fdca26\"], [1.0, \"#f0f921\"]], \"type\": \"histogram2dcontour\"}], \"mesh3d\": [{\"colorbar\": {\"outlinewidth\": 0, \"ticks\": \"\"}, \"type\": \"mesh3d\"}], \"parcoords\": [{\"line\": {\"colorbar\": {\"outlinewidth\": 0, \"ticks\": \"\"}}, \"type\": \"parcoords\"}], \"pie\": [{\"automargin\": true, \"type\": \"pie\"}], \"scatter\": [{\"marker\": {\"colorbar\": {\"outlinewidth\": 0, \"ticks\": \"\"}}, \"type\": \"scatter\"}], \"scatter3d\": [{\"line\": {\"colorbar\": {\"outlinewidth\": 0, \"ticks\": \"\"}}, \"marker\": {\"colorbar\": {\"outlinewidth\": 0, \"ticks\": \"\"}}, \"type\": \"scatter3d\"}], \"scattercarpet\": [{\"marker\": {\"colorbar\": {\"outlinewidth\": 0, \"ticks\": \"\"}}, \"type\": \"scattercarpet\"}], \"scattergeo\": [{\"marker\": {\"colorbar\": {\"outlinewidth\": 0, \"ticks\": \"\"}}, \"type\": \"scattergeo\"}], \"scattergl\": [{\"marker\": {\"colorbar\": {\"outlinewidth\": 0, \"ticks\": \"\"}}, \"type\": \"scattergl\"}], \"scattermapbox\": [{\"marker\": {\"colorbar\": {\"outlinewidth\": 0, \"ticks\": \"\"}}, \"type\": \"scattermapbox\"}], \"scatterpolar\": [{\"marker\": {\"colorbar\": {\"outlinewidth\": 0, \"ticks\": \"\"}}, \"type\": \"scatterpolar\"}], \"scatterpolargl\": [{\"marker\": {\"colorbar\": {\"outlinewidth\": 0, \"ticks\": \"\"}}, \"type\": \"scatterpolargl\"}], \"scatterternary\": [{\"marker\": {\"colorbar\": {\"outlinewidth\": 0, \"ticks\": \"\"}}, \"type\": \"scatterternary\"}], \"surface\": [{\"colorbar\": {\"outlinewidth\": 0, \"ticks\": \"\"}, \"colorscale\": [[0.0, \"#0d0887\"], [0.1111111111111111, \"#46039f\"], [0.2222222222222222, \"#7201a8\"], [0.3333333333333333, \"#9c179e\"], [0.4444444444444444, \"#bd3786\"], [0.5555555555555556, \"#d8576b\"], [0.6666666666666666, \"#ed7953\"], [0.7777777777777778, \"#fb9f3a\"], [0.8888888888888888, \"#fdca26\"], [1.0, \"#f0f921\"]], \"type\": \"surface\"}], \"table\": [{\"cells\": {\"fill\": {\"color\": \"#EBF0F8\"}, \"line\": {\"color\": \"white\"}}, \"header\": {\"fill\": {\"color\": \"#C8D4E3\"}, \"line\": {\"color\": \"white\"}}, \"type\": \"table\"}]}, \"layout\": {\"annotationdefaults\": {\"arrowcolor\": \"#2a3f5f\", \"arrowhead\": 0, \"arrowwidth\": 1}, \"autotypenumbers\": \"strict\", \"coloraxis\": {\"colorbar\": {\"outlinewidth\": 0, \"ticks\": \"\"}}, \"colorscale\": {\"diverging\": [[0, \"#8e0152\"], [0.1, \"#c51b7d\"], [0.2, \"#de77ae\"], [0.3, \"#f1b6da\"], [0.4, \"#fde0ef\"], [0.5, \"#f7f7f7\"], [0.6, \"#e6f5d0\"], [0.7, \"#b8e186\"], [0.8, \"#7fbc41\"], [0.9, \"#4d9221\"], [1, \"#276419\"]], \"sequential\": [[0.0, \"#0d0887\"], [0.1111111111111111, \"#46039f\"], [0.2222222222222222, \"#7201a8\"], [0.3333333333333333, \"#9c179e\"], [0.4444444444444444, \"#bd3786\"], [0.5555555555555556, \"#d8576b\"], [0.6666666666666666, \"#ed7953\"], [0.7777777777777778, \"#fb9f3a\"], [0.8888888888888888, \"#fdca26\"], [1.0, \"#f0f921\"]], \"sequentialminus\": [[0.0, \"#0d0887\"], [0.1111111111111111, \"#46039f\"], [0.2222222222222222, \"#7201a8\"], [0.3333333333333333, \"#9c179e\"], [0.4444444444444444, \"#bd3786\"], [0.5555555555555556, \"#d8576b\"], [0.6666666666666666, \"#ed7953\"], [0.7777777777777778, \"#fb9f3a\"], [0.8888888888888888, \"#fdca26\"], [1.0, \"#f0f921\"]]}, \"colorway\": [\"#636efa\", \"#EF553B\", \"#00cc96\", \"#ab63fa\", \"#FFA15A\", \"#19d3f3\", \"#FF6692\", \"#B6E880\", \"#FF97FF\", \"#FECB52\"], \"font\": {\"color\": \"#2a3f5f\"}, \"geo\": {\"bgcolor\": \"white\", \"lakecolor\": \"white\", \"landcolor\": \"white\", \"showlakes\": true, \"showland\": true, \"subunitcolor\": \"#C8D4E3\"}, \"hoverlabel\": {\"align\": \"left\"}, \"hovermode\": \"closest\", \"mapbox\": {\"style\": \"light\"}, \"paper_bgcolor\": \"white\", \"plot_bgcolor\": \"white\", \"polar\": {\"angularaxis\": {\"gridcolor\": \"#EBF0F8\", \"linecolor\": \"#EBF0F8\", \"ticks\": \"\"}, \"bgcolor\": \"white\", \"radialaxis\": {\"gridcolor\": \"#EBF0F8\", \"linecolor\": \"#EBF0F8\", \"ticks\": \"\"}}, \"scene\": {\"xaxis\": {\"backgroundcolor\": \"white\", \"gridcolor\": \"#DFE8F3\", \"gridwidth\": 2, \"linecolor\": \"#EBF0F8\", \"showbackground\": true, \"ticks\": \"\", \"zerolinecolor\": \"#EBF0F8\"}, \"yaxis\": {\"backgroundcolor\": \"white\", \"gridcolor\": \"#DFE8F3\", \"gridwidth\": 2, \"linecolor\": \"#EBF0F8\", \"showbackground\": true, \"ticks\": \"\", \"zerolinecolor\": \"#EBF0F8\"}, \"zaxis\": {\"backgroundcolor\": \"white\", \"gridcolor\": \"#DFE8F3\", \"gridwidth\": 2, \"linecolor\": \"#EBF0F8\", \"showbackground\": true, \"ticks\": \"\", \"zerolinecolor\": \"#EBF0F8\"}}, \"shapedefaults\": {\"line\": {\"color\": \"#2a3f5f\"}}, \"ternary\": {\"aaxis\": {\"gridcolor\": \"#DFE8F3\", \"linecolor\": \"#A2B1C6\", \"ticks\": \"\"}, \"baxis\": {\"gridcolor\": \"#DFE8F3\", \"linecolor\": \"#A2B1C6\", \"ticks\": \"\"}, \"bgcolor\": \"white\", \"caxis\": {\"gridcolor\": \"#DFE8F3\", \"linecolor\": \"#A2B1C6\", \"ticks\": \"\"}}, \"title\": {\"x\": 0.05}, \"xaxis\": {\"automargin\": true, \"gridcolor\": \"#EBF0F8\", \"linecolor\": \"#EBF0F8\", \"ticks\": \"\", \"title\": {\"standoff\": 15}, \"zerolinecolor\": \"#EBF0F8\", \"zerolinewidth\": 2}, \"yaxis\": {\"automargin\": true, \"gridcolor\": \"#EBF0F8\", \"linecolor\": \"#EBF0F8\", \"ticks\": \"\", \"title\": {\"standoff\": 15}, \"zerolinecolor\": \"#EBF0F8\", \"zerolinewidth\": 2}}}, \"title\": {\"text\": \"<b>Top Buy Symbols by Trading Amount in Past Week on PancakeSwap\"}, \"xaxis\": {\"anchor\": \"y\", \"categoryarray\": [\"SAFEMOON\", \"BUNNY\", \"NFTART\", \"EPS\", \"BSCPAD\", \"AUTO\", \"Dogefather\", \"CUMMIES\", \"ElonGate\", \"BTCB\", \"ECP\", \"BONFIRE\", \"SEED\", \"SAFEMARS\", \"100x\", \"ALPACA\", \"SPORE\", \"BSCS\", \"EGG\", \"Forestry\", \"TBAKE\", \"LOF\", \"BGOV\", \"SPND\", \"MASH\", \"BAKE\", \"BRICK\", \"KPAD\", \"XVS\", \"SAFEBTC\", \"BOG\", \"DOGE\", \"DAI\", \"upBNB\", \"DINO\", \"TWT\", \"GEN\", \"MEMES\", \"TREE\", \"SENDWHALE\", \"HYPER\", \"SALT\", \"Ramen\", \"DOT\", \"MOONLIGHT\", \"SHILD\", \"SMG\", \"MOONMOON\", \"MOONPIRATE\", \"UST\", \"SPE\", \"SLAM\", \"ASS\", \"NIU\", \"ZEP\", \"BETH\", \"ADA\", \"SAFEGALAXY\", \"FEG\", \"SAFEMOONCASH\", \"sBDO\", \"SUPERWAIFU\", \"AQUAGOAT\", \"HAPPY\", \"FOX\", \"DHOUSE\", \"GMT\", \"HyMETEOR\", \"SAFEP\", \"TACOCAT\", \"GEMS\", \"KEY\", \"XRP\", \"OCTA\", \"EULER\", \"RX\", \"PIT\", \"BTS\", \"Hamtaro\", \"MOONSTAR\", \"WAF\", \"ACS\", \"SAFECOMET\", \"MOONSHOT\", \"MOONTOKEN\", \"BBQ\", \"Tcake\", \"MEL\", \"MBS\"], \"categoryorder\": \"array\", \"domain\": [0.0, 1.0], \"title\": {\"text\": \"buy_symbol\"}}, \"yaxis\": {\"anchor\": \"x\", \"domain\": [0.0, 1.0], \"title\": {\"text\": \"trade_amount_$\"}}},                        {\"responsive\": true}                    ).then(function(){\n",
       "                            \n",
       "var gd = document.getElementById('ca5340f0-2d68-4e23-9b96-c2c61d92189f');\n",
       "var x = new MutationObserver(function (mutations, observer) {{\n",
       "        var display = window.getComputedStyle(gd).display;\n",
       "        if (!display || display === 'none') {{\n",
       "            console.log([gd, 'removed!']);\n",
       "            Plotly.purge(gd);\n",
       "            observer.disconnect();\n",
       "        }}\n",
       "}});\n",
       "\n",
       "// Listen for the removal of the full notebook cells\n",
       "var notebookContainer = gd.closest('#notebook-container');\n",
       "if (notebookContainer) {{\n",
       "    x.observe(notebookContainer, {childList: true});\n",
       "}}\n",
       "\n",
       "// Listen for the clearing of the current output cell\n",
       "var outputEl = gd.closest('.output');\n",
       "if (outputEl) {{\n",
       "    x.observe(outputEl, {childList: true});\n",
       "}}\n",
       "\n",
       "                        })                };                });            </script>        </div>"
      ]
     },
     "metadata": {},
     "output_type": "display_data"
    },
    {
     "data": {
      "application/vnd.plotly.v1+json": {
       "config": {
        "plotlyServerURL": "https://plot.ly"
       },
       "data": [
        {
         "alignmentgroup": "True",
         "hovertemplate": "sell_symbol=%{x}<br>#_trades=%{y}<extra></extra>",
         "legendgroup": "SAFEMOON",
         "marker": {
          "color": "rgb(229, 134, 6)"
         },
         "name": "SAFEMOON",
         "offsetgroup": "SAFEMOON",
         "orientation": "v",
         "showlegend": true,
         "textposition": "auto",
         "type": "bar",
         "x": [
          "SAFEMOON"
         ],
         "xaxis": "x",
         "y": [
          92153
         ],
         "yaxis": "y"
        },
        {
         "alignmentgroup": "True",
         "hovertemplate": "sell_symbol=%{x}<br>#_trades=%{y}<extra></extra>",
         "legendgroup": "BUNNY",
         "marker": {
          "color": "rgb(93, 105, 177)"
         },
         "name": "BUNNY",
         "offsetgroup": "BUNNY",
         "orientation": "v",
         "showlegend": true,
         "textposition": "auto",
         "type": "bar",
         "x": [
          "BUNNY"
         ],
         "xaxis": "x",
         "y": [
          148950
         ],
         "yaxis": "y"
        },
        {
         "alignmentgroup": "True",
         "hovertemplate": "sell_symbol=%{x}<br>#_trades=%{y}<extra></extra>",
         "legendgroup": "NFTART",
         "marker": {
          "color": "rgb(82, 188, 163)"
         },
         "name": "NFTART",
         "offsetgroup": "NFTART",
         "orientation": "v",
         "showlegend": true,
         "textposition": "auto",
         "type": "bar",
         "x": [
          "NFTART"
         ],
         "xaxis": "x",
         "y": [
          54586
         ],
         "yaxis": "y"
        },
        {
         "alignmentgroup": "True",
         "hovertemplate": "sell_symbol=%{x}<br>#_trades=%{y}<extra></extra>",
         "legendgroup": "CUMMIES",
         "marker": {
          "color": "rgb(153, 201, 69)"
         },
         "name": "CUMMIES",
         "offsetgroup": "CUMMIES",
         "orientation": "v",
         "showlegend": true,
         "textposition": "auto",
         "type": "bar",
         "x": [
          "CUMMIES"
         ],
         "xaxis": "x",
         "y": [
          34780
         ],
         "yaxis": "y"
        },
        {
         "alignmentgroup": "True",
         "hovertemplate": "sell_symbol=%{x}<br>#_trades=%{y}<extra></extra>",
         "legendgroup": "Dogefather",
         "marker": {
          "color": "rgb(204, 97, 176)"
         },
         "name": "Dogefather",
         "offsetgroup": "Dogefather",
         "orientation": "v",
         "showlegend": true,
         "textposition": "auto",
         "type": "bar",
         "x": [
          "Dogefather"
         ],
         "xaxis": "x",
         "y": [
          40625
         ],
         "yaxis": "y"
        },
        {
         "alignmentgroup": "True",
         "hovertemplate": "sell_symbol=%{x}<br>#_trades=%{y}<extra></extra>",
         "legendgroup": "BSCPAD",
         "marker": {
          "color": "rgb(36, 121, 108)"
         },
         "name": "BSCPAD",
         "offsetgroup": "BSCPAD",
         "orientation": "v",
         "showlegend": true,
         "textposition": "auto",
         "type": "bar",
         "x": [
          "BSCPAD"
         ],
         "xaxis": "x",
         "y": [
          17322
         ],
         "yaxis": "y"
        },
        {
         "alignmentgroup": "True",
         "hovertemplate": "sell_symbol=%{x}<br>#_trades=%{y}<extra></extra>",
         "legendgroup": "ElonGate",
         "marker": {
          "color": "rgb(218, 165, 27)"
         },
         "name": "ElonGate",
         "offsetgroup": "ElonGate",
         "orientation": "v",
         "showlegend": true,
         "textposition": "auto",
         "type": "bar",
         "x": [
          "ElonGate"
         ],
         "xaxis": "x",
         "y": [
          27444
         ],
         "yaxis": "y"
        },
        {
         "alignmentgroup": "True",
         "hovertemplate": "sell_symbol=%{x}<br>#_trades=%{y}<extra></extra>",
         "legendgroup": "ECP",
         "marker": {
          "color": "rgb(47, 138, 196)"
         },
         "name": "ECP",
         "offsetgroup": "ECP",
         "orientation": "v",
         "showlegend": true,
         "textposition": "auto",
         "type": "bar",
         "x": [
          "ECP"
         ],
         "xaxis": "x",
         "y": [
          29097
         ],
         "yaxis": "y"
        },
        {
         "alignmentgroup": "True",
         "hovertemplate": "sell_symbol=%{x}<br>#_trades=%{y}<extra></extra>",
         "legendgroup": "AUTO",
         "marker": {
          "color": "rgb(118, 78, 159)"
         },
         "name": "AUTO",
         "offsetgroup": "AUTO",
         "orientation": "v",
         "showlegend": true,
         "textposition": "auto",
         "type": "bar",
         "x": [
          "AUTO"
         ],
         "xaxis": "x",
         "y": [
          9123
         ],
         "yaxis": "y"
        },
        {
         "alignmentgroup": "True",
         "hovertemplate": "sell_symbol=%{x}<br>#_trades=%{y}<extra></extra>",
         "legendgroup": "BONFIRE",
         "marker": {
          "color": "rgb(237, 100, 90)"
         },
         "name": "BONFIRE",
         "offsetgroup": "BONFIRE",
         "orientation": "v",
         "showlegend": true,
         "textposition": "auto",
         "type": "bar",
         "x": [
          "BONFIRE"
         ],
         "xaxis": "x",
         "y": [
          27813
         ],
         "yaxis": "y"
        },
        {
         "alignmentgroup": "True",
         "hovertemplate": "sell_symbol=%{x}<br>#_trades=%{y}<extra></extra>",
         "legendgroup": "BTCB",
         "marker": {
          "color": "rgb(165, 170, 153)"
         },
         "name": "BTCB",
         "offsetgroup": "BTCB",
         "orientation": "v",
         "showlegend": true,
         "textposition": "auto",
         "type": "bar",
         "x": [
          "BTCB",
          "BTCB"
         ],
         "xaxis": "x",
         "y": [
          15898,
          6817
         ],
         "yaxis": "y"
        },
        {
         "alignmentgroup": "True",
         "hovertemplate": "sell_symbol=%{x}<br>#_trades=%{y}<extra></extra>",
         "legendgroup": "EPS",
         "marker": {
          "color": "rgb(229, 134, 6)"
         },
         "name": "EPS",
         "offsetgroup": "EPS",
         "orientation": "v",
         "showlegend": true,
         "textposition": "auto",
         "type": "bar",
         "x": [
          "EPS"
         ],
         "xaxis": "x",
         "y": [
          6799
         ],
         "yaxis": "y"
        },
        {
         "alignmentgroup": "True",
         "hovertemplate": "sell_symbol=%{x}<br>#_trades=%{y}<extra></extra>",
         "legendgroup": "SPORE",
         "marker": {
          "color": "rgb(93, 105, 177)"
         },
         "name": "SPORE",
         "offsetgroup": "SPORE",
         "orientation": "v",
         "showlegend": true,
         "textposition": "auto",
         "type": "bar",
         "x": [
          "SPORE"
         ],
         "xaxis": "x",
         "y": [
          49709
         ],
         "yaxis": "y"
        },
        {
         "alignmentgroup": "True",
         "hovertemplate": "sell_symbol=%{x}<br>#_trades=%{y}<extra></extra>",
         "legendgroup": "Forestry",
         "marker": {
          "color": "rgb(82, 188, 163)"
         },
         "name": "Forestry",
         "offsetgroup": "Forestry",
         "orientation": "v",
         "showlegend": true,
         "textposition": "auto",
         "type": "bar",
         "x": [
          "Forestry"
         ],
         "xaxis": "x",
         "y": [
          18078
         ],
         "yaxis": "y"
        },
        {
         "alignmentgroup": "True",
         "hovertemplate": "sell_symbol=%{x}<br>#_trades=%{y}<extra></extra>",
         "legendgroup": "SEED",
         "marker": {
          "color": "rgb(153, 201, 69)"
         },
         "name": "SEED",
         "offsetgroup": "SEED",
         "orientation": "v",
         "showlegend": true,
         "textposition": "auto",
         "type": "bar",
         "x": [
          "SEED",
          "SEED"
         ],
         "xaxis": "x",
         "y": [
          11717,
          12711
         ],
         "yaxis": "y"
        },
        {
         "alignmentgroup": "True",
         "hovertemplate": "sell_symbol=%{x}<br>#_trades=%{y}<extra></extra>",
         "legendgroup": "TBAKE",
         "marker": {
          "color": "rgb(204, 97, 176)"
         },
         "name": "TBAKE",
         "offsetgroup": "TBAKE",
         "orientation": "v",
         "showlegend": true,
         "textposition": "auto",
         "type": "bar",
         "x": [
          "TBAKE"
         ],
         "xaxis": "x",
         "y": [
          15145
         ],
         "yaxis": "y"
        },
        {
         "alignmentgroup": "True",
         "hovertemplate": "sell_symbol=%{x}<br>#_trades=%{y}<extra></extra>",
         "legendgroup": "BSCS",
         "marker": {
          "color": "rgb(36, 121, 108)"
         },
         "name": "BSCS",
         "offsetgroup": "BSCS",
         "orientation": "v",
         "showlegend": true,
         "textposition": "auto",
         "type": "bar",
         "x": [
          "BSCS"
         ],
         "xaxis": "x",
         "y": [
          10771
         ],
         "yaxis": "y"
        },
        {
         "alignmentgroup": "True",
         "hovertemplate": "sell_symbol=%{x}<br>#_trades=%{y}<extra></extra>",
         "legendgroup": "LOF",
         "marker": {
          "color": "rgb(218, 165, 27)"
         },
         "name": "LOF",
         "offsetgroup": "LOF",
         "orientation": "v",
         "showlegend": true,
         "textposition": "auto",
         "type": "bar",
         "x": [
          "LOF"
         ],
         "xaxis": "x",
         "y": [
          12644
         ],
         "yaxis": "y"
        },
        {
         "alignmentgroup": "True",
         "hovertemplate": "sell_symbol=%{x}<br>#_trades=%{y}<extra></extra>",
         "legendgroup": "100x",
         "marker": {
          "color": "rgb(47, 138, 196)"
         },
         "name": "100x",
         "offsetgroup": "100x",
         "orientation": "v",
         "showlegend": true,
         "textposition": "auto",
         "type": "bar",
         "x": [
          "100x"
         ],
         "xaxis": "x",
         "y": [
          16178
         ],
         "yaxis": "y"
        },
        {
         "alignmentgroup": "True",
         "hovertemplate": "sell_symbol=%{x}<br>#_trades=%{y}<extra></extra>",
         "legendgroup": "SPND",
         "marker": {
          "color": "rgb(118, 78, 159)"
         },
         "name": "SPND",
         "offsetgroup": "SPND",
         "orientation": "v",
         "showlegend": true,
         "textposition": "auto",
         "type": "bar",
         "x": [
          "SPND"
         ],
         "xaxis": "x",
         "y": [
          14506
         ],
         "yaxis": "y"
        },
        {
         "alignmentgroup": "True",
         "hovertemplate": "sell_symbol=%{x}<br>#_trades=%{y}<extra></extra>",
         "legendgroup": "upBNB",
         "marker": {
          "color": "rgb(237, 100, 90)"
         },
         "name": "upBNB",
         "offsetgroup": "upBNB",
         "orientation": "v",
         "showlegend": true,
         "textposition": "auto",
         "type": "bar",
         "x": [
          "upBNB"
         ],
         "xaxis": "x",
         "y": [
          9455
         ],
         "yaxis": "y"
        },
        {
         "alignmentgroup": "True",
         "hovertemplate": "sell_symbol=%{x}<br>#_trades=%{y}<extra></extra>",
         "legendgroup": "ALPACA",
         "marker": {
          "color": "rgb(165, 170, 153)"
         },
         "name": "ALPACA",
         "offsetgroup": "ALPACA",
         "orientation": "v",
         "showlegend": true,
         "textposition": "auto",
         "type": "bar",
         "x": [
          "ALPACA"
         ],
         "xaxis": "x",
         "y": [
          5591
         ],
         "yaxis": "y"
        },
        {
         "alignmentgroup": "True",
         "hovertemplate": "sell_symbol=%{x}<br>#_trades=%{y}<extra></extra>",
         "legendgroup": "KPAD",
         "marker": {
          "color": "rgb(229, 134, 6)"
         },
         "name": "KPAD",
         "offsetgroup": "KPAD",
         "orientation": "v",
         "showlegend": true,
         "textposition": "auto",
         "type": "bar",
         "x": [
          "KPAD"
         ],
         "xaxis": "x",
         "y": [
          8306
         ],
         "yaxis": "y"
        },
        {
         "alignmentgroup": "True",
         "hovertemplate": "sell_symbol=%{x}<br>#_trades=%{y}<extra></extra>",
         "legendgroup": "BRICK",
         "marker": {
          "color": "rgb(93, 105, 177)"
         },
         "name": "BRICK",
         "offsetgroup": "BRICK",
         "orientation": "v",
         "showlegend": true,
         "textposition": "auto",
         "type": "bar",
         "x": [
          "BRICK",
          "BRICK"
         ],
         "xaxis": "x",
         "y": [
          8729,
          8260
         ],
         "yaxis": "y"
        },
        {
         "alignmentgroup": "True",
         "hovertemplate": "sell_symbol=%{x}<br>#_trades=%{y}<extra></extra>",
         "legendgroup": "SAFEMARS",
         "marker": {
          "color": "rgb(82, 188, 163)"
         },
         "name": "SAFEMARS",
         "offsetgroup": "SAFEMARS",
         "orientation": "v",
         "showlegend": true,
         "textposition": "auto",
         "type": "bar",
         "x": [
          "SAFEMARS"
         ],
         "xaxis": "x",
         "y": [
          10303
         ],
         "yaxis": "y"
        },
        {
         "alignmentgroup": "True",
         "hovertemplate": "sell_symbol=%{x}<br>#_trades=%{y}<extra></extra>",
         "legendgroup": "SAFEMOONCASH",
         "marker": {
          "color": "rgb(153, 201, 69)"
         },
         "name": "SAFEMOONCASH",
         "offsetgroup": "SAFEMOONCASH",
         "orientation": "v",
         "showlegend": true,
         "textposition": "auto",
         "type": "bar",
         "x": [
          "SAFEMOONCASH"
         ],
         "xaxis": "x",
         "y": [
          13765
         ],
         "yaxis": "y"
        },
        {
         "alignmentgroup": "True",
         "hovertemplate": "sell_symbol=%{x}<br>#_trades=%{y}<extra></extra>",
         "legendgroup": "EGG",
         "marker": {
          "color": "rgb(204, 97, 176)"
         },
         "name": "EGG",
         "offsetgroup": "EGG",
         "orientation": "v",
         "showlegend": true,
         "textposition": "auto",
         "type": "bar",
         "x": [
          "EGG",
          "EGG"
         ],
         "xaxis": "x",
         "y": [
          5722,
          4097
         ],
         "yaxis": "y"
        },
        {
         "alignmentgroup": "True",
         "hovertemplate": "sell_symbol=%{x}<br>#_trades=%{y}<extra></extra>",
         "legendgroup": "HYPER",
         "marker": {
          "color": "rgb(36, 121, 108)"
         },
         "name": "HYPER",
         "offsetgroup": "HYPER",
         "orientation": "v",
         "showlegend": true,
         "textposition": "auto",
         "type": "bar",
         "x": [
          "HYPER"
         ],
         "xaxis": "x",
         "y": [
          12324
         ],
         "yaxis": "y"
        },
        {
         "alignmentgroup": "True",
         "hovertemplate": "sell_symbol=%{x}<br>#_trades=%{y}<extra></extra>",
         "legendgroup": "MEMES",
         "marker": {
          "color": "rgb(218, 165, 27)"
         },
         "name": "MEMES",
         "offsetgroup": "MEMES",
         "orientation": "v",
         "showlegend": true,
         "textposition": "auto",
         "type": "bar",
         "x": [
          "MEMES"
         ],
         "xaxis": "x",
         "y": [
          13289
         ],
         "yaxis": "y"
        },
        {
         "alignmentgroup": "True",
         "hovertemplate": "sell_symbol=%{x}<br>#_trades=%{y}<extra></extra>",
         "legendgroup": "BAKE",
         "marker": {
          "color": "rgb(47, 138, 196)"
         },
         "name": "BAKE",
         "offsetgroup": "BAKE",
         "orientation": "v",
         "showlegend": true,
         "textposition": "auto",
         "type": "bar",
         "x": [
          "BAKE"
         ],
         "xaxis": "x",
         "y": [
          10168
         ],
         "yaxis": "y"
        },
        {
         "alignmentgroup": "True",
         "hovertemplate": "sell_symbol=%{x}<br>#_trades=%{y}<extra></extra>",
         "legendgroup": "SHILD",
         "marker": {
          "color": "rgb(118, 78, 159)"
         },
         "name": "SHILD",
         "offsetgroup": "SHILD",
         "orientation": "v",
         "showlegend": true,
         "textposition": "auto",
         "type": "bar",
         "x": [
          "SHILD"
         ],
         "xaxis": "x",
         "y": [
          10198
         ],
         "yaxis": "y"
        },
        {
         "alignmentgroup": "True",
         "hovertemplate": "sell_symbol=%{x}<br>#_trades=%{y}<extra></extra>",
         "legendgroup": "BOG",
         "marker": {
          "color": "rgb(237, 100, 90)"
         },
         "name": "BOG",
         "offsetgroup": "BOG",
         "orientation": "v",
         "showlegend": true,
         "textposition": "auto",
         "type": "bar",
         "x": [
          "BOG"
         ],
         "xaxis": "x",
         "y": [
          5323
         ],
         "yaxis": "y"
        },
        {
         "alignmentgroup": "True",
         "hovertemplate": "sell_symbol=%{x}<br>#_trades=%{y}<extra></extra>",
         "legendgroup": "DOGE",
         "marker": {
          "color": "rgb(165, 170, 153)"
         },
         "name": "DOGE",
         "offsetgroup": "DOGE",
         "orientation": "v",
         "showlegend": true,
         "textposition": "auto",
         "type": "bar",
         "x": [
          "DOGE"
         ],
         "xaxis": "x",
         "y": [
          9282
         ],
         "yaxis": "y"
        },
        {
         "alignmentgroup": "True",
         "hovertemplate": "sell_symbol=%{x}<br>#_trades=%{y}<extra></extra>",
         "legendgroup": "SLAM",
         "marker": {
          "color": "rgb(229, 134, 6)"
         },
         "name": "SLAM",
         "offsetgroup": "SLAM",
         "orientation": "v",
         "showlegend": true,
         "textposition": "auto",
         "type": "bar",
         "x": [
          "SLAM"
         ],
         "xaxis": "x",
         "y": [
          10329
         ],
         "yaxis": "y"
        },
        {
         "alignmentgroup": "True",
         "hovertemplate": "sell_symbol=%{x}<br>#_trades=%{y}<extra></extra>",
         "legendgroup": "MOONMOON",
         "marker": {
          "color": "rgb(93, 105, 177)"
         },
         "name": "MOONMOON",
         "offsetgroup": "MOONMOON",
         "orientation": "v",
         "showlegend": true,
         "textposition": "auto",
         "type": "bar",
         "x": [
          "MOONMOON"
         ],
         "xaxis": "x",
         "y": [
          12460
         ],
         "yaxis": "y"
        },
        {
         "alignmentgroup": "True",
         "hovertemplate": "sell_symbol=%{x}<br>#_trades=%{y}<extra></extra>",
         "legendgroup": "SENDWHALE",
         "marker": {
          "color": "rgb(82, 188, 163)"
         },
         "name": "SENDWHALE",
         "offsetgroup": "SENDWHALE",
         "orientation": "v",
         "showlegend": true,
         "textposition": "auto",
         "type": "bar",
         "x": [
          "SENDWHALE"
         ],
         "xaxis": "x",
         "y": [
          12002
         ],
         "yaxis": "y"
        },
        {
         "alignmentgroup": "True",
         "hovertemplate": "sell_symbol=%{x}<br>#_trades=%{y}<extra></extra>",
         "legendgroup": "DAI",
         "marker": {
          "color": "rgb(153, 201, 69)"
         },
         "name": "DAI",
         "offsetgroup": "DAI",
         "orientation": "v",
         "showlegend": true,
         "textposition": "auto",
         "type": "bar",
         "x": [
          "DAI"
         ],
         "xaxis": "x",
         "y": [
          10525
         ],
         "yaxis": "y"
        },
        {
         "alignmentgroup": "True",
         "hovertemplate": "sell_symbol=%{x}<br>#_trades=%{y}<extra></extra>",
         "legendgroup": "TREE",
         "marker": {
          "color": "rgb(204, 97, 176)"
         },
         "name": "TREE",
         "offsetgroup": "TREE",
         "orientation": "v",
         "showlegend": true,
         "textposition": "auto",
         "type": "bar",
         "x": [
          "TREE"
         ],
         "xaxis": "x",
         "y": [
          8280
         ],
         "yaxis": "y"
        },
        {
         "alignmentgroup": "True",
         "hovertemplate": "sell_symbol=%{x}<br>#_trades=%{y}<extra></extra>",
         "legendgroup": "SAFEBTC",
         "marker": {
          "color": "rgb(36, 121, 108)"
         },
         "name": "SAFEBTC",
         "offsetgroup": "SAFEBTC",
         "orientation": "v",
         "showlegend": true,
         "textposition": "auto",
         "type": "bar",
         "x": [
          "SAFEBTC"
         ],
         "xaxis": "x",
         "y": [
          10265
         ],
         "yaxis": "y"
        },
        {
         "alignmentgroup": "True",
         "hovertemplate": "sell_symbol=%{x}<br>#_trades=%{y}<extra></extra>",
         "legendgroup": "MOONLIGHT",
         "marker": {
          "color": "rgb(218, 165, 27)"
         },
         "name": "MOONLIGHT",
         "offsetgroup": "MOONLIGHT",
         "orientation": "v",
         "showlegend": true,
         "textposition": "auto",
         "type": "bar",
         "x": [
          "MOONLIGHT"
         ],
         "xaxis": "x",
         "y": [
          11116
         ],
         "yaxis": "y"
        },
        {
         "alignmentgroup": "True",
         "hovertemplate": "sell_symbol=%{x}<br>#_trades=%{y}<extra></extra>",
         "legendgroup": "TWT",
         "marker": {
          "color": "rgb(47, 138, 196)"
         },
         "name": "TWT",
         "offsetgroup": "TWT",
         "orientation": "v",
         "showlegend": true,
         "textposition": "auto",
         "type": "bar",
         "x": [
          "TWT"
         ],
         "xaxis": "x",
         "y": [
          8703
         ],
         "yaxis": "y"
        },
        {
         "alignmentgroup": "True",
         "hovertemplate": "sell_symbol=%{x}<br>#_trades=%{y}<extra></extra>",
         "legendgroup": "MOONPIRATE",
         "marker": {
          "color": "rgb(118, 78, 159)"
         },
         "name": "MOONPIRATE",
         "offsetgroup": "MOONPIRATE",
         "orientation": "v",
         "showlegend": true,
         "textposition": "auto",
         "type": "bar",
         "x": [
          "MOONPIRATE"
         ],
         "xaxis": "x",
         "y": [
          10752
         ],
         "yaxis": "y"
        },
        {
         "alignmentgroup": "True",
         "hovertemplate": "sell_symbol=%{x}<br>#_trades=%{y}<extra></extra>",
         "legendgroup": "Ramen",
         "marker": {
          "color": "rgb(237, 100, 90)"
         },
         "name": "Ramen",
         "offsetgroup": "Ramen",
         "orientation": "v",
         "showlegend": true,
         "textposition": "auto",
         "type": "bar",
         "x": [
          "Ramen"
         ],
         "xaxis": "x",
         "y": [
          6560
         ],
         "yaxis": "y"
        },
        {
         "alignmentgroup": "True",
         "hovertemplate": "sell_symbol=%{x}<br>#_trades=%{y}<extra></extra>",
         "legendgroup": "EULER",
         "marker": {
          "color": "rgb(165, 170, 153)"
         },
         "name": "EULER",
         "offsetgroup": "EULER",
         "orientation": "v",
         "showlegend": true,
         "textposition": "auto",
         "type": "bar",
         "x": [
          "EULER"
         ],
         "xaxis": "x",
         "y": [
          5119
         ],
         "yaxis": "y"
        },
        {
         "alignmentgroup": "True",
         "hovertemplate": "sell_symbol=%{x}<br>#_trades=%{y}<extra></extra>",
         "legendgroup": "XVS",
         "marker": {
          "color": "rgb(229, 134, 6)"
         },
         "name": "XVS",
         "offsetgroup": "XVS",
         "orientation": "v",
         "showlegend": true,
         "textposition": "auto",
         "type": "bar",
         "x": [
          "XVS"
         ],
         "xaxis": "x",
         "y": [
          4568
         ],
         "yaxis": "y"
        },
        {
         "alignmentgroup": "True",
         "hovertemplate": "sell_symbol=%{x}<br>#_trades=%{y}<extra></extra>",
         "legendgroup": "SMG",
         "marker": {
          "color": "rgb(93, 105, 177)"
         },
         "name": "SMG",
         "offsetgroup": "SMG",
         "orientation": "v",
         "showlegend": true,
         "textposition": "auto",
         "type": "bar",
         "x": [
          "SMG"
         ],
         "xaxis": "x",
         "y": [
          7153
         ],
         "yaxis": "y"
        },
        {
         "alignmentgroup": "True",
         "hovertemplate": "sell_symbol=%{x}<br>#_trades=%{y}<extra></extra>",
         "legendgroup": "DINO",
         "marker": {
          "color": "rgb(82, 188, 163)"
         },
         "name": "DINO",
         "offsetgroup": "DINO",
         "orientation": "v",
         "showlegend": true,
         "textposition": "auto",
         "type": "bar",
         "x": [
          "DINO"
         ],
         "xaxis": "x",
         "y": [
          7068
         ],
         "yaxis": "y"
        },
        {
         "alignmentgroup": "True",
         "hovertemplate": "sell_symbol=%{x}<br>#_trades=%{y}<extra></extra>",
         "legendgroup": "SALT",
         "marker": {
          "color": "rgb(153, 201, 69)"
         },
         "name": "SALT",
         "offsetgroup": "SALT",
         "orientation": "v",
         "showlegend": true,
         "textposition": "auto",
         "type": "bar",
         "x": [
          "SALT",
          "SALT"
         ],
         "xaxis": "x",
         "y": [
          6257,
          6520
         ],
         "yaxis": "y"
        },
        {
         "alignmentgroup": "True",
         "hovertemplate": "sell_symbol=%{x}<br>#_trades=%{y}<extra></extra>",
         "legendgroup": "GEN",
         "marker": {
          "color": "rgb(204, 97, 176)"
         },
         "name": "GEN",
         "offsetgroup": "GEN",
         "orientation": "v",
         "showlegend": true,
         "textposition": "auto",
         "type": "bar",
         "x": [
          "GEN",
          "GEN"
         ],
         "xaxis": "x",
         "y": [
          4383,
          4112
         ],
         "yaxis": "y"
        },
        {
         "alignmentgroup": "True",
         "hovertemplate": "sell_symbol=%{x}<br>#_trades=%{y}<extra></extra>",
         "legendgroup": "DOT",
         "marker": {
          "color": "rgb(36, 121, 108)"
         },
         "name": "DOT",
         "offsetgroup": "DOT",
         "orientation": "v",
         "showlegend": true,
         "textposition": "auto",
         "type": "bar",
         "x": [
          "DOT"
         ],
         "xaxis": "x",
         "y": [
          5944
         ],
         "yaxis": "y"
        },
        {
         "alignmentgroup": "True",
         "hovertemplate": "sell_symbol=%{x}<br>#_trades=%{y}<extra></extra>",
         "legendgroup": "FEG",
         "marker": {
          "color": "rgb(218, 165, 27)"
         },
         "name": "FEG",
         "offsetgroup": "FEG",
         "orientation": "v",
         "showlegend": true,
         "textposition": "auto",
         "type": "bar",
         "x": [
          "FEG"
         ],
         "xaxis": "x",
         "y": [
          8531
         ],
         "yaxis": "y"
        },
        {
         "alignmentgroup": "True",
         "hovertemplate": "sell_symbol=%{x}<br>#_trades=%{y}<extra></extra>",
         "legendgroup": "MASH",
         "marker": {
          "color": "rgb(47, 138, 196)"
         },
         "name": "MASH",
         "offsetgroup": "MASH",
         "orientation": "v",
         "showlegend": true,
         "textposition": "auto",
         "type": "bar",
         "x": [
          "MASH",
          "MASH"
         ],
         "xaxis": "x",
         "y": [
          5724,
          3820
         ],
         "yaxis": "y"
        },
        {
         "alignmentgroup": "True",
         "hovertemplate": "sell_symbol=%{x}<br>#_trades=%{y}<extra></extra>",
         "legendgroup": "GEMS",
         "marker": {
          "color": "rgb(118, 78, 159)"
         },
         "name": "GEMS",
         "offsetgroup": "GEMS",
         "orientation": "v",
         "showlegend": true,
         "textposition": "auto",
         "type": "bar",
         "x": [
          "GEMS"
         ],
         "xaxis": "x",
         "y": [
          10692
         ],
         "yaxis": "y"
        },
        {
         "alignmentgroup": "True",
         "hovertemplate": "sell_symbol=%{x}<br>#_trades=%{y}<extra></extra>",
         "legendgroup": "SUPERWAIFU",
         "marker": {
          "color": "rgb(237, 100, 90)"
         },
         "name": "SUPERWAIFU",
         "offsetgroup": "SUPERWAIFU",
         "orientation": "v",
         "showlegend": true,
         "textposition": "auto",
         "type": "bar",
         "x": [
          "SUPERWAIFU"
         ],
         "xaxis": "x",
         "y": [
          8242
         ],
         "yaxis": "y"
        },
        {
         "alignmentgroup": "True",
         "hovertemplate": "sell_symbol=%{x}<br>#_trades=%{y}<extra></extra>",
         "legendgroup": "Hamtaro",
         "marker": {
          "color": "rgb(165, 170, 153)"
         },
         "name": "Hamtaro",
         "offsetgroup": "Hamtaro",
         "orientation": "v",
         "showlegend": true,
         "textposition": "auto",
         "type": "bar",
         "x": [
          "Hamtaro"
         ],
         "xaxis": "x",
         "y": [
          10632
         ],
         "yaxis": "y"
        },
        {
         "alignmentgroup": "True",
         "hovertemplate": "sell_symbol=%{x}<br>#_trades=%{y}<extra></extra>",
         "legendgroup": "ADA",
         "marker": {
          "color": "rgb(229, 134, 6)"
         },
         "name": "ADA",
         "offsetgroup": "ADA",
         "orientation": "v",
         "showlegend": true,
         "textposition": "auto",
         "type": "bar",
         "x": [
          "ADA"
         ],
         "xaxis": "x",
         "y": [
          6345
         ],
         "yaxis": "y"
        },
        {
         "alignmentgroup": "True",
         "hovertemplate": "sell_symbol=%{x}<br>#_trades=%{y}<extra></extra>",
         "legendgroup": "SPE",
         "marker": {
          "color": "rgb(93, 105, 177)"
         },
         "name": "SPE",
         "offsetgroup": "SPE",
         "orientation": "v",
         "showlegend": true,
         "textposition": "auto",
         "type": "bar",
         "x": [
          "SPE"
         ],
         "xaxis": "x",
         "y": [
          7804
         ],
         "yaxis": "y"
        },
        {
         "alignmentgroup": "True",
         "hovertemplate": "sell_symbol=%{x}<br>#_trades=%{y}<extra></extra>",
         "legendgroup": "NIU",
         "marker": {
          "color": "rgb(82, 188, 163)"
         },
         "name": "NIU",
         "offsetgroup": "NIU",
         "orientation": "v",
         "showlegend": true,
         "textposition": "auto",
         "type": "bar",
         "x": [
          "NIU"
         ],
         "xaxis": "x",
         "y": [
          6848
         ],
         "yaxis": "y"
        },
        {
         "alignmentgroup": "True",
         "hovertemplate": "sell_symbol=%{x}<br>#_trades=%{y}<extra></extra>",
         "legendgroup": "SAFECOMET",
         "marker": {
          "color": "rgb(153, 201, 69)"
         },
         "name": "SAFECOMET",
         "offsetgroup": "SAFECOMET",
         "orientation": "v",
         "showlegend": true,
         "textposition": "auto",
         "type": "bar",
         "x": [
          "SAFECOMET"
         ],
         "xaxis": "x",
         "y": [
          11282
         ],
         "yaxis": "y"
        },
        {
         "alignmentgroup": "True",
         "hovertemplate": "sell_symbol=%{x}<br>#_trades=%{y}<extra></extra>",
         "legendgroup": "HyMETEOR",
         "marker": {
          "color": "rgb(204, 97, 176)"
         },
         "name": "HyMETEOR",
         "offsetgroup": "HyMETEOR",
         "orientation": "v",
         "showlegend": true,
         "textposition": "auto",
         "type": "bar",
         "x": [
          "HyMETEOR"
         ],
         "xaxis": "x",
         "y": [
          9157
         ],
         "yaxis": "y"
        },
        {
         "alignmentgroup": "True",
         "hovertemplate": "sell_symbol=%{x}<br>#_trades=%{y}<extra></extra>",
         "legendgroup": "ZEP",
         "marker": {
          "color": "rgb(36, 121, 108)"
         },
         "name": "ZEP",
         "offsetgroup": "ZEP",
         "orientation": "v",
         "showlegend": true,
         "textposition": "auto",
         "type": "bar",
         "x": [
          "ZEP"
         ],
         "xaxis": "x",
         "y": [
          7302
         ],
         "yaxis": "y"
        },
        {
         "alignmentgroup": "True",
         "hovertemplate": "sell_symbol=%{x}<br>#_trades=%{y}<extra></extra>",
         "legendgroup": "HAPPY",
         "marker": {
          "color": "rgb(218, 165, 27)"
         },
         "name": "HAPPY",
         "offsetgroup": "HAPPY",
         "orientation": "v",
         "showlegend": true,
         "textposition": "auto",
         "type": "bar",
         "x": [
          "HAPPY"
         ],
         "xaxis": "x",
         "y": [
          6949
         ],
         "yaxis": "y"
        },
        {
         "alignmentgroup": "True",
         "hovertemplate": "sell_symbol=%{x}<br>#_trades=%{y}<extra></extra>",
         "legendgroup": "UST",
         "marker": {
          "color": "rgb(47, 138, 196)"
         },
         "name": "UST",
         "offsetgroup": "UST",
         "orientation": "v",
         "showlegend": true,
         "textposition": "auto",
         "type": "bar",
         "x": [
          "UST",
          "UST"
         ],
         "xaxis": "x",
         "y": [
          7285,
          5680
         ],
         "yaxis": "y"
        },
        {
         "alignmentgroup": "True",
         "hovertemplate": "sell_symbol=%{x}<br>#_trades=%{y}<extra></extra>",
         "legendgroup": "AQUAGOAT",
         "marker": {
          "color": "rgb(118, 78, 159)"
         },
         "name": "AQUAGOAT",
         "offsetgroup": "AQUAGOAT",
         "orientation": "v",
         "showlegend": true,
         "textposition": "auto",
         "type": "bar",
         "x": [
          "AQUAGOAT"
         ],
         "xaxis": "x",
         "y": [
          10071
         ],
         "yaxis": "y"
        },
        {
         "alignmentgroup": "True",
         "hovertemplate": "sell_symbol=%{x}<br>#_trades=%{y}<extra></extra>",
         "legendgroup": "DHOUSE",
         "marker": {
          "color": "rgb(237, 100, 90)"
         },
         "name": "DHOUSE",
         "offsetgroup": "DHOUSE",
         "orientation": "v",
         "showlegend": true,
         "textposition": "auto",
         "type": "bar",
         "x": [
          "DHOUSE"
         ],
         "xaxis": "x",
         "y": [
          6408
         ],
         "yaxis": "y"
        },
        {
         "alignmentgroup": "True",
         "hovertemplate": "sell_symbol=%{x}<br>#_trades=%{y}<extra></extra>",
         "legendgroup": "SAFEP",
         "marker": {
          "color": "rgb(165, 170, 153)"
         },
         "name": "SAFEP",
         "offsetgroup": "SAFEP",
         "orientation": "v",
         "showlegend": true,
         "textposition": "auto",
         "type": "bar",
         "x": [
          "SAFEP"
         ],
         "xaxis": "x",
         "y": [
          8680
         ],
         "yaxis": "y"
        },
        {
         "alignmentgroup": "True",
         "hovertemplate": "sell_symbol=%{x}<br>#_trades=%{y}<extra></extra>",
         "legendgroup": "BETH",
         "marker": {
          "color": "rgb(229, 134, 6)"
         },
         "name": "BETH",
         "offsetgroup": "BETH",
         "orientation": "v",
         "showlegend": true,
         "textposition": "auto",
         "type": "bar",
         "x": [
          "BETH"
         ],
         "xaxis": "x",
         "y": [
          1261
         ],
         "yaxis": "y"
        },
        {
         "alignmentgroup": "True",
         "hovertemplate": "sell_symbol=%{x}<br>#_trades=%{y}<extra></extra>",
         "legendgroup": "BGOV",
         "marker": {
          "color": "rgb(93, 105, 177)"
         },
         "name": "BGOV",
         "offsetgroup": "BGOV",
         "orientation": "v",
         "showlegend": true,
         "textposition": "auto",
         "type": "bar",
         "x": [
          "BGOV"
         ],
         "xaxis": "x",
         "y": [
          1927
         ],
         "yaxis": "y"
        },
        {
         "alignmentgroup": "True",
         "hovertemplate": "sell_symbol=%{x}<br>#_trades=%{y}<extra></extra>",
         "legendgroup": "ASS",
         "marker": {
          "color": "rgb(82, 188, 163)"
         },
         "name": "ASS",
         "offsetgroup": "ASS",
         "orientation": "v",
         "showlegend": true,
         "textposition": "auto",
         "type": "bar",
         "x": [
          "ASS"
         ],
         "xaxis": "x",
         "y": [
          6448
         ],
         "yaxis": "y"
        },
        {
         "alignmentgroup": "True",
         "hovertemplate": "sell_symbol=%{x}<br>#_trades=%{y}<extra></extra>",
         "legendgroup": "BIFI",
         "marker": {
          "color": "rgb(153, 201, 69)"
         },
         "name": "BIFI",
         "offsetgroup": "BIFI",
         "orientation": "v",
         "showlegend": true,
         "textposition": "auto",
         "type": "bar",
         "x": [
          "BIFI"
         ],
         "xaxis": "x",
         "y": [
          8708
         ],
         "yaxis": "y"
        },
        {
         "alignmentgroup": "True",
         "hovertemplate": "sell_symbol=%{x}<br>#_trades=%{y}<extra></extra>",
         "legendgroup": "FAIR",
         "marker": {
          "color": "rgb(204, 97, 176)"
         },
         "name": "FAIR",
         "offsetgroup": "FAIR",
         "orientation": "v",
         "showlegend": true,
         "textposition": "auto",
         "type": "bar",
         "x": [
          "FAIR"
         ],
         "xaxis": "x",
         "y": [
          5825
         ],
         "yaxis": "y"
        },
        {
         "alignmentgroup": "True",
         "hovertemplate": "sell_symbol=%{x}<br>#_trades=%{y}<extra></extra>",
         "legendgroup": "GMT",
         "marker": {
          "color": "rgb(36, 121, 108)"
         },
         "name": "GMT",
         "offsetgroup": "GMT",
         "orientation": "v",
         "showlegend": true,
         "textposition": "auto",
         "type": "bar",
         "x": [
          "GMT"
         ],
         "xaxis": "x",
         "y": [
          1952
         ],
         "yaxis": "y"
        },
        {
         "alignmentgroup": "True",
         "hovertemplate": "sell_symbol=%{x}<br>#_trades=%{y}<extra></extra>",
         "legendgroup": "XRP",
         "marker": {
          "color": "rgb(218, 165, 27)"
         },
         "name": "XRP",
         "offsetgroup": "XRP",
         "orientation": "v",
         "showlegend": true,
         "textposition": "auto",
         "type": "bar",
         "x": [
          "XRP"
         ],
         "xaxis": "x",
         "y": [
          6525
         ],
         "yaxis": "y"
        },
        {
         "alignmentgroup": "True",
         "hovertemplate": "sell_symbol=%{x}<br>#_trades=%{y}<extra></extra>",
         "legendgroup": "RX",
         "marker": {
          "color": "rgb(47, 138, 196)"
         },
         "name": "RX",
         "offsetgroup": "RX",
         "orientation": "v",
         "showlegend": true,
         "textposition": "auto",
         "type": "bar",
         "x": [
          "RX"
         ],
         "xaxis": "x",
         "y": [
          4952
         ],
         "yaxis": "y"
        },
        {
         "alignmentgroup": "True",
         "hovertemplate": "sell_symbol=%{x}<br>#_trades=%{y}<extra></extra>",
         "legendgroup": "SAFEGALAXY",
         "marker": {
          "color": "rgb(118, 78, 159)"
         },
         "name": "SAFEGALAXY",
         "offsetgroup": "SAFEGALAXY",
         "orientation": "v",
         "showlegend": true,
         "textposition": "auto",
         "type": "bar",
         "x": [
          "SAFEGALAXY"
         ],
         "xaxis": "x",
         "y": [
          5573
         ],
         "yaxis": "y"
        },
        {
         "alignmentgroup": "True",
         "hovertemplate": "sell_symbol=%{x}<br>#_trades=%{y}<extra></extra>",
         "legendgroup": "WAF",
         "marker": {
          "color": "rgb(237, 100, 90)"
         },
         "name": "WAF",
         "offsetgroup": "WAF",
         "orientation": "v",
         "showlegend": true,
         "textposition": "auto",
         "type": "bar",
         "x": [
          "WAF"
         ],
         "xaxis": "x",
         "y": [
          3210
         ],
         "yaxis": "y"
        },
        {
         "alignmentgroup": "True",
         "hovertemplate": "sell_symbol=%{x}<br>#_trades=%{y}<extra></extra>",
         "legendgroup": "VGD",
         "marker": {
          "color": "rgb(165, 170, 153)"
         },
         "name": "VGD",
         "offsetgroup": "VGD",
         "orientation": "v",
         "showlegend": true,
         "textposition": "auto",
         "type": "bar",
         "x": [
          "VGD"
         ],
         "xaxis": "x",
         "y": [
          9640
         ],
         "yaxis": "y"
        },
        {
         "alignmentgroup": "True",
         "hovertemplate": "sell_symbol=%{x}<br>#_trades=%{y}<extra></extra>",
         "legendgroup": "MEL",
         "marker": {
          "color": "rgb(229, 134, 6)"
         },
         "name": "MEL",
         "offsetgroup": "MEL",
         "orientation": "v",
         "showlegend": true,
         "textposition": "auto",
         "type": "bar",
         "x": [
          "MEL",
          "MEL"
         ],
         "xaxis": "x",
         "y": [
          5331,
          4494
         ],
         "yaxis": "y"
        },
        {
         "alignmentgroup": "True",
         "hovertemplate": "sell_symbol=%{x}<br>#_trades=%{y}<extra></extra>",
         "legendgroup": "PIT",
         "marker": {
          "color": "rgb(93, 105, 177)"
         },
         "name": "PIT",
         "offsetgroup": "PIT",
         "orientation": "v",
         "showlegend": true,
         "textposition": "auto",
         "type": "bar",
         "x": [
          "PIT"
         ],
         "xaxis": "x",
         "y": [
          7834
         ],
         "yaxis": "y"
        },
        {
         "alignmentgroup": "True",
         "hovertemplate": "sell_symbol=%{x}<br>#_trades=%{y}<extra></extra>",
         "legendgroup": "CATNIP",
         "marker": {
          "color": "rgb(82, 188, 163)"
         },
         "name": "CATNIP",
         "offsetgroup": "CATNIP",
         "orientation": "v",
         "showlegend": true,
         "textposition": "auto",
         "type": "bar",
         "x": [
          "CATNIP"
         ],
         "xaxis": "x",
         "y": [
          5510
         ],
         "yaxis": "y"
        },
        {
         "alignmentgroup": "True",
         "hovertemplate": "sell_symbol=%{x}<br>#_trades=%{y}<extra></extra>",
         "legendgroup": "TACOCAT",
         "marker": {
          "color": "rgb(153, 201, 69)"
         },
         "name": "TACOCAT",
         "offsetgroup": "TACOCAT",
         "orientation": "v",
         "showlegend": true,
         "textposition": "auto",
         "type": "bar",
         "x": [
          "TACOCAT"
         ],
         "xaxis": "x",
         "y": [
          4269
         ],
         "yaxis": "y"
        },
        {
         "alignmentgroup": "True",
         "hovertemplate": "sell_symbol=%{x}<br>#_trades=%{y}<extra></extra>",
         "legendgroup": "WINDY",
         "marker": {
          "color": "rgb(204, 97, 176)"
         },
         "name": "WINDY",
         "offsetgroup": "WINDY",
         "orientation": "v",
         "showlegend": true,
         "textposition": "auto",
         "type": "bar",
         "x": [
          "WINDY"
         ],
         "xaxis": "x",
         "y": [
          5094
         ],
         "yaxis": "y"
        },
        {
         "alignmentgroup": "True",
         "hovertemplate": "sell_symbol=%{x}<br>#_trades=%{y}<extra></extra>",
         "legendgroup": "Mooni",
         "marker": {
          "color": "rgb(36, 121, 108)"
         },
         "name": "Mooni",
         "offsetgroup": "Mooni",
         "orientation": "v",
         "showlegend": true,
         "textposition": "auto",
         "type": "bar",
         "x": [
          "Mooni"
         ],
         "xaxis": "x",
         "y": [
          6465
         ],
         "yaxis": "y"
        },
        {
         "alignmentgroup": "True",
         "hovertemplate": "sell_symbol=%{x}<br>#_trades=%{y}<extra></extra>",
         "legendgroup": "Tcake",
         "marker": {
          "color": "rgb(218, 165, 27)"
         },
         "name": "Tcake",
         "offsetgroup": "Tcake",
         "orientation": "v",
         "showlegend": true,
         "textposition": "auto",
         "type": "bar",
         "x": [
          "Tcake"
         ],
         "xaxis": "x",
         "y": [
          4188
         ],
         "yaxis": "y"
        },
        {
         "alignmentgroup": "True",
         "hovertemplate": "sell_symbol=%{x}<br>#_trades=%{y}<extra></extra>",
         "legendgroup": "MOONSHOT",
         "marker": {
          "color": "rgb(47, 138, 196)"
         },
         "name": "MOONSHOT",
         "offsetgroup": "MOONSHOT",
         "orientation": "v",
         "showlegend": true,
         "textposition": "auto",
         "type": "bar",
         "x": [
          "MOONSHOT"
         ],
         "xaxis": "x",
         "y": [
          5409
         ],
         "yaxis": "y"
        },
        {
         "alignmentgroup": "True",
         "hovertemplate": "sell_symbol=%{x}<br>#_trades=%{y}<extra></extra>",
         "legendgroup": "KEY",
         "marker": {
          "color": "rgb(118, 78, 159)"
         },
         "name": "KEY",
         "offsetgroup": "KEY",
         "orientation": "v",
         "showlegend": true,
         "textposition": "auto",
         "type": "bar",
         "x": [
          "KEY"
         ],
         "xaxis": "x",
         "y": [
          4425
         ],
         "yaxis": "y"
        },
        {
         "alignmentgroup": "True",
         "hovertemplate": "sell_symbol=%{x}<br>#_trades=%{y}<extra></extra>",
         "legendgroup": "sBDO",
         "marker": {
          "color": "rgb(237, 100, 90)"
         },
         "name": "sBDO",
         "offsetgroup": "sBDO",
         "orientation": "v",
         "showlegend": true,
         "textposition": "auto",
         "type": "bar",
         "x": [
          "sBDO"
         ],
         "xaxis": "x",
         "y": [
          2448
         ],
         "yaxis": "y"
        },
        {
         "alignmentgroup": "True",
         "hovertemplate": "sell_symbol=%{x}<br>#_trades=%{y}<extra></extra>",
         "legendgroup": "BBQ",
         "marker": {
          "color": "rgb(165, 170, 153)"
         },
         "name": "BBQ",
         "offsetgroup": "BBQ",
         "orientation": "v",
         "showlegend": true,
         "textposition": "auto",
         "type": "bar",
         "x": [
          "BBQ"
         ],
         "xaxis": "x",
         "y": [
          3966
         ],
         "yaxis": "y"
        },
        {
         "alignmentgroup": "True",
         "hovertemplate": "sell_symbol=%{x}<br>#_trades=%{y}<extra></extra>",
         "legendgroup": "OCTA",
         "marker": {
          "color": "rgb(229, 134, 6)"
         },
         "name": "OCTA",
         "offsetgroup": "OCTA",
         "orientation": "v",
         "showlegend": true,
         "textposition": "auto",
         "type": "bar",
         "x": [
          "OCTA"
         ],
         "xaxis": "x",
         "y": [
          5012
         ],
         "yaxis": "y"
        },
        {
         "alignmentgroup": "True",
         "hovertemplate": "sell_symbol=%{x}<br>#_trades=%{y}<extra></extra>",
         "legendgroup": "BDO",
         "marker": {
          "color": "rgb(93, 105, 177)"
         },
         "name": "BDO",
         "offsetgroup": "BDO",
         "orientation": "v",
         "showlegend": true,
         "textposition": "auto",
         "type": "bar",
         "x": [
          "BDO"
         ],
         "xaxis": "x",
         "y": [
          3247
         ],
         "yaxis": "y"
        },
        {
         "alignmentgroup": "True",
         "hovertemplate": "sell_symbol=%{x}<br>#_trades=%{y}<extra></extra>",
         "legendgroup": "PBT ",
         "marker": {
          "color": "rgb(82, 188, 163)"
         },
         "name": "PBT ",
         "offsetgroup": "PBT ",
         "orientation": "v",
         "showlegend": true,
         "textposition": "auto",
         "type": "bar",
         "x": [
          "PBT "
         ],
         "xaxis": "x",
         "y": [
          2774
         ],
         "yaxis": "y"
        }
       ],
       "layout": {
        "barmode": "relative",
        "legend": {
         "title": {
          "text": "sell_symbol"
         },
         "tracegroupgap": 0
        },
        "template": {
         "data": {
          "bar": [
           {
            "error_x": {
             "color": "#2a3f5f"
            },
            "error_y": {
             "color": "#2a3f5f"
            },
            "marker": {
             "line": {
              "color": "white",
              "width": 0.5
             }
            },
            "type": "bar"
           }
          ],
          "barpolar": [
           {
            "marker": {
             "line": {
              "color": "white",
              "width": 0.5
             }
            },
            "type": "barpolar"
           }
          ],
          "carpet": [
           {
            "aaxis": {
             "endlinecolor": "#2a3f5f",
             "gridcolor": "#C8D4E3",
             "linecolor": "#C8D4E3",
             "minorgridcolor": "#C8D4E3",
             "startlinecolor": "#2a3f5f"
            },
            "baxis": {
             "endlinecolor": "#2a3f5f",
             "gridcolor": "#C8D4E3",
             "linecolor": "#C8D4E3",
             "minorgridcolor": "#C8D4E3",
             "startlinecolor": "#2a3f5f"
            },
            "type": "carpet"
           }
          ],
          "choropleth": [
           {
            "colorbar": {
             "outlinewidth": 0,
             "ticks": ""
            },
            "type": "choropleth"
           }
          ],
          "contour": [
           {
            "colorbar": {
             "outlinewidth": 0,
             "ticks": ""
            },
            "colorscale": [
             [
              0,
              "#0d0887"
             ],
             [
              0.1111111111111111,
              "#46039f"
             ],
             [
              0.2222222222222222,
              "#7201a8"
             ],
             [
              0.3333333333333333,
              "#9c179e"
             ],
             [
              0.4444444444444444,
              "#bd3786"
             ],
             [
              0.5555555555555556,
              "#d8576b"
             ],
             [
              0.6666666666666666,
              "#ed7953"
             ],
             [
              0.7777777777777778,
              "#fb9f3a"
             ],
             [
              0.8888888888888888,
              "#fdca26"
             ],
             [
              1,
              "#f0f921"
             ]
            ],
            "type": "contour"
           }
          ],
          "contourcarpet": [
           {
            "colorbar": {
             "outlinewidth": 0,
             "ticks": ""
            },
            "type": "contourcarpet"
           }
          ],
          "heatmap": [
           {
            "colorbar": {
             "outlinewidth": 0,
             "ticks": ""
            },
            "colorscale": [
             [
              0,
              "#0d0887"
             ],
             [
              0.1111111111111111,
              "#46039f"
             ],
             [
              0.2222222222222222,
              "#7201a8"
             ],
             [
              0.3333333333333333,
              "#9c179e"
             ],
             [
              0.4444444444444444,
              "#bd3786"
             ],
             [
              0.5555555555555556,
              "#d8576b"
             ],
             [
              0.6666666666666666,
              "#ed7953"
             ],
             [
              0.7777777777777778,
              "#fb9f3a"
             ],
             [
              0.8888888888888888,
              "#fdca26"
             ],
             [
              1,
              "#f0f921"
             ]
            ],
            "type": "heatmap"
           }
          ],
          "heatmapgl": [
           {
            "colorbar": {
             "outlinewidth": 0,
             "ticks": ""
            },
            "colorscale": [
             [
              0,
              "#0d0887"
             ],
             [
              0.1111111111111111,
              "#46039f"
             ],
             [
              0.2222222222222222,
              "#7201a8"
             ],
             [
              0.3333333333333333,
              "#9c179e"
             ],
             [
              0.4444444444444444,
              "#bd3786"
             ],
             [
              0.5555555555555556,
              "#d8576b"
             ],
             [
              0.6666666666666666,
              "#ed7953"
             ],
             [
              0.7777777777777778,
              "#fb9f3a"
             ],
             [
              0.8888888888888888,
              "#fdca26"
             ],
             [
              1,
              "#f0f921"
             ]
            ],
            "type": "heatmapgl"
           }
          ],
          "histogram": [
           {
            "marker": {
             "colorbar": {
              "outlinewidth": 0,
              "ticks": ""
             }
            },
            "type": "histogram"
           }
          ],
          "histogram2d": [
           {
            "colorbar": {
             "outlinewidth": 0,
             "ticks": ""
            },
            "colorscale": [
             [
              0,
              "#0d0887"
             ],
             [
              0.1111111111111111,
              "#46039f"
             ],
             [
              0.2222222222222222,
              "#7201a8"
             ],
             [
              0.3333333333333333,
              "#9c179e"
             ],
             [
              0.4444444444444444,
              "#bd3786"
             ],
             [
              0.5555555555555556,
              "#d8576b"
             ],
             [
              0.6666666666666666,
              "#ed7953"
             ],
             [
              0.7777777777777778,
              "#fb9f3a"
             ],
             [
              0.8888888888888888,
              "#fdca26"
             ],
             [
              1,
              "#f0f921"
             ]
            ],
            "type": "histogram2d"
           }
          ],
          "histogram2dcontour": [
           {
            "colorbar": {
             "outlinewidth": 0,
             "ticks": ""
            },
            "colorscale": [
             [
              0,
              "#0d0887"
             ],
             [
              0.1111111111111111,
              "#46039f"
             ],
             [
              0.2222222222222222,
              "#7201a8"
             ],
             [
              0.3333333333333333,
              "#9c179e"
             ],
             [
              0.4444444444444444,
              "#bd3786"
             ],
             [
              0.5555555555555556,
              "#d8576b"
             ],
             [
              0.6666666666666666,
              "#ed7953"
             ],
             [
              0.7777777777777778,
              "#fb9f3a"
             ],
             [
              0.8888888888888888,
              "#fdca26"
             ],
             [
              1,
              "#f0f921"
             ]
            ],
            "type": "histogram2dcontour"
           }
          ],
          "mesh3d": [
           {
            "colorbar": {
             "outlinewidth": 0,
             "ticks": ""
            },
            "type": "mesh3d"
           }
          ],
          "parcoords": [
           {
            "line": {
             "colorbar": {
              "outlinewidth": 0,
              "ticks": ""
             }
            },
            "type": "parcoords"
           }
          ],
          "pie": [
           {
            "automargin": true,
            "type": "pie"
           }
          ],
          "scatter": [
           {
            "marker": {
             "colorbar": {
              "outlinewidth": 0,
              "ticks": ""
             }
            },
            "type": "scatter"
           }
          ],
          "scatter3d": [
           {
            "line": {
             "colorbar": {
              "outlinewidth": 0,
              "ticks": ""
             }
            },
            "marker": {
             "colorbar": {
              "outlinewidth": 0,
              "ticks": ""
             }
            },
            "type": "scatter3d"
           }
          ],
          "scattercarpet": [
           {
            "marker": {
             "colorbar": {
              "outlinewidth": 0,
              "ticks": ""
             }
            },
            "type": "scattercarpet"
           }
          ],
          "scattergeo": [
           {
            "marker": {
             "colorbar": {
              "outlinewidth": 0,
              "ticks": ""
             }
            },
            "type": "scattergeo"
           }
          ],
          "scattergl": [
           {
            "marker": {
             "colorbar": {
              "outlinewidth": 0,
              "ticks": ""
             }
            },
            "type": "scattergl"
           }
          ],
          "scattermapbox": [
           {
            "marker": {
             "colorbar": {
              "outlinewidth": 0,
              "ticks": ""
             }
            },
            "type": "scattermapbox"
           }
          ],
          "scatterpolar": [
           {
            "marker": {
             "colorbar": {
              "outlinewidth": 0,
              "ticks": ""
             }
            },
            "type": "scatterpolar"
           }
          ],
          "scatterpolargl": [
           {
            "marker": {
             "colorbar": {
              "outlinewidth": 0,
              "ticks": ""
             }
            },
            "type": "scatterpolargl"
           }
          ],
          "scatterternary": [
           {
            "marker": {
             "colorbar": {
              "outlinewidth": 0,
              "ticks": ""
             }
            },
            "type": "scatterternary"
           }
          ],
          "surface": [
           {
            "colorbar": {
             "outlinewidth": 0,
             "ticks": ""
            },
            "colorscale": [
             [
              0,
              "#0d0887"
             ],
             [
              0.1111111111111111,
              "#46039f"
             ],
             [
              0.2222222222222222,
              "#7201a8"
             ],
             [
              0.3333333333333333,
              "#9c179e"
             ],
             [
              0.4444444444444444,
              "#bd3786"
             ],
             [
              0.5555555555555556,
              "#d8576b"
             ],
             [
              0.6666666666666666,
              "#ed7953"
             ],
             [
              0.7777777777777778,
              "#fb9f3a"
             ],
             [
              0.8888888888888888,
              "#fdca26"
             ],
             [
              1,
              "#f0f921"
             ]
            ],
            "type": "surface"
           }
          ],
          "table": [
           {
            "cells": {
             "fill": {
              "color": "#EBF0F8"
             },
             "line": {
              "color": "white"
             }
            },
            "header": {
             "fill": {
              "color": "#C8D4E3"
             },
             "line": {
              "color": "white"
             }
            },
            "type": "table"
           }
          ]
         },
         "layout": {
          "annotationdefaults": {
           "arrowcolor": "#2a3f5f",
           "arrowhead": 0,
           "arrowwidth": 1
          },
          "autotypenumbers": "strict",
          "coloraxis": {
           "colorbar": {
            "outlinewidth": 0,
            "ticks": ""
           }
          },
          "colorscale": {
           "diverging": [
            [
             0,
             "#8e0152"
            ],
            [
             0.1,
             "#c51b7d"
            ],
            [
             0.2,
             "#de77ae"
            ],
            [
             0.3,
             "#f1b6da"
            ],
            [
             0.4,
             "#fde0ef"
            ],
            [
             0.5,
             "#f7f7f7"
            ],
            [
             0.6,
             "#e6f5d0"
            ],
            [
             0.7,
             "#b8e186"
            ],
            [
             0.8,
             "#7fbc41"
            ],
            [
             0.9,
             "#4d9221"
            ],
            [
             1,
             "#276419"
            ]
           ],
           "sequential": [
            [
             0,
             "#0d0887"
            ],
            [
             0.1111111111111111,
             "#46039f"
            ],
            [
             0.2222222222222222,
             "#7201a8"
            ],
            [
             0.3333333333333333,
             "#9c179e"
            ],
            [
             0.4444444444444444,
             "#bd3786"
            ],
            [
             0.5555555555555556,
             "#d8576b"
            ],
            [
             0.6666666666666666,
             "#ed7953"
            ],
            [
             0.7777777777777778,
             "#fb9f3a"
            ],
            [
             0.8888888888888888,
             "#fdca26"
            ],
            [
             1,
             "#f0f921"
            ]
           ],
           "sequentialminus": [
            [
             0,
             "#0d0887"
            ],
            [
             0.1111111111111111,
             "#46039f"
            ],
            [
             0.2222222222222222,
             "#7201a8"
            ],
            [
             0.3333333333333333,
             "#9c179e"
            ],
            [
             0.4444444444444444,
             "#bd3786"
            ],
            [
             0.5555555555555556,
             "#d8576b"
            ],
            [
             0.6666666666666666,
             "#ed7953"
            ],
            [
             0.7777777777777778,
             "#fb9f3a"
            ],
            [
             0.8888888888888888,
             "#fdca26"
            ],
            [
             1,
             "#f0f921"
            ]
           ]
          },
          "colorway": [
           "#636efa",
           "#EF553B",
           "#00cc96",
           "#ab63fa",
           "#FFA15A",
           "#19d3f3",
           "#FF6692",
           "#B6E880",
           "#FF97FF",
           "#FECB52"
          ],
          "font": {
           "color": "#2a3f5f"
          },
          "geo": {
           "bgcolor": "white",
           "lakecolor": "white",
           "landcolor": "white",
           "showlakes": true,
           "showland": true,
           "subunitcolor": "#C8D4E3"
          },
          "hoverlabel": {
           "align": "left"
          },
          "hovermode": "closest",
          "mapbox": {
           "style": "light"
          },
          "paper_bgcolor": "white",
          "plot_bgcolor": "white",
          "polar": {
           "angularaxis": {
            "gridcolor": "#EBF0F8",
            "linecolor": "#EBF0F8",
            "ticks": ""
           },
           "bgcolor": "white",
           "radialaxis": {
            "gridcolor": "#EBF0F8",
            "linecolor": "#EBF0F8",
            "ticks": ""
           }
          },
          "scene": {
           "xaxis": {
            "backgroundcolor": "white",
            "gridcolor": "#DFE8F3",
            "gridwidth": 2,
            "linecolor": "#EBF0F8",
            "showbackground": true,
            "ticks": "",
            "zerolinecolor": "#EBF0F8"
           },
           "yaxis": {
            "backgroundcolor": "white",
            "gridcolor": "#DFE8F3",
            "gridwidth": 2,
            "linecolor": "#EBF0F8",
            "showbackground": true,
            "ticks": "",
            "zerolinecolor": "#EBF0F8"
           },
           "zaxis": {
            "backgroundcolor": "white",
            "gridcolor": "#DFE8F3",
            "gridwidth": 2,
            "linecolor": "#EBF0F8",
            "showbackground": true,
            "ticks": "",
            "zerolinecolor": "#EBF0F8"
           }
          },
          "shapedefaults": {
           "line": {
            "color": "#2a3f5f"
           }
          },
          "ternary": {
           "aaxis": {
            "gridcolor": "#DFE8F3",
            "linecolor": "#A2B1C6",
            "ticks": ""
           },
           "baxis": {
            "gridcolor": "#DFE8F3",
            "linecolor": "#A2B1C6",
            "ticks": ""
           },
           "bgcolor": "white",
           "caxis": {
            "gridcolor": "#DFE8F3",
            "linecolor": "#A2B1C6",
            "ticks": ""
           }
          },
          "title": {
           "x": 0.05
          },
          "xaxis": {
           "automargin": true,
           "gridcolor": "#EBF0F8",
           "linecolor": "#EBF0F8",
           "ticks": "",
           "title": {
            "standoff": 15
           },
           "zerolinecolor": "#EBF0F8",
           "zerolinewidth": 2
          },
          "yaxis": {
           "automargin": true,
           "gridcolor": "#EBF0F8",
           "linecolor": "#EBF0F8",
           "ticks": "",
           "title": {
            "standoff": 15
           },
           "zerolinecolor": "#EBF0F8",
           "zerolinewidth": 2
          }
         }
        },
        "title": {
         "text": "<b>Top Sell Symbols by Trading Volume in Past Week on PancakeSwap"
        },
        "xaxis": {
         "anchor": "y",
         "categoryarray": [
          "SAFEMOON",
          "BUNNY",
          "NFTART",
          "CUMMIES",
          "Dogefather",
          "BSCPAD",
          "ElonGate",
          "ECP",
          "AUTO",
          "BONFIRE",
          "BTCB",
          "EPS",
          "SPORE",
          "Forestry",
          "SEED",
          "TBAKE",
          "BSCS",
          "LOF",
          "100x",
          "SPND",
          "upBNB",
          "ALPACA",
          "KPAD",
          "BRICK",
          "SAFEMARS",
          "SAFEMOONCASH",
          "EGG",
          "HYPER",
          "MEMES",
          "BAKE",
          "SHILD",
          "BOG",
          "DOGE",
          "SLAM",
          "MOONMOON",
          "SENDWHALE",
          "DAI",
          "TREE",
          "SAFEBTC",
          "MOONLIGHT",
          "TWT",
          "MOONPIRATE",
          "Ramen",
          "EULER",
          "XVS",
          "SMG",
          "DINO",
          "SALT",
          "GEN",
          "DOT",
          "FEG",
          "MASH",
          "GEMS",
          "SUPERWAIFU",
          "Hamtaro",
          "ADA",
          "SPE",
          "NIU",
          "SAFECOMET",
          "HyMETEOR",
          "ZEP",
          "HAPPY",
          "UST",
          "AQUAGOAT",
          "DHOUSE",
          "SAFEP",
          "BETH",
          "BGOV",
          "ASS",
          "BIFI",
          "FAIR",
          "GMT",
          "XRP",
          "RX",
          "SAFEGALAXY",
          "WAF",
          "VGD",
          "MEL",
          "PIT",
          "CATNIP",
          "TACOCAT",
          "WINDY",
          "Mooni",
          "Tcake",
          "MOONSHOT",
          "KEY",
          "sBDO",
          "BBQ",
          "OCTA",
          "BDO",
          "PBT "
         ],
         "categoryorder": "array",
         "domain": [
          0,
          1
         ],
         "title": {
          "text": "sell_symbol"
         }
        },
        "yaxis": {
         "anchor": "x",
         "domain": [
          0,
          1
         ],
         "title": {
          "text": "#_trades"
         }
        }
       }
      },
      "text/html": [
       "<div>                            <div id=\"cd48128e-bbfc-4a39-a3ac-b384c1897bb6\" class=\"plotly-graph-div\" style=\"height:525px; width:100%;\"></div>            <script type=\"text/javascript\">                require([\"plotly\"], function(Plotly) {                    window.PLOTLYENV=window.PLOTLYENV || {};                                    if (document.getElementById(\"cd48128e-bbfc-4a39-a3ac-b384c1897bb6\")) {                    Plotly.newPlot(                        \"cd48128e-bbfc-4a39-a3ac-b384c1897bb6\",                        [{\"alignmentgroup\": \"True\", \"hovertemplate\": \"sell_symbol=%{x}<br>#_trades=%{y}<extra></extra>\", \"legendgroup\": \"SAFEMOON\", \"marker\": {\"color\": \"rgb(229, 134, 6)\"}, \"name\": \"SAFEMOON\", \"offsetgroup\": \"SAFEMOON\", \"orientation\": \"v\", \"showlegend\": true, \"textposition\": \"auto\", \"type\": \"bar\", \"x\": [\"SAFEMOON\"], \"xaxis\": \"x\", \"y\": [92153], \"yaxis\": \"y\"}, {\"alignmentgroup\": \"True\", \"hovertemplate\": \"sell_symbol=%{x}<br>#_trades=%{y}<extra></extra>\", \"legendgroup\": \"BUNNY\", \"marker\": {\"color\": \"rgb(93, 105, 177)\"}, \"name\": \"BUNNY\", \"offsetgroup\": \"BUNNY\", \"orientation\": \"v\", \"showlegend\": true, \"textposition\": \"auto\", \"type\": \"bar\", \"x\": [\"BUNNY\"], \"xaxis\": \"x\", \"y\": [148950], \"yaxis\": \"y\"}, {\"alignmentgroup\": \"True\", \"hovertemplate\": \"sell_symbol=%{x}<br>#_trades=%{y}<extra></extra>\", \"legendgroup\": \"NFTART\", \"marker\": {\"color\": \"rgb(82, 188, 163)\"}, \"name\": \"NFTART\", \"offsetgroup\": \"NFTART\", \"orientation\": \"v\", \"showlegend\": true, \"textposition\": \"auto\", \"type\": \"bar\", \"x\": [\"NFTART\"], \"xaxis\": \"x\", \"y\": [54586], \"yaxis\": \"y\"}, {\"alignmentgroup\": \"True\", \"hovertemplate\": \"sell_symbol=%{x}<br>#_trades=%{y}<extra></extra>\", \"legendgroup\": \"CUMMIES\", \"marker\": {\"color\": \"rgb(153, 201, 69)\"}, \"name\": \"CUMMIES\", \"offsetgroup\": \"CUMMIES\", \"orientation\": \"v\", \"showlegend\": true, \"textposition\": \"auto\", \"type\": \"bar\", \"x\": [\"CUMMIES\"], \"xaxis\": \"x\", \"y\": [34780], \"yaxis\": \"y\"}, {\"alignmentgroup\": \"True\", \"hovertemplate\": \"sell_symbol=%{x}<br>#_trades=%{y}<extra></extra>\", \"legendgroup\": \"Dogefather\", \"marker\": {\"color\": \"rgb(204, 97, 176)\"}, \"name\": \"Dogefather\", \"offsetgroup\": \"Dogefather\", \"orientation\": \"v\", \"showlegend\": true, \"textposition\": \"auto\", \"type\": \"bar\", \"x\": [\"Dogefather\"], \"xaxis\": \"x\", \"y\": [40625], \"yaxis\": \"y\"}, {\"alignmentgroup\": \"True\", \"hovertemplate\": \"sell_symbol=%{x}<br>#_trades=%{y}<extra></extra>\", \"legendgroup\": \"BSCPAD\", \"marker\": {\"color\": \"rgb(36, 121, 108)\"}, \"name\": \"BSCPAD\", \"offsetgroup\": \"BSCPAD\", \"orientation\": \"v\", \"showlegend\": true, \"textposition\": \"auto\", \"type\": \"bar\", \"x\": [\"BSCPAD\"], \"xaxis\": \"x\", \"y\": [17322], \"yaxis\": \"y\"}, {\"alignmentgroup\": \"True\", \"hovertemplate\": \"sell_symbol=%{x}<br>#_trades=%{y}<extra></extra>\", \"legendgroup\": \"ElonGate\", \"marker\": {\"color\": \"rgb(218, 165, 27)\"}, \"name\": \"ElonGate\", \"offsetgroup\": \"ElonGate\", \"orientation\": \"v\", \"showlegend\": true, \"textposition\": \"auto\", \"type\": \"bar\", \"x\": [\"ElonGate\"], \"xaxis\": \"x\", \"y\": [27444], \"yaxis\": \"y\"}, {\"alignmentgroup\": \"True\", \"hovertemplate\": \"sell_symbol=%{x}<br>#_trades=%{y}<extra></extra>\", \"legendgroup\": \"ECP\", \"marker\": {\"color\": \"rgb(47, 138, 196)\"}, \"name\": \"ECP\", \"offsetgroup\": \"ECP\", \"orientation\": \"v\", \"showlegend\": true, \"textposition\": \"auto\", \"type\": \"bar\", \"x\": [\"ECP\"], \"xaxis\": \"x\", \"y\": [29097], \"yaxis\": \"y\"}, {\"alignmentgroup\": \"True\", \"hovertemplate\": \"sell_symbol=%{x}<br>#_trades=%{y}<extra></extra>\", \"legendgroup\": \"AUTO\", \"marker\": {\"color\": \"rgb(118, 78, 159)\"}, \"name\": \"AUTO\", \"offsetgroup\": \"AUTO\", \"orientation\": \"v\", \"showlegend\": true, \"textposition\": \"auto\", \"type\": \"bar\", \"x\": [\"AUTO\"], \"xaxis\": \"x\", \"y\": [9123], \"yaxis\": \"y\"}, {\"alignmentgroup\": \"True\", \"hovertemplate\": \"sell_symbol=%{x}<br>#_trades=%{y}<extra></extra>\", \"legendgroup\": \"BONFIRE\", \"marker\": {\"color\": \"rgb(237, 100, 90)\"}, \"name\": \"BONFIRE\", \"offsetgroup\": \"BONFIRE\", \"orientation\": \"v\", \"showlegend\": true, \"textposition\": \"auto\", \"type\": \"bar\", \"x\": [\"BONFIRE\"], \"xaxis\": \"x\", \"y\": [27813], \"yaxis\": \"y\"}, {\"alignmentgroup\": \"True\", \"hovertemplate\": \"sell_symbol=%{x}<br>#_trades=%{y}<extra></extra>\", \"legendgroup\": \"BTCB\", \"marker\": {\"color\": \"rgb(165, 170, 153)\"}, \"name\": \"BTCB\", \"offsetgroup\": \"BTCB\", \"orientation\": \"v\", \"showlegend\": true, \"textposition\": \"auto\", \"type\": \"bar\", \"x\": [\"BTCB\", \"BTCB\"], \"xaxis\": \"x\", \"y\": [15898, 6817], \"yaxis\": \"y\"}, {\"alignmentgroup\": \"True\", \"hovertemplate\": \"sell_symbol=%{x}<br>#_trades=%{y}<extra></extra>\", \"legendgroup\": \"EPS\", \"marker\": {\"color\": \"rgb(229, 134, 6)\"}, \"name\": \"EPS\", \"offsetgroup\": \"EPS\", \"orientation\": \"v\", \"showlegend\": true, \"textposition\": \"auto\", \"type\": \"bar\", \"x\": [\"EPS\"], \"xaxis\": \"x\", \"y\": [6799], \"yaxis\": \"y\"}, {\"alignmentgroup\": \"True\", \"hovertemplate\": \"sell_symbol=%{x}<br>#_trades=%{y}<extra></extra>\", \"legendgroup\": \"SPORE\", \"marker\": {\"color\": \"rgb(93, 105, 177)\"}, \"name\": \"SPORE\", \"offsetgroup\": \"SPORE\", \"orientation\": \"v\", \"showlegend\": true, \"textposition\": \"auto\", \"type\": \"bar\", \"x\": [\"SPORE\"], \"xaxis\": \"x\", \"y\": [49709], \"yaxis\": \"y\"}, {\"alignmentgroup\": \"True\", \"hovertemplate\": \"sell_symbol=%{x}<br>#_trades=%{y}<extra></extra>\", \"legendgroup\": \"Forestry\", \"marker\": {\"color\": \"rgb(82, 188, 163)\"}, \"name\": \"Forestry\", \"offsetgroup\": \"Forestry\", \"orientation\": \"v\", \"showlegend\": true, \"textposition\": \"auto\", \"type\": \"bar\", \"x\": [\"Forestry\"], \"xaxis\": \"x\", \"y\": [18078], \"yaxis\": \"y\"}, {\"alignmentgroup\": \"True\", \"hovertemplate\": \"sell_symbol=%{x}<br>#_trades=%{y}<extra></extra>\", \"legendgroup\": \"SEED\", \"marker\": {\"color\": \"rgb(153, 201, 69)\"}, \"name\": \"SEED\", \"offsetgroup\": \"SEED\", \"orientation\": \"v\", \"showlegend\": true, \"textposition\": \"auto\", \"type\": \"bar\", \"x\": [\"SEED\", \"SEED\"], \"xaxis\": \"x\", \"y\": [11717, 12711], \"yaxis\": \"y\"}, {\"alignmentgroup\": \"True\", \"hovertemplate\": \"sell_symbol=%{x}<br>#_trades=%{y}<extra></extra>\", \"legendgroup\": \"TBAKE\", \"marker\": {\"color\": \"rgb(204, 97, 176)\"}, \"name\": \"TBAKE\", \"offsetgroup\": \"TBAKE\", \"orientation\": \"v\", \"showlegend\": true, \"textposition\": \"auto\", \"type\": \"bar\", \"x\": [\"TBAKE\"], \"xaxis\": \"x\", \"y\": [15145], \"yaxis\": \"y\"}, {\"alignmentgroup\": \"True\", \"hovertemplate\": \"sell_symbol=%{x}<br>#_trades=%{y}<extra></extra>\", \"legendgroup\": \"BSCS\", \"marker\": {\"color\": \"rgb(36, 121, 108)\"}, \"name\": \"BSCS\", \"offsetgroup\": \"BSCS\", \"orientation\": \"v\", \"showlegend\": true, \"textposition\": \"auto\", \"type\": \"bar\", \"x\": [\"BSCS\"], \"xaxis\": \"x\", \"y\": [10771], \"yaxis\": \"y\"}, {\"alignmentgroup\": \"True\", \"hovertemplate\": \"sell_symbol=%{x}<br>#_trades=%{y}<extra></extra>\", \"legendgroup\": \"LOF\", \"marker\": {\"color\": \"rgb(218, 165, 27)\"}, \"name\": \"LOF\", \"offsetgroup\": \"LOF\", \"orientation\": \"v\", \"showlegend\": true, \"textposition\": \"auto\", \"type\": \"bar\", \"x\": [\"LOF\"], \"xaxis\": \"x\", \"y\": [12644], \"yaxis\": \"y\"}, {\"alignmentgroup\": \"True\", \"hovertemplate\": \"sell_symbol=%{x}<br>#_trades=%{y}<extra></extra>\", \"legendgroup\": \"100x\", \"marker\": {\"color\": \"rgb(47, 138, 196)\"}, \"name\": \"100x\", \"offsetgroup\": \"100x\", \"orientation\": \"v\", \"showlegend\": true, \"textposition\": \"auto\", \"type\": \"bar\", \"x\": [\"100x\"], \"xaxis\": \"x\", \"y\": [16178], \"yaxis\": \"y\"}, {\"alignmentgroup\": \"True\", \"hovertemplate\": \"sell_symbol=%{x}<br>#_trades=%{y}<extra></extra>\", \"legendgroup\": \"SPND\", \"marker\": {\"color\": \"rgb(118, 78, 159)\"}, \"name\": \"SPND\", \"offsetgroup\": \"SPND\", \"orientation\": \"v\", \"showlegend\": true, \"textposition\": \"auto\", \"type\": \"bar\", \"x\": [\"SPND\"], \"xaxis\": \"x\", \"y\": [14506], \"yaxis\": \"y\"}, {\"alignmentgroup\": \"True\", \"hovertemplate\": \"sell_symbol=%{x}<br>#_trades=%{y}<extra></extra>\", \"legendgroup\": \"upBNB\", \"marker\": {\"color\": \"rgb(237, 100, 90)\"}, \"name\": \"upBNB\", \"offsetgroup\": \"upBNB\", \"orientation\": \"v\", \"showlegend\": true, \"textposition\": \"auto\", \"type\": \"bar\", \"x\": [\"upBNB\"], \"xaxis\": \"x\", \"y\": [9455], \"yaxis\": \"y\"}, {\"alignmentgroup\": \"True\", \"hovertemplate\": \"sell_symbol=%{x}<br>#_trades=%{y}<extra></extra>\", \"legendgroup\": \"ALPACA\", \"marker\": {\"color\": \"rgb(165, 170, 153)\"}, \"name\": \"ALPACA\", \"offsetgroup\": \"ALPACA\", \"orientation\": \"v\", \"showlegend\": true, \"textposition\": \"auto\", \"type\": \"bar\", \"x\": [\"ALPACA\"], \"xaxis\": \"x\", \"y\": [5591], \"yaxis\": \"y\"}, {\"alignmentgroup\": \"True\", \"hovertemplate\": \"sell_symbol=%{x}<br>#_trades=%{y}<extra></extra>\", \"legendgroup\": \"KPAD\", \"marker\": {\"color\": \"rgb(229, 134, 6)\"}, \"name\": \"KPAD\", \"offsetgroup\": \"KPAD\", \"orientation\": \"v\", \"showlegend\": true, \"textposition\": \"auto\", \"type\": \"bar\", \"x\": [\"KPAD\"], \"xaxis\": \"x\", \"y\": [8306], \"yaxis\": \"y\"}, {\"alignmentgroup\": \"True\", \"hovertemplate\": \"sell_symbol=%{x}<br>#_trades=%{y}<extra></extra>\", \"legendgroup\": \"BRICK\", \"marker\": {\"color\": \"rgb(93, 105, 177)\"}, \"name\": \"BRICK\", \"offsetgroup\": \"BRICK\", \"orientation\": \"v\", \"showlegend\": true, \"textposition\": \"auto\", \"type\": \"bar\", \"x\": [\"BRICK\", \"BRICK\"], \"xaxis\": \"x\", \"y\": [8729, 8260], \"yaxis\": \"y\"}, {\"alignmentgroup\": \"True\", \"hovertemplate\": \"sell_symbol=%{x}<br>#_trades=%{y}<extra></extra>\", \"legendgroup\": \"SAFEMARS\", \"marker\": {\"color\": \"rgb(82, 188, 163)\"}, \"name\": \"SAFEMARS\", \"offsetgroup\": \"SAFEMARS\", \"orientation\": \"v\", \"showlegend\": true, \"textposition\": \"auto\", \"type\": \"bar\", \"x\": [\"SAFEMARS\"], \"xaxis\": \"x\", \"y\": [10303], \"yaxis\": \"y\"}, {\"alignmentgroup\": \"True\", \"hovertemplate\": \"sell_symbol=%{x}<br>#_trades=%{y}<extra></extra>\", \"legendgroup\": \"SAFEMOONCASH\", \"marker\": {\"color\": \"rgb(153, 201, 69)\"}, \"name\": \"SAFEMOONCASH\", \"offsetgroup\": \"SAFEMOONCASH\", \"orientation\": \"v\", \"showlegend\": true, \"textposition\": \"auto\", \"type\": \"bar\", \"x\": [\"SAFEMOONCASH\"], \"xaxis\": \"x\", \"y\": [13765], \"yaxis\": \"y\"}, {\"alignmentgroup\": \"True\", \"hovertemplate\": \"sell_symbol=%{x}<br>#_trades=%{y}<extra></extra>\", \"legendgroup\": \"EGG\", \"marker\": {\"color\": \"rgb(204, 97, 176)\"}, \"name\": \"EGG\", \"offsetgroup\": \"EGG\", \"orientation\": \"v\", \"showlegend\": true, \"textposition\": \"auto\", \"type\": \"bar\", \"x\": [\"EGG\", \"EGG\"], \"xaxis\": \"x\", \"y\": [5722, 4097], \"yaxis\": \"y\"}, {\"alignmentgroup\": \"True\", \"hovertemplate\": \"sell_symbol=%{x}<br>#_trades=%{y}<extra></extra>\", \"legendgroup\": \"HYPER\", \"marker\": {\"color\": \"rgb(36, 121, 108)\"}, \"name\": \"HYPER\", \"offsetgroup\": \"HYPER\", \"orientation\": \"v\", \"showlegend\": true, \"textposition\": \"auto\", \"type\": \"bar\", \"x\": [\"HYPER\"], \"xaxis\": \"x\", \"y\": [12324], \"yaxis\": \"y\"}, {\"alignmentgroup\": \"True\", \"hovertemplate\": \"sell_symbol=%{x}<br>#_trades=%{y}<extra></extra>\", \"legendgroup\": \"MEMES\", \"marker\": {\"color\": \"rgb(218, 165, 27)\"}, \"name\": \"MEMES\", \"offsetgroup\": \"MEMES\", \"orientation\": \"v\", \"showlegend\": true, \"textposition\": \"auto\", \"type\": \"bar\", \"x\": [\"MEMES\"], \"xaxis\": \"x\", \"y\": [13289], \"yaxis\": \"y\"}, {\"alignmentgroup\": \"True\", \"hovertemplate\": \"sell_symbol=%{x}<br>#_trades=%{y}<extra></extra>\", \"legendgroup\": \"BAKE\", \"marker\": {\"color\": \"rgb(47, 138, 196)\"}, \"name\": \"BAKE\", \"offsetgroup\": \"BAKE\", \"orientation\": \"v\", \"showlegend\": true, \"textposition\": \"auto\", \"type\": \"bar\", \"x\": [\"BAKE\"], \"xaxis\": \"x\", \"y\": [10168], \"yaxis\": \"y\"}, {\"alignmentgroup\": \"True\", \"hovertemplate\": \"sell_symbol=%{x}<br>#_trades=%{y}<extra></extra>\", \"legendgroup\": \"SHILD\", \"marker\": {\"color\": \"rgb(118, 78, 159)\"}, \"name\": \"SHILD\", \"offsetgroup\": \"SHILD\", \"orientation\": \"v\", \"showlegend\": true, \"textposition\": \"auto\", \"type\": \"bar\", \"x\": [\"SHILD\"], \"xaxis\": \"x\", \"y\": [10198], \"yaxis\": \"y\"}, {\"alignmentgroup\": \"True\", \"hovertemplate\": \"sell_symbol=%{x}<br>#_trades=%{y}<extra></extra>\", \"legendgroup\": \"BOG\", \"marker\": {\"color\": \"rgb(237, 100, 90)\"}, \"name\": \"BOG\", \"offsetgroup\": \"BOG\", \"orientation\": \"v\", \"showlegend\": true, \"textposition\": \"auto\", \"type\": \"bar\", \"x\": [\"BOG\"], \"xaxis\": \"x\", \"y\": [5323], \"yaxis\": \"y\"}, {\"alignmentgroup\": \"True\", \"hovertemplate\": \"sell_symbol=%{x}<br>#_trades=%{y}<extra></extra>\", \"legendgroup\": \"DOGE\", \"marker\": {\"color\": \"rgb(165, 170, 153)\"}, \"name\": \"DOGE\", \"offsetgroup\": \"DOGE\", \"orientation\": \"v\", \"showlegend\": true, \"textposition\": \"auto\", \"type\": \"bar\", \"x\": [\"DOGE\"], \"xaxis\": \"x\", \"y\": [9282], \"yaxis\": \"y\"}, {\"alignmentgroup\": \"True\", \"hovertemplate\": \"sell_symbol=%{x}<br>#_trades=%{y}<extra></extra>\", \"legendgroup\": \"SLAM\", \"marker\": {\"color\": \"rgb(229, 134, 6)\"}, \"name\": \"SLAM\", \"offsetgroup\": \"SLAM\", \"orientation\": \"v\", \"showlegend\": true, \"textposition\": \"auto\", \"type\": \"bar\", \"x\": [\"SLAM\"], \"xaxis\": \"x\", \"y\": [10329], \"yaxis\": \"y\"}, {\"alignmentgroup\": \"True\", \"hovertemplate\": \"sell_symbol=%{x}<br>#_trades=%{y}<extra></extra>\", \"legendgroup\": \"MOONMOON\", \"marker\": {\"color\": \"rgb(93, 105, 177)\"}, \"name\": \"MOONMOON\", \"offsetgroup\": \"MOONMOON\", \"orientation\": \"v\", \"showlegend\": true, \"textposition\": \"auto\", \"type\": \"bar\", \"x\": [\"MOONMOON\"], \"xaxis\": \"x\", \"y\": [12460], \"yaxis\": \"y\"}, {\"alignmentgroup\": \"True\", \"hovertemplate\": \"sell_symbol=%{x}<br>#_trades=%{y}<extra></extra>\", \"legendgroup\": \"SENDWHALE\", \"marker\": {\"color\": \"rgb(82, 188, 163)\"}, \"name\": \"SENDWHALE\", \"offsetgroup\": \"SENDWHALE\", \"orientation\": \"v\", \"showlegend\": true, \"textposition\": \"auto\", \"type\": \"bar\", \"x\": [\"SENDWHALE\"], \"xaxis\": \"x\", \"y\": [12002], \"yaxis\": \"y\"}, {\"alignmentgroup\": \"True\", \"hovertemplate\": \"sell_symbol=%{x}<br>#_trades=%{y}<extra></extra>\", \"legendgroup\": \"DAI\", \"marker\": {\"color\": \"rgb(153, 201, 69)\"}, \"name\": \"DAI\", \"offsetgroup\": \"DAI\", \"orientation\": \"v\", \"showlegend\": true, \"textposition\": \"auto\", \"type\": \"bar\", \"x\": [\"DAI\"], \"xaxis\": \"x\", \"y\": [10525], \"yaxis\": \"y\"}, {\"alignmentgroup\": \"True\", \"hovertemplate\": \"sell_symbol=%{x}<br>#_trades=%{y}<extra></extra>\", \"legendgroup\": \"TREE\", \"marker\": {\"color\": \"rgb(204, 97, 176)\"}, \"name\": \"TREE\", \"offsetgroup\": \"TREE\", \"orientation\": \"v\", \"showlegend\": true, \"textposition\": \"auto\", \"type\": \"bar\", \"x\": [\"TREE\"], \"xaxis\": \"x\", \"y\": [8280], \"yaxis\": \"y\"}, {\"alignmentgroup\": \"True\", \"hovertemplate\": \"sell_symbol=%{x}<br>#_trades=%{y}<extra></extra>\", \"legendgroup\": \"SAFEBTC\", \"marker\": {\"color\": \"rgb(36, 121, 108)\"}, \"name\": \"SAFEBTC\", \"offsetgroup\": \"SAFEBTC\", \"orientation\": \"v\", \"showlegend\": true, \"textposition\": \"auto\", \"type\": \"bar\", \"x\": [\"SAFEBTC\"], \"xaxis\": \"x\", \"y\": [10265], \"yaxis\": \"y\"}, {\"alignmentgroup\": \"True\", \"hovertemplate\": \"sell_symbol=%{x}<br>#_trades=%{y}<extra></extra>\", \"legendgroup\": \"MOONLIGHT\", \"marker\": {\"color\": \"rgb(218, 165, 27)\"}, \"name\": \"MOONLIGHT\", \"offsetgroup\": \"MOONLIGHT\", \"orientation\": \"v\", \"showlegend\": true, \"textposition\": \"auto\", \"type\": \"bar\", \"x\": [\"MOONLIGHT\"], \"xaxis\": \"x\", \"y\": [11116], \"yaxis\": \"y\"}, {\"alignmentgroup\": \"True\", \"hovertemplate\": \"sell_symbol=%{x}<br>#_trades=%{y}<extra></extra>\", \"legendgroup\": \"TWT\", \"marker\": {\"color\": \"rgb(47, 138, 196)\"}, \"name\": \"TWT\", \"offsetgroup\": \"TWT\", \"orientation\": \"v\", \"showlegend\": true, \"textposition\": \"auto\", \"type\": \"bar\", \"x\": [\"TWT\"], \"xaxis\": \"x\", \"y\": [8703], \"yaxis\": \"y\"}, {\"alignmentgroup\": \"True\", \"hovertemplate\": \"sell_symbol=%{x}<br>#_trades=%{y}<extra></extra>\", \"legendgroup\": \"MOONPIRATE\", \"marker\": {\"color\": \"rgb(118, 78, 159)\"}, \"name\": \"MOONPIRATE\", \"offsetgroup\": \"MOONPIRATE\", \"orientation\": \"v\", \"showlegend\": true, \"textposition\": \"auto\", \"type\": \"bar\", \"x\": [\"MOONPIRATE\"], \"xaxis\": \"x\", \"y\": [10752], \"yaxis\": \"y\"}, {\"alignmentgroup\": \"True\", \"hovertemplate\": \"sell_symbol=%{x}<br>#_trades=%{y}<extra></extra>\", \"legendgroup\": \"Ramen\", \"marker\": {\"color\": \"rgb(237, 100, 90)\"}, \"name\": \"Ramen\", \"offsetgroup\": \"Ramen\", \"orientation\": \"v\", \"showlegend\": true, \"textposition\": \"auto\", \"type\": \"bar\", \"x\": [\"Ramen\"], \"xaxis\": \"x\", \"y\": [6560], \"yaxis\": \"y\"}, {\"alignmentgroup\": \"True\", \"hovertemplate\": \"sell_symbol=%{x}<br>#_trades=%{y}<extra></extra>\", \"legendgroup\": \"EULER\", \"marker\": {\"color\": \"rgb(165, 170, 153)\"}, \"name\": \"EULER\", \"offsetgroup\": \"EULER\", \"orientation\": \"v\", \"showlegend\": true, \"textposition\": \"auto\", \"type\": \"bar\", \"x\": [\"EULER\"], \"xaxis\": \"x\", \"y\": [5119], \"yaxis\": \"y\"}, {\"alignmentgroup\": \"True\", \"hovertemplate\": \"sell_symbol=%{x}<br>#_trades=%{y}<extra></extra>\", \"legendgroup\": \"XVS\", \"marker\": {\"color\": \"rgb(229, 134, 6)\"}, \"name\": \"XVS\", \"offsetgroup\": \"XVS\", \"orientation\": \"v\", \"showlegend\": true, \"textposition\": \"auto\", \"type\": \"bar\", \"x\": [\"XVS\"], \"xaxis\": \"x\", \"y\": [4568], \"yaxis\": \"y\"}, {\"alignmentgroup\": \"True\", \"hovertemplate\": \"sell_symbol=%{x}<br>#_trades=%{y}<extra></extra>\", \"legendgroup\": \"SMG\", \"marker\": {\"color\": \"rgb(93, 105, 177)\"}, \"name\": \"SMG\", \"offsetgroup\": \"SMG\", \"orientation\": \"v\", \"showlegend\": true, \"textposition\": \"auto\", \"type\": \"bar\", \"x\": [\"SMG\"], \"xaxis\": \"x\", \"y\": [7153], \"yaxis\": \"y\"}, {\"alignmentgroup\": \"True\", \"hovertemplate\": \"sell_symbol=%{x}<br>#_trades=%{y}<extra></extra>\", \"legendgroup\": \"DINO\", \"marker\": {\"color\": \"rgb(82, 188, 163)\"}, \"name\": \"DINO\", \"offsetgroup\": \"DINO\", \"orientation\": \"v\", \"showlegend\": true, \"textposition\": \"auto\", \"type\": \"bar\", \"x\": [\"DINO\"], \"xaxis\": \"x\", \"y\": [7068], \"yaxis\": \"y\"}, {\"alignmentgroup\": \"True\", \"hovertemplate\": \"sell_symbol=%{x}<br>#_trades=%{y}<extra></extra>\", \"legendgroup\": \"SALT\", \"marker\": {\"color\": \"rgb(153, 201, 69)\"}, \"name\": \"SALT\", \"offsetgroup\": \"SALT\", \"orientation\": \"v\", \"showlegend\": true, \"textposition\": \"auto\", \"type\": \"bar\", \"x\": [\"SALT\", \"SALT\"], \"xaxis\": \"x\", \"y\": [6257, 6520], \"yaxis\": \"y\"}, {\"alignmentgroup\": \"True\", \"hovertemplate\": \"sell_symbol=%{x}<br>#_trades=%{y}<extra></extra>\", \"legendgroup\": \"GEN\", \"marker\": {\"color\": \"rgb(204, 97, 176)\"}, \"name\": \"GEN\", \"offsetgroup\": \"GEN\", \"orientation\": \"v\", \"showlegend\": true, \"textposition\": \"auto\", \"type\": \"bar\", \"x\": [\"GEN\", \"GEN\"], \"xaxis\": \"x\", \"y\": [4383, 4112], \"yaxis\": \"y\"}, {\"alignmentgroup\": \"True\", \"hovertemplate\": \"sell_symbol=%{x}<br>#_trades=%{y}<extra></extra>\", \"legendgroup\": \"DOT\", \"marker\": {\"color\": \"rgb(36, 121, 108)\"}, \"name\": \"DOT\", \"offsetgroup\": \"DOT\", \"orientation\": \"v\", \"showlegend\": true, \"textposition\": \"auto\", \"type\": \"bar\", \"x\": [\"DOT\"], \"xaxis\": \"x\", \"y\": [5944], \"yaxis\": \"y\"}, {\"alignmentgroup\": \"True\", \"hovertemplate\": \"sell_symbol=%{x}<br>#_trades=%{y}<extra></extra>\", \"legendgroup\": \"FEG\", \"marker\": {\"color\": \"rgb(218, 165, 27)\"}, \"name\": \"FEG\", \"offsetgroup\": \"FEG\", \"orientation\": \"v\", \"showlegend\": true, \"textposition\": \"auto\", \"type\": \"bar\", \"x\": [\"FEG\"], \"xaxis\": \"x\", \"y\": [8531], \"yaxis\": \"y\"}, {\"alignmentgroup\": \"True\", \"hovertemplate\": \"sell_symbol=%{x}<br>#_trades=%{y}<extra></extra>\", \"legendgroup\": \"MASH\", \"marker\": {\"color\": \"rgb(47, 138, 196)\"}, \"name\": \"MASH\", \"offsetgroup\": \"MASH\", \"orientation\": \"v\", \"showlegend\": true, \"textposition\": \"auto\", \"type\": \"bar\", \"x\": [\"MASH\", \"MASH\"], \"xaxis\": \"x\", \"y\": [5724, 3820], \"yaxis\": \"y\"}, {\"alignmentgroup\": \"True\", \"hovertemplate\": \"sell_symbol=%{x}<br>#_trades=%{y}<extra></extra>\", \"legendgroup\": \"GEMS\", \"marker\": {\"color\": \"rgb(118, 78, 159)\"}, \"name\": \"GEMS\", \"offsetgroup\": \"GEMS\", \"orientation\": \"v\", \"showlegend\": true, \"textposition\": \"auto\", \"type\": \"bar\", \"x\": [\"GEMS\"], \"xaxis\": \"x\", \"y\": [10692], \"yaxis\": \"y\"}, {\"alignmentgroup\": \"True\", \"hovertemplate\": \"sell_symbol=%{x}<br>#_trades=%{y}<extra></extra>\", \"legendgroup\": \"SUPERWAIFU\", \"marker\": {\"color\": \"rgb(237, 100, 90)\"}, \"name\": \"SUPERWAIFU\", \"offsetgroup\": \"SUPERWAIFU\", \"orientation\": \"v\", \"showlegend\": true, \"textposition\": \"auto\", \"type\": \"bar\", \"x\": [\"SUPERWAIFU\"], \"xaxis\": \"x\", \"y\": [8242], \"yaxis\": \"y\"}, {\"alignmentgroup\": \"True\", \"hovertemplate\": \"sell_symbol=%{x}<br>#_trades=%{y}<extra></extra>\", \"legendgroup\": \"Hamtaro\", \"marker\": {\"color\": \"rgb(165, 170, 153)\"}, \"name\": \"Hamtaro\", \"offsetgroup\": \"Hamtaro\", \"orientation\": \"v\", \"showlegend\": true, \"textposition\": \"auto\", \"type\": \"bar\", \"x\": [\"Hamtaro\"], \"xaxis\": \"x\", \"y\": [10632], \"yaxis\": \"y\"}, {\"alignmentgroup\": \"True\", \"hovertemplate\": \"sell_symbol=%{x}<br>#_trades=%{y}<extra></extra>\", \"legendgroup\": \"ADA\", \"marker\": {\"color\": \"rgb(229, 134, 6)\"}, \"name\": \"ADA\", \"offsetgroup\": \"ADA\", \"orientation\": \"v\", \"showlegend\": true, \"textposition\": \"auto\", \"type\": \"bar\", \"x\": [\"ADA\"], \"xaxis\": \"x\", \"y\": [6345], \"yaxis\": \"y\"}, {\"alignmentgroup\": \"True\", \"hovertemplate\": \"sell_symbol=%{x}<br>#_trades=%{y}<extra></extra>\", \"legendgroup\": \"SPE\", \"marker\": {\"color\": \"rgb(93, 105, 177)\"}, \"name\": \"SPE\", \"offsetgroup\": \"SPE\", \"orientation\": \"v\", \"showlegend\": true, \"textposition\": \"auto\", \"type\": \"bar\", \"x\": [\"SPE\"], \"xaxis\": \"x\", \"y\": [7804], \"yaxis\": \"y\"}, {\"alignmentgroup\": \"True\", \"hovertemplate\": \"sell_symbol=%{x}<br>#_trades=%{y}<extra></extra>\", \"legendgroup\": \"NIU\", \"marker\": {\"color\": \"rgb(82, 188, 163)\"}, \"name\": \"NIU\", \"offsetgroup\": \"NIU\", \"orientation\": \"v\", \"showlegend\": true, \"textposition\": \"auto\", \"type\": \"bar\", \"x\": [\"NIU\"], \"xaxis\": \"x\", \"y\": [6848], \"yaxis\": \"y\"}, {\"alignmentgroup\": \"True\", \"hovertemplate\": \"sell_symbol=%{x}<br>#_trades=%{y}<extra></extra>\", \"legendgroup\": \"SAFECOMET\", \"marker\": {\"color\": \"rgb(153, 201, 69)\"}, \"name\": \"SAFECOMET\", \"offsetgroup\": \"SAFECOMET\", \"orientation\": \"v\", \"showlegend\": true, \"textposition\": \"auto\", \"type\": \"bar\", \"x\": [\"SAFECOMET\"], \"xaxis\": \"x\", \"y\": [11282], \"yaxis\": \"y\"}, {\"alignmentgroup\": \"True\", \"hovertemplate\": \"sell_symbol=%{x}<br>#_trades=%{y}<extra></extra>\", \"legendgroup\": \"HyMETEOR\", \"marker\": {\"color\": \"rgb(204, 97, 176)\"}, \"name\": \"HyMETEOR\", \"offsetgroup\": \"HyMETEOR\", \"orientation\": \"v\", \"showlegend\": true, \"textposition\": \"auto\", \"type\": \"bar\", \"x\": [\"HyMETEOR\"], \"xaxis\": \"x\", \"y\": [9157], \"yaxis\": \"y\"}, {\"alignmentgroup\": \"True\", \"hovertemplate\": \"sell_symbol=%{x}<br>#_trades=%{y}<extra></extra>\", \"legendgroup\": \"ZEP\", \"marker\": {\"color\": \"rgb(36, 121, 108)\"}, \"name\": \"ZEP\", \"offsetgroup\": \"ZEP\", \"orientation\": \"v\", \"showlegend\": true, \"textposition\": \"auto\", \"type\": \"bar\", \"x\": [\"ZEP\"], \"xaxis\": \"x\", \"y\": [7302], \"yaxis\": \"y\"}, {\"alignmentgroup\": \"True\", \"hovertemplate\": \"sell_symbol=%{x}<br>#_trades=%{y}<extra></extra>\", \"legendgroup\": \"HAPPY\", \"marker\": {\"color\": \"rgb(218, 165, 27)\"}, \"name\": \"HAPPY\", \"offsetgroup\": \"HAPPY\", \"orientation\": \"v\", \"showlegend\": true, \"textposition\": \"auto\", \"type\": \"bar\", \"x\": [\"HAPPY\"], \"xaxis\": \"x\", \"y\": [6949], \"yaxis\": \"y\"}, {\"alignmentgroup\": \"True\", \"hovertemplate\": \"sell_symbol=%{x}<br>#_trades=%{y}<extra></extra>\", \"legendgroup\": \"UST\", \"marker\": {\"color\": \"rgb(47, 138, 196)\"}, \"name\": \"UST\", \"offsetgroup\": \"UST\", \"orientation\": \"v\", \"showlegend\": true, \"textposition\": \"auto\", \"type\": \"bar\", \"x\": [\"UST\", \"UST\"], \"xaxis\": \"x\", \"y\": [7285, 5680], \"yaxis\": \"y\"}, {\"alignmentgroup\": \"True\", \"hovertemplate\": \"sell_symbol=%{x}<br>#_trades=%{y}<extra></extra>\", \"legendgroup\": \"AQUAGOAT\", \"marker\": {\"color\": \"rgb(118, 78, 159)\"}, \"name\": \"AQUAGOAT\", \"offsetgroup\": \"AQUAGOAT\", \"orientation\": \"v\", \"showlegend\": true, \"textposition\": \"auto\", \"type\": \"bar\", \"x\": [\"AQUAGOAT\"], \"xaxis\": \"x\", \"y\": [10071], \"yaxis\": \"y\"}, {\"alignmentgroup\": \"True\", \"hovertemplate\": \"sell_symbol=%{x}<br>#_trades=%{y}<extra></extra>\", \"legendgroup\": \"DHOUSE\", \"marker\": {\"color\": \"rgb(237, 100, 90)\"}, \"name\": \"DHOUSE\", \"offsetgroup\": \"DHOUSE\", \"orientation\": \"v\", \"showlegend\": true, \"textposition\": \"auto\", \"type\": \"bar\", \"x\": [\"DHOUSE\"], \"xaxis\": \"x\", \"y\": [6408], \"yaxis\": \"y\"}, {\"alignmentgroup\": \"True\", \"hovertemplate\": \"sell_symbol=%{x}<br>#_trades=%{y}<extra></extra>\", \"legendgroup\": \"SAFEP\", \"marker\": {\"color\": \"rgb(165, 170, 153)\"}, \"name\": \"SAFEP\", \"offsetgroup\": \"SAFEP\", \"orientation\": \"v\", \"showlegend\": true, \"textposition\": \"auto\", \"type\": \"bar\", \"x\": [\"SAFEP\"], \"xaxis\": \"x\", \"y\": [8680], \"yaxis\": \"y\"}, {\"alignmentgroup\": \"True\", \"hovertemplate\": \"sell_symbol=%{x}<br>#_trades=%{y}<extra></extra>\", \"legendgroup\": \"BETH\", \"marker\": {\"color\": \"rgb(229, 134, 6)\"}, \"name\": \"BETH\", \"offsetgroup\": \"BETH\", \"orientation\": \"v\", \"showlegend\": true, \"textposition\": \"auto\", \"type\": \"bar\", \"x\": [\"BETH\"], \"xaxis\": \"x\", \"y\": [1261], \"yaxis\": \"y\"}, {\"alignmentgroup\": \"True\", \"hovertemplate\": \"sell_symbol=%{x}<br>#_trades=%{y}<extra></extra>\", \"legendgroup\": \"BGOV\", \"marker\": {\"color\": \"rgb(93, 105, 177)\"}, \"name\": \"BGOV\", \"offsetgroup\": \"BGOV\", \"orientation\": \"v\", \"showlegend\": true, \"textposition\": \"auto\", \"type\": \"bar\", \"x\": [\"BGOV\"], \"xaxis\": \"x\", \"y\": [1927], \"yaxis\": \"y\"}, {\"alignmentgroup\": \"True\", \"hovertemplate\": \"sell_symbol=%{x}<br>#_trades=%{y}<extra></extra>\", \"legendgroup\": \"ASS\", \"marker\": {\"color\": \"rgb(82, 188, 163)\"}, \"name\": \"ASS\", \"offsetgroup\": \"ASS\", \"orientation\": \"v\", \"showlegend\": true, \"textposition\": \"auto\", \"type\": \"bar\", \"x\": [\"ASS\"], \"xaxis\": \"x\", \"y\": [6448], \"yaxis\": \"y\"}, {\"alignmentgroup\": \"True\", \"hovertemplate\": \"sell_symbol=%{x}<br>#_trades=%{y}<extra></extra>\", \"legendgroup\": \"BIFI\", \"marker\": {\"color\": \"rgb(153, 201, 69)\"}, \"name\": \"BIFI\", \"offsetgroup\": \"BIFI\", \"orientation\": \"v\", \"showlegend\": true, \"textposition\": \"auto\", \"type\": \"bar\", \"x\": [\"BIFI\"], \"xaxis\": \"x\", \"y\": [8708], \"yaxis\": \"y\"}, {\"alignmentgroup\": \"True\", \"hovertemplate\": \"sell_symbol=%{x}<br>#_trades=%{y}<extra></extra>\", \"legendgroup\": \"FAIR\", \"marker\": {\"color\": \"rgb(204, 97, 176)\"}, \"name\": \"FAIR\", \"offsetgroup\": \"FAIR\", \"orientation\": \"v\", \"showlegend\": true, \"textposition\": \"auto\", \"type\": \"bar\", \"x\": [\"FAIR\"], \"xaxis\": \"x\", \"y\": [5825], \"yaxis\": \"y\"}, {\"alignmentgroup\": \"True\", \"hovertemplate\": \"sell_symbol=%{x}<br>#_trades=%{y}<extra></extra>\", \"legendgroup\": \"GMT\", \"marker\": {\"color\": \"rgb(36, 121, 108)\"}, \"name\": \"GMT\", \"offsetgroup\": \"GMT\", \"orientation\": \"v\", \"showlegend\": true, \"textposition\": \"auto\", \"type\": \"bar\", \"x\": [\"GMT\"], \"xaxis\": \"x\", \"y\": [1952], \"yaxis\": \"y\"}, {\"alignmentgroup\": \"True\", \"hovertemplate\": \"sell_symbol=%{x}<br>#_trades=%{y}<extra></extra>\", \"legendgroup\": \"XRP\", \"marker\": {\"color\": \"rgb(218, 165, 27)\"}, \"name\": \"XRP\", \"offsetgroup\": \"XRP\", \"orientation\": \"v\", \"showlegend\": true, \"textposition\": \"auto\", \"type\": \"bar\", \"x\": [\"XRP\"], \"xaxis\": \"x\", \"y\": [6525], \"yaxis\": \"y\"}, {\"alignmentgroup\": \"True\", \"hovertemplate\": \"sell_symbol=%{x}<br>#_trades=%{y}<extra></extra>\", \"legendgroup\": \"RX\", \"marker\": {\"color\": \"rgb(47, 138, 196)\"}, \"name\": \"RX\", \"offsetgroup\": \"RX\", \"orientation\": \"v\", \"showlegend\": true, \"textposition\": \"auto\", \"type\": \"bar\", \"x\": [\"RX\"], \"xaxis\": \"x\", \"y\": [4952], \"yaxis\": \"y\"}, {\"alignmentgroup\": \"True\", \"hovertemplate\": \"sell_symbol=%{x}<br>#_trades=%{y}<extra></extra>\", \"legendgroup\": \"SAFEGALAXY\", \"marker\": {\"color\": \"rgb(118, 78, 159)\"}, \"name\": \"SAFEGALAXY\", \"offsetgroup\": \"SAFEGALAXY\", \"orientation\": \"v\", \"showlegend\": true, \"textposition\": \"auto\", \"type\": \"bar\", \"x\": [\"SAFEGALAXY\"], \"xaxis\": \"x\", \"y\": [5573], \"yaxis\": \"y\"}, {\"alignmentgroup\": \"True\", \"hovertemplate\": \"sell_symbol=%{x}<br>#_trades=%{y}<extra></extra>\", \"legendgroup\": \"WAF\", \"marker\": {\"color\": \"rgb(237, 100, 90)\"}, \"name\": \"WAF\", \"offsetgroup\": \"WAF\", \"orientation\": \"v\", \"showlegend\": true, \"textposition\": \"auto\", \"type\": \"bar\", \"x\": [\"WAF\"], \"xaxis\": \"x\", \"y\": [3210], \"yaxis\": \"y\"}, {\"alignmentgroup\": \"True\", \"hovertemplate\": \"sell_symbol=%{x}<br>#_trades=%{y}<extra></extra>\", \"legendgroup\": \"VGD\", \"marker\": {\"color\": \"rgb(165, 170, 153)\"}, \"name\": \"VGD\", \"offsetgroup\": \"VGD\", \"orientation\": \"v\", \"showlegend\": true, \"textposition\": \"auto\", \"type\": \"bar\", \"x\": [\"VGD\"], \"xaxis\": \"x\", \"y\": [9640], \"yaxis\": \"y\"}, {\"alignmentgroup\": \"True\", \"hovertemplate\": \"sell_symbol=%{x}<br>#_trades=%{y}<extra></extra>\", \"legendgroup\": \"MEL\", \"marker\": {\"color\": \"rgb(229, 134, 6)\"}, \"name\": \"MEL\", \"offsetgroup\": \"MEL\", \"orientation\": \"v\", \"showlegend\": true, \"textposition\": \"auto\", \"type\": \"bar\", \"x\": [\"MEL\", \"MEL\"], \"xaxis\": \"x\", \"y\": [5331, 4494], \"yaxis\": \"y\"}, {\"alignmentgroup\": \"True\", \"hovertemplate\": \"sell_symbol=%{x}<br>#_trades=%{y}<extra></extra>\", \"legendgroup\": \"PIT\", \"marker\": {\"color\": \"rgb(93, 105, 177)\"}, \"name\": \"PIT\", \"offsetgroup\": \"PIT\", \"orientation\": \"v\", \"showlegend\": true, \"textposition\": \"auto\", \"type\": \"bar\", \"x\": [\"PIT\"], \"xaxis\": \"x\", \"y\": [7834], \"yaxis\": \"y\"}, {\"alignmentgroup\": \"True\", \"hovertemplate\": \"sell_symbol=%{x}<br>#_trades=%{y}<extra></extra>\", \"legendgroup\": \"CATNIP\", \"marker\": {\"color\": \"rgb(82, 188, 163)\"}, \"name\": \"CATNIP\", \"offsetgroup\": \"CATNIP\", \"orientation\": \"v\", \"showlegend\": true, \"textposition\": \"auto\", \"type\": \"bar\", \"x\": [\"CATNIP\"], \"xaxis\": \"x\", \"y\": [5510], \"yaxis\": \"y\"}, {\"alignmentgroup\": \"True\", \"hovertemplate\": \"sell_symbol=%{x}<br>#_trades=%{y}<extra></extra>\", \"legendgroup\": \"TACOCAT\", \"marker\": {\"color\": \"rgb(153, 201, 69)\"}, \"name\": \"TACOCAT\", \"offsetgroup\": \"TACOCAT\", \"orientation\": \"v\", \"showlegend\": true, \"textposition\": \"auto\", \"type\": \"bar\", \"x\": [\"TACOCAT\"], \"xaxis\": \"x\", \"y\": [4269], \"yaxis\": \"y\"}, {\"alignmentgroup\": \"True\", \"hovertemplate\": \"sell_symbol=%{x}<br>#_trades=%{y}<extra></extra>\", \"legendgroup\": \"WINDY\", \"marker\": {\"color\": \"rgb(204, 97, 176)\"}, \"name\": \"WINDY\", \"offsetgroup\": \"WINDY\", \"orientation\": \"v\", \"showlegend\": true, \"textposition\": \"auto\", \"type\": \"bar\", \"x\": [\"WINDY\"], \"xaxis\": \"x\", \"y\": [5094], \"yaxis\": \"y\"}, {\"alignmentgroup\": \"True\", \"hovertemplate\": \"sell_symbol=%{x}<br>#_trades=%{y}<extra></extra>\", \"legendgroup\": \"Mooni\", \"marker\": {\"color\": \"rgb(36, 121, 108)\"}, \"name\": \"Mooni\", \"offsetgroup\": \"Mooni\", \"orientation\": \"v\", \"showlegend\": true, \"textposition\": \"auto\", \"type\": \"bar\", \"x\": [\"Mooni\"], \"xaxis\": \"x\", \"y\": [6465], \"yaxis\": \"y\"}, {\"alignmentgroup\": \"True\", \"hovertemplate\": \"sell_symbol=%{x}<br>#_trades=%{y}<extra></extra>\", \"legendgroup\": \"Tcake\", \"marker\": {\"color\": \"rgb(218, 165, 27)\"}, \"name\": \"Tcake\", \"offsetgroup\": \"Tcake\", \"orientation\": \"v\", \"showlegend\": true, \"textposition\": \"auto\", \"type\": \"bar\", \"x\": [\"Tcake\"], \"xaxis\": \"x\", \"y\": [4188], \"yaxis\": \"y\"}, {\"alignmentgroup\": \"True\", \"hovertemplate\": \"sell_symbol=%{x}<br>#_trades=%{y}<extra></extra>\", \"legendgroup\": \"MOONSHOT\", \"marker\": {\"color\": \"rgb(47, 138, 196)\"}, \"name\": \"MOONSHOT\", \"offsetgroup\": \"MOONSHOT\", \"orientation\": \"v\", \"showlegend\": true, \"textposition\": \"auto\", \"type\": \"bar\", \"x\": [\"MOONSHOT\"], \"xaxis\": \"x\", \"y\": [5409], \"yaxis\": \"y\"}, {\"alignmentgroup\": \"True\", \"hovertemplate\": \"sell_symbol=%{x}<br>#_trades=%{y}<extra></extra>\", \"legendgroup\": \"KEY\", \"marker\": {\"color\": \"rgb(118, 78, 159)\"}, \"name\": \"KEY\", \"offsetgroup\": \"KEY\", \"orientation\": \"v\", \"showlegend\": true, \"textposition\": \"auto\", \"type\": \"bar\", \"x\": [\"KEY\"], \"xaxis\": \"x\", \"y\": [4425], \"yaxis\": \"y\"}, {\"alignmentgroup\": \"True\", \"hovertemplate\": \"sell_symbol=%{x}<br>#_trades=%{y}<extra></extra>\", \"legendgroup\": \"sBDO\", \"marker\": {\"color\": \"rgb(237, 100, 90)\"}, \"name\": \"sBDO\", \"offsetgroup\": \"sBDO\", \"orientation\": \"v\", \"showlegend\": true, \"textposition\": \"auto\", \"type\": \"bar\", \"x\": [\"sBDO\"], \"xaxis\": \"x\", \"y\": [2448], \"yaxis\": \"y\"}, {\"alignmentgroup\": \"True\", \"hovertemplate\": \"sell_symbol=%{x}<br>#_trades=%{y}<extra></extra>\", \"legendgroup\": \"BBQ\", \"marker\": {\"color\": \"rgb(165, 170, 153)\"}, \"name\": \"BBQ\", \"offsetgroup\": \"BBQ\", \"orientation\": \"v\", \"showlegend\": true, \"textposition\": \"auto\", \"type\": \"bar\", \"x\": [\"BBQ\"], \"xaxis\": \"x\", \"y\": [3966], \"yaxis\": \"y\"}, {\"alignmentgroup\": \"True\", \"hovertemplate\": \"sell_symbol=%{x}<br>#_trades=%{y}<extra></extra>\", \"legendgroup\": \"OCTA\", \"marker\": {\"color\": \"rgb(229, 134, 6)\"}, \"name\": \"OCTA\", \"offsetgroup\": \"OCTA\", \"orientation\": \"v\", \"showlegend\": true, \"textposition\": \"auto\", \"type\": \"bar\", \"x\": [\"OCTA\"], \"xaxis\": \"x\", \"y\": [5012], \"yaxis\": \"y\"}, {\"alignmentgroup\": \"True\", \"hovertemplate\": \"sell_symbol=%{x}<br>#_trades=%{y}<extra></extra>\", \"legendgroup\": \"BDO\", \"marker\": {\"color\": \"rgb(93, 105, 177)\"}, \"name\": \"BDO\", \"offsetgroup\": \"BDO\", \"orientation\": \"v\", \"showlegend\": true, \"textposition\": \"auto\", \"type\": \"bar\", \"x\": [\"BDO\"], \"xaxis\": \"x\", \"y\": [3247], \"yaxis\": \"y\"}, {\"alignmentgroup\": \"True\", \"hovertemplate\": \"sell_symbol=%{x}<br>#_trades=%{y}<extra></extra>\", \"legendgroup\": \"PBT \", \"marker\": {\"color\": \"rgb(82, 188, 163)\"}, \"name\": \"PBT \", \"offsetgroup\": \"PBT \", \"orientation\": \"v\", \"showlegend\": true, \"textposition\": \"auto\", \"type\": \"bar\", \"x\": [\"PBT \"], \"xaxis\": \"x\", \"y\": [2774], \"yaxis\": \"y\"}],                        {\"barmode\": \"relative\", \"legend\": {\"title\": {\"text\": \"sell_symbol\"}, \"tracegroupgap\": 0}, \"template\": {\"data\": {\"bar\": [{\"error_x\": {\"color\": \"#2a3f5f\"}, \"error_y\": {\"color\": \"#2a3f5f\"}, \"marker\": {\"line\": {\"color\": \"white\", \"width\": 0.5}}, \"type\": \"bar\"}], \"barpolar\": [{\"marker\": {\"line\": {\"color\": \"white\", \"width\": 0.5}}, \"type\": \"barpolar\"}], \"carpet\": [{\"aaxis\": {\"endlinecolor\": \"#2a3f5f\", \"gridcolor\": \"#C8D4E3\", \"linecolor\": \"#C8D4E3\", \"minorgridcolor\": \"#C8D4E3\", \"startlinecolor\": \"#2a3f5f\"}, \"baxis\": {\"endlinecolor\": \"#2a3f5f\", \"gridcolor\": \"#C8D4E3\", \"linecolor\": \"#C8D4E3\", \"minorgridcolor\": \"#C8D4E3\", \"startlinecolor\": \"#2a3f5f\"}, \"type\": \"carpet\"}], \"choropleth\": [{\"colorbar\": {\"outlinewidth\": 0, \"ticks\": \"\"}, \"type\": \"choropleth\"}], \"contour\": [{\"colorbar\": {\"outlinewidth\": 0, \"ticks\": \"\"}, \"colorscale\": [[0.0, \"#0d0887\"], [0.1111111111111111, \"#46039f\"], [0.2222222222222222, \"#7201a8\"], [0.3333333333333333, \"#9c179e\"], [0.4444444444444444, \"#bd3786\"], [0.5555555555555556, \"#d8576b\"], [0.6666666666666666, \"#ed7953\"], [0.7777777777777778, \"#fb9f3a\"], [0.8888888888888888, \"#fdca26\"], [1.0, \"#f0f921\"]], \"type\": \"contour\"}], \"contourcarpet\": [{\"colorbar\": {\"outlinewidth\": 0, \"ticks\": \"\"}, \"type\": \"contourcarpet\"}], \"heatmap\": [{\"colorbar\": {\"outlinewidth\": 0, \"ticks\": \"\"}, \"colorscale\": [[0.0, \"#0d0887\"], [0.1111111111111111, \"#46039f\"], [0.2222222222222222, \"#7201a8\"], [0.3333333333333333, \"#9c179e\"], [0.4444444444444444, \"#bd3786\"], [0.5555555555555556, \"#d8576b\"], [0.6666666666666666, \"#ed7953\"], [0.7777777777777778, \"#fb9f3a\"], [0.8888888888888888, \"#fdca26\"], [1.0, \"#f0f921\"]], \"type\": \"heatmap\"}], \"heatmapgl\": [{\"colorbar\": {\"outlinewidth\": 0, \"ticks\": \"\"}, \"colorscale\": [[0.0, \"#0d0887\"], [0.1111111111111111, \"#46039f\"], [0.2222222222222222, \"#7201a8\"], [0.3333333333333333, \"#9c179e\"], [0.4444444444444444, \"#bd3786\"], [0.5555555555555556, \"#d8576b\"], [0.6666666666666666, \"#ed7953\"], [0.7777777777777778, \"#fb9f3a\"], [0.8888888888888888, \"#fdca26\"], [1.0, \"#f0f921\"]], \"type\": \"heatmapgl\"}], \"histogram\": [{\"marker\": {\"colorbar\": {\"outlinewidth\": 0, \"ticks\": \"\"}}, \"type\": \"histogram\"}], \"histogram2d\": [{\"colorbar\": {\"outlinewidth\": 0, \"ticks\": \"\"}, \"colorscale\": [[0.0, \"#0d0887\"], [0.1111111111111111, \"#46039f\"], [0.2222222222222222, \"#7201a8\"], [0.3333333333333333, \"#9c179e\"], [0.4444444444444444, \"#bd3786\"], [0.5555555555555556, \"#d8576b\"], [0.6666666666666666, \"#ed7953\"], [0.7777777777777778, \"#fb9f3a\"], [0.8888888888888888, \"#fdca26\"], [1.0, \"#f0f921\"]], \"type\": \"histogram2d\"}], \"histogram2dcontour\": [{\"colorbar\": {\"outlinewidth\": 0, \"ticks\": \"\"}, \"colorscale\": [[0.0, \"#0d0887\"], [0.1111111111111111, \"#46039f\"], [0.2222222222222222, \"#7201a8\"], [0.3333333333333333, \"#9c179e\"], [0.4444444444444444, \"#bd3786\"], [0.5555555555555556, \"#d8576b\"], [0.6666666666666666, \"#ed7953\"], [0.7777777777777778, \"#fb9f3a\"], [0.8888888888888888, \"#fdca26\"], [1.0, \"#f0f921\"]], \"type\": \"histogram2dcontour\"}], \"mesh3d\": [{\"colorbar\": {\"outlinewidth\": 0, \"ticks\": \"\"}, \"type\": \"mesh3d\"}], \"parcoords\": [{\"line\": {\"colorbar\": {\"outlinewidth\": 0, \"ticks\": \"\"}}, \"type\": \"parcoords\"}], \"pie\": [{\"automargin\": true, \"type\": \"pie\"}], \"scatter\": [{\"marker\": {\"colorbar\": {\"outlinewidth\": 0, \"ticks\": \"\"}}, \"type\": \"scatter\"}], \"scatter3d\": [{\"line\": {\"colorbar\": {\"outlinewidth\": 0, \"ticks\": \"\"}}, \"marker\": {\"colorbar\": {\"outlinewidth\": 0, \"ticks\": \"\"}}, \"type\": \"scatter3d\"}], \"scattercarpet\": [{\"marker\": {\"colorbar\": {\"outlinewidth\": 0, \"ticks\": \"\"}}, \"type\": \"scattercarpet\"}], \"scattergeo\": [{\"marker\": {\"colorbar\": {\"outlinewidth\": 0, \"ticks\": \"\"}}, \"type\": \"scattergeo\"}], \"scattergl\": [{\"marker\": {\"colorbar\": {\"outlinewidth\": 0, \"ticks\": \"\"}}, \"type\": \"scattergl\"}], \"scattermapbox\": [{\"marker\": {\"colorbar\": {\"outlinewidth\": 0, \"ticks\": \"\"}}, \"type\": \"scattermapbox\"}], \"scatterpolar\": [{\"marker\": {\"colorbar\": {\"outlinewidth\": 0, \"ticks\": \"\"}}, \"type\": \"scatterpolar\"}], \"scatterpolargl\": [{\"marker\": {\"colorbar\": {\"outlinewidth\": 0, \"ticks\": \"\"}}, \"type\": \"scatterpolargl\"}], \"scatterternary\": [{\"marker\": {\"colorbar\": {\"outlinewidth\": 0, \"ticks\": \"\"}}, \"type\": \"scatterternary\"}], \"surface\": [{\"colorbar\": {\"outlinewidth\": 0, \"ticks\": \"\"}, \"colorscale\": [[0.0, \"#0d0887\"], [0.1111111111111111, \"#46039f\"], [0.2222222222222222, \"#7201a8\"], [0.3333333333333333, \"#9c179e\"], [0.4444444444444444, \"#bd3786\"], [0.5555555555555556, \"#d8576b\"], [0.6666666666666666, \"#ed7953\"], [0.7777777777777778, \"#fb9f3a\"], [0.8888888888888888, \"#fdca26\"], [1.0, \"#f0f921\"]], \"type\": \"surface\"}], \"table\": [{\"cells\": {\"fill\": {\"color\": \"#EBF0F8\"}, \"line\": {\"color\": \"white\"}}, \"header\": {\"fill\": {\"color\": \"#C8D4E3\"}, \"line\": {\"color\": \"white\"}}, \"type\": \"table\"}]}, \"layout\": {\"annotationdefaults\": {\"arrowcolor\": \"#2a3f5f\", \"arrowhead\": 0, \"arrowwidth\": 1}, \"autotypenumbers\": \"strict\", \"coloraxis\": {\"colorbar\": {\"outlinewidth\": 0, \"ticks\": \"\"}}, \"colorscale\": {\"diverging\": [[0, \"#8e0152\"], [0.1, \"#c51b7d\"], [0.2, \"#de77ae\"], [0.3, \"#f1b6da\"], [0.4, \"#fde0ef\"], [0.5, \"#f7f7f7\"], [0.6, \"#e6f5d0\"], [0.7, \"#b8e186\"], [0.8, \"#7fbc41\"], [0.9, \"#4d9221\"], [1, \"#276419\"]], \"sequential\": [[0.0, \"#0d0887\"], [0.1111111111111111, \"#46039f\"], [0.2222222222222222, \"#7201a8\"], [0.3333333333333333, \"#9c179e\"], [0.4444444444444444, \"#bd3786\"], [0.5555555555555556, \"#d8576b\"], [0.6666666666666666, \"#ed7953\"], [0.7777777777777778, \"#fb9f3a\"], [0.8888888888888888, \"#fdca26\"], [1.0, \"#f0f921\"]], \"sequentialminus\": [[0.0, \"#0d0887\"], [0.1111111111111111, \"#46039f\"], [0.2222222222222222, \"#7201a8\"], [0.3333333333333333, \"#9c179e\"], [0.4444444444444444, \"#bd3786\"], [0.5555555555555556, \"#d8576b\"], [0.6666666666666666, \"#ed7953\"], [0.7777777777777778, \"#fb9f3a\"], [0.8888888888888888, \"#fdca26\"], [1.0, \"#f0f921\"]]}, \"colorway\": [\"#636efa\", \"#EF553B\", \"#00cc96\", \"#ab63fa\", \"#FFA15A\", \"#19d3f3\", \"#FF6692\", \"#B6E880\", \"#FF97FF\", \"#FECB52\"], \"font\": {\"color\": \"#2a3f5f\"}, \"geo\": {\"bgcolor\": \"white\", \"lakecolor\": \"white\", \"landcolor\": \"white\", \"showlakes\": true, \"showland\": true, \"subunitcolor\": \"#C8D4E3\"}, \"hoverlabel\": {\"align\": \"left\"}, \"hovermode\": \"closest\", \"mapbox\": {\"style\": \"light\"}, \"paper_bgcolor\": \"white\", \"plot_bgcolor\": \"white\", \"polar\": {\"angularaxis\": {\"gridcolor\": \"#EBF0F8\", \"linecolor\": \"#EBF0F8\", \"ticks\": \"\"}, \"bgcolor\": \"white\", \"radialaxis\": {\"gridcolor\": \"#EBF0F8\", \"linecolor\": \"#EBF0F8\", \"ticks\": \"\"}}, \"scene\": {\"xaxis\": {\"backgroundcolor\": \"white\", \"gridcolor\": \"#DFE8F3\", \"gridwidth\": 2, \"linecolor\": \"#EBF0F8\", \"showbackground\": true, \"ticks\": \"\", \"zerolinecolor\": \"#EBF0F8\"}, \"yaxis\": {\"backgroundcolor\": \"white\", \"gridcolor\": \"#DFE8F3\", \"gridwidth\": 2, \"linecolor\": \"#EBF0F8\", \"showbackground\": true, \"ticks\": \"\", \"zerolinecolor\": \"#EBF0F8\"}, \"zaxis\": {\"backgroundcolor\": \"white\", \"gridcolor\": \"#DFE8F3\", \"gridwidth\": 2, \"linecolor\": \"#EBF0F8\", \"showbackground\": true, \"ticks\": \"\", \"zerolinecolor\": \"#EBF0F8\"}}, \"shapedefaults\": {\"line\": {\"color\": \"#2a3f5f\"}}, \"ternary\": {\"aaxis\": {\"gridcolor\": \"#DFE8F3\", \"linecolor\": \"#A2B1C6\", \"ticks\": \"\"}, \"baxis\": {\"gridcolor\": \"#DFE8F3\", \"linecolor\": \"#A2B1C6\", \"ticks\": \"\"}, \"bgcolor\": \"white\", \"caxis\": {\"gridcolor\": \"#DFE8F3\", \"linecolor\": \"#A2B1C6\", \"ticks\": \"\"}}, \"title\": {\"x\": 0.05}, \"xaxis\": {\"automargin\": true, \"gridcolor\": \"#EBF0F8\", \"linecolor\": \"#EBF0F8\", \"ticks\": \"\", \"title\": {\"standoff\": 15}, \"zerolinecolor\": \"#EBF0F8\", \"zerolinewidth\": 2}, \"yaxis\": {\"automargin\": true, \"gridcolor\": \"#EBF0F8\", \"linecolor\": \"#EBF0F8\", \"ticks\": \"\", \"title\": {\"standoff\": 15}, \"zerolinecolor\": \"#EBF0F8\", \"zerolinewidth\": 2}}}, \"title\": {\"text\": \"<b>Top Sell Symbols by Trading Volume in Past Week on PancakeSwap\"}, \"xaxis\": {\"anchor\": \"y\", \"categoryarray\": [\"SAFEMOON\", \"BUNNY\", \"NFTART\", \"CUMMIES\", \"Dogefather\", \"BSCPAD\", \"ElonGate\", \"ECP\", \"AUTO\", \"BONFIRE\", \"BTCB\", \"EPS\", \"SPORE\", \"Forestry\", \"SEED\", \"TBAKE\", \"BSCS\", \"LOF\", \"100x\", \"SPND\", \"upBNB\", \"ALPACA\", \"KPAD\", \"BRICK\", \"SAFEMARS\", \"SAFEMOONCASH\", \"EGG\", \"HYPER\", \"MEMES\", \"BAKE\", \"SHILD\", \"BOG\", \"DOGE\", \"SLAM\", \"MOONMOON\", \"SENDWHALE\", \"DAI\", \"TREE\", \"SAFEBTC\", \"MOONLIGHT\", \"TWT\", \"MOONPIRATE\", \"Ramen\", \"EULER\", \"XVS\", \"SMG\", \"DINO\", \"SALT\", \"GEN\", \"DOT\", \"FEG\", \"MASH\", \"GEMS\", \"SUPERWAIFU\", \"Hamtaro\", \"ADA\", \"SPE\", \"NIU\", \"SAFECOMET\", \"HyMETEOR\", \"ZEP\", \"HAPPY\", \"UST\", \"AQUAGOAT\", \"DHOUSE\", \"SAFEP\", \"BETH\", \"BGOV\", \"ASS\", \"BIFI\", \"FAIR\", \"GMT\", \"XRP\", \"RX\", \"SAFEGALAXY\", \"WAF\", \"VGD\", \"MEL\", \"PIT\", \"CATNIP\", \"TACOCAT\", \"WINDY\", \"Mooni\", \"Tcake\", \"MOONSHOT\", \"KEY\", \"sBDO\", \"BBQ\", \"OCTA\", \"BDO\", \"PBT \"], \"categoryorder\": \"array\", \"domain\": [0.0, 1.0], \"title\": {\"text\": \"sell_symbol\"}}, \"yaxis\": {\"anchor\": \"x\", \"domain\": [0.0, 1.0], \"title\": {\"text\": \"#_trades\"}}},                        {\"responsive\": true}                    ).then(function(){\n",
       "                            \n",
       "var gd = document.getElementById('cd48128e-bbfc-4a39-a3ac-b384c1897bb6');\n",
       "var x = new MutationObserver(function (mutations, observer) {{\n",
       "        var display = window.getComputedStyle(gd).display;\n",
       "        if (!display || display === 'none') {{\n",
       "            console.log([gd, 'removed!']);\n",
       "            Plotly.purge(gd);\n",
       "            observer.disconnect();\n",
       "        }}\n",
       "}});\n",
       "\n",
       "// Listen for the removal of the full notebook cells\n",
       "var notebookContainer = gd.closest('#notebook-container');\n",
       "if (notebookContainer) {{\n",
       "    x.observe(notebookContainer, {childList: true});\n",
       "}}\n",
       "\n",
       "// Listen for the clearing of the current output cell\n",
       "var outputEl = gd.closest('.output');\n",
       "if (outputEl) {{\n",
       "    x.observe(outputEl, {childList: true});\n",
       "}}\n",
       "\n",
       "                        })                };                });            </script>        </div>"
      ]
     },
     "metadata": {},
     "output_type": "display_data"
    },
    {
     "data": {
      "application/vnd.plotly.v1+json": {
       "config": {
        "plotlyServerURL": "https://plot.ly"
       },
       "data": [
        {
         "alignmentgroup": "True",
         "hovertemplate": "sell_symbol=%{x}<br>trade_amount_$=%{y}<extra></extra>",
         "legendgroup": "SAFEMOON",
         "marker": {
          "color": "rgb(95, 70, 144)"
         },
         "name": "SAFEMOON",
         "offsetgroup": "SAFEMOON",
         "orientation": "v",
         "showlegend": true,
         "textposition": "auto",
         "type": "bar",
         "x": [
          "SAFEMOON"
         ],
         "xaxis": "x",
         "y": [
          74266834.1822059
         ],
         "yaxis": "y"
        },
        {
         "alignmentgroup": "True",
         "hovertemplate": "sell_symbol=%{x}<br>trade_amount_$=%{y}<extra></extra>",
         "legendgroup": "BUNNY",
         "marker": {
          "color": "rgb(29, 105, 150)"
         },
         "name": "BUNNY",
         "offsetgroup": "BUNNY",
         "orientation": "v",
         "showlegend": true,
         "textposition": "auto",
         "type": "bar",
         "x": [
          "BUNNY"
         ],
         "xaxis": "x",
         "y": [
          39358124.542457536
         ],
         "yaxis": "y"
        },
        {
         "alignmentgroup": "True",
         "hovertemplate": "sell_symbol=%{x}<br>trade_amount_$=%{y}<extra></extra>",
         "legendgroup": "NFTART",
         "marker": {
          "color": "rgb(56, 166, 165)"
         },
         "name": "NFTART",
         "offsetgroup": "NFTART",
         "orientation": "v",
         "showlegend": true,
         "textposition": "auto",
         "type": "bar",
         "x": [
          "NFTART"
         ],
         "xaxis": "x",
         "y": [
          19952658.985223673
         ],
         "yaxis": "y"
        },
        {
         "alignmentgroup": "True",
         "hovertemplate": "sell_symbol=%{x}<br>trade_amount_$=%{y}<extra></extra>",
         "legendgroup": "CUMMIES",
         "marker": {
          "color": "rgb(15, 133, 84)"
         },
         "name": "CUMMIES",
         "offsetgroup": "CUMMIES",
         "orientation": "v",
         "showlegend": true,
         "textposition": "auto",
         "type": "bar",
         "x": [
          "CUMMIES"
         ],
         "xaxis": "x",
         "y": [
          30616209.604537025
         ],
         "yaxis": "y"
        },
        {
         "alignmentgroup": "True",
         "hovertemplate": "sell_symbol=%{x}<br>trade_amount_$=%{y}<extra></extra>",
         "legendgroup": "Dogefather",
         "marker": {
          "color": "rgb(115, 175, 72)"
         },
         "name": "Dogefather",
         "offsetgroup": "Dogefather",
         "orientation": "v",
         "showlegend": true,
         "textposition": "auto",
         "type": "bar",
         "x": [
          "Dogefather"
         ],
         "xaxis": "x",
         "y": [
          17099859.725755077
         ],
         "yaxis": "y"
        },
        {
         "alignmentgroup": "True",
         "hovertemplate": "sell_symbol=%{x}<br>trade_amount_$=%{y}<extra></extra>",
         "legendgroup": "BSCPAD",
         "marker": {
          "color": "rgb(237, 173, 8)"
         },
         "name": "BSCPAD",
         "offsetgroup": "BSCPAD",
         "orientation": "v",
         "showlegend": true,
         "textposition": "auto",
         "type": "bar",
         "x": [
          "BSCPAD"
         ],
         "xaxis": "x",
         "y": [
          33693426.11298901
         ],
         "yaxis": "y"
        },
        {
         "alignmentgroup": "True",
         "hovertemplate": "sell_symbol=%{x}<br>trade_amount_$=%{y}<extra></extra>",
         "legendgroup": "ElonGate",
         "marker": {
          "color": "rgb(225, 124, 5)"
         },
         "name": "ElonGate",
         "offsetgroup": "ElonGate",
         "orientation": "v",
         "showlegend": true,
         "textposition": "auto",
         "type": "bar",
         "x": [
          "ElonGate"
         ],
         "xaxis": "x",
         "y": [
          14659574.168565279
         ],
         "yaxis": "y"
        },
        {
         "alignmentgroup": "True",
         "hovertemplate": "sell_symbol=%{x}<br>trade_amount_$=%{y}<extra></extra>",
         "legendgroup": "ECP",
         "marker": {
          "color": "rgb(204, 80, 62)"
         },
         "name": "ECP",
         "offsetgroup": "ECP",
         "orientation": "v",
         "showlegend": true,
         "textposition": "auto",
         "type": "bar",
         "x": [
          "ECP"
         ],
         "xaxis": "x",
         "y": [
          13543383.612896236
         ],
         "yaxis": "y"
        },
        {
         "alignmentgroup": "True",
         "hovertemplate": "sell_symbol=%{x}<br>trade_amount_$=%{y}<extra></extra>",
         "legendgroup": "AUTO",
         "marker": {
          "color": "rgb(148, 52, 110)"
         },
         "name": "AUTO",
         "offsetgroup": "AUTO",
         "orientation": "v",
         "showlegend": true,
         "textposition": "auto",
         "type": "bar",
         "x": [
          "AUTO"
         ],
         "xaxis": "x",
         "y": [
          34729774.602668114
         ],
         "yaxis": "y"
        },
        {
         "alignmentgroup": "True",
         "hovertemplate": "sell_symbol=%{x}<br>trade_amount_$=%{y}<extra></extra>",
         "legendgroup": "BONFIRE",
         "marker": {
          "color": "rgb(111, 64, 112)"
         },
         "name": "BONFIRE",
         "offsetgroup": "BONFIRE",
         "orientation": "v",
         "showlegend": true,
         "textposition": "auto",
         "type": "bar",
         "x": [
          "BONFIRE"
         ],
         "xaxis": "x",
         "y": [
          10763381.630322732
         ],
         "yaxis": "y"
        },
        {
         "alignmentgroup": "True",
         "hovertemplate": "sell_symbol=%{x}<br>trade_amount_$=%{y}<extra></extra>",
         "legendgroup": "BTCB",
         "marker": {
          "color": "rgb(102, 102, 102)"
         },
         "name": "BTCB",
         "offsetgroup": "BTCB",
         "orientation": "v",
         "showlegend": true,
         "textposition": "auto",
         "type": "bar",
         "x": [
          "BTCB",
          "BTCB"
         ],
         "xaxis": "x",
         "y": [
          17827373.788657613,
          1491520.3478925682
         ],
         "yaxis": "y"
        },
        {
         "alignmentgroup": "True",
         "hovertemplate": "sell_symbol=%{x}<br>trade_amount_$=%{y}<extra></extra>",
         "legendgroup": "EPS",
         "marker": {
          "color": "rgb(95, 70, 144)"
         },
         "name": "EPS",
         "offsetgroup": "EPS",
         "orientation": "v",
         "showlegend": true,
         "textposition": "auto",
         "type": "bar",
         "x": [
          "EPS"
         ],
         "xaxis": "x",
         "y": [
          40725210.05635775
         ],
         "yaxis": "y"
        },
        {
         "alignmentgroup": "True",
         "hovertemplate": "sell_symbol=%{x}<br>trade_amount_$=%{y}<extra></extra>",
         "legendgroup": "SPORE",
         "marker": {
          "color": "rgb(29, 105, 150)"
         },
         "name": "SPORE",
         "offsetgroup": "SPORE",
         "orientation": "v",
         "showlegend": true,
         "textposition": "auto",
         "type": "bar",
         "x": [
          "SPORE"
         ],
         "xaxis": "x",
         "y": [
          3617112.2240126086
         ],
         "yaxis": "y"
        },
        {
         "alignmentgroup": "True",
         "hovertemplate": "sell_symbol=%{x}<br>trade_amount_$=%{y}<extra></extra>",
         "legendgroup": "Forestry",
         "marker": {
          "color": "rgb(56, 166, 165)"
         },
         "name": "Forestry",
         "offsetgroup": "Forestry",
         "orientation": "v",
         "showlegend": true,
         "textposition": "auto",
         "type": "bar",
         "x": [
          "Forestry"
         ],
         "xaxis": "x",
         "y": [
          6545640.801394612
         ],
         "yaxis": "y"
        },
        {
         "alignmentgroup": "True",
         "hovertemplate": "sell_symbol=%{x}<br>trade_amount_$=%{y}<extra></extra>",
         "legendgroup": "SEED",
         "marker": {
          "color": "rgb(15, 133, 84)"
         },
         "name": "SEED",
         "offsetgroup": "SEED",
         "orientation": "v",
         "showlegend": true,
         "textposition": "auto",
         "type": "bar",
         "x": [
          "SEED",
          "SEED"
         ],
         "xaxis": "x",
         "y": [
          9664734.412282886,
          5074890.511251328
         ],
         "yaxis": "y"
        },
        {
         "alignmentgroup": "True",
         "hovertemplate": "sell_symbol=%{x}<br>trade_amount_$=%{y}<extra></extra>",
         "legendgroup": "TBAKE",
         "marker": {
          "color": "rgb(115, 175, 72)"
         },
         "name": "TBAKE",
         "offsetgroup": "TBAKE",
         "orientation": "v",
         "showlegend": true,
         "textposition": "auto",
         "type": "bar",
         "x": [
          "TBAKE"
         ],
         "xaxis": "x",
         "y": [
          7160105.490195127
         ],
         "yaxis": "y"
        },
        {
         "alignmentgroup": "True",
         "hovertemplate": "sell_symbol=%{x}<br>trade_amount_$=%{y}<extra></extra>",
         "legendgroup": "BSCS",
         "marker": {
          "color": "rgb(237, 173, 8)"
         },
         "name": "BSCS",
         "offsetgroup": "BSCS",
         "orientation": "v",
         "showlegend": true,
         "textposition": "auto",
         "type": "bar",
         "x": [
          "BSCS"
         ],
         "xaxis": "x",
         "y": [
          8534928.299327161
         ],
         "yaxis": "y"
        },
        {
         "alignmentgroup": "True",
         "hovertemplate": "sell_symbol=%{x}<br>trade_amount_$=%{y}<extra></extra>",
         "legendgroup": "LOF",
         "marker": {
          "color": "rgb(225, 124, 5)"
         },
         "name": "LOF",
         "offsetgroup": "LOF",
         "orientation": "v",
         "showlegend": true,
         "textposition": "auto",
         "type": "bar",
         "x": [
          "LOF"
         ],
         "xaxis": "x",
         "y": [
          6871653.108523872
         ],
         "yaxis": "y"
        },
        {
         "alignmentgroup": "True",
         "hovertemplate": "sell_symbol=%{x}<br>trade_amount_$=%{y}<extra></extra>",
         "legendgroup": "100x",
         "marker": {
          "color": "rgb(204, 80, 62)"
         },
         "name": "100x",
         "offsetgroup": "100x",
         "orientation": "v",
         "showlegend": true,
         "textposition": "auto",
         "type": "bar",
         "x": [
          "100x"
         ],
         "xaxis": "x",
         "y": [
          5179165.750889965
         ],
         "yaxis": "y"
        },
        {
         "alignmentgroup": "True",
         "hovertemplate": "sell_symbol=%{x}<br>trade_amount_$=%{y}<extra></extra>",
         "legendgroup": "SPND",
         "marker": {
          "color": "rgb(148, 52, 110)"
         },
         "name": "SPND",
         "offsetgroup": "SPND",
         "orientation": "v",
         "showlegend": true,
         "textposition": "auto",
         "type": "bar",
         "x": [
          "SPND"
         ],
         "xaxis": "x",
         "y": [
          5377514.354284012
         ],
         "yaxis": "y"
        },
        {
         "alignmentgroup": "True",
         "hovertemplate": "sell_symbol=%{x}<br>trade_amount_$=%{y}<extra></extra>",
         "legendgroup": "upBNB",
         "marker": {
          "color": "rgb(111, 64, 112)"
         },
         "name": "upBNB",
         "offsetgroup": "upBNB",
         "orientation": "v",
         "showlegend": true,
         "textposition": "auto",
         "type": "bar",
         "x": [
          "upBNB"
         ],
         "xaxis": "x",
         "y": [
          7404041.930315158
         ],
         "yaxis": "y"
        },
        {
         "alignmentgroup": "True",
         "hovertemplate": "sell_symbol=%{x}<br>trade_amount_$=%{y}<extra></extra>",
         "legendgroup": "ALPACA",
         "marker": {
          "color": "rgb(102, 102, 102)"
         },
         "name": "ALPACA",
         "offsetgroup": "ALPACA",
         "orientation": "v",
         "showlegend": true,
         "textposition": "auto",
         "type": "bar",
         "x": [
          "ALPACA"
         ],
         "xaxis": "x",
         "y": [
          12486260.404403701
         ],
         "yaxis": "y"
        },
        {
         "alignmentgroup": "True",
         "hovertemplate": "sell_symbol=%{x}<br>trade_amount_$=%{y}<extra></extra>",
         "legendgroup": "KPAD",
         "marker": {
          "color": "rgb(95, 70, 144)"
         },
         "name": "KPAD",
         "offsetgroup": "KPAD",
         "orientation": "v",
         "showlegend": true,
         "textposition": "auto",
         "type": "bar",
         "x": [
          "KPAD"
         ],
         "xaxis": "x",
         "y": [
          7938451.01828161
         ],
         "yaxis": "y"
        },
        {
         "alignmentgroup": "True",
         "hovertemplate": "sell_symbol=%{x}<br>trade_amount_$=%{y}<extra></extra>",
         "legendgroup": "BRICK",
         "marker": {
          "color": "rgb(29, 105, 150)"
         },
         "name": "BRICK",
         "offsetgroup": "BRICK",
         "orientation": "v",
         "showlegend": true,
         "textposition": "auto",
         "type": "bar",
         "x": [
          "BRICK",
          "BRICK"
         ],
         "xaxis": "x",
         "y": [
          7503188.807065022,
          3435096.389029929
         ],
         "yaxis": "y"
        },
        {
         "alignmentgroup": "True",
         "hovertemplate": "sell_symbol=%{x}<br>trade_amount_$=%{y}<extra></extra>",
         "legendgroup": "SAFEMARS",
         "marker": {
          "color": "rgb(56, 166, 165)"
         },
         "name": "SAFEMARS",
         "offsetgroup": "SAFEMARS",
         "orientation": "v",
         "showlegend": true,
         "textposition": "auto",
         "type": "bar",
         "x": [
          "SAFEMARS"
         ],
         "xaxis": "x",
         "y": [
          6127177.058579675
         ],
         "yaxis": "y"
        },
        {
         "alignmentgroup": "True",
         "hovertemplate": "sell_symbol=%{x}<br>trade_amount_$=%{y}<extra></extra>",
         "legendgroup": "SAFEMOONCASH",
         "marker": {
          "color": "rgb(15, 133, 84)"
         },
         "name": "SAFEMOONCASH",
         "offsetgroup": "SAFEMOONCASH",
         "orientation": "v",
         "showlegend": true,
         "textposition": "auto",
         "type": "bar",
         "x": [
          "SAFEMOONCASH"
         ],
         "xaxis": "x",
         "y": [
          4079945.578287137
         ],
         "yaxis": "y"
        },
        {
         "alignmentgroup": "True",
         "hovertemplate": "sell_symbol=%{x}<br>trade_amount_$=%{y}<extra></extra>",
         "legendgroup": "EGG",
         "marker": {
          "color": "rgb(115, 175, 72)"
         },
         "name": "EGG",
         "offsetgroup": "EGG",
         "orientation": "v",
         "showlegend": true,
         "textposition": "auto",
         "type": "bar",
         "x": [
          "EGG",
          "EGG"
         ],
         "xaxis": "x",
         "y": [
          9610067.032926526,
          8413321.899040656
         ],
         "yaxis": "y"
        },
        {
         "alignmentgroup": "True",
         "hovertemplate": "sell_symbol=%{x}<br>trade_amount_$=%{y}<extra></extra>",
         "legendgroup": "HYPER",
         "marker": {
          "color": "rgb(237, 173, 8)"
         },
         "name": "HYPER",
         "offsetgroup": "HYPER",
         "orientation": "v",
         "showlegend": true,
         "textposition": "auto",
         "type": "bar",
         "x": [
          "HYPER"
         ],
         "xaxis": "x",
         "y": [
          4374947.822063304
         ],
         "yaxis": "y"
        },
        {
         "alignmentgroup": "True",
         "hovertemplate": "sell_symbol=%{x}<br>trade_amount_$=%{y}<extra></extra>",
         "legendgroup": "MEMES",
         "marker": {
          "color": "rgb(225, 124, 5)"
         },
         "name": "MEMES",
         "offsetgroup": "MEMES",
         "orientation": "v",
         "showlegend": true,
         "textposition": "auto",
         "type": "bar",
         "x": [
          "MEMES"
         ],
         "xaxis": "x",
         "y": [
          4036737.4901988623
         ],
         "yaxis": "y"
        },
        {
         "alignmentgroup": "True",
         "hovertemplate": "sell_symbol=%{x}<br>trade_amount_$=%{y}<extra></extra>",
         "legendgroup": "BAKE",
         "marker": {
          "color": "rgb(204, 80, 62)"
         },
         "name": "BAKE",
         "offsetgroup": "BAKE",
         "orientation": "v",
         "showlegend": true,
         "textposition": "auto",
         "type": "bar",
         "x": [
          "BAKE"
         ],
         "xaxis": "x",
         "y": [
          4862475.992361804
         ],
         "yaxis": "y"
        },
        {
         "alignmentgroup": "True",
         "hovertemplate": "sell_symbol=%{x}<br>trade_amount_$=%{y}<extra></extra>",
         "legendgroup": "SHILD",
         "marker": {
          "color": "rgb(148, 52, 110)"
         },
         "name": "SHILD",
         "offsetgroup": "SHILD",
         "orientation": "v",
         "showlegend": true,
         "textposition": "auto",
         "type": "bar",
         "x": [
          "SHILD"
         ],
         "xaxis": "x",
         "y": [
          4764242.095806502
         ],
         "yaxis": "y"
        },
        {
         "alignmentgroup": "True",
         "hovertemplate": "sell_symbol=%{x}<br>trade_amount_$=%{y}<extra></extra>",
         "legendgroup": "BOG",
         "marker": {
          "color": "rgb(111, 64, 112)"
         },
         "name": "BOG",
         "offsetgroup": "BOG",
         "orientation": "v",
         "showlegend": true,
         "textposition": "auto",
         "type": "bar",
         "x": [
          "BOG"
         ],
         "xaxis": "x",
         "y": [
          8936676.479807073
         ],
         "yaxis": "y"
        },
        {
         "alignmentgroup": "True",
         "hovertemplate": "sell_symbol=%{x}<br>trade_amount_$=%{y}<extra></extra>",
         "legendgroup": "DOGE",
         "marker": {
          "color": "rgb(102, 102, 102)"
         },
         "name": "DOGE",
         "offsetgroup": "DOGE",
         "orientation": "v",
         "showlegend": true,
         "textposition": "auto",
         "type": "bar",
         "x": [
          "DOGE"
         ],
         "xaxis": "x",
         "y": [
          4995646.41644567
         ],
         "yaxis": "y"
        },
        {
         "alignmentgroup": "True",
         "hovertemplate": "sell_symbol=%{x}<br>trade_amount_$=%{y}<extra></extra>",
         "legendgroup": "SLAM",
         "marker": {
          "color": "rgb(95, 70, 144)"
         },
         "name": "SLAM",
         "offsetgroup": "SLAM",
         "orientation": "v",
         "showlegend": true,
         "textposition": "auto",
         "type": "bar",
         "x": [
          "SLAM"
         ],
         "xaxis": "x",
         "y": [
          3988098.6177720143
         ],
         "yaxis": "y"
        },
        {
         "alignmentgroup": "True",
         "hovertemplate": "sell_symbol=%{x}<br>trade_amount_$=%{y}<extra></extra>",
         "legendgroup": "MOONMOON",
         "marker": {
          "color": "rgb(29, 105, 150)"
         },
         "name": "MOONMOON",
         "offsetgroup": "MOONMOON",
         "orientation": "v",
         "showlegend": true,
         "textposition": "auto",
         "type": "bar",
         "x": [
          "MOONMOON"
         ],
         "xaxis": "x",
         "y": [
          3281429.24200153
         ],
         "yaxis": "y"
        },
        {
         "alignmentgroup": "True",
         "hovertemplate": "sell_symbol=%{x}<br>trade_amount_$=%{y}<extra></extra>",
         "legendgroup": "SENDWHALE",
         "marker": {
          "color": "rgb(56, 166, 165)"
         },
         "name": "SENDWHALE",
         "offsetgroup": "SENDWHALE",
         "orientation": "v",
         "showlegend": true,
         "textposition": "auto",
         "type": "bar",
         "x": [
          "SENDWHALE"
         ],
         "xaxis": "x",
         "y": [
          3299553.8776114564
         ],
         "yaxis": "y"
        },
        {
         "alignmentgroup": "True",
         "hovertemplate": "sell_symbol=%{x}<br>trade_amount_$=%{y}<extra></extra>",
         "legendgroup": "DAI",
         "marker": {
          "color": "rgb(15, 133, 84)"
         },
         "name": "DAI",
         "offsetgroup": "DAI",
         "orientation": "v",
         "showlegend": true,
         "textposition": "auto",
         "type": "bar",
         "x": [
          "DAI"
         ],
         "xaxis": "x",
         "y": [
          3654027.7912607165
         ],
         "yaxis": "y"
        },
        {
         "alignmentgroup": "True",
         "hovertemplate": "sell_symbol=%{x}<br>trade_amount_$=%{y}<extra></extra>",
         "legendgroup": "TREE",
         "marker": {
          "color": "rgb(115, 175, 72)"
         },
         "name": "TREE",
         "offsetgroup": "TREE",
         "orientation": "v",
         "showlegend": true,
         "textposition": "auto",
         "type": "bar",
         "x": [
          "TREE"
         ],
         "xaxis": "x",
         "y": [
          4426647.360673923
         ],
         "yaxis": "y"
        },
        {
         "alignmentgroup": "True",
         "hovertemplate": "sell_symbol=%{x}<br>trade_amount_$=%{y}<extra></extra>",
         "legendgroup": "SAFEBTC",
         "marker": {
          "color": "rgb(237, 173, 8)"
         },
         "name": "SAFEBTC",
         "offsetgroup": "SAFEBTC",
         "orientation": "v",
         "showlegend": true,
         "textposition": "auto",
         "type": "bar",
         "x": [
          "SAFEBTC"
         ],
         "xaxis": "x",
         "y": [
          3569828.686489004
         ],
         "yaxis": "y"
        },
        {
         "alignmentgroup": "True",
         "hovertemplate": "sell_symbol=%{x}<br>trade_amount_$=%{y}<extra></extra>",
         "legendgroup": "MOONLIGHT",
         "marker": {
          "color": "rgb(225, 124, 5)"
         },
         "name": "MOONLIGHT",
         "offsetgroup": "MOONLIGHT",
         "orientation": "v",
         "showlegend": true,
         "textposition": "auto",
         "type": "bar",
         "x": [
          "MOONLIGHT"
         ],
         "xaxis": "x",
         "y": [
          3266684.850889551
         ],
         "yaxis": "y"
        },
        {
         "alignmentgroup": "True",
         "hovertemplate": "sell_symbol=%{x}<br>trade_amount_$=%{y}<extra></extra>",
         "legendgroup": "TWT",
         "marker": {
          "color": "rgb(204, 80, 62)"
         },
         "name": "TWT",
         "offsetgroup": "TWT",
         "orientation": "v",
         "showlegend": true,
         "textposition": "auto",
         "type": "bar",
         "x": [
          "TWT"
         ],
         "xaxis": "x",
         "y": [
          4154937.014506323
         ],
         "yaxis": "y"
        },
        {
         "alignmentgroup": "True",
         "hovertemplate": "sell_symbol=%{x}<br>trade_amount_$=%{y}<extra></extra>",
         "legendgroup": "MOONPIRATE",
         "marker": {
          "color": "rgb(148, 52, 110)"
         },
         "name": "MOONPIRATE",
         "offsetgroup": "MOONPIRATE",
         "orientation": "v",
         "showlegend": true,
         "textposition": "auto",
         "type": "bar",
         "x": [
          "MOONPIRATE"
         ],
         "xaxis": "x",
         "y": [
          3191791.727872192
         ],
         "yaxis": "y"
        },
        {
         "alignmentgroup": "True",
         "hovertemplate": "sell_symbol=%{x}<br>trade_amount_$=%{y}<extra></extra>",
         "legendgroup": "Ramen",
         "marker": {
          "color": "rgb(111, 64, 112)"
         },
         "name": "Ramen",
         "offsetgroup": "Ramen",
         "orientation": "v",
         "showlegend": true,
         "textposition": "auto",
         "type": "bar",
         "x": [
          "Ramen"
         ],
         "xaxis": "x",
         "y": [
          5154477.771871205
         ],
         "yaxis": "y"
        },
        {
         "alignmentgroup": "True",
         "hovertemplate": "sell_symbol=%{x}<br>trade_amount_$=%{y}<extra></extra>",
         "legendgroup": "EULER",
         "marker": {
          "color": "rgb(102, 102, 102)"
         },
         "name": "EULER",
         "offsetgroup": "EULER",
         "orientation": "v",
         "showlegend": true,
         "textposition": "auto",
         "type": "bar",
         "x": [
          "EULER"
         ],
         "xaxis": "x",
         "y": [
          6467257.072196648
         ],
         "yaxis": "y"
        },
        {
         "alignmentgroup": "True",
         "hovertemplate": "sell_symbol=%{x}<br>trade_amount_$=%{y}<extra></extra>",
         "legendgroup": "XVS",
         "marker": {
          "color": "rgb(95, 70, 144)"
         },
         "name": "XVS",
         "offsetgroup": "XVS",
         "orientation": "v",
         "showlegend": true,
         "textposition": "auto",
         "type": "bar",
         "x": [
          "XVS"
         ],
         "xaxis": "x",
         "y": [
          7196978.992524782
         ],
         "yaxis": "y"
        },
        {
         "alignmentgroup": "True",
         "hovertemplate": "sell_symbol=%{x}<br>trade_amount_$=%{y}<extra></extra>",
         "legendgroup": "SMG",
         "marker": {
          "color": "rgb(29, 105, 150)"
         },
         "name": "SMG",
         "offsetgroup": "SMG",
         "orientation": "v",
         "showlegend": true,
         "textposition": "auto",
         "type": "bar",
         "x": [
          "SMG"
         ],
         "xaxis": "x",
         "y": [
          4499920.930252443
         ],
         "yaxis": "y"
        },
        {
         "alignmentgroup": "True",
         "hovertemplate": "sell_symbol=%{x}<br>trade_amount_$=%{y}<extra></extra>",
         "legendgroup": "DINO",
         "marker": {
          "color": "rgb(56, 166, 165)"
         },
         "name": "DINO",
         "offsetgroup": "DINO",
         "orientation": "v",
         "showlegend": true,
         "textposition": "auto",
         "type": "bar",
         "x": [
          "DINO"
         ],
         "xaxis": "x",
         "y": [
          4410858.784441188
         ],
         "yaxis": "y"
        },
        {
         "alignmentgroup": "True",
         "hovertemplate": "sell_symbol=%{x}<br>trade_amount_$=%{y}<extra></extra>",
         "legendgroup": "SALT",
         "marker": {
          "color": "rgb(15, 133, 84)"
         },
         "name": "SALT",
         "offsetgroup": "SALT",
         "orientation": "v",
         "showlegend": true,
         "textposition": "auto",
         "type": "bar",
         "x": [
          "SALT",
          "SALT"
         ],
         "xaxis": "x",
         "y": [
          4866958.218409722,
          2552866.4830910806
         ],
         "yaxis": "y"
        },
        {
         "alignmentgroup": "True",
         "hovertemplate": "sell_symbol=%{x}<br>trade_amount_$=%{y}<extra></extra>",
         "legendgroup": "GEN",
         "marker": {
          "color": "rgb(115, 175, 72)"
         },
         "name": "GEN",
         "offsetgroup": "GEN",
         "orientation": "v",
         "showlegend": true,
         "textposition": "auto",
         "type": "bar",
         "x": [
          "GEN",
          "GEN"
         ],
         "xaxis": "x",
         "y": [
          6599826.2936646985,
          3646477.0414150706
         ],
         "yaxis": "y"
        },
        {
         "alignmentgroup": "True",
         "hovertemplate": "sell_symbol=%{x}<br>trade_amount_$=%{y}<extra></extra>",
         "legendgroup": "DOT",
         "marker": {
          "color": "rgb(237, 173, 8)"
         },
         "name": "DOT",
         "offsetgroup": "DOT",
         "orientation": "v",
         "showlegend": true,
         "textposition": "auto",
         "type": "bar",
         "x": [
          "DOT"
         ],
         "xaxis": "x",
         "y": [
          4777866.450487555
         ],
         "yaxis": "y"
        },
        {
         "alignmentgroup": "True",
         "hovertemplate": "sell_symbol=%{x}<br>trade_amount_$=%{y}<extra></extra>",
         "legendgroup": "FEG",
         "marker": {
          "color": "rgb(225, 124, 5)"
         },
         "name": "FEG",
         "offsetgroup": "FEG",
         "orientation": "v",
         "showlegend": true,
         "textposition": "auto",
         "type": "bar",
         "x": [
          "FEG"
         ],
         "xaxis": "x",
         "y": [
          3108362.9514926225
         ],
         "yaxis": "y"
        },
        {
         "alignmentgroup": "True",
         "hovertemplate": "sell_symbol=%{x}<br>trade_amount_$=%{y}<extra></extra>",
         "legendgroup": "MASH",
         "marker": {
          "color": "rgb(204, 80, 62)"
         },
         "name": "MASH",
         "offsetgroup": "MASH",
         "orientation": "v",
         "showlegend": true,
         "textposition": "auto",
         "type": "bar",
         "x": [
          "MASH",
          "MASH"
         ],
         "xaxis": "x",
         "y": [
          4618272.045652906,
          3026453.868076117
         ],
         "yaxis": "y"
        },
        {
         "alignmentgroup": "True",
         "hovertemplate": "sell_symbol=%{x}<br>trade_amount_$=%{y}<extra></extra>",
         "legendgroup": "GEMS",
         "marker": {
          "color": "rgb(148, 52, 110)"
         },
         "name": "GEMS",
         "offsetgroup": "GEMS",
         "orientation": "v",
         "showlegend": true,
         "textposition": "auto",
         "type": "bar",
         "x": [
          "GEMS"
         ],
         "xaxis": "x",
         "y": [
          2376172.4475768167
         ],
         "yaxis": "y"
        },
        {
         "alignmentgroup": "True",
         "hovertemplate": "sell_symbol=%{x}<br>trade_amount_$=%{y}<extra></extra>",
         "legendgroup": "SUPERWAIFU",
         "marker": {
          "color": "rgb(111, 64, 112)"
         },
         "name": "SUPERWAIFU",
         "offsetgroup": "SUPERWAIFU",
         "orientation": "v",
         "showlegend": true,
         "textposition": "auto",
         "type": "bar",
         "x": [
          "SUPERWAIFU"
         ],
         "xaxis": "x",
         "y": [
          2803985.9427665225
         ],
         "yaxis": "y"
        },
        {
         "alignmentgroup": "True",
         "hovertemplate": "sell_symbol=%{x}<br>trade_amount_$=%{y}<extra></extra>",
         "legendgroup": "Hamtaro",
         "marker": {
          "color": "rgb(102, 102, 102)"
         },
         "name": "Hamtaro",
         "offsetgroup": "Hamtaro",
         "orientation": "v",
         "showlegend": true,
         "textposition": "auto",
         "type": "bar",
         "x": [
          "Hamtaro"
         ],
         "xaxis": "x",
         "y": [
          2159491.5948241423
         ],
         "yaxis": "y"
        },
        {
         "alignmentgroup": "True",
         "hovertemplate": "sell_symbol=%{x}<br>trade_amount_$=%{y}<extra></extra>",
         "legendgroup": "ADA",
         "marker": {
          "color": "rgb(95, 70, 144)"
         },
         "name": "ADA",
         "offsetgroup": "ADA",
         "orientation": "v",
         "showlegend": true,
         "textposition": "auto",
         "type": "bar",
         "x": [
          "ADA"
         ],
         "xaxis": "x",
         "y": [
          3612064.628625586
         ],
         "yaxis": "y"
        },
        {
         "alignmentgroup": "True",
         "hovertemplate": "sell_symbol=%{x}<br>trade_amount_$=%{y}<extra></extra>",
         "legendgroup": "SPE",
         "marker": {
          "color": "rgb(29, 105, 150)"
         },
         "name": "SPE",
         "offsetgroup": "SPE",
         "orientation": "v",
         "showlegend": true,
         "textposition": "auto",
         "type": "bar",
         "x": [
          "SPE"
         ],
         "xaxis": "x",
         "y": [
          2912238.7107907087
         ],
         "yaxis": "y"
        },
        {
         "alignmentgroup": "True",
         "hovertemplate": "sell_symbol=%{x}<br>trade_amount_$=%{y}<extra></extra>",
         "legendgroup": "NIU",
         "marker": {
          "color": "rgb(56, 166, 165)"
         },
         "name": "NIU",
         "offsetgroup": "NIU",
         "orientation": "v",
         "showlegend": true,
         "textposition": "auto",
         "type": "bar",
         "x": [
          "NIU"
         ],
         "xaxis": "x",
         "y": [
          3301991.910692036
         ],
         "yaxis": "y"
        },
        {
         "alignmentgroup": "True",
         "hovertemplate": "sell_symbol=%{x}<br>trade_amount_$=%{y}<extra></extra>",
         "legendgroup": "SAFECOMET",
         "marker": {
          "color": "rgb(15, 133, 84)"
         },
         "name": "SAFECOMET",
         "offsetgroup": "SAFECOMET",
         "orientation": "v",
         "showlegend": true,
         "textposition": "auto",
         "type": "bar",
         "x": [
          "SAFECOMET"
         ],
         "xaxis": "x",
         "y": [
          1932785.1800929597
         ],
         "yaxis": "y"
        },
        {
         "alignmentgroup": "True",
         "hovertemplate": "sell_symbol=%{x}<br>trade_amount_$=%{y}<extra></extra>",
         "legendgroup": "HyMETEOR",
         "marker": {
          "color": "rgb(115, 175, 72)"
         },
         "name": "HyMETEOR",
         "offsetgroup": "HyMETEOR",
         "orientation": "v",
         "showlegend": true,
         "textposition": "auto",
         "type": "bar",
         "x": [
          "HyMETEOR"
         ],
         "xaxis": "x",
         "y": [
          2378915.1425249693
         ],
         "yaxis": "y"
        },
        {
         "alignmentgroup": "True",
         "hovertemplate": "sell_symbol=%{x}<br>trade_amount_$=%{y}<extra></extra>",
         "legendgroup": "ZEP",
         "marker": {
          "color": "rgb(237, 173, 8)"
         },
         "name": "ZEP",
         "offsetgroup": "ZEP",
         "orientation": "v",
         "showlegend": true,
         "textposition": "auto",
         "type": "bar",
         "x": [
          "ZEP"
         ],
         "xaxis": "x",
         "y": [
          2913334.9520222642
         ],
         "yaxis": "y"
        },
        {
         "alignmentgroup": "True",
         "hovertemplate": "sell_symbol=%{x}<br>trade_amount_$=%{y}<extra></extra>",
         "legendgroup": "HAPPY",
         "marker": {
          "color": "rgb(225, 124, 5)"
         },
         "name": "HAPPY",
         "offsetgroup": "HAPPY",
         "orientation": "v",
         "showlegend": true,
         "textposition": "auto",
         "type": "bar",
         "x": [
          "HAPPY"
         ],
         "xaxis": "x",
         "y": [
          3001564.4450136297
         ],
         "yaxis": "y"
        },
        {
         "alignmentgroup": "True",
         "hovertemplate": "sell_symbol=%{x}<br>trade_amount_$=%{y}<extra></extra>",
         "legendgroup": "UST",
         "marker": {
          "color": "rgb(204, 80, 62)"
         },
         "name": "UST",
         "offsetgroup": "UST",
         "orientation": "v",
         "showlegend": true,
         "textposition": "auto",
         "type": "bar",
         "x": [
          "UST",
          "UST"
         ],
         "xaxis": "x",
         "y": [
          2803762.8852762035,
          1990208.678578361
         ],
         "yaxis": "y"
        },
        {
         "alignmentgroup": "True",
         "hovertemplate": "sell_symbol=%{x}<br>trade_amount_$=%{y}<extra></extra>",
         "legendgroup": "AQUAGOAT",
         "marker": {
          "color": "rgb(148, 52, 110)"
         },
         "name": "AQUAGOAT",
         "offsetgroup": "AQUAGOAT",
         "orientation": "v",
         "showlegend": true,
         "textposition": "auto",
         "type": "bar",
         "x": [
          "AQUAGOAT"
         ],
         "xaxis": "x",
         "y": [
          1971989.4449745028
         ],
         "yaxis": "y"
        },
        {
         "alignmentgroup": "True",
         "hovertemplate": "sell_symbol=%{x}<br>trade_amount_$=%{y}<extra></extra>",
         "legendgroup": "DHOUSE",
         "marker": {
          "color": "rgb(111, 64, 112)"
         },
         "name": "DHOUSE",
         "offsetgroup": "DHOUSE",
         "orientation": "v",
         "showlegend": true,
         "textposition": "auto",
         "type": "bar",
         "x": [
          "DHOUSE"
         ],
         "xaxis": "x",
         "y": [
          3050529.369314908
         ],
         "yaxis": "y"
        },
        {
         "alignmentgroup": "True",
         "hovertemplate": "sell_symbol=%{x}<br>trade_amount_$=%{y}<extra></extra>",
         "legendgroup": "SAFEP",
         "marker": {
          "color": "rgb(102, 102, 102)"
         },
         "name": "SAFEP",
         "offsetgroup": "SAFEP",
         "orientation": "v",
         "showlegend": true,
         "textposition": "auto",
         "type": "bar",
         "x": [
          "SAFEP"
         ],
         "xaxis": "x",
         "y": [
          2195585.4178404924
         ],
         "yaxis": "y"
        },
        {
         "alignmentgroup": "True",
         "hovertemplate": "sell_symbol=%{x}<br>trade_amount_$=%{y}<extra></extra>",
         "legendgroup": "BETH",
         "marker": {
          "color": "rgb(95, 70, 144)"
         },
         "name": "BETH",
         "offsetgroup": "BETH",
         "orientation": "v",
         "showlegend": true,
         "textposition": "auto",
         "type": "bar",
         "x": [
          "BETH"
         ],
         "xaxis": "x",
         "y": [
          13989004.63296687
         ],
         "yaxis": "y"
        },
        {
         "alignmentgroup": "True",
         "hovertemplate": "sell_symbol=%{x}<br>trade_amount_$=%{y}<extra></extra>",
         "legendgroup": "BGOV",
         "marker": {
          "color": "rgb(29, 105, 150)"
         },
         "name": "BGOV",
         "offsetgroup": "BGOV",
         "orientation": "v",
         "showlegend": true,
         "textposition": "auto",
         "type": "bar",
         "x": [
          "BGOV"
         ],
         "xaxis": "x",
         "y": [
          8291878.27887357
         ],
         "yaxis": "y"
        },
        {
         "alignmentgroup": "True",
         "hovertemplate": "sell_symbol=%{x}<br>trade_amount_$=%{y}<extra></extra>",
         "legendgroup": "ASS",
         "marker": {
          "color": "rgb(56, 166, 165)"
         },
         "name": "ASS",
         "offsetgroup": "ASS",
         "orientation": "v",
         "showlegend": true,
         "textposition": "auto",
         "type": "bar",
         "x": [
          "ASS"
         ],
         "xaxis": "x",
         "y": [
          2444402.6898469008
         ],
         "yaxis": "y"
        },
        {
         "alignmentgroup": "True",
         "hovertemplate": "sell_symbol=%{x}<br>trade_amount_$=%{y}<extra></extra>",
         "legendgroup": "BIFI",
         "marker": {
          "color": "rgb(15, 133, 84)"
         },
         "name": "BIFI",
         "offsetgroup": "BIFI",
         "orientation": "v",
         "showlegend": true,
         "textposition": "auto",
         "type": "bar",
         "x": [
          "BIFI"
         ],
         "xaxis": "x",
         "y": [
          1795080.300050629
         ],
         "yaxis": "y"
        },
        {
         "alignmentgroup": "True",
         "hovertemplate": "sell_symbol=%{x}<br>trade_amount_$=%{y}<extra></extra>",
         "legendgroup": "FAIR",
         "marker": {
          "color": "rgb(115, 175, 72)"
         },
         "name": "FAIR",
         "offsetgroup": "FAIR",
         "orientation": "v",
         "showlegend": true,
         "textposition": "auto",
         "type": "bar",
         "x": [
          "FAIR"
         ],
         "xaxis": "x",
         "y": [
          2664144.980163421
         ],
         "yaxis": "y"
        },
        {
         "alignmentgroup": "True",
         "hovertemplate": "sell_symbol=%{x}<br>trade_amount_$=%{y}<extra></extra>",
         "legendgroup": "GMT",
         "marker": {
          "color": "rgb(237, 173, 8)"
         },
         "name": "GMT",
         "offsetgroup": "GMT",
         "orientation": "v",
         "showlegend": true,
         "textposition": "auto",
         "type": "bar",
         "x": [
          "GMT"
         ],
         "xaxis": "x",
         "y": [
          7690458.096042225
         ],
         "yaxis": "y"
        },
        {
         "alignmentgroup": "True",
         "hovertemplate": "sell_symbol=%{x}<br>trade_amount_$=%{y}<extra></extra>",
         "legendgroup": "XRP",
         "marker": {
          "color": "rgb(225, 124, 5)"
         },
         "name": "XRP",
         "offsetgroup": "XRP",
         "orientation": "v",
         "showlegend": true,
         "textposition": "auto",
         "type": "bar",
         "x": [
          "XRP"
         ],
         "xaxis": "x",
         "y": [
          2213717.9778275476
         ],
         "yaxis": "y"
        },
        {
         "alignmentgroup": "True",
         "hovertemplate": "sell_symbol=%{x}<br>trade_amount_$=%{y}<extra></extra>",
         "legendgroup": "RX",
         "marker": {
          "color": "rgb(204, 80, 62)"
         },
         "name": "RX",
         "offsetgroup": "RX",
         "orientation": "v",
         "showlegend": true,
         "textposition": "auto",
         "type": "bar",
         "x": [
          "RX"
         ],
         "xaxis": "x",
         "y": [
          2897606.5855444223
         ],
         "yaxis": "y"
        },
        {
         "alignmentgroup": "True",
         "hovertemplate": "sell_symbol=%{x}<br>trade_amount_$=%{y}<extra></extra>",
         "legendgroup": "SAFEGALAXY",
         "marker": {
          "color": "rgb(148, 52, 110)"
         },
         "name": "SAFEGALAXY",
         "offsetgroup": "SAFEGALAXY",
         "orientation": "v",
         "showlegend": true,
         "textposition": "auto",
         "type": "bar",
         "x": [
          "SAFEGALAXY"
         ],
         "xaxis": "x",
         "y": [
          2410636.3955926993
         ],
         "yaxis": "y"
        },
        {
         "alignmentgroup": "True",
         "hovertemplate": "sell_symbol=%{x}<br>trade_amount_$=%{y}<extra></extra>",
         "legendgroup": "WAF",
         "marker": {
          "color": "rgb(111, 64, 112)"
         },
         "name": "WAF",
         "offsetgroup": "WAF",
         "orientation": "v",
         "showlegend": true,
         "textposition": "auto",
         "type": "bar",
         "x": [
          "WAF"
         ],
         "xaxis": "x",
         "y": [
          4181101.422827655
         ],
         "yaxis": "y"
        },
        {
         "alignmentgroup": "True",
         "hovertemplate": "sell_symbol=%{x}<br>trade_amount_$=%{y}<extra></extra>",
         "legendgroup": "VGD",
         "marker": {
          "color": "rgb(102, 102, 102)"
         },
         "name": "VGD",
         "offsetgroup": "VGD",
         "orientation": "v",
         "showlegend": true,
         "textposition": "auto",
         "type": "bar",
         "x": [
          "VGD"
         ],
         "xaxis": "x",
         "y": [
          1308863.7258743339
         ],
         "yaxis": "y"
        },
        {
         "alignmentgroup": "True",
         "hovertemplate": "sell_symbol=%{x}<br>trade_amount_$=%{y}<extra></extra>",
         "legendgroup": "MEL",
         "marker": {
          "color": "rgb(95, 70, 144)"
         },
         "name": "MEL",
         "offsetgroup": "MEL",
         "orientation": "v",
         "showlegend": true,
         "textposition": "auto",
         "type": "bar",
         "x": [
          "MEL",
          "MEL"
         ],
         "xaxis": "x",
         "y": [
          2238937.1900964365,
          2609227.5926413466
         ],
         "yaxis": "y"
        },
        {
         "alignmentgroup": "True",
         "hovertemplate": "sell_symbol=%{x}<br>trade_amount_$=%{y}<extra></extra>",
         "legendgroup": "PIT",
         "marker": {
          "color": "rgb(29, 105, 150)"
         },
         "name": "PIT",
         "offsetgroup": "PIT",
         "orientation": "v",
         "showlegend": true,
         "textposition": "auto",
         "type": "bar",
         "x": [
          "PIT"
         ],
         "xaxis": "x",
         "y": [
          1511759.09659414
         ],
         "yaxis": "y"
        },
        {
         "alignmentgroup": "True",
         "hovertemplate": "sell_symbol=%{x}<br>trade_amount_$=%{y}<extra></extra>",
         "legendgroup": "CATNIP",
         "marker": {
          "color": "rgb(56, 166, 165)"
         },
         "name": "CATNIP",
         "offsetgroup": "CATNIP",
         "orientation": "v",
         "showlegend": true,
         "textposition": "auto",
         "type": "bar",
         "x": [
          "CATNIP"
         ],
         "xaxis": "x",
         "y": [
          2124728.7274502916
         ],
         "yaxis": "y"
        },
        {
         "alignmentgroup": "True",
         "hovertemplate": "sell_symbol=%{x}<br>trade_amount_$=%{y}<extra></extra>",
         "legendgroup": "TACOCAT",
         "marker": {
          "color": "rgb(15, 133, 84)"
         },
         "name": "TACOCAT",
         "offsetgroup": "TACOCAT",
         "orientation": "v",
         "showlegend": true,
         "textposition": "auto",
         "type": "bar",
         "x": [
          "TACOCAT"
         ],
         "xaxis": "x",
         "y": [
          2655824.686204292
         ],
         "yaxis": "y"
        },
        {
         "alignmentgroup": "True",
         "hovertemplate": "sell_symbol=%{x}<br>trade_amount_$=%{y}<extra></extra>",
         "legendgroup": "WINDY",
         "marker": {
          "color": "rgb(115, 175, 72)"
         },
         "name": "WINDY",
         "offsetgroup": "WINDY",
         "orientation": "v",
         "showlegend": true,
         "textposition": "auto",
         "type": "bar",
         "x": [
          "WINDY"
         ],
         "xaxis": "x",
         "y": [
          2218008.0311437757
         ],
         "yaxis": "y"
        },
        {
         "alignmentgroup": "True",
         "hovertemplate": "sell_symbol=%{x}<br>trade_amount_$=%{y}<extra></extra>",
         "legendgroup": "Mooni",
         "marker": {
          "color": "rgb(237, 173, 8)"
         },
         "name": "Mooni",
         "offsetgroup": "Mooni",
         "orientation": "v",
         "showlegend": true,
         "textposition": "auto",
         "type": "bar",
         "x": [
          "Mooni"
         ],
         "xaxis": "x",
         "y": [
          1723264.6739110863
         ],
         "yaxis": "y"
        },
        {
         "alignmentgroup": "True",
         "hovertemplate": "sell_symbol=%{x}<br>trade_amount_$=%{y}<extra></extra>",
         "legendgroup": "Tcake",
         "marker": {
          "color": "rgb(225, 124, 5)"
         },
         "name": "Tcake",
         "offsetgroup": "Tcake",
         "orientation": "v",
         "showlegend": true,
         "textposition": "auto",
         "type": "bar",
         "x": [
          "Tcake"
         ],
         "xaxis": "x",
         "y": [
          2591203.3215957573
         ],
         "yaxis": "y"
        },
        {
         "alignmentgroup": "True",
         "hovertemplate": "sell_symbol=%{x}<br>trade_amount_$=%{y}<extra></extra>",
         "legendgroup": "MOONSHOT",
         "marker": {
          "color": "rgb(204, 80, 62)"
         },
         "name": "MOONSHOT",
         "offsetgroup": "MOONSHOT",
         "orientation": "v",
         "showlegend": true,
         "textposition": "auto",
         "type": "bar",
         "x": [
          "MOONSHOT"
         ],
         "xaxis": "x",
         "y": [
          1992457.3717096944
         ],
         "yaxis": "y"
        },
        {
         "alignmentgroup": "True",
         "hovertemplate": "sell_symbol=%{x}<br>trade_amount_$=%{y}<extra></extra>",
         "legendgroup": "KEY",
         "marker": {
          "color": "rgb(148, 52, 110)"
         },
         "name": "KEY",
         "offsetgroup": "KEY",
         "orientation": "v",
         "showlegend": true,
         "textposition": "auto",
         "type": "bar",
         "x": [
          "KEY"
         ],
         "xaxis": "x",
         "y": [
          2402011.185691422
         ],
         "yaxis": "y"
        },
        {
         "alignmentgroup": "True",
         "hovertemplate": "sell_symbol=%{x}<br>trade_amount_$=%{y}<extra></extra>",
         "legendgroup": "sBDO",
         "marker": {
          "color": "rgb(111, 64, 112)"
         },
         "name": "sBDO",
         "offsetgroup": "sBDO",
         "orientation": "v",
         "showlegend": true,
         "textposition": "auto",
         "type": "bar",
         "x": [
          "sBDO"
         ],
         "xaxis": "x",
         "y": [
          4194500.196527898
         ],
         "yaxis": "y"
        },
        {
         "alignmentgroup": "True",
         "hovertemplate": "sell_symbol=%{x}<br>trade_amount_$=%{y}<extra></extra>",
         "legendgroup": "BBQ",
         "marker": {
          "color": "rgb(102, 102, 102)"
         },
         "name": "BBQ",
         "offsetgroup": "BBQ",
         "orientation": "v",
         "showlegend": true,
         "textposition": "auto",
         "type": "bar",
         "x": [
          "BBQ"
         ],
         "xaxis": "x",
         "y": [
          2587868.8308567703
         ],
         "yaxis": "y"
        },
        {
         "alignmentgroup": "True",
         "hovertemplate": "sell_symbol=%{x}<br>trade_amount_$=%{y}<extra></extra>",
         "legendgroup": "OCTA",
         "marker": {
          "color": "rgb(95, 70, 144)"
         },
         "name": "OCTA",
         "offsetgroup": "OCTA",
         "orientation": "v",
         "showlegend": true,
         "textposition": "auto",
         "type": "bar",
         "x": [
          "OCTA"
         ],
         "xaxis": "x",
         "y": [
          2005970.8446193032
         ],
         "yaxis": "y"
        },
        {
         "alignmentgroup": "True",
         "hovertemplate": "sell_symbol=%{x}<br>trade_amount_$=%{y}<extra></extra>",
         "legendgroup": "BDO",
         "marker": {
          "color": "rgb(29, 105, 150)"
         },
         "name": "BDO",
         "offsetgroup": "BDO",
         "orientation": "v",
         "showlegend": true,
         "textposition": "auto",
         "type": "bar",
         "x": [
          "BDO"
         ],
         "xaxis": "x",
         "y": [
          3083133.5553345904
         ],
         "yaxis": "y"
        },
        {
         "alignmentgroup": "True",
         "hovertemplate": "sell_symbol=%{x}<br>trade_amount_$=%{y}<extra></extra>",
         "legendgroup": "PBT ",
         "marker": {
          "color": "rgb(56, 166, 165)"
         },
         "name": "PBT ",
         "offsetgroup": "PBT ",
         "orientation": "v",
         "showlegend": true,
         "textposition": "auto",
         "type": "bar",
         "x": [
          "PBT "
         ],
         "xaxis": "x",
         "y": [
          3600251.716087305
         ],
         "yaxis": "y"
        }
       ],
       "layout": {
        "barmode": "relative",
        "legend": {
         "title": {
          "text": "sell_symbol"
         },
         "tracegroupgap": 0
        },
        "template": {
         "data": {
          "bar": [
           {
            "error_x": {
             "color": "#2a3f5f"
            },
            "error_y": {
             "color": "#2a3f5f"
            },
            "marker": {
             "line": {
              "color": "white",
              "width": 0.5
             }
            },
            "type": "bar"
           }
          ],
          "barpolar": [
           {
            "marker": {
             "line": {
              "color": "white",
              "width": 0.5
             }
            },
            "type": "barpolar"
           }
          ],
          "carpet": [
           {
            "aaxis": {
             "endlinecolor": "#2a3f5f",
             "gridcolor": "#C8D4E3",
             "linecolor": "#C8D4E3",
             "minorgridcolor": "#C8D4E3",
             "startlinecolor": "#2a3f5f"
            },
            "baxis": {
             "endlinecolor": "#2a3f5f",
             "gridcolor": "#C8D4E3",
             "linecolor": "#C8D4E3",
             "minorgridcolor": "#C8D4E3",
             "startlinecolor": "#2a3f5f"
            },
            "type": "carpet"
           }
          ],
          "choropleth": [
           {
            "colorbar": {
             "outlinewidth": 0,
             "ticks": ""
            },
            "type": "choropleth"
           }
          ],
          "contour": [
           {
            "colorbar": {
             "outlinewidth": 0,
             "ticks": ""
            },
            "colorscale": [
             [
              0,
              "#0d0887"
             ],
             [
              0.1111111111111111,
              "#46039f"
             ],
             [
              0.2222222222222222,
              "#7201a8"
             ],
             [
              0.3333333333333333,
              "#9c179e"
             ],
             [
              0.4444444444444444,
              "#bd3786"
             ],
             [
              0.5555555555555556,
              "#d8576b"
             ],
             [
              0.6666666666666666,
              "#ed7953"
             ],
             [
              0.7777777777777778,
              "#fb9f3a"
             ],
             [
              0.8888888888888888,
              "#fdca26"
             ],
             [
              1,
              "#f0f921"
             ]
            ],
            "type": "contour"
           }
          ],
          "contourcarpet": [
           {
            "colorbar": {
             "outlinewidth": 0,
             "ticks": ""
            },
            "type": "contourcarpet"
           }
          ],
          "heatmap": [
           {
            "colorbar": {
             "outlinewidth": 0,
             "ticks": ""
            },
            "colorscale": [
             [
              0,
              "#0d0887"
             ],
             [
              0.1111111111111111,
              "#46039f"
             ],
             [
              0.2222222222222222,
              "#7201a8"
             ],
             [
              0.3333333333333333,
              "#9c179e"
             ],
             [
              0.4444444444444444,
              "#bd3786"
             ],
             [
              0.5555555555555556,
              "#d8576b"
             ],
             [
              0.6666666666666666,
              "#ed7953"
             ],
             [
              0.7777777777777778,
              "#fb9f3a"
             ],
             [
              0.8888888888888888,
              "#fdca26"
             ],
             [
              1,
              "#f0f921"
             ]
            ],
            "type": "heatmap"
           }
          ],
          "heatmapgl": [
           {
            "colorbar": {
             "outlinewidth": 0,
             "ticks": ""
            },
            "colorscale": [
             [
              0,
              "#0d0887"
             ],
             [
              0.1111111111111111,
              "#46039f"
             ],
             [
              0.2222222222222222,
              "#7201a8"
             ],
             [
              0.3333333333333333,
              "#9c179e"
             ],
             [
              0.4444444444444444,
              "#bd3786"
             ],
             [
              0.5555555555555556,
              "#d8576b"
             ],
             [
              0.6666666666666666,
              "#ed7953"
             ],
             [
              0.7777777777777778,
              "#fb9f3a"
             ],
             [
              0.8888888888888888,
              "#fdca26"
             ],
             [
              1,
              "#f0f921"
             ]
            ],
            "type": "heatmapgl"
           }
          ],
          "histogram": [
           {
            "marker": {
             "colorbar": {
              "outlinewidth": 0,
              "ticks": ""
             }
            },
            "type": "histogram"
           }
          ],
          "histogram2d": [
           {
            "colorbar": {
             "outlinewidth": 0,
             "ticks": ""
            },
            "colorscale": [
             [
              0,
              "#0d0887"
             ],
             [
              0.1111111111111111,
              "#46039f"
             ],
             [
              0.2222222222222222,
              "#7201a8"
             ],
             [
              0.3333333333333333,
              "#9c179e"
             ],
             [
              0.4444444444444444,
              "#bd3786"
             ],
             [
              0.5555555555555556,
              "#d8576b"
             ],
             [
              0.6666666666666666,
              "#ed7953"
             ],
             [
              0.7777777777777778,
              "#fb9f3a"
             ],
             [
              0.8888888888888888,
              "#fdca26"
             ],
             [
              1,
              "#f0f921"
             ]
            ],
            "type": "histogram2d"
           }
          ],
          "histogram2dcontour": [
           {
            "colorbar": {
             "outlinewidth": 0,
             "ticks": ""
            },
            "colorscale": [
             [
              0,
              "#0d0887"
             ],
             [
              0.1111111111111111,
              "#46039f"
             ],
             [
              0.2222222222222222,
              "#7201a8"
             ],
             [
              0.3333333333333333,
              "#9c179e"
             ],
             [
              0.4444444444444444,
              "#bd3786"
             ],
             [
              0.5555555555555556,
              "#d8576b"
             ],
             [
              0.6666666666666666,
              "#ed7953"
             ],
             [
              0.7777777777777778,
              "#fb9f3a"
             ],
             [
              0.8888888888888888,
              "#fdca26"
             ],
             [
              1,
              "#f0f921"
             ]
            ],
            "type": "histogram2dcontour"
           }
          ],
          "mesh3d": [
           {
            "colorbar": {
             "outlinewidth": 0,
             "ticks": ""
            },
            "type": "mesh3d"
           }
          ],
          "parcoords": [
           {
            "line": {
             "colorbar": {
              "outlinewidth": 0,
              "ticks": ""
             }
            },
            "type": "parcoords"
           }
          ],
          "pie": [
           {
            "automargin": true,
            "type": "pie"
           }
          ],
          "scatter": [
           {
            "marker": {
             "colorbar": {
              "outlinewidth": 0,
              "ticks": ""
             }
            },
            "type": "scatter"
           }
          ],
          "scatter3d": [
           {
            "line": {
             "colorbar": {
              "outlinewidth": 0,
              "ticks": ""
             }
            },
            "marker": {
             "colorbar": {
              "outlinewidth": 0,
              "ticks": ""
             }
            },
            "type": "scatter3d"
           }
          ],
          "scattercarpet": [
           {
            "marker": {
             "colorbar": {
              "outlinewidth": 0,
              "ticks": ""
             }
            },
            "type": "scattercarpet"
           }
          ],
          "scattergeo": [
           {
            "marker": {
             "colorbar": {
              "outlinewidth": 0,
              "ticks": ""
             }
            },
            "type": "scattergeo"
           }
          ],
          "scattergl": [
           {
            "marker": {
             "colorbar": {
              "outlinewidth": 0,
              "ticks": ""
             }
            },
            "type": "scattergl"
           }
          ],
          "scattermapbox": [
           {
            "marker": {
             "colorbar": {
              "outlinewidth": 0,
              "ticks": ""
             }
            },
            "type": "scattermapbox"
           }
          ],
          "scatterpolar": [
           {
            "marker": {
             "colorbar": {
              "outlinewidth": 0,
              "ticks": ""
             }
            },
            "type": "scatterpolar"
           }
          ],
          "scatterpolargl": [
           {
            "marker": {
             "colorbar": {
              "outlinewidth": 0,
              "ticks": ""
             }
            },
            "type": "scatterpolargl"
           }
          ],
          "scatterternary": [
           {
            "marker": {
             "colorbar": {
              "outlinewidth": 0,
              "ticks": ""
             }
            },
            "type": "scatterternary"
           }
          ],
          "surface": [
           {
            "colorbar": {
             "outlinewidth": 0,
             "ticks": ""
            },
            "colorscale": [
             [
              0,
              "#0d0887"
             ],
             [
              0.1111111111111111,
              "#46039f"
             ],
             [
              0.2222222222222222,
              "#7201a8"
             ],
             [
              0.3333333333333333,
              "#9c179e"
             ],
             [
              0.4444444444444444,
              "#bd3786"
             ],
             [
              0.5555555555555556,
              "#d8576b"
             ],
             [
              0.6666666666666666,
              "#ed7953"
             ],
             [
              0.7777777777777778,
              "#fb9f3a"
             ],
             [
              0.8888888888888888,
              "#fdca26"
             ],
             [
              1,
              "#f0f921"
             ]
            ],
            "type": "surface"
           }
          ],
          "table": [
           {
            "cells": {
             "fill": {
              "color": "#EBF0F8"
             },
             "line": {
              "color": "white"
             }
            },
            "header": {
             "fill": {
              "color": "#C8D4E3"
             },
             "line": {
              "color": "white"
             }
            },
            "type": "table"
           }
          ]
         },
         "layout": {
          "annotationdefaults": {
           "arrowcolor": "#2a3f5f",
           "arrowhead": 0,
           "arrowwidth": 1
          },
          "autotypenumbers": "strict",
          "coloraxis": {
           "colorbar": {
            "outlinewidth": 0,
            "ticks": ""
           }
          },
          "colorscale": {
           "diverging": [
            [
             0,
             "#8e0152"
            ],
            [
             0.1,
             "#c51b7d"
            ],
            [
             0.2,
             "#de77ae"
            ],
            [
             0.3,
             "#f1b6da"
            ],
            [
             0.4,
             "#fde0ef"
            ],
            [
             0.5,
             "#f7f7f7"
            ],
            [
             0.6,
             "#e6f5d0"
            ],
            [
             0.7,
             "#b8e186"
            ],
            [
             0.8,
             "#7fbc41"
            ],
            [
             0.9,
             "#4d9221"
            ],
            [
             1,
             "#276419"
            ]
           ],
           "sequential": [
            [
             0,
             "#0d0887"
            ],
            [
             0.1111111111111111,
             "#46039f"
            ],
            [
             0.2222222222222222,
             "#7201a8"
            ],
            [
             0.3333333333333333,
             "#9c179e"
            ],
            [
             0.4444444444444444,
             "#bd3786"
            ],
            [
             0.5555555555555556,
             "#d8576b"
            ],
            [
             0.6666666666666666,
             "#ed7953"
            ],
            [
             0.7777777777777778,
             "#fb9f3a"
            ],
            [
             0.8888888888888888,
             "#fdca26"
            ],
            [
             1,
             "#f0f921"
            ]
           ],
           "sequentialminus": [
            [
             0,
             "#0d0887"
            ],
            [
             0.1111111111111111,
             "#46039f"
            ],
            [
             0.2222222222222222,
             "#7201a8"
            ],
            [
             0.3333333333333333,
             "#9c179e"
            ],
            [
             0.4444444444444444,
             "#bd3786"
            ],
            [
             0.5555555555555556,
             "#d8576b"
            ],
            [
             0.6666666666666666,
             "#ed7953"
            ],
            [
             0.7777777777777778,
             "#fb9f3a"
            ],
            [
             0.8888888888888888,
             "#fdca26"
            ],
            [
             1,
             "#f0f921"
            ]
           ]
          },
          "colorway": [
           "#636efa",
           "#EF553B",
           "#00cc96",
           "#ab63fa",
           "#FFA15A",
           "#19d3f3",
           "#FF6692",
           "#B6E880",
           "#FF97FF",
           "#FECB52"
          ],
          "font": {
           "color": "#2a3f5f"
          },
          "geo": {
           "bgcolor": "white",
           "lakecolor": "white",
           "landcolor": "white",
           "showlakes": true,
           "showland": true,
           "subunitcolor": "#C8D4E3"
          },
          "hoverlabel": {
           "align": "left"
          },
          "hovermode": "closest",
          "mapbox": {
           "style": "light"
          },
          "paper_bgcolor": "white",
          "plot_bgcolor": "white",
          "polar": {
           "angularaxis": {
            "gridcolor": "#EBF0F8",
            "linecolor": "#EBF0F8",
            "ticks": ""
           },
           "bgcolor": "white",
           "radialaxis": {
            "gridcolor": "#EBF0F8",
            "linecolor": "#EBF0F8",
            "ticks": ""
           }
          },
          "scene": {
           "xaxis": {
            "backgroundcolor": "white",
            "gridcolor": "#DFE8F3",
            "gridwidth": 2,
            "linecolor": "#EBF0F8",
            "showbackground": true,
            "ticks": "",
            "zerolinecolor": "#EBF0F8"
           },
           "yaxis": {
            "backgroundcolor": "white",
            "gridcolor": "#DFE8F3",
            "gridwidth": 2,
            "linecolor": "#EBF0F8",
            "showbackground": true,
            "ticks": "",
            "zerolinecolor": "#EBF0F8"
           },
           "zaxis": {
            "backgroundcolor": "white",
            "gridcolor": "#DFE8F3",
            "gridwidth": 2,
            "linecolor": "#EBF0F8",
            "showbackground": true,
            "ticks": "",
            "zerolinecolor": "#EBF0F8"
           }
          },
          "shapedefaults": {
           "line": {
            "color": "#2a3f5f"
           }
          },
          "ternary": {
           "aaxis": {
            "gridcolor": "#DFE8F3",
            "linecolor": "#A2B1C6",
            "ticks": ""
           },
           "baxis": {
            "gridcolor": "#DFE8F3",
            "linecolor": "#A2B1C6",
            "ticks": ""
           },
           "bgcolor": "white",
           "caxis": {
            "gridcolor": "#DFE8F3",
            "linecolor": "#A2B1C6",
            "ticks": ""
           }
          },
          "title": {
           "x": 0.05
          },
          "xaxis": {
           "automargin": true,
           "gridcolor": "#EBF0F8",
           "linecolor": "#EBF0F8",
           "ticks": "",
           "title": {
            "standoff": 15
           },
           "zerolinecolor": "#EBF0F8",
           "zerolinewidth": 2
          },
          "yaxis": {
           "automargin": true,
           "gridcolor": "#EBF0F8",
           "linecolor": "#EBF0F8",
           "ticks": "",
           "title": {
            "standoff": 15
           },
           "zerolinecolor": "#EBF0F8",
           "zerolinewidth": 2
          }
         }
        },
        "title": {
         "text": "<b>Top Sell Symbols by Trading Amount in Past Week on PancakeSwap"
        },
        "xaxis": {
         "anchor": "y",
         "categoryarray": [
          "SAFEMOON",
          "BUNNY",
          "NFTART",
          "CUMMIES",
          "Dogefather",
          "BSCPAD",
          "ElonGate",
          "ECP",
          "AUTO",
          "BONFIRE",
          "BTCB",
          "EPS",
          "SPORE",
          "Forestry",
          "SEED",
          "TBAKE",
          "BSCS",
          "LOF",
          "100x",
          "SPND",
          "upBNB",
          "ALPACA",
          "KPAD",
          "BRICK",
          "SAFEMARS",
          "SAFEMOONCASH",
          "EGG",
          "HYPER",
          "MEMES",
          "BAKE",
          "SHILD",
          "BOG",
          "DOGE",
          "SLAM",
          "MOONMOON",
          "SENDWHALE",
          "DAI",
          "TREE",
          "SAFEBTC",
          "MOONLIGHT",
          "TWT",
          "MOONPIRATE",
          "Ramen",
          "EULER",
          "XVS",
          "SMG",
          "DINO",
          "SALT",
          "GEN",
          "DOT",
          "FEG",
          "MASH",
          "GEMS",
          "SUPERWAIFU",
          "Hamtaro",
          "ADA",
          "SPE",
          "NIU",
          "SAFECOMET",
          "HyMETEOR",
          "ZEP",
          "HAPPY",
          "UST",
          "AQUAGOAT",
          "DHOUSE",
          "SAFEP",
          "BETH",
          "BGOV",
          "ASS",
          "BIFI",
          "FAIR",
          "GMT",
          "XRP",
          "RX",
          "SAFEGALAXY",
          "WAF",
          "VGD",
          "MEL",
          "PIT",
          "CATNIP",
          "TACOCAT",
          "WINDY",
          "Mooni",
          "Tcake",
          "MOONSHOT",
          "KEY",
          "sBDO",
          "BBQ",
          "OCTA",
          "BDO",
          "PBT "
         ],
         "categoryorder": "array",
         "domain": [
          0,
          1
         ],
         "title": {
          "text": "sell_symbol"
         }
        },
        "yaxis": {
         "anchor": "x",
         "domain": [
          0,
          1
         ],
         "title": {
          "text": "trade_amount_$"
         }
        }
       }
      },
      "text/html": [
       "<div>                            <div id=\"d832967f-17c2-4b0a-8598-5b22a41b32b3\" class=\"plotly-graph-div\" style=\"height:525px; width:100%;\"></div>            <script type=\"text/javascript\">                require([\"plotly\"], function(Plotly) {                    window.PLOTLYENV=window.PLOTLYENV || {};                                    if (document.getElementById(\"d832967f-17c2-4b0a-8598-5b22a41b32b3\")) {                    Plotly.newPlot(                        \"d832967f-17c2-4b0a-8598-5b22a41b32b3\",                        [{\"alignmentgroup\": \"True\", \"hovertemplate\": \"sell_symbol=%{x}<br>trade_amount_$=%{y}<extra></extra>\", \"legendgroup\": \"SAFEMOON\", \"marker\": {\"color\": \"rgb(95, 70, 144)\"}, \"name\": \"SAFEMOON\", \"offsetgroup\": \"SAFEMOON\", \"orientation\": \"v\", \"showlegend\": true, \"textposition\": \"auto\", \"type\": \"bar\", \"x\": [\"SAFEMOON\"], \"xaxis\": \"x\", \"y\": [74266834.1822059], \"yaxis\": \"y\"}, {\"alignmentgroup\": \"True\", \"hovertemplate\": \"sell_symbol=%{x}<br>trade_amount_$=%{y}<extra></extra>\", \"legendgroup\": \"BUNNY\", \"marker\": {\"color\": \"rgb(29, 105, 150)\"}, \"name\": \"BUNNY\", \"offsetgroup\": \"BUNNY\", \"orientation\": \"v\", \"showlegend\": true, \"textposition\": \"auto\", \"type\": \"bar\", \"x\": [\"BUNNY\"], \"xaxis\": \"x\", \"y\": [39358124.542457536], \"yaxis\": \"y\"}, {\"alignmentgroup\": \"True\", \"hovertemplate\": \"sell_symbol=%{x}<br>trade_amount_$=%{y}<extra></extra>\", \"legendgroup\": \"NFTART\", \"marker\": {\"color\": \"rgb(56, 166, 165)\"}, \"name\": \"NFTART\", \"offsetgroup\": \"NFTART\", \"orientation\": \"v\", \"showlegend\": true, \"textposition\": \"auto\", \"type\": \"bar\", \"x\": [\"NFTART\"], \"xaxis\": \"x\", \"y\": [19952658.985223673], \"yaxis\": \"y\"}, {\"alignmentgroup\": \"True\", \"hovertemplate\": \"sell_symbol=%{x}<br>trade_amount_$=%{y}<extra></extra>\", \"legendgroup\": \"CUMMIES\", \"marker\": {\"color\": \"rgb(15, 133, 84)\"}, \"name\": \"CUMMIES\", \"offsetgroup\": \"CUMMIES\", \"orientation\": \"v\", \"showlegend\": true, \"textposition\": \"auto\", \"type\": \"bar\", \"x\": [\"CUMMIES\"], \"xaxis\": \"x\", \"y\": [30616209.604537025], \"yaxis\": \"y\"}, {\"alignmentgroup\": \"True\", \"hovertemplate\": \"sell_symbol=%{x}<br>trade_amount_$=%{y}<extra></extra>\", \"legendgroup\": \"Dogefather\", \"marker\": {\"color\": \"rgb(115, 175, 72)\"}, \"name\": \"Dogefather\", \"offsetgroup\": \"Dogefather\", \"orientation\": \"v\", \"showlegend\": true, \"textposition\": \"auto\", \"type\": \"bar\", \"x\": [\"Dogefather\"], \"xaxis\": \"x\", \"y\": [17099859.725755077], \"yaxis\": \"y\"}, {\"alignmentgroup\": \"True\", \"hovertemplate\": \"sell_symbol=%{x}<br>trade_amount_$=%{y}<extra></extra>\", \"legendgroup\": \"BSCPAD\", \"marker\": {\"color\": \"rgb(237, 173, 8)\"}, \"name\": \"BSCPAD\", \"offsetgroup\": \"BSCPAD\", \"orientation\": \"v\", \"showlegend\": true, \"textposition\": \"auto\", \"type\": \"bar\", \"x\": [\"BSCPAD\"], \"xaxis\": \"x\", \"y\": [33693426.11298901], \"yaxis\": \"y\"}, {\"alignmentgroup\": \"True\", \"hovertemplate\": \"sell_symbol=%{x}<br>trade_amount_$=%{y}<extra></extra>\", \"legendgroup\": \"ElonGate\", \"marker\": {\"color\": \"rgb(225, 124, 5)\"}, \"name\": \"ElonGate\", \"offsetgroup\": \"ElonGate\", \"orientation\": \"v\", \"showlegend\": true, \"textposition\": \"auto\", \"type\": \"bar\", \"x\": [\"ElonGate\"], \"xaxis\": \"x\", \"y\": [14659574.168565279], \"yaxis\": \"y\"}, {\"alignmentgroup\": \"True\", \"hovertemplate\": \"sell_symbol=%{x}<br>trade_amount_$=%{y}<extra></extra>\", \"legendgroup\": \"ECP\", \"marker\": {\"color\": \"rgb(204, 80, 62)\"}, \"name\": \"ECP\", \"offsetgroup\": \"ECP\", \"orientation\": \"v\", \"showlegend\": true, \"textposition\": \"auto\", \"type\": \"bar\", \"x\": [\"ECP\"], \"xaxis\": \"x\", \"y\": [13543383.612896236], \"yaxis\": \"y\"}, {\"alignmentgroup\": \"True\", \"hovertemplate\": \"sell_symbol=%{x}<br>trade_amount_$=%{y}<extra></extra>\", \"legendgroup\": \"AUTO\", \"marker\": {\"color\": \"rgb(148, 52, 110)\"}, \"name\": \"AUTO\", \"offsetgroup\": \"AUTO\", \"orientation\": \"v\", \"showlegend\": true, \"textposition\": \"auto\", \"type\": \"bar\", \"x\": [\"AUTO\"], \"xaxis\": \"x\", \"y\": [34729774.602668114], \"yaxis\": \"y\"}, {\"alignmentgroup\": \"True\", \"hovertemplate\": \"sell_symbol=%{x}<br>trade_amount_$=%{y}<extra></extra>\", \"legendgroup\": \"BONFIRE\", \"marker\": {\"color\": \"rgb(111, 64, 112)\"}, \"name\": \"BONFIRE\", \"offsetgroup\": \"BONFIRE\", \"orientation\": \"v\", \"showlegend\": true, \"textposition\": \"auto\", \"type\": \"bar\", \"x\": [\"BONFIRE\"], \"xaxis\": \"x\", \"y\": [10763381.630322732], \"yaxis\": \"y\"}, {\"alignmentgroup\": \"True\", \"hovertemplate\": \"sell_symbol=%{x}<br>trade_amount_$=%{y}<extra></extra>\", \"legendgroup\": \"BTCB\", \"marker\": {\"color\": \"rgb(102, 102, 102)\"}, \"name\": \"BTCB\", \"offsetgroup\": \"BTCB\", \"orientation\": \"v\", \"showlegend\": true, \"textposition\": \"auto\", \"type\": \"bar\", \"x\": [\"BTCB\", \"BTCB\"], \"xaxis\": \"x\", \"y\": [17827373.788657613, 1491520.3478925682], \"yaxis\": \"y\"}, {\"alignmentgroup\": \"True\", \"hovertemplate\": \"sell_symbol=%{x}<br>trade_amount_$=%{y}<extra></extra>\", \"legendgroup\": \"EPS\", \"marker\": {\"color\": \"rgb(95, 70, 144)\"}, \"name\": \"EPS\", \"offsetgroup\": \"EPS\", \"orientation\": \"v\", \"showlegend\": true, \"textposition\": \"auto\", \"type\": \"bar\", \"x\": [\"EPS\"], \"xaxis\": \"x\", \"y\": [40725210.05635775], \"yaxis\": \"y\"}, {\"alignmentgroup\": \"True\", \"hovertemplate\": \"sell_symbol=%{x}<br>trade_amount_$=%{y}<extra></extra>\", \"legendgroup\": \"SPORE\", \"marker\": {\"color\": \"rgb(29, 105, 150)\"}, \"name\": \"SPORE\", \"offsetgroup\": \"SPORE\", \"orientation\": \"v\", \"showlegend\": true, \"textposition\": \"auto\", \"type\": \"bar\", \"x\": [\"SPORE\"], \"xaxis\": \"x\", \"y\": [3617112.2240126086], \"yaxis\": \"y\"}, {\"alignmentgroup\": \"True\", \"hovertemplate\": \"sell_symbol=%{x}<br>trade_amount_$=%{y}<extra></extra>\", \"legendgroup\": \"Forestry\", \"marker\": {\"color\": \"rgb(56, 166, 165)\"}, \"name\": \"Forestry\", \"offsetgroup\": \"Forestry\", \"orientation\": \"v\", \"showlegend\": true, \"textposition\": \"auto\", \"type\": \"bar\", \"x\": [\"Forestry\"], \"xaxis\": \"x\", \"y\": [6545640.801394612], \"yaxis\": \"y\"}, {\"alignmentgroup\": \"True\", \"hovertemplate\": \"sell_symbol=%{x}<br>trade_amount_$=%{y}<extra></extra>\", \"legendgroup\": \"SEED\", \"marker\": {\"color\": \"rgb(15, 133, 84)\"}, \"name\": \"SEED\", \"offsetgroup\": \"SEED\", \"orientation\": \"v\", \"showlegend\": true, \"textposition\": \"auto\", \"type\": \"bar\", \"x\": [\"SEED\", \"SEED\"], \"xaxis\": \"x\", \"y\": [9664734.412282886, 5074890.511251328], \"yaxis\": \"y\"}, {\"alignmentgroup\": \"True\", \"hovertemplate\": \"sell_symbol=%{x}<br>trade_amount_$=%{y}<extra></extra>\", \"legendgroup\": \"TBAKE\", \"marker\": {\"color\": \"rgb(115, 175, 72)\"}, \"name\": \"TBAKE\", \"offsetgroup\": \"TBAKE\", \"orientation\": \"v\", \"showlegend\": true, \"textposition\": \"auto\", \"type\": \"bar\", \"x\": [\"TBAKE\"], \"xaxis\": \"x\", \"y\": [7160105.490195127], \"yaxis\": \"y\"}, {\"alignmentgroup\": \"True\", \"hovertemplate\": \"sell_symbol=%{x}<br>trade_amount_$=%{y}<extra></extra>\", \"legendgroup\": \"BSCS\", \"marker\": {\"color\": \"rgb(237, 173, 8)\"}, \"name\": \"BSCS\", \"offsetgroup\": \"BSCS\", \"orientation\": \"v\", \"showlegend\": true, \"textposition\": \"auto\", \"type\": \"bar\", \"x\": [\"BSCS\"], \"xaxis\": \"x\", \"y\": [8534928.299327161], \"yaxis\": \"y\"}, {\"alignmentgroup\": \"True\", \"hovertemplate\": \"sell_symbol=%{x}<br>trade_amount_$=%{y}<extra></extra>\", \"legendgroup\": \"LOF\", \"marker\": {\"color\": \"rgb(225, 124, 5)\"}, \"name\": \"LOF\", \"offsetgroup\": \"LOF\", \"orientation\": \"v\", \"showlegend\": true, \"textposition\": \"auto\", \"type\": \"bar\", \"x\": [\"LOF\"], \"xaxis\": \"x\", \"y\": [6871653.108523872], \"yaxis\": \"y\"}, {\"alignmentgroup\": \"True\", \"hovertemplate\": \"sell_symbol=%{x}<br>trade_amount_$=%{y}<extra></extra>\", \"legendgroup\": \"100x\", \"marker\": {\"color\": \"rgb(204, 80, 62)\"}, \"name\": \"100x\", \"offsetgroup\": \"100x\", \"orientation\": \"v\", \"showlegend\": true, \"textposition\": \"auto\", \"type\": \"bar\", \"x\": [\"100x\"], \"xaxis\": \"x\", \"y\": [5179165.750889965], \"yaxis\": \"y\"}, {\"alignmentgroup\": \"True\", \"hovertemplate\": \"sell_symbol=%{x}<br>trade_amount_$=%{y}<extra></extra>\", \"legendgroup\": \"SPND\", \"marker\": {\"color\": \"rgb(148, 52, 110)\"}, \"name\": \"SPND\", \"offsetgroup\": \"SPND\", \"orientation\": \"v\", \"showlegend\": true, \"textposition\": \"auto\", \"type\": \"bar\", \"x\": [\"SPND\"], \"xaxis\": \"x\", \"y\": [5377514.354284012], \"yaxis\": \"y\"}, {\"alignmentgroup\": \"True\", \"hovertemplate\": \"sell_symbol=%{x}<br>trade_amount_$=%{y}<extra></extra>\", \"legendgroup\": \"upBNB\", \"marker\": {\"color\": \"rgb(111, 64, 112)\"}, \"name\": \"upBNB\", \"offsetgroup\": \"upBNB\", \"orientation\": \"v\", \"showlegend\": true, \"textposition\": \"auto\", \"type\": \"bar\", \"x\": [\"upBNB\"], \"xaxis\": \"x\", \"y\": [7404041.930315158], \"yaxis\": \"y\"}, {\"alignmentgroup\": \"True\", \"hovertemplate\": \"sell_symbol=%{x}<br>trade_amount_$=%{y}<extra></extra>\", \"legendgroup\": \"ALPACA\", \"marker\": {\"color\": \"rgb(102, 102, 102)\"}, \"name\": \"ALPACA\", \"offsetgroup\": \"ALPACA\", \"orientation\": \"v\", \"showlegend\": true, \"textposition\": \"auto\", \"type\": \"bar\", \"x\": [\"ALPACA\"], \"xaxis\": \"x\", \"y\": [12486260.404403701], \"yaxis\": \"y\"}, {\"alignmentgroup\": \"True\", \"hovertemplate\": \"sell_symbol=%{x}<br>trade_amount_$=%{y}<extra></extra>\", \"legendgroup\": \"KPAD\", \"marker\": {\"color\": \"rgb(95, 70, 144)\"}, \"name\": \"KPAD\", \"offsetgroup\": \"KPAD\", \"orientation\": \"v\", \"showlegend\": true, \"textposition\": \"auto\", \"type\": \"bar\", \"x\": [\"KPAD\"], \"xaxis\": \"x\", \"y\": [7938451.01828161], \"yaxis\": \"y\"}, {\"alignmentgroup\": \"True\", \"hovertemplate\": \"sell_symbol=%{x}<br>trade_amount_$=%{y}<extra></extra>\", \"legendgroup\": \"BRICK\", \"marker\": {\"color\": \"rgb(29, 105, 150)\"}, \"name\": \"BRICK\", \"offsetgroup\": \"BRICK\", \"orientation\": \"v\", \"showlegend\": true, \"textposition\": \"auto\", \"type\": \"bar\", \"x\": [\"BRICK\", \"BRICK\"], \"xaxis\": \"x\", \"y\": [7503188.807065022, 3435096.389029929], \"yaxis\": \"y\"}, {\"alignmentgroup\": \"True\", \"hovertemplate\": \"sell_symbol=%{x}<br>trade_amount_$=%{y}<extra></extra>\", \"legendgroup\": \"SAFEMARS\", \"marker\": {\"color\": \"rgb(56, 166, 165)\"}, \"name\": \"SAFEMARS\", \"offsetgroup\": \"SAFEMARS\", \"orientation\": \"v\", \"showlegend\": true, \"textposition\": \"auto\", \"type\": \"bar\", \"x\": [\"SAFEMARS\"], \"xaxis\": \"x\", \"y\": [6127177.058579675], \"yaxis\": \"y\"}, {\"alignmentgroup\": \"True\", \"hovertemplate\": \"sell_symbol=%{x}<br>trade_amount_$=%{y}<extra></extra>\", \"legendgroup\": \"SAFEMOONCASH\", \"marker\": {\"color\": \"rgb(15, 133, 84)\"}, \"name\": \"SAFEMOONCASH\", \"offsetgroup\": \"SAFEMOONCASH\", \"orientation\": \"v\", \"showlegend\": true, \"textposition\": \"auto\", \"type\": \"bar\", \"x\": [\"SAFEMOONCASH\"], \"xaxis\": \"x\", \"y\": [4079945.578287137], \"yaxis\": \"y\"}, {\"alignmentgroup\": \"True\", \"hovertemplate\": \"sell_symbol=%{x}<br>trade_amount_$=%{y}<extra></extra>\", \"legendgroup\": \"EGG\", \"marker\": {\"color\": \"rgb(115, 175, 72)\"}, \"name\": \"EGG\", \"offsetgroup\": \"EGG\", \"orientation\": \"v\", \"showlegend\": true, \"textposition\": \"auto\", \"type\": \"bar\", \"x\": [\"EGG\", \"EGG\"], \"xaxis\": \"x\", \"y\": [9610067.032926526, 8413321.899040656], \"yaxis\": \"y\"}, {\"alignmentgroup\": \"True\", \"hovertemplate\": \"sell_symbol=%{x}<br>trade_amount_$=%{y}<extra></extra>\", \"legendgroup\": \"HYPER\", \"marker\": {\"color\": \"rgb(237, 173, 8)\"}, \"name\": \"HYPER\", \"offsetgroup\": \"HYPER\", \"orientation\": \"v\", \"showlegend\": true, \"textposition\": \"auto\", \"type\": \"bar\", \"x\": [\"HYPER\"], \"xaxis\": \"x\", \"y\": [4374947.822063304], \"yaxis\": \"y\"}, {\"alignmentgroup\": \"True\", \"hovertemplate\": \"sell_symbol=%{x}<br>trade_amount_$=%{y}<extra></extra>\", \"legendgroup\": \"MEMES\", \"marker\": {\"color\": \"rgb(225, 124, 5)\"}, \"name\": \"MEMES\", \"offsetgroup\": \"MEMES\", \"orientation\": \"v\", \"showlegend\": true, \"textposition\": \"auto\", \"type\": \"bar\", \"x\": [\"MEMES\"], \"xaxis\": \"x\", \"y\": [4036737.4901988623], \"yaxis\": \"y\"}, {\"alignmentgroup\": \"True\", \"hovertemplate\": \"sell_symbol=%{x}<br>trade_amount_$=%{y}<extra></extra>\", \"legendgroup\": \"BAKE\", \"marker\": {\"color\": \"rgb(204, 80, 62)\"}, \"name\": \"BAKE\", \"offsetgroup\": \"BAKE\", \"orientation\": \"v\", \"showlegend\": true, \"textposition\": \"auto\", \"type\": \"bar\", \"x\": [\"BAKE\"], \"xaxis\": \"x\", \"y\": [4862475.992361804], \"yaxis\": \"y\"}, {\"alignmentgroup\": \"True\", \"hovertemplate\": \"sell_symbol=%{x}<br>trade_amount_$=%{y}<extra></extra>\", \"legendgroup\": \"SHILD\", \"marker\": {\"color\": \"rgb(148, 52, 110)\"}, \"name\": \"SHILD\", \"offsetgroup\": \"SHILD\", \"orientation\": \"v\", \"showlegend\": true, \"textposition\": \"auto\", \"type\": \"bar\", \"x\": [\"SHILD\"], \"xaxis\": \"x\", \"y\": [4764242.095806502], \"yaxis\": \"y\"}, {\"alignmentgroup\": \"True\", \"hovertemplate\": \"sell_symbol=%{x}<br>trade_amount_$=%{y}<extra></extra>\", \"legendgroup\": \"BOG\", \"marker\": {\"color\": \"rgb(111, 64, 112)\"}, \"name\": \"BOG\", \"offsetgroup\": \"BOG\", \"orientation\": \"v\", \"showlegend\": true, \"textposition\": \"auto\", \"type\": \"bar\", \"x\": [\"BOG\"], \"xaxis\": \"x\", \"y\": [8936676.479807073], \"yaxis\": \"y\"}, {\"alignmentgroup\": \"True\", \"hovertemplate\": \"sell_symbol=%{x}<br>trade_amount_$=%{y}<extra></extra>\", \"legendgroup\": \"DOGE\", \"marker\": {\"color\": \"rgb(102, 102, 102)\"}, \"name\": \"DOGE\", \"offsetgroup\": \"DOGE\", \"orientation\": \"v\", \"showlegend\": true, \"textposition\": \"auto\", \"type\": \"bar\", \"x\": [\"DOGE\"], \"xaxis\": \"x\", \"y\": [4995646.41644567], \"yaxis\": \"y\"}, {\"alignmentgroup\": \"True\", \"hovertemplate\": \"sell_symbol=%{x}<br>trade_amount_$=%{y}<extra></extra>\", \"legendgroup\": \"SLAM\", \"marker\": {\"color\": \"rgb(95, 70, 144)\"}, \"name\": \"SLAM\", \"offsetgroup\": \"SLAM\", \"orientation\": \"v\", \"showlegend\": true, \"textposition\": \"auto\", \"type\": \"bar\", \"x\": [\"SLAM\"], \"xaxis\": \"x\", \"y\": [3988098.6177720143], \"yaxis\": \"y\"}, {\"alignmentgroup\": \"True\", \"hovertemplate\": \"sell_symbol=%{x}<br>trade_amount_$=%{y}<extra></extra>\", \"legendgroup\": \"MOONMOON\", \"marker\": {\"color\": \"rgb(29, 105, 150)\"}, \"name\": \"MOONMOON\", \"offsetgroup\": \"MOONMOON\", \"orientation\": \"v\", \"showlegend\": true, \"textposition\": \"auto\", \"type\": \"bar\", \"x\": [\"MOONMOON\"], \"xaxis\": \"x\", \"y\": [3281429.24200153], \"yaxis\": \"y\"}, {\"alignmentgroup\": \"True\", \"hovertemplate\": \"sell_symbol=%{x}<br>trade_amount_$=%{y}<extra></extra>\", \"legendgroup\": \"SENDWHALE\", \"marker\": {\"color\": \"rgb(56, 166, 165)\"}, \"name\": \"SENDWHALE\", \"offsetgroup\": \"SENDWHALE\", \"orientation\": \"v\", \"showlegend\": true, \"textposition\": \"auto\", \"type\": \"bar\", \"x\": [\"SENDWHALE\"], \"xaxis\": \"x\", \"y\": [3299553.8776114564], \"yaxis\": \"y\"}, {\"alignmentgroup\": \"True\", \"hovertemplate\": \"sell_symbol=%{x}<br>trade_amount_$=%{y}<extra></extra>\", \"legendgroup\": \"DAI\", \"marker\": {\"color\": \"rgb(15, 133, 84)\"}, \"name\": \"DAI\", \"offsetgroup\": \"DAI\", \"orientation\": \"v\", \"showlegend\": true, \"textposition\": \"auto\", \"type\": \"bar\", \"x\": [\"DAI\"], \"xaxis\": \"x\", \"y\": [3654027.7912607165], \"yaxis\": \"y\"}, {\"alignmentgroup\": \"True\", \"hovertemplate\": \"sell_symbol=%{x}<br>trade_amount_$=%{y}<extra></extra>\", \"legendgroup\": \"TREE\", \"marker\": {\"color\": \"rgb(115, 175, 72)\"}, \"name\": \"TREE\", \"offsetgroup\": \"TREE\", \"orientation\": \"v\", \"showlegend\": true, \"textposition\": \"auto\", \"type\": \"bar\", \"x\": [\"TREE\"], \"xaxis\": \"x\", \"y\": [4426647.360673923], \"yaxis\": \"y\"}, {\"alignmentgroup\": \"True\", \"hovertemplate\": \"sell_symbol=%{x}<br>trade_amount_$=%{y}<extra></extra>\", \"legendgroup\": \"SAFEBTC\", \"marker\": {\"color\": \"rgb(237, 173, 8)\"}, \"name\": \"SAFEBTC\", \"offsetgroup\": \"SAFEBTC\", \"orientation\": \"v\", \"showlegend\": true, \"textposition\": \"auto\", \"type\": \"bar\", \"x\": [\"SAFEBTC\"], \"xaxis\": \"x\", \"y\": [3569828.686489004], \"yaxis\": \"y\"}, {\"alignmentgroup\": \"True\", \"hovertemplate\": \"sell_symbol=%{x}<br>trade_amount_$=%{y}<extra></extra>\", \"legendgroup\": \"MOONLIGHT\", \"marker\": {\"color\": \"rgb(225, 124, 5)\"}, \"name\": \"MOONLIGHT\", \"offsetgroup\": \"MOONLIGHT\", \"orientation\": \"v\", \"showlegend\": true, \"textposition\": \"auto\", \"type\": \"bar\", \"x\": [\"MOONLIGHT\"], \"xaxis\": \"x\", \"y\": [3266684.850889551], \"yaxis\": \"y\"}, {\"alignmentgroup\": \"True\", \"hovertemplate\": \"sell_symbol=%{x}<br>trade_amount_$=%{y}<extra></extra>\", \"legendgroup\": \"TWT\", \"marker\": {\"color\": \"rgb(204, 80, 62)\"}, \"name\": \"TWT\", \"offsetgroup\": \"TWT\", \"orientation\": \"v\", \"showlegend\": true, \"textposition\": \"auto\", \"type\": \"bar\", \"x\": [\"TWT\"], \"xaxis\": \"x\", \"y\": [4154937.014506323], \"yaxis\": \"y\"}, {\"alignmentgroup\": \"True\", \"hovertemplate\": \"sell_symbol=%{x}<br>trade_amount_$=%{y}<extra></extra>\", \"legendgroup\": \"MOONPIRATE\", \"marker\": {\"color\": \"rgb(148, 52, 110)\"}, \"name\": \"MOONPIRATE\", \"offsetgroup\": \"MOONPIRATE\", \"orientation\": \"v\", \"showlegend\": true, \"textposition\": \"auto\", \"type\": \"bar\", \"x\": [\"MOONPIRATE\"], \"xaxis\": \"x\", \"y\": [3191791.727872192], \"yaxis\": \"y\"}, {\"alignmentgroup\": \"True\", \"hovertemplate\": \"sell_symbol=%{x}<br>trade_amount_$=%{y}<extra></extra>\", \"legendgroup\": \"Ramen\", \"marker\": {\"color\": \"rgb(111, 64, 112)\"}, \"name\": \"Ramen\", \"offsetgroup\": \"Ramen\", \"orientation\": \"v\", \"showlegend\": true, \"textposition\": \"auto\", \"type\": \"bar\", \"x\": [\"Ramen\"], \"xaxis\": \"x\", \"y\": [5154477.771871205], \"yaxis\": \"y\"}, {\"alignmentgroup\": \"True\", \"hovertemplate\": \"sell_symbol=%{x}<br>trade_amount_$=%{y}<extra></extra>\", \"legendgroup\": \"EULER\", \"marker\": {\"color\": \"rgb(102, 102, 102)\"}, \"name\": \"EULER\", \"offsetgroup\": \"EULER\", \"orientation\": \"v\", \"showlegend\": true, \"textposition\": \"auto\", \"type\": \"bar\", \"x\": [\"EULER\"], \"xaxis\": \"x\", \"y\": [6467257.072196648], \"yaxis\": \"y\"}, {\"alignmentgroup\": \"True\", \"hovertemplate\": \"sell_symbol=%{x}<br>trade_amount_$=%{y}<extra></extra>\", \"legendgroup\": \"XVS\", \"marker\": {\"color\": \"rgb(95, 70, 144)\"}, \"name\": \"XVS\", \"offsetgroup\": \"XVS\", \"orientation\": \"v\", \"showlegend\": true, \"textposition\": \"auto\", \"type\": \"bar\", \"x\": [\"XVS\"], \"xaxis\": \"x\", \"y\": [7196978.992524782], \"yaxis\": \"y\"}, {\"alignmentgroup\": \"True\", \"hovertemplate\": \"sell_symbol=%{x}<br>trade_amount_$=%{y}<extra></extra>\", \"legendgroup\": \"SMG\", \"marker\": {\"color\": \"rgb(29, 105, 150)\"}, \"name\": \"SMG\", \"offsetgroup\": \"SMG\", \"orientation\": \"v\", \"showlegend\": true, \"textposition\": \"auto\", \"type\": \"bar\", \"x\": [\"SMG\"], \"xaxis\": \"x\", \"y\": [4499920.930252443], \"yaxis\": \"y\"}, {\"alignmentgroup\": \"True\", \"hovertemplate\": \"sell_symbol=%{x}<br>trade_amount_$=%{y}<extra></extra>\", \"legendgroup\": \"DINO\", \"marker\": {\"color\": \"rgb(56, 166, 165)\"}, \"name\": \"DINO\", \"offsetgroup\": \"DINO\", \"orientation\": \"v\", \"showlegend\": true, \"textposition\": \"auto\", \"type\": \"bar\", \"x\": [\"DINO\"], \"xaxis\": \"x\", \"y\": [4410858.784441188], \"yaxis\": \"y\"}, {\"alignmentgroup\": \"True\", \"hovertemplate\": \"sell_symbol=%{x}<br>trade_amount_$=%{y}<extra></extra>\", \"legendgroup\": \"SALT\", \"marker\": {\"color\": \"rgb(15, 133, 84)\"}, \"name\": \"SALT\", \"offsetgroup\": \"SALT\", \"orientation\": \"v\", \"showlegend\": true, \"textposition\": \"auto\", \"type\": \"bar\", \"x\": [\"SALT\", \"SALT\"], \"xaxis\": \"x\", \"y\": [4866958.218409722, 2552866.4830910806], \"yaxis\": \"y\"}, {\"alignmentgroup\": \"True\", \"hovertemplate\": \"sell_symbol=%{x}<br>trade_amount_$=%{y}<extra></extra>\", \"legendgroup\": \"GEN\", \"marker\": {\"color\": \"rgb(115, 175, 72)\"}, \"name\": \"GEN\", \"offsetgroup\": \"GEN\", \"orientation\": \"v\", \"showlegend\": true, \"textposition\": \"auto\", \"type\": \"bar\", \"x\": [\"GEN\", \"GEN\"], \"xaxis\": \"x\", \"y\": [6599826.2936646985, 3646477.0414150706], \"yaxis\": \"y\"}, {\"alignmentgroup\": \"True\", \"hovertemplate\": \"sell_symbol=%{x}<br>trade_amount_$=%{y}<extra></extra>\", \"legendgroup\": \"DOT\", \"marker\": {\"color\": \"rgb(237, 173, 8)\"}, \"name\": \"DOT\", \"offsetgroup\": \"DOT\", \"orientation\": \"v\", \"showlegend\": true, \"textposition\": \"auto\", \"type\": \"bar\", \"x\": [\"DOT\"], \"xaxis\": \"x\", \"y\": [4777866.450487555], \"yaxis\": \"y\"}, {\"alignmentgroup\": \"True\", \"hovertemplate\": \"sell_symbol=%{x}<br>trade_amount_$=%{y}<extra></extra>\", \"legendgroup\": \"FEG\", \"marker\": {\"color\": \"rgb(225, 124, 5)\"}, \"name\": \"FEG\", \"offsetgroup\": \"FEG\", \"orientation\": \"v\", \"showlegend\": true, \"textposition\": \"auto\", \"type\": \"bar\", \"x\": [\"FEG\"], \"xaxis\": \"x\", \"y\": [3108362.9514926225], \"yaxis\": \"y\"}, {\"alignmentgroup\": \"True\", \"hovertemplate\": \"sell_symbol=%{x}<br>trade_amount_$=%{y}<extra></extra>\", \"legendgroup\": \"MASH\", \"marker\": {\"color\": \"rgb(204, 80, 62)\"}, \"name\": \"MASH\", \"offsetgroup\": \"MASH\", \"orientation\": \"v\", \"showlegend\": true, \"textposition\": \"auto\", \"type\": \"bar\", \"x\": [\"MASH\", \"MASH\"], \"xaxis\": \"x\", \"y\": [4618272.045652906, 3026453.868076117], \"yaxis\": \"y\"}, {\"alignmentgroup\": \"True\", \"hovertemplate\": \"sell_symbol=%{x}<br>trade_amount_$=%{y}<extra></extra>\", \"legendgroup\": \"GEMS\", \"marker\": {\"color\": \"rgb(148, 52, 110)\"}, \"name\": \"GEMS\", \"offsetgroup\": \"GEMS\", \"orientation\": \"v\", \"showlegend\": true, \"textposition\": \"auto\", \"type\": \"bar\", \"x\": [\"GEMS\"], \"xaxis\": \"x\", \"y\": [2376172.4475768167], \"yaxis\": \"y\"}, {\"alignmentgroup\": \"True\", \"hovertemplate\": \"sell_symbol=%{x}<br>trade_amount_$=%{y}<extra></extra>\", \"legendgroup\": \"SUPERWAIFU\", \"marker\": {\"color\": \"rgb(111, 64, 112)\"}, \"name\": \"SUPERWAIFU\", \"offsetgroup\": \"SUPERWAIFU\", \"orientation\": \"v\", \"showlegend\": true, \"textposition\": \"auto\", \"type\": \"bar\", \"x\": [\"SUPERWAIFU\"], \"xaxis\": \"x\", \"y\": [2803985.9427665225], \"yaxis\": \"y\"}, {\"alignmentgroup\": \"True\", \"hovertemplate\": \"sell_symbol=%{x}<br>trade_amount_$=%{y}<extra></extra>\", \"legendgroup\": \"Hamtaro\", \"marker\": {\"color\": \"rgb(102, 102, 102)\"}, \"name\": \"Hamtaro\", \"offsetgroup\": \"Hamtaro\", \"orientation\": \"v\", \"showlegend\": true, \"textposition\": \"auto\", \"type\": \"bar\", \"x\": [\"Hamtaro\"], \"xaxis\": \"x\", \"y\": [2159491.5948241423], \"yaxis\": \"y\"}, {\"alignmentgroup\": \"True\", \"hovertemplate\": \"sell_symbol=%{x}<br>trade_amount_$=%{y}<extra></extra>\", \"legendgroup\": \"ADA\", \"marker\": {\"color\": \"rgb(95, 70, 144)\"}, \"name\": \"ADA\", \"offsetgroup\": \"ADA\", \"orientation\": \"v\", \"showlegend\": true, \"textposition\": \"auto\", \"type\": \"bar\", \"x\": [\"ADA\"], \"xaxis\": \"x\", \"y\": [3612064.628625586], \"yaxis\": \"y\"}, {\"alignmentgroup\": \"True\", \"hovertemplate\": \"sell_symbol=%{x}<br>trade_amount_$=%{y}<extra></extra>\", \"legendgroup\": \"SPE\", \"marker\": {\"color\": \"rgb(29, 105, 150)\"}, \"name\": \"SPE\", \"offsetgroup\": \"SPE\", \"orientation\": \"v\", \"showlegend\": true, \"textposition\": \"auto\", \"type\": \"bar\", \"x\": [\"SPE\"], \"xaxis\": \"x\", \"y\": [2912238.7107907087], \"yaxis\": \"y\"}, {\"alignmentgroup\": \"True\", \"hovertemplate\": \"sell_symbol=%{x}<br>trade_amount_$=%{y}<extra></extra>\", \"legendgroup\": \"NIU\", \"marker\": {\"color\": \"rgb(56, 166, 165)\"}, \"name\": \"NIU\", \"offsetgroup\": \"NIU\", \"orientation\": \"v\", \"showlegend\": true, \"textposition\": \"auto\", \"type\": \"bar\", \"x\": [\"NIU\"], \"xaxis\": \"x\", \"y\": [3301991.910692036], \"yaxis\": \"y\"}, {\"alignmentgroup\": \"True\", \"hovertemplate\": \"sell_symbol=%{x}<br>trade_amount_$=%{y}<extra></extra>\", \"legendgroup\": \"SAFECOMET\", \"marker\": {\"color\": \"rgb(15, 133, 84)\"}, \"name\": \"SAFECOMET\", \"offsetgroup\": \"SAFECOMET\", \"orientation\": \"v\", \"showlegend\": true, \"textposition\": \"auto\", \"type\": \"bar\", \"x\": [\"SAFECOMET\"], \"xaxis\": \"x\", \"y\": [1932785.1800929597], \"yaxis\": \"y\"}, {\"alignmentgroup\": \"True\", \"hovertemplate\": \"sell_symbol=%{x}<br>trade_amount_$=%{y}<extra></extra>\", \"legendgroup\": \"HyMETEOR\", \"marker\": {\"color\": \"rgb(115, 175, 72)\"}, \"name\": \"HyMETEOR\", \"offsetgroup\": \"HyMETEOR\", \"orientation\": \"v\", \"showlegend\": true, \"textposition\": \"auto\", \"type\": \"bar\", \"x\": [\"HyMETEOR\"], \"xaxis\": \"x\", \"y\": [2378915.1425249693], \"yaxis\": \"y\"}, {\"alignmentgroup\": \"True\", \"hovertemplate\": \"sell_symbol=%{x}<br>trade_amount_$=%{y}<extra></extra>\", \"legendgroup\": \"ZEP\", \"marker\": {\"color\": \"rgb(237, 173, 8)\"}, \"name\": \"ZEP\", \"offsetgroup\": \"ZEP\", \"orientation\": \"v\", \"showlegend\": true, \"textposition\": \"auto\", \"type\": \"bar\", \"x\": [\"ZEP\"], \"xaxis\": \"x\", \"y\": [2913334.9520222642], \"yaxis\": \"y\"}, {\"alignmentgroup\": \"True\", \"hovertemplate\": \"sell_symbol=%{x}<br>trade_amount_$=%{y}<extra></extra>\", \"legendgroup\": \"HAPPY\", \"marker\": {\"color\": \"rgb(225, 124, 5)\"}, \"name\": \"HAPPY\", \"offsetgroup\": \"HAPPY\", \"orientation\": \"v\", \"showlegend\": true, \"textposition\": \"auto\", \"type\": \"bar\", \"x\": [\"HAPPY\"], \"xaxis\": \"x\", \"y\": [3001564.4450136297], \"yaxis\": \"y\"}, {\"alignmentgroup\": \"True\", \"hovertemplate\": \"sell_symbol=%{x}<br>trade_amount_$=%{y}<extra></extra>\", \"legendgroup\": \"UST\", \"marker\": {\"color\": \"rgb(204, 80, 62)\"}, \"name\": \"UST\", \"offsetgroup\": \"UST\", \"orientation\": \"v\", \"showlegend\": true, \"textposition\": \"auto\", \"type\": \"bar\", \"x\": [\"UST\", \"UST\"], \"xaxis\": \"x\", \"y\": [2803762.8852762035, 1990208.678578361], \"yaxis\": \"y\"}, {\"alignmentgroup\": \"True\", \"hovertemplate\": \"sell_symbol=%{x}<br>trade_amount_$=%{y}<extra></extra>\", \"legendgroup\": \"AQUAGOAT\", \"marker\": {\"color\": \"rgb(148, 52, 110)\"}, \"name\": \"AQUAGOAT\", \"offsetgroup\": \"AQUAGOAT\", \"orientation\": \"v\", \"showlegend\": true, \"textposition\": \"auto\", \"type\": \"bar\", \"x\": [\"AQUAGOAT\"], \"xaxis\": \"x\", \"y\": [1971989.4449745028], \"yaxis\": \"y\"}, {\"alignmentgroup\": \"True\", \"hovertemplate\": \"sell_symbol=%{x}<br>trade_amount_$=%{y}<extra></extra>\", \"legendgroup\": \"DHOUSE\", \"marker\": {\"color\": \"rgb(111, 64, 112)\"}, \"name\": \"DHOUSE\", \"offsetgroup\": \"DHOUSE\", \"orientation\": \"v\", \"showlegend\": true, \"textposition\": \"auto\", \"type\": \"bar\", \"x\": [\"DHOUSE\"], \"xaxis\": \"x\", \"y\": [3050529.369314908], \"yaxis\": \"y\"}, {\"alignmentgroup\": \"True\", \"hovertemplate\": \"sell_symbol=%{x}<br>trade_amount_$=%{y}<extra></extra>\", \"legendgroup\": \"SAFEP\", \"marker\": {\"color\": \"rgb(102, 102, 102)\"}, \"name\": \"SAFEP\", \"offsetgroup\": \"SAFEP\", \"orientation\": \"v\", \"showlegend\": true, \"textposition\": \"auto\", \"type\": \"bar\", \"x\": [\"SAFEP\"], \"xaxis\": \"x\", \"y\": [2195585.4178404924], \"yaxis\": \"y\"}, {\"alignmentgroup\": \"True\", \"hovertemplate\": \"sell_symbol=%{x}<br>trade_amount_$=%{y}<extra></extra>\", \"legendgroup\": \"BETH\", \"marker\": {\"color\": \"rgb(95, 70, 144)\"}, \"name\": \"BETH\", \"offsetgroup\": \"BETH\", \"orientation\": \"v\", \"showlegend\": true, \"textposition\": \"auto\", \"type\": \"bar\", \"x\": [\"BETH\"], \"xaxis\": \"x\", \"y\": [13989004.63296687], \"yaxis\": \"y\"}, {\"alignmentgroup\": \"True\", \"hovertemplate\": \"sell_symbol=%{x}<br>trade_amount_$=%{y}<extra></extra>\", \"legendgroup\": \"BGOV\", \"marker\": {\"color\": \"rgb(29, 105, 150)\"}, \"name\": \"BGOV\", \"offsetgroup\": \"BGOV\", \"orientation\": \"v\", \"showlegend\": true, \"textposition\": \"auto\", \"type\": \"bar\", \"x\": [\"BGOV\"], \"xaxis\": \"x\", \"y\": [8291878.27887357], \"yaxis\": \"y\"}, {\"alignmentgroup\": \"True\", \"hovertemplate\": \"sell_symbol=%{x}<br>trade_amount_$=%{y}<extra></extra>\", \"legendgroup\": \"ASS\", \"marker\": {\"color\": \"rgb(56, 166, 165)\"}, \"name\": \"ASS\", \"offsetgroup\": \"ASS\", \"orientation\": \"v\", \"showlegend\": true, \"textposition\": \"auto\", \"type\": \"bar\", \"x\": [\"ASS\"], \"xaxis\": \"x\", \"y\": [2444402.6898469008], \"yaxis\": \"y\"}, {\"alignmentgroup\": \"True\", \"hovertemplate\": \"sell_symbol=%{x}<br>trade_amount_$=%{y}<extra></extra>\", \"legendgroup\": \"BIFI\", \"marker\": {\"color\": \"rgb(15, 133, 84)\"}, \"name\": \"BIFI\", \"offsetgroup\": \"BIFI\", \"orientation\": \"v\", \"showlegend\": true, \"textposition\": \"auto\", \"type\": \"bar\", \"x\": [\"BIFI\"], \"xaxis\": \"x\", \"y\": [1795080.300050629], \"yaxis\": \"y\"}, {\"alignmentgroup\": \"True\", \"hovertemplate\": \"sell_symbol=%{x}<br>trade_amount_$=%{y}<extra></extra>\", \"legendgroup\": \"FAIR\", \"marker\": {\"color\": \"rgb(115, 175, 72)\"}, \"name\": \"FAIR\", \"offsetgroup\": \"FAIR\", \"orientation\": \"v\", \"showlegend\": true, \"textposition\": \"auto\", \"type\": \"bar\", \"x\": [\"FAIR\"], \"xaxis\": \"x\", \"y\": [2664144.980163421], \"yaxis\": \"y\"}, {\"alignmentgroup\": \"True\", \"hovertemplate\": \"sell_symbol=%{x}<br>trade_amount_$=%{y}<extra></extra>\", \"legendgroup\": \"GMT\", \"marker\": {\"color\": \"rgb(237, 173, 8)\"}, \"name\": \"GMT\", \"offsetgroup\": \"GMT\", \"orientation\": \"v\", \"showlegend\": true, \"textposition\": \"auto\", \"type\": \"bar\", \"x\": [\"GMT\"], \"xaxis\": \"x\", \"y\": [7690458.096042225], \"yaxis\": \"y\"}, {\"alignmentgroup\": \"True\", \"hovertemplate\": \"sell_symbol=%{x}<br>trade_amount_$=%{y}<extra></extra>\", \"legendgroup\": \"XRP\", \"marker\": {\"color\": \"rgb(225, 124, 5)\"}, \"name\": \"XRP\", \"offsetgroup\": \"XRP\", \"orientation\": \"v\", \"showlegend\": true, \"textposition\": \"auto\", \"type\": \"bar\", \"x\": [\"XRP\"], \"xaxis\": \"x\", \"y\": [2213717.9778275476], \"yaxis\": \"y\"}, {\"alignmentgroup\": \"True\", \"hovertemplate\": \"sell_symbol=%{x}<br>trade_amount_$=%{y}<extra></extra>\", \"legendgroup\": \"RX\", \"marker\": {\"color\": \"rgb(204, 80, 62)\"}, \"name\": \"RX\", \"offsetgroup\": \"RX\", \"orientation\": \"v\", \"showlegend\": true, \"textposition\": \"auto\", \"type\": \"bar\", \"x\": [\"RX\"], \"xaxis\": \"x\", \"y\": [2897606.5855444223], \"yaxis\": \"y\"}, {\"alignmentgroup\": \"True\", \"hovertemplate\": \"sell_symbol=%{x}<br>trade_amount_$=%{y}<extra></extra>\", \"legendgroup\": \"SAFEGALAXY\", \"marker\": {\"color\": \"rgb(148, 52, 110)\"}, \"name\": \"SAFEGALAXY\", \"offsetgroup\": \"SAFEGALAXY\", \"orientation\": \"v\", \"showlegend\": true, \"textposition\": \"auto\", \"type\": \"bar\", \"x\": [\"SAFEGALAXY\"], \"xaxis\": \"x\", \"y\": [2410636.3955926993], \"yaxis\": \"y\"}, {\"alignmentgroup\": \"True\", \"hovertemplate\": \"sell_symbol=%{x}<br>trade_amount_$=%{y}<extra></extra>\", \"legendgroup\": \"WAF\", \"marker\": {\"color\": \"rgb(111, 64, 112)\"}, \"name\": \"WAF\", \"offsetgroup\": \"WAF\", \"orientation\": \"v\", \"showlegend\": true, \"textposition\": \"auto\", \"type\": \"bar\", \"x\": [\"WAF\"], \"xaxis\": \"x\", \"y\": [4181101.422827655], \"yaxis\": \"y\"}, {\"alignmentgroup\": \"True\", \"hovertemplate\": \"sell_symbol=%{x}<br>trade_amount_$=%{y}<extra></extra>\", \"legendgroup\": \"VGD\", \"marker\": {\"color\": \"rgb(102, 102, 102)\"}, \"name\": \"VGD\", \"offsetgroup\": \"VGD\", \"orientation\": \"v\", \"showlegend\": true, \"textposition\": \"auto\", \"type\": \"bar\", \"x\": [\"VGD\"], \"xaxis\": \"x\", \"y\": [1308863.7258743339], \"yaxis\": \"y\"}, {\"alignmentgroup\": \"True\", \"hovertemplate\": \"sell_symbol=%{x}<br>trade_amount_$=%{y}<extra></extra>\", \"legendgroup\": \"MEL\", \"marker\": {\"color\": \"rgb(95, 70, 144)\"}, \"name\": \"MEL\", \"offsetgroup\": \"MEL\", \"orientation\": \"v\", \"showlegend\": true, \"textposition\": \"auto\", \"type\": \"bar\", \"x\": [\"MEL\", \"MEL\"], \"xaxis\": \"x\", \"y\": [2238937.1900964365, 2609227.5926413466], \"yaxis\": \"y\"}, {\"alignmentgroup\": \"True\", \"hovertemplate\": \"sell_symbol=%{x}<br>trade_amount_$=%{y}<extra></extra>\", \"legendgroup\": \"PIT\", \"marker\": {\"color\": \"rgb(29, 105, 150)\"}, \"name\": \"PIT\", \"offsetgroup\": \"PIT\", \"orientation\": \"v\", \"showlegend\": true, \"textposition\": \"auto\", \"type\": \"bar\", \"x\": [\"PIT\"], \"xaxis\": \"x\", \"y\": [1511759.09659414], \"yaxis\": \"y\"}, {\"alignmentgroup\": \"True\", \"hovertemplate\": \"sell_symbol=%{x}<br>trade_amount_$=%{y}<extra></extra>\", \"legendgroup\": \"CATNIP\", \"marker\": {\"color\": \"rgb(56, 166, 165)\"}, \"name\": \"CATNIP\", \"offsetgroup\": \"CATNIP\", \"orientation\": \"v\", \"showlegend\": true, \"textposition\": \"auto\", \"type\": \"bar\", \"x\": [\"CATNIP\"], \"xaxis\": \"x\", \"y\": [2124728.7274502916], \"yaxis\": \"y\"}, {\"alignmentgroup\": \"True\", \"hovertemplate\": \"sell_symbol=%{x}<br>trade_amount_$=%{y}<extra></extra>\", \"legendgroup\": \"TACOCAT\", \"marker\": {\"color\": \"rgb(15, 133, 84)\"}, \"name\": \"TACOCAT\", \"offsetgroup\": \"TACOCAT\", \"orientation\": \"v\", \"showlegend\": true, \"textposition\": \"auto\", \"type\": \"bar\", \"x\": [\"TACOCAT\"], \"xaxis\": \"x\", \"y\": [2655824.686204292], \"yaxis\": \"y\"}, {\"alignmentgroup\": \"True\", \"hovertemplate\": \"sell_symbol=%{x}<br>trade_amount_$=%{y}<extra></extra>\", \"legendgroup\": \"WINDY\", \"marker\": {\"color\": \"rgb(115, 175, 72)\"}, \"name\": \"WINDY\", \"offsetgroup\": \"WINDY\", \"orientation\": \"v\", \"showlegend\": true, \"textposition\": \"auto\", \"type\": \"bar\", \"x\": [\"WINDY\"], \"xaxis\": \"x\", \"y\": [2218008.0311437757], \"yaxis\": \"y\"}, {\"alignmentgroup\": \"True\", \"hovertemplate\": \"sell_symbol=%{x}<br>trade_amount_$=%{y}<extra></extra>\", \"legendgroup\": \"Mooni\", \"marker\": {\"color\": \"rgb(237, 173, 8)\"}, \"name\": \"Mooni\", \"offsetgroup\": \"Mooni\", \"orientation\": \"v\", \"showlegend\": true, \"textposition\": \"auto\", \"type\": \"bar\", \"x\": [\"Mooni\"], \"xaxis\": \"x\", \"y\": [1723264.6739110863], \"yaxis\": \"y\"}, {\"alignmentgroup\": \"True\", \"hovertemplate\": \"sell_symbol=%{x}<br>trade_amount_$=%{y}<extra></extra>\", \"legendgroup\": \"Tcake\", \"marker\": {\"color\": \"rgb(225, 124, 5)\"}, \"name\": \"Tcake\", \"offsetgroup\": \"Tcake\", \"orientation\": \"v\", \"showlegend\": true, \"textposition\": \"auto\", \"type\": \"bar\", \"x\": [\"Tcake\"], \"xaxis\": \"x\", \"y\": [2591203.3215957573], \"yaxis\": \"y\"}, {\"alignmentgroup\": \"True\", \"hovertemplate\": \"sell_symbol=%{x}<br>trade_amount_$=%{y}<extra></extra>\", \"legendgroup\": \"MOONSHOT\", \"marker\": {\"color\": \"rgb(204, 80, 62)\"}, \"name\": \"MOONSHOT\", \"offsetgroup\": \"MOONSHOT\", \"orientation\": \"v\", \"showlegend\": true, \"textposition\": \"auto\", \"type\": \"bar\", \"x\": [\"MOONSHOT\"], \"xaxis\": \"x\", \"y\": [1992457.3717096944], \"yaxis\": \"y\"}, {\"alignmentgroup\": \"True\", \"hovertemplate\": \"sell_symbol=%{x}<br>trade_amount_$=%{y}<extra></extra>\", \"legendgroup\": \"KEY\", \"marker\": {\"color\": \"rgb(148, 52, 110)\"}, \"name\": \"KEY\", \"offsetgroup\": \"KEY\", \"orientation\": \"v\", \"showlegend\": true, \"textposition\": \"auto\", \"type\": \"bar\", \"x\": [\"KEY\"], \"xaxis\": \"x\", \"y\": [2402011.185691422], \"yaxis\": \"y\"}, {\"alignmentgroup\": \"True\", \"hovertemplate\": \"sell_symbol=%{x}<br>trade_amount_$=%{y}<extra></extra>\", \"legendgroup\": \"sBDO\", \"marker\": {\"color\": \"rgb(111, 64, 112)\"}, \"name\": \"sBDO\", \"offsetgroup\": \"sBDO\", \"orientation\": \"v\", \"showlegend\": true, \"textposition\": \"auto\", \"type\": \"bar\", \"x\": [\"sBDO\"], \"xaxis\": \"x\", \"y\": [4194500.196527898], \"yaxis\": \"y\"}, {\"alignmentgroup\": \"True\", \"hovertemplate\": \"sell_symbol=%{x}<br>trade_amount_$=%{y}<extra></extra>\", \"legendgroup\": \"BBQ\", \"marker\": {\"color\": \"rgb(102, 102, 102)\"}, \"name\": \"BBQ\", \"offsetgroup\": \"BBQ\", \"orientation\": \"v\", \"showlegend\": true, \"textposition\": \"auto\", \"type\": \"bar\", \"x\": [\"BBQ\"], \"xaxis\": \"x\", \"y\": [2587868.8308567703], \"yaxis\": \"y\"}, {\"alignmentgroup\": \"True\", \"hovertemplate\": \"sell_symbol=%{x}<br>trade_amount_$=%{y}<extra></extra>\", \"legendgroup\": \"OCTA\", \"marker\": {\"color\": \"rgb(95, 70, 144)\"}, \"name\": \"OCTA\", \"offsetgroup\": \"OCTA\", \"orientation\": \"v\", \"showlegend\": true, \"textposition\": \"auto\", \"type\": \"bar\", \"x\": [\"OCTA\"], \"xaxis\": \"x\", \"y\": [2005970.8446193032], \"yaxis\": \"y\"}, {\"alignmentgroup\": \"True\", \"hovertemplate\": \"sell_symbol=%{x}<br>trade_amount_$=%{y}<extra></extra>\", \"legendgroup\": \"BDO\", \"marker\": {\"color\": \"rgb(29, 105, 150)\"}, \"name\": \"BDO\", \"offsetgroup\": \"BDO\", \"orientation\": \"v\", \"showlegend\": true, \"textposition\": \"auto\", \"type\": \"bar\", \"x\": [\"BDO\"], \"xaxis\": \"x\", \"y\": [3083133.5553345904], \"yaxis\": \"y\"}, {\"alignmentgroup\": \"True\", \"hovertemplate\": \"sell_symbol=%{x}<br>trade_amount_$=%{y}<extra></extra>\", \"legendgroup\": \"PBT \", \"marker\": {\"color\": \"rgb(56, 166, 165)\"}, \"name\": \"PBT \", \"offsetgroup\": \"PBT \", \"orientation\": \"v\", \"showlegend\": true, \"textposition\": \"auto\", \"type\": \"bar\", \"x\": [\"PBT \"], \"xaxis\": \"x\", \"y\": [3600251.716087305], \"yaxis\": \"y\"}],                        {\"barmode\": \"relative\", \"legend\": {\"title\": {\"text\": \"sell_symbol\"}, \"tracegroupgap\": 0}, \"template\": {\"data\": {\"bar\": [{\"error_x\": {\"color\": \"#2a3f5f\"}, \"error_y\": {\"color\": \"#2a3f5f\"}, \"marker\": {\"line\": {\"color\": \"white\", \"width\": 0.5}}, \"type\": \"bar\"}], \"barpolar\": [{\"marker\": {\"line\": {\"color\": \"white\", \"width\": 0.5}}, \"type\": \"barpolar\"}], \"carpet\": [{\"aaxis\": {\"endlinecolor\": \"#2a3f5f\", \"gridcolor\": \"#C8D4E3\", \"linecolor\": \"#C8D4E3\", \"minorgridcolor\": \"#C8D4E3\", \"startlinecolor\": \"#2a3f5f\"}, \"baxis\": {\"endlinecolor\": \"#2a3f5f\", \"gridcolor\": \"#C8D4E3\", \"linecolor\": \"#C8D4E3\", \"minorgridcolor\": \"#C8D4E3\", \"startlinecolor\": \"#2a3f5f\"}, \"type\": \"carpet\"}], \"choropleth\": [{\"colorbar\": {\"outlinewidth\": 0, \"ticks\": \"\"}, \"type\": \"choropleth\"}], \"contour\": [{\"colorbar\": {\"outlinewidth\": 0, \"ticks\": \"\"}, \"colorscale\": [[0.0, \"#0d0887\"], [0.1111111111111111, \"#46039f\"], [0.2222222222222222, \"#7201a8\"], [0.3333333333333333, \"#9c179e\"], [0.4444444444444444, \"#bd3786\"], [0.5555555555555556, \"#d8576b\"], [0.6666666666666666, \"#ed7953\"], [0.7777777777777778, \"#fb9f3a\"], [0.8888888888888888, \"#fdca26\"], [1.0, \"#f0f921\"]], \"type\": \"contour\"}], \"contourcarpet\": [{\"colorbar\": {\"outlinewidth\": 0, \"ticks\": \"\"}, \"type\": \"contourcarpet\"}], \"heatmap\": [{\"colorbar\": {\"outlinewidth\": 0, \"ticks\": \"\"}, \"colorscale\": [[0.0, \"#0d0887\"], [0.1111111111111111, \"#46039f\"], [0.2222222222222222, \"#7201a8\"], [0.3333333333333333, \"#9c179e\"], [0.4444444444444444, \"#bd3786\"], [0.5555555555555556, \"#d8576b\"], [0.6666666666666666, \"#ed7953\"], [0.7777777777777778, \"#fb9f3a\"], [0.8888888888888888, \"#fdca26\"], [1.0, \"#f0f921\"]], \"type\": \"heatmap\"}], \"heatmapgl\": [{\"colorbar\": {\"outlinewidth\": 0, \"ticks\": \"\"}, \"colorscale\": [[0.0, \"#0d0887\"], [0.1111111111111111, \"#46039f\"], [0.2222222222222222, \"#7201a8\"], [0.3333333333333333, \"#9c179e\"], [0.4444444444444444, \"#bd3786\"], [0.5555555555555556, \"#d8576b\"], [0.6666666666666666, \"#ed7953\"], [0.7777777777777778, \"#fb9f3a\"], [0.8888888888888888, \"#fdca26\"], [1.0, \"#f0f921\"]], \"type\": \"heatmapgl\"}], \"histogram\": [{\"marker\": {\"colorbar\": {\"outlinewidth\": 0, \"ticks\": \"\"}}, \"type\": \"histogram\"}], \"histogram2d\": [{\"colorbar\": {\"outlinewidth\": 0, \"ticks\": \"\"}, \"colorscale\": [[0.0, \"#0d0887\"], [0.1111111111111111, \"#46039f\"], [0.2222222222222222, \"#7201a8\"], [0.3333333333333333, \"#9c179e\"], [0.4444444444444444, \"#bd3786\"], [0.5555555555555556, \"#d8576b\"], [0.6666666666666666, \"#ed7953\"], [0.7777777777777778, \"#fb9f3a\"], [0.8888888888888888, \"#fdca26\"], [1.0, \"#f0f921\"]], \"type\": \"histogram2d\"}], \"histogram2dcontour\": [{\"colorbar\": {\"outlinewidth\": 0, \"ticks\": \"\"}, \"colorscale\": [[0.0, \"#0d0887\"], [0.1111111111111111, \"#46039f\"], [0.2222222222222222, \"#7201a8\"], [0.3333333333333333, \"#9c179e\"], [0.4444444444444444, \"#bd3786\"], [0.5555555555555556, \"#d8576b\"], [0.6666666666666666, \"#ed7953\"], [0.7777777777777778, \"#fb9f3a\"], [0.8888888888888888, \"#fdca26\"], [1.0, \"#f0f921\"]], \"type\": \"histogram2dcontour\"}], \"mesh3d\": [{\"colorbar\": {\"outlinewidth\": 0, \"ticks\": \"\"}, \"type\": \"mesh3d\"}], \"parcoords\": [{\"line\": {\"colorbar\": {\"outlinewidth\": 0, \"ticks\": \"\"}}, \"type\": \"parcoords\"}], \"pie\": [{\"automargin\": true, \"type\": \"pie\"}], \"scatter\": [{\"marker\": {\"colorbar\": {\"outlinewidth\": 0, \"ticks\": \"\"}}, \"type\": \"scatter\"}], \"scatter3d\": [{\"line\": {\"colorbar\": {\"outlinewidth\": 0, \"ticks\": \"\"}}, \"marker\": {\"colorbar\": {\"outlinewidth\": 0, \"ticks\": \"\"}}, \"type\": \"scatter3d\"}], \"scattercarpet\": [{\"marker\": {\"colorbar\": {\"outlinewidth\": 0, \"ticks\": \"\"}}, \"type\": \"scattercarpet\"}], \"scattergeo\": [{\"marker\": {\"colorbar\": {\"outlinewidth\": 0, \"ticks\": \"\"}}, \"type\": \"scattergeo\"}], \"scattergl\": [{\"marker\": {\"colorbar\": {\"outlinewidth\": 0, \"ticks\": \"\"}}, \"type\": \"scattergl\"}], \"scattermapbox\": [{\"marker\": {\"colorbar\": {\"outlinewidth\": 0, \"ticks\": \"\"}}, \"type\": \"scattermapbox\"}], \"scatterpolar\": [{\"marker\": {\"colorbar\": {\"outlinewidth\": 0, \"ticks\": \"\"}}, \"type\": \"scatterpolar\"}], \"scatterpolargl\": [{\"marker\": {\"colorbar\": {\"outlinewidth\": 0, \"ticks\": \"\"}}, \"type\": \"scatterpolargl\"}], \"scatterternary\": [{\"marker\": {\"colorbar\": {\"outlinewidth\": 0, \"ticks\": \"\"}}, \"type\": \"scatterternary\"}], \"surface\": [{\"colorbar\": {\"outlinewidth\": 0, \"ticks\": \"\"}, \"colorscale\": [[0.0, \"#0d0887\"], [0.1111111111111111, \"#46039f\"], [0.2222222222222222, \"#7201a8\"], [0.3333333333333333, \"#9c179e\"], [0.4444444444444444, \"#bd3786\"], [0.5555555555555556, \"#d8576b\"], [0.6666666666666666, \"#ed7953\"], [0.7777777777777778, \"#fb9f3a\"], [0.8888888888888888, \"#fdca26\"], [1.0, \"#f0f921\"]], \"type\": \"surface\"}], \"table\": [{\"cells\": {\"fill\": {\"color\": \"#EBF0F8\"}, \"line\": {\"color\": \"white\"}}, \"header\": {\"fill\": {\"color\": \"#C8D4E3\"}, \"line\": {\"color\": \"white\"}}, \"type\": \"table\"}]}, \"layout\": {\"annotationdefaults\": {\"arrowcolor\": \"#2a3f5f\", \"arrowhead\": 0, \"arrowwidth\": 1}, \"autotypenumbers\": \"strict\", \"coloraxis\": {\"colorbar\": {\"outlinewidth\": 0, \"ticks\": \"\"}}, \"colorscale\": {\"diverging\": [[0, \"#8e0152\"], [0.1, \"#c51b7d\"], [0.2, \"#de77ae\"], [0.3, \"#f1b6da\"], [0.4, \"#fde0ef\"], [0.5, \"#f7f7f7\"], [0.6, \"#e6f5d0\"], [0.7, \"#b8e186\"], [0.8, \"#7fbc41\"], [0.9, \"#4d9221\"], [1, \"#276419\"]], \"sequential\": [[0.0, \"#0d0887\"], [0.1111111111111111, \"#46039f\"], [0.2222222222222222, \"#7201a8\"], [0.3333333333333333, \"#9c179e\"], [0.4444444444444444, \"#bd3786\"], [0.5555555555555556, \"#d8576b\"], [0.6666666666666666, \"#ed7953\"], [0.7777777777777778, \"#fb9f3a\"], [0.8888888888888888, \"#fdca26\"], [1.0, \"#f0f921\"]], \"sequentialminus\": [[0.0, \"#0d0887\"], [0.1111111111111111, \"#46039f\"], [0.2222222222222222, \"#7201a8\"], [0.3333333333333333, \"#9c179e\"], [0.4444444444444444, \"#bd3786\"], [0.5555555555555556, \"#d8576b\"], [0.6666666666666666, \"#ed7953\"], [0.7777777777777778, \"#fb9f3a\"], [0.8888888888888888, \"#fdca26\"], [1.0, \"#f0f921\"]]}, \"colorway\": [\"#636efa\", \"#EF553B\", \"#00cc96\", \"#ab63fa\", \"#FFA15A\", \"#19d3f3\", \"#FF6692\", \"#B6E880\", \"#FF97FF\", \"#FECB52\"], \"font\": {\"color\": \"#2a3f5f\"}, \"geo\": {\"bgcolor\": \"white\", \"lakecolor\": \"white\", \"landcolor\": \"white\", \"showlakes\": true, \"showland\": true, \"subunitcolor\": \"#C8D4E3\"}, \"hoverlabel\": {\"align\": \"left\"}, \"hovermode\": \"closest\", \"mapbox\": {\"style\": \"light\"}, \"paper_bgcolor\": \"white\", \"plot_bgcolor\": \"white\", \"polar\": {\"angularaxis\": {\"gridcolor\": \"#EBF0F8\", \"linecolor\": \"#EBF0F8\", \"ticks\": \"\"}, \"bgcolor\": \"white\", \"radialaxis\": {\"gridcolor\": \"#EBF0F8\", \"linecolor\": \"#EBF0F8\", \"ticks\": \"\"}}, \"scene\": {\"xaxis\": {\"backgroundcolor\": \"white\", \"gridcolor\": \"#DFE8F3\", \"gridwidth\": 2, \"linecolor\": \"#EBF0F8\", \"showbackground\": true, \"ticks\": \"\", \"zerolinecolor\": \"#EBF0F8\"}, \"yaxis\": {\"backgroundcolor\": \"white\", \"gridcolor\": \"#DFE8F3\", \"gridwidth\": 2, \"linecolor\": \"#EBF0F8\", \"showbackground\": true, \"ticks\": \"\", \"zerolinecolor\": \"#EBF0F8\"}, \"zaxis\": {\"backgroundcolor\": \"white\", \"gridcolor\": \"#DFE8F3\", \"gridwidth\": 2, \"linecolor\": \"#EBF0F8\", \"showbackground\": true, \"ticks\": \"\", \"zerolinecolor\": \"#EBF0F8\"}}, \"shapedefaults\": {\"line\": {\"color\": \"#2a3f5f\"}}, \"ternary\": {\"aaxis\": {\"gridcolor\": \"#DFE8F3\", \"linecolor\": \"#A2B1C6\", \"ticks\": \"\"}, \"baxis\": {\"gridcolor\": \"#DFE8F3\", \"linecolor\": \"#A2B1C6\", \"ticks\": \"\"}, \"bgcolor\": \"white\", \"caxis\": {\"gridcolor\": \"#DFE8F3\", \"linecolor\": \"#A2B1C6\", \"ticks\": \"\"}}, \"title\": {\"x\": 0.05}, \"xaxis\": {\"automargin\": true, \"gridcolor\": \"#EBF0F8\", \"linecolor\": \"#EBF0F8\", \"ticks\": \"\", \"title\": {\"standoff\": 15}, \"zerolinecolor\": \"#EBF0F8\", \"zerolinewidth\": 2}, \"yaxis\": {\"automargin\": true, \"gridcolor\": \"#EBF0F8\", \"linecolor\": \"#EBF0F8\", \"ticks\": \"\", \"title\": {\"standoff\": 15}, \"zerolinecolor\": \"#EBF0F8\", \"zerolinewidth\": 2}}}, \"title\": {\"text\": \"<b>Top Sell Symbols by Trading Amount in Past Week on PancakeSwap\"}, \"xaxis\": {\"anchor\": \"y\", \"categoryarray\": [\"SAFEMOON\", \"BUNNY\", \"NFTART\", \"CUMMIES\", \"Dogefather\", \"BSCPAD\", \"ElonGate\", \"ECP\", \"AUTO\", \"BONFIRE\", \"BTCB\", \"EPS\", \"SPORE\", \"Forestry\", \"SEED\", \"TBAKE\", \"BSCS\", \"LOF\", \"100x\", \"SPND\", \"upBNB\", \"ALPACA\", \"KPAD\", \"BRICK\", \"SAFEMARS\", \"SAFEMOONCASH\", \"EGG\", \"HYPER\", \"MEMES\", \"BAKE\", \"SHILD\", \"BOG\", \"DOGE\", \"SLAM\", \"MOONMOON\", \"SENDWHALE\", \"DAI\", \"TREE\", \"SAFEBTC\", \"MOONLIGHT\", \"TWT\", \"MOONPIRATE\", \"Ramen\", \"EULER\", \"XVS\", \"SMG\", \"DINO\", \"SALT\", \"GEN\", \"DOT\", \"FEG\", \"MASH\", \"GEMS\", \"SUPERWAIFU\", \"Hamtaro\", \"ADA\", \"SPE\", \"NIU\", \"SAFECOMET\", \"HyMETEOR\", \"ZEP\", \"HAPPY\", \"UST\", \"AQUAGOAT\", \"DHOUSE\", \"SAFEP\", \"BETH\", \"BGOV\", \"ASS\", \"BIFI\", \"FAIR\", \"GMT\", \"XRP\", \"RX\", \"SAFEGALAXY\", \"WAF\", \"VGD\", \"MEL\", \"PIT\", \"CATNIP\", \"TACOCAT\", \"WINDY\", \"Mooni\", \"Tcake\", \"MOONSHOT\", \"KEY\", \"sBDO\", \"BBQ\", \"OCTA\", \"BDO\", \"PBT \"], \"categoryorder\": \"array\", \"domain\": [0.0, 1.0], \"title\": {\"text\": \"sell_symbol\"}}, \"yaxis\": {\"anchor\": \"x\", \"domain\": [0.0, 1.0], \"title\": {\"text\": \"trade_amount_$\"}}},                        {\"responsive\": true}                    ).then(function(){\n",
       "                            \n",
       "var gd = document.getElementById('d832967f-17c2-4b0a-8598-5b22a41b32b3');\n",
       "var x = new MutationObserver(function (mutations, observer) {{\n",
       "        var display = window.getComputedStyle(gd).display;\n",
       "        if (!display || display === 'none') {{\n",
       "            console.log([gd, 'removed!']);\n",
       "            Plotly.purge(gd);\n",
       "            observer.disconnect();\n",
       "        }}\n",
       "}});\n",
       "\n",
       "// Listen for the removal of the full notebook cells\n",
       "var notebookContainer = gd.closest('#notebook-container');\n",
       "if (notebookContainer) {{\n",
       "    x.observe(notebookContainer, {childList: true});\n",
       "}}\n",
       "\n",
       "// Listen for the clearing of the current output cell\n",
       "var outputEl = gd.closest('.output');\n",
       "if (outputEl) {{\n",
       "    x.observe(outputEl, {childList: true});\n",
       "}}\n",
       "\n",
       "                        })                };                });            </script>        </div>"
      ]
     },
     "metadata": {},
     "output_type": "display_data"
    }
   ],
   "source": [
    "fig = px.bar(df1\n",
    "             ,x='buy_symbol'\n",
    "             ,y='#_trades'\n",
    "             ,color='buy_symbol'\n",
    "#              ,line_shape='spline'\n",
    "             ,template='plotly_white'\n",
    "             ,color_discrete_sequence=px.colors.qualitative.Vivid\n",
    "             ,title='<b>Top Buy Symbols by Trading Volume in Past Week on PancakeSwap')\n",
    "fig.show()\n",
    "fig = px.bar(df1\n",
    "             ,x='buy_symbol'\n",
    "             ,y='trade_amount_$'\n",
    "             ,color='buy_symbol'\n",
    "#              ,line_shape='spline'\n",
    "             ,template='plotly_white'\n",
    "             ,color_discrete_sequence=px.colors.qualitative.Prism\n",
    "             ,title='<b>Top Buy Symbols by Trading Amount in Past Week on PancakeSwap')\n",
    "fig.show()\n",
    "\n",
    "fig = px.bar(df2\n",
    "             ,x='sell_symbol'\n",
    "             ,y='#_trades'\n",
    "             ,color='sell_symbol'\n",
    "#              ,line_shape='spline'\n",
    "             ,template='plotly_white'\n",
    "             ,color_discrete_sequence=px.colors.qualitative.Vivid\n",
    "             ,title='<b>Top Sell Symbols by Trading Volume in Past Week on PancakeSwap')\n",
    "fig.show()\n",
    "\n",
    "fig = px.bar(df2\n",
    "             ,x='sell_symbol'\n",
    "             ,y='trade_amount_$'\n",
    "             ,color='sell_symbol'\n",
    "#              ,line_shape='spline'\n",
    "             ,template='plotly_white'\n",
    "             ,color_discrete_sequence=px.colors.qualitative.Prism\n",
    "             ,title='<b>Top Sell Symbols by Trading Amount in Past Week on PancakeSwap')\n",
    "fig.show()"
   ]
  },
  {
   "cell_type": "markdown",
   "metadata": {},
   "source": [
    "# Trend Data"
   ]
  },
  {
   "cell_type": "code",
   "execution_count": 6,
   "metadata": {},
   "outputs": [
    {
     "name": "stdout",
     "output_type": "stream",
     "text": [
      "/Users/max.bade/Downloads/pancakeswap\n"
     ]
    }
   ],
   "source": [
    "cd pancakeswap"
   ]
  },
  {
   "cell_type": "code",
   "execution_count": 7,
   "metadata": {},
   "outputs": [
    {
     "name": "stdout",
     "output_type": "stream",
     "text": [
      "4_1.txt   4_14.txt  4_19.txt  4_23.txt  4_28.txt  4_5.txt   5_1.txt   5_6.txt\r\n",
      "4_10.txt  4_15.txt  4_2.txt   4_24.txt  4_29.txt  4_6.txt   5_2.txt   \u001b[34moutput\u001b[m\u001b[m/\r\n",
      "4_11.txt  4_16.txt  4_20.txt  4_25.txt  4_3.txt   4_7.txt   5_3.txt\r\n",
      "4_12.txt  4_17.txt  4_21.txt  4_26.txt  4_30.txt  4_8.txt   5_4.txt\r\n",
      "4_13.txt  4_18.txt  4_22.txt  4_27.txt  4_4.txt   4_9.txt   5_5.txt\r\n"
     ]
    }
   ],
   "source": [
    "ls"
   ]
  },
  {
   "cell_type": "code",
   "execution_count": 8,
   "metadata": {},
   "outputs": [],
   "source": [
    "cake_4_1 = json.load(open('/Users/max.bade/Downloads/pancakeswap/4_1.txt'))\n",
    "cake_4_2 = json.load(open('/Users/max.bade/Downloads/pancakeswap/4_2.txt'))\n",
    "cake_4_3 = json.load(open('/Users/max.bade/Downloads/pancakeswap/4_3.txt'))\n",
    "cake_4_4 = json.load(open('/Users/max.bade/Downloads/pancakeswap/4_4.txt'))\n",
    "cake_4_5 = json.load(open('/Users/max.bade/Downloads/pancakeswap/4_5.txt'))\n",
    "cake_4_6 = json.load(open('/Users/max.bade/Downloads/pancakeswap/4_6.txt'))\n",
    "cake_4_7 = json.load(open('/Users/max.bade/Downloads/pancakeswap/4_7.txt'))\n",
    "cake_4_8 = json.load(open('/Users/max.bade/Downloads/pancakeswap/4_8.txt'))\n",
    "cake_4_9 = json.load(open('/Users/max.bade/Downloads/pancakeswap/4_9.txt'))\n",
    "cake_4_10 = json.load(open('/Users/max.bade/Downloads/pancakeswap/4_10.txt'))\n",
    "cake_4_11 = json.load(open('/Users/max.bade/Downloads/pancakeswap/4_11.txt'))\n",
    "cake_4_12 = json.load(open('/Users/max.bade/Downloads/pancakeswap/4_12.txt'))\n",
    "cake_4_13 = json.load(open('/Users/max.bade/Downloads/pancakeswap/4_13.txt'))\n",
    "cake_4_14 = json.load(open('/Users/max.bade/Downloads/pancakeswap/4_14.txt'))\n",
    "cake_4_15 = json.load(open('/Users/max.bade/Downloads/pancakeswap/4_15.txt'))\n",
    "cake_4_16 = json.load(open('/Users/max.bade/Downloads/pancakeswap/4_16.txt'))\n",
    "cake_4_17 = json.load(open('/Users/max.bade/Downloads/pancakeswap/4_17.txt'))\n",
    "cake_4_18 = json.load(open('/Users/max.bade/Downloads/pancakeswap/4_18.txt'))\n",
    "cake_4_19 = json.load(open('/Users/max.bade/Downloads/pancakeswap/4_19.txt'))\n",
    "cake_4_20 = json.load(open('/Users/max.bade/Downloads/pancakeswap/4_20.txt'))\n",
    "cake_4_21 = json.load(open('/Users/max.bade/Downloads/pancakeswap/4_21.txt'))\n",
    "cake_4_22 = json.load(open('/Users/max.bade/Downloads/pancakeswap/4_22.txt'))\n",
    "cake_4_23 = json.load(open('/Users/max.bade/Downloads/pancakeswap/4_23.txt'))\n",
    "cake_4_24 = json.load(open('/Users/max.bade/Downloads/pancakeswap/4_24.txt'))\n",
    "cake_4_25 = json.load(open('/Users/max.bade/Downloads/pancakeswap/4_25.txt'))\n",
    "cake_4_26 = json.load(open('/Users/max.bade/Downloads/pancakeswap/4_26.txt'))\n",
    "cake_4_27 = json.load(open('/Users/max.bade/Downloads/pancakeswap/4_27.txt'))\n",
    "cake_4_28 = json.load(open('/Users/max.bade/Downloads/pancakeswap/4_28.txt'))\n",
    "cake_4_29 = json.load(open('/Users/max.bade/Downloads/pancakeswap/4_29.txt'))\n",
    "cake_4_30 = json.load(open('/Users/max.bade/Downloads/pancakeswap/4_30.txt'))\n",
    "cake_5_1 = json.load(open('/Users/max.bade/Downloads/pancakeswap/5_1.txt'))\n",
    "cake_5_2 = json.load(open('/Users/max.bade/Downloads/pancakeswap/5_2.txt'))\n",
    "cake_5_3 = json.load(open('/Users/max.bade/Downloads/pancakeswap/5_3.txt'))\n",
    "cake_5_4 = json.load(open('/Users/max.bade/Downloads/pancakeswap/5_4.txt'))\n",
    "cake_5_5 = json.load(open('/Users/max.bade/Downloads/pancakeswap/5_5.txt'))\n",
    "cake_5_6 = json.load(open('/Users/max.bade/Downloads/pancakeswap/5_6.txt'))"
   ]
  },
  {
   "cell_type": "code",
   "execution_count": 9,
   "metadata": {},
   "outputs": [],
   "source": [
    "cakes = [cake_4_1, cake_4_2, cake_4_3, cake_4_4, cake_4_5, cake_4_6\n",
    "         , cake_4_7, cake_4_8, cake_4_9, cake_4_10, cake_4_11, cake_4_12\n",
    "         , cake_4_13, cake_4_14, cake_4_15, cake_4_16, cake_4_17, cake_4_18\n",
    "         , cake_4_19, cake_4_20, cake_4_21, cake_4_22, cake_4_23, cake_4_24\n",
    "         , cake_4_25, cake_4_26, cake_4_27, cake_4_28, cake_4_29, cake_4_30\n",
    "         , cake_5_1, cake_5_2, cake_5_3, cake_5_4, cake_5_5, cake_5_6]"
   ]
  },
  {
   "cell_type": "code",
   "execution_count": 12,
   "metadata": {},
   "outputs": [],
   "source": [
    "dirpath = '/Users/max.bade/Downloads/pancakeswap/'\n",
    "output = '/Users/max.bade/Downloads/pancakeswap/output/pancakeswap.csv'\n",
    "csvout_lst = []\n",
    "files = [os.path.join(dirpath, fname) for fname in os.listdir(dirpath)]\n",
    "\n",
    "# for filename in sorted(files):\n",
    "for filename in cakes:\n",
    "    \n",
    "    def cross_join(left, right):\n",
    "        new_rows = []\n",
    "        for left_row in left:\n",
    "            for right_row in right:\n",
    "                temp_row = deepcopy(left_row)\n",
    "                for key, value in right_row.items():\n",
    "                    temp_row[key] = value\n",
    "                new_rows.append(deepcopy(temp_row))\n",
    "        return new_rows\n",
    "\n",
    "\n",
    "    def flatten_list(data):\n",
    "        for elem in data:\n",
    "            if isinstance(elem, list):\n",
    "                yield from flatten_list(elem)\n",
    "            else:\n",
    "                yield elem\n",
    "\n",
    "\n",
    "    def json_to_dataframe(data_in):\n",
    "        def flatten_json(data, prev_heading=''):\n",
    "            if isinstance(data, dict):\n",
    "                rows = [{}]\n",
    "                for key, value in data.items():\n",
    "                    rows = cross_join(rows, flatten_json(value, prev_heading + '.' + key))\n",
    "            elif isinstance(data, list):\n",
    "                rows = []\n",
    "                for i in range(len(data)):\n",
    "                    [rows.append(elem) for elem in flatten_list(flatten_json(data[i], prev_heading))]\n",
    "            else:\n",
    "                rows = [{prev_heading[1:]: data}]\n",
    "            return rows\n",
    "\n",
    "        return pd.DataFrame(flatten_json(data_in))\n",
    "\n",
    "    if __name__ == '__main__':\n",
    "        data = json_to_dataframe(filename)\n",
    "        csvout_lst.append(data)\n",
    "        \n",
    "    pd.concat(csvout_lst).to_csv(output)"
   ]
  },
  {
   "cell_type": "code",
   "execution_count": 25,
   "metadata": {},
   "outputs": [
    {
     "name": "stdout",
     "output_type": "stream",
     "text": [
      "(36000, 5)\n"
     ]
    },
    {
     "data": {
      "text/html": [
       "<div>\n",
       "<style scoped>\n",
       "    .dataframe tbody tr th:only-of-type {\n",
       "        vertical-align: middle;\n",
       "    }\n",
       "\n",
       "    .dataframe tbody tr th {\n",
       "        vertical-align: top;\n",
       "    }\n",
       "\n",
       "    .dataframe thead th {\n",
       "        text-align: right;\n",
       "    }\n",
       "</style>\n",
       "<table border=\"1\" class=\"dataframe\">\n",
       "  <thead>\n",
       "    <tr style=\"text-align: right;\">\n",
       "      <th></th>\n",
       "      <th>buy_symbol</th>\n",
       "      <th>sell_symbol</th>\n",
       "      <th>#_trades</th>\n",
       "      <th>trade_amount_$</th>\n",
       "      <th>num_trades_x_tradeamount</th>\n",
       "      <th>trade_date</th>\n",
       "      <th>pair</th>\n",
       "      <th>pct_ch</th>\n",
       "    </tr>\n",
       "  </thead>\n",
       "  <tbody>\n",
       "    <tr>\n",
       "      <th>2680</th>\n",
       "      <td>$BRUTO</td>\n",
       "      <td>WBNB</td>\n",
       "      <td>134</td>\n",
       "      <td>59729.137176</td>\n",
       "      <td>8.003704e+06</td>\n",
       "      <td>2021-04-03</td>\n",
       "      <td>$BRUTO/WBNB</td>\n",
       "      <td>0.000000</td>\n",
       "    </tr>\n",
       "    <tr>\n",
       "      <th>3723</th>\n",
       "      <td>$BRUTO</td>\n",
       "      <td>WBNB</td>\n",
       "      <td>156</td>\n",
       "      <td>52957.158039</td>\n",
       "      <td>8.261317e+06</td>\n",
       "      <td>2021-04-04</td>\n",
       "      <td>$BRUTO/WBNB</td>\n",
       "      <td>16.417910</td>\n",
       "    </tr>\n",
       "    <tr>\n",
       "      <th>6989</th>\n",
       "      <td>$BRUTO</td>\n",
       "      <td>WBNB</td>\n",
       "      <td>82</td>\n",
       "      <td>31140.805178</td>\n",
       "      <td>2.553546e+06</td>\n",
       "      <td>2021-04-07</td>\n",
       "      <td>$BRUTO/WBNB</td>\n",
       "      <td>-47.435897</td>\n",
       "    </tr>\n",
       "    <tr>\n",
       "      <th>757</th>\n",
       "      <td>$Cats</td>\n",
       "      <td>WBNB</td>\n",
       "      <td>94</td>\n",
       "      <td>34457.318973</td>\n",
       "      <td>3.238988e+06</td>\n",
       "      <td>2021-04-01</td>\n",
       "      <td>$Cats/WBNB</td>\n",
       "      <td>0.000000</td>\n",
       "    </tr>\n",
       "    <tr>\n",
       "      <th>1844</th>\n",
       "      <td>$Cats</td>\n",
       "      <td>WBNB</td>\n",
       "      <td>110</td>\n",
       "      <td>29314.920440</td>\n",
       "      <td>3.224641e+06</td>\n",
       "      <td>2021-04-02</td>\n",
       "      <td>$Cats/WBNB</td>\n",
       "      <td>17.021277</td>\n",
       "    </tr>\n",
       "    <tr>\n",
       "      <th>2956</th>\n",
       "      <td>$Cats</td>\n",
       "      <td>WBNB</td>\n",
       "      <td>70</td>\n",
       "      <td>20928.328322</td>\n",
       "      <td>1.464983e+06</td>\n",
       "      <td>2021-04-03</td>\n",
       "      <td>$Cats/WBNB</td>\n",
       "      <td>-36.363636</td>\n",
       "    </tr>\n",
       "    <tr>\n",
       "      <th>10992</th>\n",
       "      <td>$Cats</td>\n",
       "      <td>WBNB</td>\n",
       "      <td>134</td>\n",
       "      <td>37500.062739</td>\n",
       "      <td>5.025008e+06</td>\n",
       "      <td>2021-04-11</td>\n",
       "      <td>$Cats/WBNB</td>\n",
       "      <td>91.428571</td>\n",
       "    </tr>\n",
       "    <tr>\n",
       "      <th>11771</th>\n",
       "      <td>$Cats</td>\n",
       "      <td>WBNB</td>\n",
       "      <td>164</td>\n",
       "      <td>81902.982005</td>\n",
       "      <td>1.343209e+07</td>\n",
       "      <td>2021-04-12</td>\n",
       "      <td>$Cats/WBNB</td>\n",
       "      <td>22.388060</td>\n",
       "    </tr>\n",
       "    <tr>\n",
       "      <th>12787</th>\n",
       "      <td>$Cats</td>\n",
       "      <td>WBNB</td>\n",
       "      <td>147</td>\n",
       "      <td>64084.618594</td>\n",
       "      <td>9.420439e+06</td>\n",
       "      <td>2021-04-13</td>\n",
       "      <td>$Cats/WBNB</td>\n",
       "      <td>-10.365854</td>\n",
       "    </tr>\n",
       "    <tr>\n",
       "      <th>13655</th>\n",
       "      <td>$Cats</td>\n",
       "      <td>WBNB</td>\n",
       "      <td>195</td>\n",
       "      <td>85149.078063</td>\n",
       "      <td>1.660407e+07</td>\n",
       "      <td>2021-04-14</td>\n",
       "      <td>$Cats/WBNB</td>\n",
       "      <td>32.653061</td>\n",
       "    </tr>\n",
       "    <tr>\n",
       "      <th>6897</th>\n",
       "      <td>$ELONROCKET</td>\n",
       "      <td>WBNB</td>\n",
       "      <td>497</td>\n",
       "      <td>40738.195017</td>\n",
       "      <td>2.024688e+07</td>\n",
       "      <td>2021-04-07</td>\n",
       "      <td>$ELONROCKET/WBNB</td>\n",
       "      <td>0.000000</td>\n",
       "    </tr>\n",
       "    <tr>\n",
       "      <th>19472</th>\n",
       "      <td>$FSpace</td>\n",
       "      <td>WBNB</td>\n",
       "      <td>381</td>\n",
       "      <td>339177.044250</td>\n",
       "      <td>1.292265e+08</td>\n",
       "      <td>2021-04-20</td>\n",
       "      <td>$FSpace/WBNB</td>\n",
       "      <td>0.000000</td>\n",
       "    </tr>\n",
       "    <tr>\n",
       "      <th>20713</th>\n",
       "      <td>$FSpace</td>\n",
       "      <td>WBNB</td>\n",
       "      <td>362</td>\n",
       "      <td>192821.894926</td>\n",
       "      <td>6.980153e+07</td>\n",
       "      <td>2021-04-21</td>\n",
       "      <td>$FSpace/WBNB</td>\n",
       "      <td>-4.986877</td>\n",
       "    </tr>\n",
       "    <tr>\n",
       "      <th>607</th>\n",
       "      <td>$GOLD</td>\n",
       "      <td>WBNB</td>\n",
       "      <td>80</td>\n",
       "      <td>65504.511890</td>\n",
       "      <td>5.240361e+06</td>\n",
       "      <td>2021-04-01</td>\n",
       "      <td>$GOLD/WBNB</td>\n",
       "      <td>0.000000</td>\n",
       "    </tr>\n",
       "    <tr>\n",
       "      <th>1541</th>\n",
       "      <td>$GOLD</td>\n",
       "      <td>WBNB</td>\n",
       "      <td>94</td>\n",
       "      <td>99642.770423</td>\n",
       "      <td>9.366420e+06</td>\n",
       "      <td>2021-04-02</td>\n",
       "      <td>$GOLD/WBNB</td>\n",
       "      <td>17.500000</td>\n",
       "    </tr>\n",
       "    <tr>\n",
       "      <th>2657</th>\n",
       "      <td>$GOLD</td>\n",
       "      <td>WBNB</td>\n",
       "      <td>100</td>\n",
       "      <td>65460.191216</td>\n",
       "      <td>6.546019e+06</td>\n",
       "      <td>2021-04-03</td>\n",
       "      <td>$GOLD/WBNB</td>\n",
       "      <td>6.382979</td>\n",
       "    </tr>\n",
       "    <tr>\n",
       "      <th>3641</th>\n",
       "      <td>$GOLD</td>\n",
       "      <td>WBNB</td>\n",
       "      <td>62</td>\n",
       "      <td>71360.343503</td>\n",
       "      <td>4.424341e+06</td>\n",
       "      <td>2021-04-04</td>\n",
       "      <td>$GOLD/WBNB</td>\n",
       "      <td>-38.000000</td>\n",
       "    </tr>\n",
       "    <tr>\n",
       "      <th>4720</th>\n",
       "      <td>$GOLD</td>\n",
       "      <td>WBNB</td>\n",
       "      <td>84</td>\n",
       "      <td>68981.184883</td>\n",
       "      <td>5.794420e+06</td>\n",
       "      <td>2021-04-05</td>\n",
       "      <td>$GOLD/WBNB</td>\n",
       "      <td>35.483871</td>\n",
       "    </tr>\n",
       "    <tr>\n",
       "      <th>5627</th>\n",
       "      <td>$GOLD</td>\n",
       "      <td>WBNB</td>\n",
       "      <td>88</td>\n",
       "      <td>97109.765418</td>\n",
       "      <td>8.545659e+06</td>\n",
       "      <td>2021-04-06</td>\n",
       "      <td>$GOLD/WBNB</td>\n",
       "      <td>4.761905</td>\n",
       "    </tr>\n",
       "    <tr>\n",
       "      <th>6742</th>\n",
       "      <td>$GOLD</td>\n",
       "      <td>WBNB</td>\n",
       "      <td>64</td>\n",
       "      <td>64759.143419</td>\n",
       "      <td>4.144585e+06</td>\n",
       "      <td>2021-04-07</td>\n",
       "      <td>$GOLD/WBNB</td>\n",
       "      <td>-27.272727</td>\n",
       "    </tr>\n",
       "  </tbody>\n",
       "</table>\n",
       "</div>"
      ],
      "text/plain": [
       "        buy_symbol sell_symbol  #_trades  trade_amount_$  \\\n",
       "2680        $BRUTO        WBNB       134    59729.137176   \n",
       "3723        $BRUTO        WBNB       156    52957.158039   \n",
       "6989        $BRUTO        WBNB        82    31140.805178   \n",
       "757          $Cats        WBNB        94    34457.318973   \n",
       "1844         $Cats        WBNB       110    29314.920440   \n",
       "2956         $Cats        WBNB        70    20928.328322   \n",
       "10992        $Cats        WBNB       134    37500.062739   \n",
       "11771        $Cats        WBNB       164    81902.982005   \n",
       "12787        $Cats        WBNB       147    64084.618594   \n",
       "13655        $Cats        WBNB       195    85149.078063   \n",
       "6897   $ELONROCKET        WBNB       497    40738.195017   \n",
       "19472      $FSpace        WBNB       381   339177.044250   \n",
       "20713      $FSpace        WBNB       362   192821.894926   \n",
       "607          $GOLD        WBNB        80    65504.511890   \n",
       "1541         $GOLD        WBNB        94    99642.770423   \n",
       "2657         $GOLD        WBNB       100    65460.191216   \n",
       "3641         $GOLD        WBNB        62    71360.343503   \n",
       "4720         $GOLD        WBNB        84    68981.184883   \n",
       "5627         $GOLD        WBNB        88    97109.765418   \n",
       "6742         $GOLD        WBNB        64    64759.143419   \n",
       "\n",
       "       num_trades_x_tradeamount trade_date              pair     pct_ch  \n",
       "2680               8.003704e+06 2021-04-03       $BRUTO/WBNB   0.000000  \n",
       "3723               8.261317e+06 2021-04-04       $BRUTO/WBNB  16.417910  \n",
       "6989               2.553546e+06 2021-04-07       $BRUTO/WBNB -47.435897  \n",
       "757                3.238988e+06 2021-04-01        $Cats/WBNB   0.000000  \n",
       "1844               3.224641e+06 2021-04-02        $Cats/WBNB  17.021277  \n",
       "2956               1.464983e+06 2021-04-03        $Cats/WBNB -36.363636  \n",
       "10992              5.025008e+06 2021-04-11        $Cats/WBNB  91.428571  \n",
       "11771              1.343209e+07 2021-04-12        $Cats/WBNB  22.388060  \n",
       "12787              9.420439e+06 2021-04-13        $Cats/WBNB -10.365854  \n",
       "13655              1.660407e+07 2021-04-14        $Cats/WBNB  32.653061  \n",
       "6897               2.024688e+07 2021-04-07  $ELONROCKET/WBNB   0.000000  \n",
       "19472              1.292265e+08 2021-04-20      $FSpace/WBNB   0.000000  \n",
       "20713              6.980153e+07 2021-04-21      $FSpace/WBNB  -4.986877  \n",
       "607                5.240361e+06 2021-04-01        $GOLD/WBNB   0.000000  \n",
       "1541               9.366420e+06 2021-04-02        $GOLD/WBNB  17.500000  \n",
       "2657               6.546019e+06 2021-04-03        $GOLD/WBNB   6.382979  \n",
       "3641               4.424341e+06 2021-04-04        $GOLD/WBNB -38.000000  \n",
       "4720               5.794420e+06 2021-04-05        $GOLD/WBNB  35.483871  \n",
       "5627               8.545659e+06 2021-04-06        $GOLD/WBNB   4.761905  \n",
       "6742               4.144585e+06 2021-04-07        $GOLD/WBNB -27.272727  "
      ]
     },
     "execution_count": 25,
     "metadata": {},
     "output_type": "execute_result"
    }
   ],
   "source": [
    "df = pd.read_csv(output,)\n",
    "df.columns = ['index_duplicate','buy_symbol','sell_symbol','#_trades','trade_amount_$']\n",
    "del df['index_duplicate']\n",
    "df['num_trades_x_tradeamount'] = df['#_trades'] * df['trade_amount_$']\n",
    "# df = df.sort_values(by='num_trades_x_tradeamount',ascending=False).reset_index()\n",
    "# del df['index']\n",
    "print(df.shape)\n",
    "\n",
    "start = pd.to_datetime(\"4/1/2021\")\n",
    "df['trade_date'] = pd.Series(np.arange(len(df)) // 1000) \\\n",
    "              .apply(lambda x: pd.Timedelta(days=x)) + start\n",
    "\n",
    "df['pair'] = df['buy_symbol'] + \"/\" + df['sell_symbol']\n",
    "df['trade_date'] = pd.to_datetime(df['trade_date'])\n",
    "df.sort_values(['pair','trade_date'], inplace = True, ascending=[True, True])\n",
    "df['pct_ch'] = df.groupby(['pair'])['#_trades'].apply(lambda x: x/x.shift(1)-1).fillna(0)*100\n",
    "\n",
    "df.iloc[0:20]"
   ]
  },
  {
   "cell_type": "code",
   "execution_count": 33,
   "metadata": {},
   "outputs": [
    {
     "data": {
      "text/html": [
       "<div>\n",
       "<style scoped>\n",
       "    .dataframe tbody tr th:only-of-type {\n",
       "        vertical-align: middle;\n",
       "    }\n",
       "\n",
       "    .dataframe tbody tr th {\n",
       "        vertical-align: top;\n",
       "    }\n",
       "\n",
       "    .dataframe thead th {\n",
       "        text-align: right;\n",
       "    }\n",
       "</style>\n",
       "<table border=\"1\" class=\"dataframe\">\n",
       "  <thead>\n",
       "    <tr style=\"text-align: right;\">\n",
       "      <th></th>\n",
       "      <th>buy_symbol</th>\n",
       "      <th>pct_ch</th>\n",
       "    </tr>\n",
       "  </thead>\n",
       "  <tbody>\n",
       "    <tr>\n",
       "      <th>1746</th>\n",
       "      <td>WBNB</td>\n",
       "      <td>341225.742706</td>\n",
       "    </tr>\n",
       "    <tr>\n",
       "      <th>948</th>\n",
       "      <td>MOONPIRATE</td>\n",
       "      <td>151550.659430</td>\n",
       "    </tr>\n",
       "    <tr>\n",
       "      <th>246</th>\n",
       "      <td>BUSD</td>\n",
       "      <td>30672.629607</td>\n",
       "    </tr>\n",
       "    <tr>\n",
       "      <th>702</th>\n",
       "      <td>HZN</td>\n",
       "      <td>13166.715975</td>\n",
       "    </tr>\n",
       "    <tr>\n",
       "      <th>667</th>\n",
       "      <td>HASH</td>\n",
       "      <td>13016.666667</td>\n",
       "    </tr>\n",
       "    <tr>\n",
       "      <th>19</th>\n",
       "      <td>100x</td>\n",
       "      <td>12034.740697</td>\n",
       "    </tr>\n",
       "    <tr>\n",
       "      <th>1902</th>\n",
       "      <td>upBNB</td>\n",
       "      <td>9799.128049</td>\n",
       "    </tr>\n",
       "    <tr>\n",
       "      <th>1358</th>\n",
       "      <td>SALT</td>\n",
       "      <td>6368.915244</td>\n",
       "    </tr>\n",
       "    <tr>\n",
       "      <th>1706</th>\n",
       "      <td>USDT</td>\n",
       "      <td>5662.918994</td>\n",
       "    </tr>\n",
       "    <tr>\n",
       "      <th>1353</th>\n",
       "      <td>SAFU</td>\n",
       "      <td>4122.003549</td>\n",
       "    </tr>\n",
       "    <tr>\n",
       "      <th>1696</th>\n",
       "      <td>UNFI</td>\n",
       "      <td>3887.477995</td>\n",
       "    </tr>\n",
       "    <tr>\n",
       "      <th>387</th>\n",
       "      <td>DIS</td>\n",
       "      <td>3866.595772</td>\n",
       "    </tr>\n",
       "    <tr>\n",
       "      <th>899</th>\n",
       "      <td>MILK</td>\n",
       "      <td>3041.999112</td>\n",
       "    </tr>\n",
       "    <tr>\n",
       "      <th>243</th>\n",
       "      <td>BURGER</td>\n",
       "      <td>2433.813473</td>\n",
       "    </tr>\n",
       "    <tr>\n",
       "      <th>299</th>\n",
       "      <td>CODEX</td>\n",
       "      <td>2406.603086</td>\n",
       "    </tr>\n",
       "    <tr>\n",
       "      <th>353</th>\n",
       "      <td>DAI</td>\n",
       "      <td>2333.187608</td>\n",
       "    </tr>\n",
       "    <tr>\n",
       "      <th>887</th>\n",
       "      <td>MEL</td>\n",
       "      <td>2277.972570</td>\n",
       "    </tr>\n",
       "    <tr>\n",
       "      <th>1123</th>\n",
       "      <td>PHX</td>\n",
       "      <td>2222.637591</td>\n",
       "    </tr>\n",
       "    <tr>\n",
       "      <th>482</th>\n",
       "      <td>ETH</td>\n",
       "      <td>2084.905260</td>\n",
       "    </tr>\n",
       "    <tr>\n",
       "      <th>1741</th>\n",
       "      <td>WATER</td>\n",
       "      <td>2070.454545</td>\n",
       "    </tr>\n",
       "  </tbody>\n",
       "</table>\n",
       "</div>"
      ],
      "text/plain": [
       "      buy_symbol         pct_ch\n",
       "1746        WBNB  341225.742706\n",
       "948   MOONPIRATE  151550.659430\n",
       "246         BUSD   30672.629607\n",
       "702          HZN   13166.715975\n",
       "667         HASH   13016.666667\n",
       "19          100x   12034.740697\n",
       "1902       upBNB    9799.128049\n",
       "1358        SALT    6368.915244\n",
       "1706        USDT    5662.918994\n",
       "1353        SAFU    4122.003549\n",
       "1696        UNFI    3887.477995\n",
       "387          DIS    3866.595772\n",
       "899         MILK    3041.999112\n",
       "243       BURGER    2433.813473\n",
       "299        CODEX    2406.603086\n",
       "353          DAI    2333.187608\n",
       "887          MEL    2277.972570\n",
       "1123         PHX    2222.637591\n",
       "482          ETH    2084.905260\n",
       "1741       WATER    2070.454545"
      ]
     },
     "execution_count": 33,
     "metadata": {},
     "output_type": "execute_result"
    }
   ],
   "source": [
    "sum_buy_symbol = pd.DataFrame(df.groupby('buy_symbol')['pct_ch'].agg('sum').reset_index().sort_values(by='pct_ch',ascending=False))\n",
    "coins_to_keep = list(sum_buy_symbol.buy_symbol)\n",
    "sum_buy_symbol.head(20)"
   ]
  },
  {
   "cell_type": "code",
   "execution_count": 35,
   "metadata": {},
   "outputs": [],
   "source": [
    "# df['#_trades'].value_counts()\n",
    "# df[df['#_trades'] > 10000]['pair'].nunique()\n",
    "coins_to_keep = ['MOONPIRATE','HZN','HASH','100X','upBNB','SALT','UNFI','DIS','MILK','BURGER','CODEX','MEL','PHX','WATER']\n",
    "# coins_to_keep = ['BUSD','WBNB','ETH','USDT','USDC','BTC','Cake']\n",
    "# df = df[~df.buy_symbol.isin(coins_to_remove)].head(100)\n",
    "# df.pair.nunique()\n",
    "df1 = df[df['buy_symbol'].isin(coins_to_keep)]"
   ]
  },
  {
   "cell_type": "code",
   "execution_count": 40,
   "metadata": {},
   "outputs": [
    {
     "data": {
      "application/vnd.plotly.v1+json": {
       "config": {
        "plotlyServerURL": "https://plot.ly"
       },
       "data": [
        {
         "alignmentgroup": "True",
         "hovertemplate": "pair=BURGER/WBNB<br>trade_date=%{x}<br>pct_ch=%{y}<extra></extra>",
         "legendgroup": "BURGER/WBNB",
         "marker": {
          "color": "rgb(102, 197, 204)"
         },
         "name": "BURGER/WBNB",
         "offsetgroup": "BURGER/WBNB",
         "orientation": "v",
         "showlegend": true,
         "textposition": "auto",
         "type": "bar",
         "x": [
          "2021-04-01T00:00:00",
          "2021-04-02T00:00:00",
          "2021-04-03T00:00:00",
          "2021-04-04T00:00:00",
          "2021-04-06T00:00:00",
          "2021-04-07T00:00:00",
          "2021-04-12T00:00:00",
          "2021-04-13T00:00:00",
          "2021-04-14T00:00:00",
          "2021-04-15T00:00:00",
          "2021-04-16T00:00:00",
          "2021-04-17T00:00:00",
          "2021-04-18T00:00:00",
          "2021-04-24T00:00:00",
          "2021-04-27T00:00:00",
          "2021-04-28T00:00:00",
          "2021-04-29T00:00:00",
          "2021-04-30T00:00:00",
          "2021-05-01T00:00:00",
          "2021-05-02T00:00:00",
          "2021-05-03T00:00:00",
          "2021-05-04T00:00:00",
          "2021-05-05T00:00:00",
          "2021-05-06T00:00:00"
         ],
         "xaxis": "x",
         "y": [
          0,
          6.790123456790131,
          -9.826589595375722,
          -29.487179487179482,
          19.999999999999996,
          80.3030303030303,
          30.672268907563026,
          -24.115755627009648,
          -43.220338983050844,
          76.11940298507463,
          -40.2542372881356,
          16.31205673758864,
          -15.243902439024392,
          2286.3309352517986,
          -95.38739825143202,
          96.078431372549,
          95.66666666666667,
          24.53151618398637,
          -38.7140902872777,
          92.1875,
          12.311265969802566,
          -62.978283350568766,
          -37.150837988826815,
          -7.1111111111111125
         ],
         "yaxis": "y"
        },
        {
         "alignmentgroup": "True",
         "hovertemplate": "pair=CODEX/WBNB<br>trade_date=%{x}<br>pct_ch=%{y}<extra></extra>",
         "legendgroup": "CODEX/WBNB",
         "marker": {
          "color": "rgb(246, 207, 113)"
         },
         "name": "CODEX/WBNB",
         "offsetgroup": "CODEX/WBNB",
         "orientation": "v",
         "showlegend": true,
         "textposition": "auto",
         "type": "bar",
         "x": [
          "2021-04-02T00:00:00",
          "2021-04-03T00:00:00",
          "2021-04-04T00:00:00",
          "2021-04-05T00:00:00",
          "2021-04-06T00:00:00",
          "2021-04-07T00:00:00",
          "2021-04-08T00:00:00",
          "2021-04-09T00:00:00",
          "2021-04-10T00:00:00",
          "2021-04-11T00:00:00",
          "2021-04-12T00:00:00",
          "2021-04-13T00:00:00",
          "2021-04-14T00:00:00",
          "2021-04-15T00:00:00",
          "2021-04-16T00:00:00",
          "2021-04-17T00:00:00",
          "2021-04-18T00:00:00",
          "2021-04-19T00:00:00",
          "2021-04-20T00:00:00",
          "2021-04-21T00:00:00",
          "2021-04-22T00:00:00",
          "2021-04-23T00:00:00",
          "2021-04-24T00:00:00",
          "2021-04-25T00:00:00",
          "2021-04-26T00:00:00",
          "2021-04-27T00:00:00",
          "2021-04-28T00:00:00",
          "2021-04-29T00:00:00",
          "2021-04-30T00:00:00",
          "2021-05-01T00:00:00",
          "2021-05-02T00:00:00",
          "2021-05-05T00:00:00",
          "2021-05-06T00:00:00"
         ],
         "xaxis": "x",
         "y": [
          0,
          2595.3488372093025,
          116.91113028472819,
          -17.263325377883852,
          -5.673076923076925,
          -5.198776758409784,
          -26.55913978494624,
          -16.76427525622255,
          -27.176781002638517,
          -4.468599033816423,
          13.02149178255374,
          5.033557046979875,
          -12.247071352502658,
          -13.228155339805825,
          -14.685314685314687,
          -14.098360655737707,
          -26.908396946564885,
          19.321148825065283,
          -3.938730853391681,
          -9.339407744874716,
          -5.025125628140703,
          -26.190476190476186,
          -10.035842293906805,
          -5.976095617529875,
          0.4237288135593209,
          -2.1097046413502074,
          -34.48275862068966,
          28.947368421052634,
          -31.63265306122449,
          -8.955223880597018,
          -18.852459016393443,
          -20.2020202020202,
          -11.392405063291145
         ],
         "yaxis": "y"
        },
        {
         "alignmentgroup": "True",
         "hovertemplate": "pair=DIS/WBNB<br>trade_date=%{x}<br>pct_ch=%{y}<extra></extra>",
         "legendgroup": "DIS/WBNB",
         "marker": {
          "color": "rgb(248, 156, 116)"
         },
         "name": "DIS/WBNB",
         "offsetgroup": "DIS/WBNB",
         "orientation": "v",
         "showlegend": true,
         "textposition": "auto",
         "type": "bar",
         "x": [
          "2021-04-10T00:00:00",
          "2021-04-11T00:00:00",
          "2021-04-12T00:00:00",
          "2021-04-13T00:00:00",
          "2021-04-14T00:00:00",
          "2021-04-15T00:00:00",
          "2021-04-16T00:00:00",
          "2021-04-17T00:00:00",
          "2021-04-20T00:00:00",
          "2021-04-26T00:00:00",
          "2021-04-26T00:00:00",
          "2021-04-27T00:00:00",
          "2021-04-27T00:00:00",
          "2021-04-28T00:00:00",
          "2021-04-29T00:00:00",
          "2021-04-30T00:00:00",
          "2021-05-02T00:00:00",
          "2021-05-03T00:00:00",
          "2021-05-05T00:00:00",
          "2021-05-06T00:00:00"
         ],
         "xaxis": "x",
         "y": [
          0,
          7.692307692307687,
          -33.333333333333336,
          125,
          -12.698412698412698,
          -43.63636363636364,
          -29.032258064516125,
          27.27272727272727,
          28.57142857142858,
          3125,
          -97.41602067183463,
          886.6666666666667,
          -91.89189189189189,
          16.666666666666675,
          7.14285714285714,
          3.3333333333333437,
          -67.74193548387098,
          0,
          -60,
          75
         ],
         "yaxis": "y"
        },
        {
         "alignmentgroup": "True",
         "hovertemplate": "pair=HASH/WBNB<br>trade_date=%{x}<br>pct_ch=%{y}<extra></extra>",
         "legendgroup": "HASH/WBNB",
         "marker": {
          "color": "rgb(220, 176, 242)"
         },
         "name": "HASH/WBNB",
         "offsetgroup": "HASH/WBNB",
         "orientation": "v",
         "showlegend": true,
         "textposition": "auto",
         "type": "bar",
         "x": [
          "2021-04-05T00:00:00",
          "2021-04-14T00:00:00",
          "2021-04-18T00:00:00"
         ],
         "xaxis": "x",
         "y": [
          0,
          -33.333333333333336,
          13050
         ],
         "yaxis": "y"
        },
        {
         "alignmentgroup": "True",
         "hovertemplate": "pair=HZN/BUSD<br>trade_date=%{x}<br>pct_ch=%{y}<extra></extra>",
         "legendgroup": "HZN/BUSD",
         "marker": {
          "color": "rgb(135, 197, 95)"
         },
         "name": "HZN/BUSD",
         "offsetgroup": "HZN/BUSD",
         "orientation": "v",
         "showlegend": true,
         "textposition": "auto",
         "type": "bar",
         "x": [
          "2021-04-15T00:00:00"
         ],
         "xaxis": "x",
         "y": [
          0
         ],
         "yaxis": "y"
        },
        {
         "alignmentgroup": "True",
         "hovertemplate": "pair=HZN/WBNB<br>trade_date=%{x}<br>pct_ch=%{y}<extra></extra>",
         "legendgroup": "HZN/WBNB",
         "marker": {
          "color": "rgb(158, 185, 243)"
         },
         "name": "HZN/WBNB",
         "offsetgroup": "HZN/WBNB",
         "orientation": "v",
         "showlegend": true,
         "textposition": "auto",
         "type": "bar",
         "x": [
          "2021-04-07T00:00:00",
          "2021-04-09T00:00:00",
          "2021-04-10T00:00:00",
          "2021-04-11T00:00:00",
          "2021-04-12T00:00:00",
          "2021-04-13T00:00:00",
          "2021-04-15T00:00:00",
          "2021-04-15T00:00:00",
          "2021-04-16T00:00:00",
          "2021-04-17T00:00:00",
          "2021-04-18T00:00:00",
          "2021-04-19T00:00:00",
          "2021-04-20T00:00:00",
          "2021-04-20T00:00:00",
          "2021-04-21T00:00:00",
          "2021-04-21T00:00:00",
          "2021-04-22T00:00:00",
          "2021-04-23T00:00:00",
          "2021-04-24T00:00:00",
          "2021-04-26T00:00:00",
          "2021-04-27T00:00:00",
          "2021-04-27T00:00:00",
          "2021-04-30T00:00:00",
          "2021-05-01T00:00:00",
          "2021-05-02T00:00:00",
          "2021-05-03T00:00:00",
          "2021-05-04T00:00:00",
          "2021-05-05T00:00:00",
          "2021-05-06T00:00:00"
         ],
         "xaxis": "x",
         "y": [
          0,
          -45.52845528455285,
          168.65671641791047,
          -55.00000000000001,
          16.666666666666675,
          -26.455026455026452,
          10973.381294964029,
          -99.33082120582121,
          2371.8446601941746,
          -49.057344854674,
          -39.01310717039321,
          8.470290771175737,
          4.545454545454541,
          -63.65663322185061,
          107.6687116564417,
          -61.44756277695716,
          166.28352490421454,
          -31.654676258992808,
          -57.47368421052632,
          -41.584158415841586,
          -27.966101694915256,
          -7.058823529411762,
          53.16455696202531,
          -29.75206611570248,
          -10.588235294117643,
          -34.210526315789465,
          0,
          6.000000000000005,
          -30.188679245283023
         ],
         "yaxis": "y"
        },
        {
         "alignmentgroup": "True",
         "hovertemplate": "pair=MEL/BUSD<br>trade_date=%{x}<br>pct_ch=%{y}<extra></extra>",
         "legendgroup": "MEL/BUSD",
         "marker": {
          "color": "rgb(254, 136, 177)"
         },
         "name": "MEL/BUSD",
         "offsetgroup": "MEL/BUSD",
         "orientation": "v",
         "showlegend": true,
         "textposition": "auto",
         "type": "bar",
         "x": [
          "2021-04-29T00:00:00",
          "2021-04-30T00:00:00",
          "2021-05-01T00:00:00",
          "2021-05-02T00:00:00",
          "2021-05-03T00:00:00",
          "2021-05-04T00:00:00",
          "2021-05-05T00:00:00",
          "2021-05-06T00:00:00"
         ],
         "xaxis": "x",
         "y": [
          0,
          123.95833333333334,
          -11.627906976744185,
          2.6315789473684292,
          642.0512820512821,
          -57.98203178991016,
          -48.026315789473685,
          -33.86075949367089
         ],
         "yaxis": "y"
        },
        {
         "alignmentgroup": "True",
         "hovertemplate": "pair=MEL/Cake<br>trade_date=%{x}<br>pct_ch=%{y}<extra></extra>",
         "legendgroup": "MEL/Cake",
         "marker": {
          "color": "rgb(201, 219, 116)"
         },
         "name": "MEL/Cake",
         "offsetgroup": "MEL/Cake",
         "orientation": "v",
         "showlegend": true,
         "textposition": "auto",
         "type": "bar",
         "x": [
          "2021-04-30T00:00:00",
          "2021-05-01T00:00:00",
          "2021-05-03T00:00:00",
          "2021-05-04T00:00:00",
          "2021-05-05T00:00:00",
          "2021-05-06T00:00:00"
         ],
         "xaxis": "x",
         "y": [
          0,
          13.888888888888884,
          636.5853658536586,
          -31.12582781456954,
          -77.40384615384616,
          46.808510638297875
         ],
         "yaxis": "y"
        },
        {
         "alignmentgroup": "True",
         "hovertemplate": "pair=MEL/DAI<br>trade_date=%{x}<br>pct_ch=%{y}<extra></extra>",
         "legendgroup": "MEL/DAI",
         "marker": {
          "color": "rgb(139, 224, 164)"
         },
         "name": "MEL/DAI",
         "offsetgroup": "MEL/DAI",
         "orientation": "v",
         "showlegend": true,
         "textposition": "auto",
         "type": "bar",
         "x": [
          "2021-04-30T00:00:00",
          "2021-05-01T00:00:00",
          "2021-05-02T00:00:00",
          "2021-05-03T00:00:00",
          "2021-05-04T00:00:00",
          "2021-05-05T00:00:00",
          "2021-05-06T00:00:00"
         ],
         "xaxis": "x",
         "y": [
          0,
          2.3255813953488413,
          -9.848484848484851,
          699.1596638655462,
          -51.419558359621455,
          -67.09956709956711,
          19.078947368421062
         ],
         "yaxis": "y"
        },
        {
         "alignmentgroup": "True",
         "hovertemplate": "pair=MEL/WBNB<br>trade_date=%{x}<br>pct_ch=%{y}<extra></extra>",
         "legendgroup": "MEL/WBNB",
         "marker": {
          "color": "rgb(180, 151, 231)"
         },
         "name": "MEL/WBNB",
         "offsetgroup": "MEL/WBNB",
         "orientation": "v",
         "showlegend": true,
         "textposition": "auto",
         "type": "bar",
         "x": [
          "2021-04-08T00:00:00",
          "2021-04-30T00:00:00",
          "2021-05-01T00:00:00",
          "2021-05-02T00:00:00",
          "2021-05-03T00:00:00",
          "2021-05-04T00:00:00",
          "2021-05-05T00:00:00",
          "2021-05-06T00:00:00"
         ],
         "xaxis": "x",
         "y": [
          0,
          -64.97695852534562,
          -10.964912280701755,
          5.9113300492610765,
          687.4418604651163,
          -57.94447725930301,
          -40.87078651685393,
          -38.717339667458425
         ],
         "yaxis": "y"
        },
        {
         "alignmentgroup": "True",
         "hovertemplate": "pair=MILK/WBNB<br>trade_date=%{x}<br>pct_ch=%{y}<extra></extra>",
         "legendgroup": "MILK/WBNB",
         "marker": {
          "color": "rgb(179, 179, 179)"
         },
         "name": "MILK/WBNB",
         "offsetgroup": "MILK/WBNB",
         "orientation": "v",
         "showlegend": true,
         "textposition": "auto",
         "type": "bar",
         "x": [
          "2021-04-01T00:00:00",
          "2021-04-04T00:00:00",
          "2021-04-05T00:00:00",
          "2021-04-06T00:00:00",
          "2021-04-08T00:00:00",
          "2021-04-09T00:00:00",
          "2021-04-10T00:00:00",
          "2021-04-22T00:00:00",
          "2021-04-26T00:00:00",
          "2021-04-27T00:00:00",
          "2021-04-28T00:00:00",
          "2021-05-02T00:00:00",
          "2021-05-05T00:00:00",
          "2021-05-06T00:00:00"
         ],
         "xaxis": "x",
         "y": [
          0,
          -0.8547008547008517,
          -5.1724137931034475,
          48.181818181818194,
          4.294478527607359,
          -16.470588235294116,
          -21.830985915492963,
          478.37837837837844,
          -66.1993769470405,
          -67.2811059907834,
          -42.25352112676056,
          -39.02439024390244,
          2768,
          2.231520223152028
         ],
         "yaxis": "y"
        },
        {
         "alignmentgroup": "True",
         "hovertemplate": "pair=MOONPIRATE/WBNB<br>trade_date=%{x}<br>pct_ch=%{y}<extra></extra>",
         "legendgroup": "MOONPIRATE/WBNB",
         "marker": {
          "color": "rgb(102, 197, 204)"
         },
         "name": "MOONPIRATE/WBNB",
         "offsetgroup": "MOONPIRATE/WBNB",
         "orientation": "v",
         "showlegend": true,
         "textposition": "auto",
         "type": "bar",
         "x": [
          "2021-04-16T00:00:00",
          "2021-04-17T00:00:00",
          "2021-04-18T00:00:00",
          "2021-04-19T00:00:00",
          "2021-04-20T00:00:00",
          "2021-04-21T00:00:00",
          "2021-04-22T00:00:00",
          "2021-04-23T00:00:00",
          "2021-04-24T00:00:00",
          "2021-04-25T00:00:00",
          "2021-04-26T00:00:00",
          "2021-04-27T00:00:00",
          "2021-04-27T00:00:00",
          "2021-04-28T00:00:00",
          "2021-04-29T00:00:00",
          "2021-04-30T00:00:00",
          "2021-05-01T00:00:00",
          "2021-05-02T00:00:00",
          "2021-05-03T00:00:00",
          "2021-05-04T00:00:00",
          "2021-05-05T00:00:00",
          "2021-05-06T00:00:00"
         ],
         "xaxis": "x",
         "y": [
          0,
          24.699278267842818,
          68.55305466237942,
          3.2048836322014607,
          86.72828096118299,
          -14.92773708176599,
          -2.6762857807772877,
          -56.2649450023912,
          -18.37069436850738,
          11.051574012056253,
          -9.831121833534384,
          -19.39799331103679,
          -99.91701244813278,
          151700,
          -38.27404479578392,
          -12.273212379935961,
          -20.92457420924574,
          0.9230769230769154,
          -9.29878048780488,
          -7.563025210084029,
          0.363636363636366,
          -35.14492753623188
         ],
         "yaxis": "y"
        },
        {
         "alignmentgroup": "True",
         "hovertemplate": "pair=PHX/WBNB<br>trade_date=%{x}<br>pct_ch=%{y}<extra></extra>",
         "legendgroup": "PHX/WBNB",
         "marker": {
          "color": "rgb(246, 207, 113)"
         },
         "name": "PHX/WBNB",
         "offsetgroup": "PHX/WBNB",
         "orientation": "v",
         "showlegend": true,
         "textposition": "auto",
         "type": "bar",
         "x": [
          "2021-04-01T00:00:00",
          "2021-04-16T00:00:00",
          "2021-04-17T00:00:00"
         ],
         "xaxis": "x",
         "y": [
          0,
          2277.777777777778,
          -55.140186915887845
         ],
         "yaxis": "y"
        },
        {
         "alignmentgroup": "True",
         "hovertemplate": "pair=SALT/BUSD<br>trade_date=%{x}<br>pct_ch=%{y}<extra></extra>",
         "legendgroup": "SALT/BUSD",
         "marker": {
          "color": "rgb(248, 156, 116)"
         },
         "name": "SALT/BUSD",
         "offsetgroup": "SALT/BUSD",
         "orientation": "v",
         "showlegend": true,
         "textposition": "auto",
         "type": "bar",
         "x": [
          "2021-04-01T00:00:00",
          "2021-04-02T00:00:00",
          "2021-04-03T00:00:00",
          "2021-04-04T00:00:00",
          "2021-04-06T00:00:00",
          "2021-04-07T00:00:00",
          "2021-04-09T00:00:00",
          "2021-04-10T00:00:00",
          "2021-04-11T00:00:00",
          "2021-04-12T00:00:00",
          "2021-04-14T00:00:00",
          "2021-05-01T00:00:00",
          "2021-05-02T00:00:00",
          "2021-05-03T00:00:00",
          "2021-05-04T00:00:00",
          "2021-05-05T00:00:00",
          "2021-05-06T00:00:00"
         ],
         "xaxis": "x",
         "y": [
          0,
          4.347826086956519,
          -8.333333333333337,
          -28.030303030303028,
          31.578947368421062,
          20.799999999999997,
          -11.92052980132451,
          -21.052631578947366,
          -4.761904761904767,
          29.000000000000004,
          -39.53488372093024,
          -3.8461538461538436,
          4537.333333333334,
          -79.67222541690626,
          -60.254596888260245,
          3.558718861209975,
          -48.109965635738824
         ],
         "yaxis": "y"
        },
        {
         "alignmentgroup": "True",
         "hovertemplate": "pair=SALT/WBNB<br>trade_date=%{x}<br>pct_ch=%{y}<extra></extra>",
         "legendgroup": "SALT/WBNB",
         "marker": {
          "color": "rgb(220, 176, 242)"
         },
         "name": "SALT/WBNB",
         "offsetgroup": "SALT/WBNB",
         "orientation": "v",
         "showlegend": true,
         "textposition": "auto",
         "type": "bar",
         "x": [
          "2021-04-01T00:00:00",
          "2021-04-02T00:00:00",
          "2021-04-04T00:00:00",
          "2021-05-02T00:00:00",
          "2021-05-03T00:00:00",
          "2021-05-04T00:00:00",
          "2021-05-05T00:00:00",
          "2021-05-06T00:00:00"
         ],
         "xaxis": "x",
         "y": [
          0,
          -15.760869565217394,
          -0.6451612903225823,
          2243.506493506494,
          -78.05486284289277,
          -66.28787878787878,
          17.602996254681646,
          -52.547770700636946
         ],
         "yaxis": "y"
        },
        {
         "alignmentgroup": "True",
         "hovertemplate": "pair=UNFI/WBNB<br>trade_date=%{x}<br>pct_ch=%{y}<extra></extra>",
         "legendgroup": "UNFI/WBNB",
         "marker": {
          "color": "rgb(135, 197, 95)"
         },
         "name": "UNFI/WBNB",
         "offsetgroup": "UNFI/WBNB",
         "orientation": "v",
         "showlegend": true,
         "textposition": "auto",
         "type": "bar",
         "x": [
          "2021-04-01T00:00:00",
          "2021-04-02T00:00:00",
          "2021-04-03T00:00:00",
          "2021-04-04T00:00:00",
          "2021-04-05T00:00:00",
          "2021-04-06T00:00:00",
          "2021-04-07T00:00:00",
          "2021-04-07T00:00:00",
          "2021-04-08T00:00:00",
          "2021-04-08T00:00:00",
          "2021-04-09T00:00:00",
          "2021-04-09T00:00:00",
          "2021-04-10T00:00:00",
          "2021-04-10T00:00:00",
          "2021-04-11T00:00:00",
          "2021-04-11T00:00:00",
          "2021-04-12T00:00:00",
          "2021-04-13T00:00:00",
          "2021-04-14T00:00:00",
          "2021-04-15T00:00:00",
          "2021-04-16T00:00:00",
          "2021-04-17T00:00:00",
          "2021-04-18T00:00:00",
          "2021-04-19T00:00:00",
          "2021-04-20T00:00:00",
          "2021-04-20T00:00:00",
          "2021-04-21T00:00:00",
          "2021-04-21T00:00:00",
          "2021-04-22T00:00:00",
          "2021-04-22T00:00:00",
          "2021-04-23T00:00:00",
          "2021-04-23T00:00:00",
          "2021-04-24T00:00:00",
          "2021-04-25T00:00:00",
          "2021-04-29T00:00:00"
         ],
         "xaxis": "x",
         "y": [
          0,
          -15.047021943573668,
          -34.31734317343174,
          20.78651685393258,
          20.93023255813953,
          51.153846153846146,
          15.776081424936383,
          1393.1868131868132,
          460.0088313217545,
          -98.86193392383105,
          -15.704387990762125,
          585.7534246575343,
          -88.41390331602076,
          309.6551724137931,
          -77.27272727272727,
          123.33333333333334,
          -7.628524046434492,
          -33.572710951526034,
          95.4054054054054,
          -34.99308437067773,
          -40.42553191489362,
          -32.85714285714286,
          82.4468085106383,
          10.20408163265305,
          -12.43386243386243,
          449.8489425981873,
          -86.31868131868133,
          448.59437751004015,
          -83.601756954612,
          478.125,
          -80.54054054054053,
          235.71428571428572,
          -82.38770685579196,
          -54.36241610738255,
          -14.70588235294118
         ],
         "yaxis": "y"
        },
        {
         "alignmentgroup": "True",
         "hovertemplate": "pair=WATER/WBNB<br>trade_date=%{x}<br>pct_ch=%{y}<extra></extra>",
         "legendgroup": "WATER/WBNB",
         "marker": {
          "color": "rgb(158, 185, 243)"
         },
         "name": "WATER/WBNB",
         "offsetgroup": "WATER/WBNB",
         "orientation": "v",
         "showlegend": true,
         "textposition": "auto",
         "type": "bar",
         "x": [
          "2021-04-03T00:00:00",
          "2021-04-14T00:00:00"
         ],
         "xaxis": "x",
         "y": [
          0,
          2070.4545454545455
         ],
         "yaxis": "y"
        },
        {
         "alignmentgroup": "True",
         "hovertemplate": "pair=upBNB/WBNB<br>trade_date=%{x}<br>pct_ch=%{y}<extra></extra>",
         "legendgroup": "upBNB/WBNB",
         "marker": {
          "color": "rgb(254, 136, 177)"
         },
         "name": "upBNB/WBNB",
         "offsetgroup": "upBNB/WBNB",
         "orientation": "v",
         "showlegend": true,
         "textposition": "auto",
         "type": "bar",
         "x": [
          "2021-04-27T00:00:00",
          "2021-04-28T00:00:00",
          "2021-04-29T00:00:00",
          "2021-04-30T00:00:00",
          "2021-05-01T00:00:00",
          "2021-05-02T00:00:00",
          "2021-05-03T00:00:00",
          "2021-05-04T00:00:00",
          "2021-05-05T00:00:00",
          "2021-05-06T00:00:00"
         ],
         "xaxis": "x",
         "y": [
          0,
          10041.379310344828,
          -78.2046922815369,
          -57.09828393135725,
          -10.909090909090914,
          -16.326530612244895,
          -15.609756097560979,
          -38.72832369942196,
          28.301886792452823,
          -53.67647058823529
         ],
         "yaxis": "y"
        }
       ],
       "layout": {
        "barmode": "relative",
        "legend": {
         "title": {
          "text": "pair"
         },
         "tracegroupgap": 0
        },
        "template": {
         "data": {
          "bar": [
           {
            "error_x": {
             "color": "#2a3f5f"
            },
            "error_y": {
             "color": "#2a3f5f"
            },
            "marker": {
             "line": {
              "color": "white",
              "width": 0.5
             }
            },
            "type": "bar"
           }
          ],
          "barpolar": [
           {
            "marker": {
             "line": {
              "color": "white",
              "width": 0.5
             }
            },
            "type": "barpolar"
           }
          ],
          "carpet": [
           {
            "aaxis": {
             "endlinecolor": "#2a3f5f",
             "gridcolor": "#C8D4E3",
             "linecolor": "#C8D4E3",
             "minorgridcolor": "#C8D4E3",
             "startlinecolor": "#2a3f5f"
            },
            "baxis": {
             "endlinecolor": "#2a3f5f",
             "gridcolor": "#C8D4E3",
             "linecolor": "#C8D4E3",
             "minorgridcolor": "#C8D4E3",
             "startlinecolor": "#2a3f5f"
            },
            "type": "carpet"
           }
          ],
          "choropleth": [
           {
            "colorbar": {
             "outlinewidth": 0,
             "ticks": ""
            },
            "type": "choropleth"
           }
          ],
          "contour": [
           {
            "colorbar": {
             "outlinewidth": 0,
             "ticks": ""
            },
            "colorscale": [
             [
              0,
              "#0d0887"
             ],
             [
              0.1111111111111111,
              "#46039f"
             ],
             [
              0.2222222222222222,
              "#7201a8"
             ],
             [
              0.3333333333333333,
              "#9c179e"
             ],
             [
              0.4444444444444444,
              "#bd3786"
             ],
             [
              0.5555555555555556,
              "#d8576b"
             ],
             [
              0.6666666666666666,
              "#ed7953"
             ],
             [
              0.7777777777777778,
              "#fb9f3a"
             ],
             [
              0.8888888888888888,
              "#fdca26"
             ],
             [
              1,
              "#f0f921"
             ]
            ],
            "type": "contour"
           }
          ],
          "contourcarpet": [
           {
            "colorbar": {
             "outlinewidth": 0,
             "ticks": ""
            },
            "type": "contourcarpet"
           }
          ],
          "heatmap": [
           {
            "colorbar": {
             "outlinewidth": 0,
             "ticks": ""
            },
            "colorscale": [
             [
              0,
              "#0d0887"
             ],
             [
              0.1111111111111111,
              "#46039f"
             ],
             [
              0.2222222222222222,
              "#7201a8"
             ],
             [
              0.3333333333333333,
              "#9c179e"
             ],
             [
              0.4444444444444444,
              "#bd3786"
             ],
             [
              0.5555555555555556,
              "#d8576b"
             ],
             [
              0.6666666666666666,
              "#ed7953"
             ],
             [
              0.7777777777777778,
              "#fb9f3a"
             ],
             [
              0.8888888888888888,
              "#fdca26"
             ],
             [
              1,
              "#f0f921"
             ]
            ],
            "type": "heatmap"
           }
          ],
          "heatmapgl": [
           {
            "colorbar": {
             "outlinewidth": 0,
             "ticks": ""
            },
            "colorscale": [
             [
              0,
              "#0d0887"
             ],
             [
              0.1111111111111111,
              "#46039f"
             ],
             [
              0.2222222222222222,
              "#7201a8"
             ],
             [
              0.3333333333333333,
              "#9c179e"
             ],
             [
              0.4444444444444444,
              "#bd3786"
             ],
             [
              0.5555555555555556,
              "#d8576b"
             ],
             [
              0.6666666666666666,
              "#ed7953"
             ],
             [
              0.7777777777777778,
              "#fb9f3a"
             ],
             [
              0.8888888888888888,
              "#fdca26"
             ],
             [
              1,
              "#f0f921"
             ]
            ],
            "type": "heatmapgl"
           }
          ],
          "histogram": [
           {
            "marker": {
             "colorbar": {
              "outlinewidth": 0,
              "ticks": ""
             }
            },
            "type": "histogram"
           }
          ],
          "histogram2d": [
           {
            "colorbar": {
             "outlinewidth": 0,
             "ticks": ""
            },
            "colorscale": [
             [
              0,
              "#0d0887"
             ],
             [
              0.1111111111111111,
              "#46039f"
             ],
             [
              0.2222222222222222,
              "#7201a8"
             ],
             [
              0.3333333333333333,
              "#9c179e"
             ],
             [
              0.4444444444444444,
              "#bd3786"
             ],
             [
              0.5555555555555556,
              "#d8576b"
             ],
             [
              0.6666666666666666,
              "#ed7953"
             ],
             [
              0.7777777777777778,
              "#fb9f3a"
             ],
             [
              0.8888888888888888,
              "#fdca26"
             ],
             [
              1,
              "#f0f921"
             ]
            ],
            "type": "histogram2d"
           }
          ],
          "histogram2dcontour": [
           {
            "colorbar": {
             "outlinewidth": 0,
             "ticks": ""
            },
            "colorscale": [
             [
              0,
              "#0d0887"
             ],
             [
              0.1111111111111111,
              "#46039f"
             ],
             [
              0.2222222222222222,
              "#7201a8"
             ],
             [
              0.3333333333333333,
              "#9c179e"
             ],
             [
              0.4444444444444444,
              "#bd3786"
             ],
             [
              0.5555555555555556,
              "#d8576b"
             ],
             [
              0.6666666666666666,
              "#ed7953"
             ],
             [
              0.7777777777777778,
              "#fb9f3a"
             ],
             [
              0.8888888888888888,
              "#fdca26"
             ],
             [
              1,
              "#f0f921"
             ]
            ],
            "type": "histogram2dcontour"
           }
          ],
          "mesh3d": [
           {
            "colorbar": {
             "outlinewidth": 0,
             "ticks": ""
            },
            "type": "mesh3d"
           }
          ],
          "parcoords": [
           {
            "line": {
             "colorbar": {
              "outlinewidth": 0,
              "ticks": ""
             }
            },
            "type": "parcoords"
           }
          ],
          "pie": [
           {
            "automargin": true,
            "type": "pie"
           }
          ],
          "scatter": [
           {
            "marker": {
             "colorbar": {
              "outlinewidth": 0,
              "ticks": ""
             }
            },
            "type": "scatter"
           }
          ],
          "scatter3d": [
           {
            "line": {
             "colorbar": {
              "outlinewidth": 0,
              "ticks": ""
             }
            },
            "marker": {
             "colorbar": {
              "outlinewidth": 0,
              "ticks": ""
             }
            },
            "type": "scatter3d"
           }
          ],
          "scattercarpet": [
           {
            "marker": {
             "colorbar": {
              "outlinewidth": 0,
              "ticks": ""
             }
            },
            "type": "scattercarpet"
           }
          ],
          "scattergeo": [
           {
            "marker": {
             "colorbar": {
              "outlinewidth": 0,
              "ticks": ""
             }
            },
            "type": "scattergeo"
           }
          ],
          "scattergl": [
           {
            "marker": {
             "colorbar": {
              "outlinewidth": 0,
              "ticks": ""
             }
            },
            "type": "scattergl"
           }
          ],
          "scattermapbox": [
           {
            "marker": {
             "colorbar": {
              "outlinewidth": 0,
              "ticks": ""
             }
            },
            "type": "scattermapbox"
           }
          ],
          "scatterpolar": [
           {
            "marker": {
             "colorbar": {
              "outlinewidth": 0,
              "ticks": ""
             }
            },
            "type": "scatterpolar"
           }
          ],
          "scatterpolargl": [
           {
            "marker": {
             "colorbar": {
              "outlinewidth": 0,
              "ticks": ""
             }
            },
            "type": "scatterpolargl"
           }
          ],
          "scatterternary": [
           {
            "marker": {
             "colorbar": {
              "outlinewidth": 0,
              "ticks": ""
             }
            },
            "type": "scatterternary"
           }
          ],
          "surface": [
           {
            "colorbar": {
             "outlinewidth": 0,
             "ticks": ""
            },
            "colorscale": [
             [
              0,
              "#0d0887"
             ],
             [
              0.1111111111111111,
              "#46039f"
             ],
             [
              0.2222222222222222,
              "#7201a8"
             ],
             [
              0.3333333333333333,
              "#9c179e"
             ],
             [
              0.4444444444444444,
              "#bd3786"
             ],
             [
              0.5555555555555556,
              "#d8576b"
             ],
             [
              0.6666666666666666,
              "#ed7953"
             ],
             [
              0.7777777777777778,
              "#fb9f3a"
             ],
             [
              0.8888888888888888,
              "#fdca26"
             ],
             [
              1,
              "#f0f921"
             ]
            ],
            "type": "surface"
           }
          ],
          "table": [
           {
            "cells": {
             "fill": {
              "color": "#EBF0F8"
             },
             "line": {
              "color": "white"
             }
            },
            "header": {
             "fill": {
              "color": "#C8D4E3"
             },
             "line": {
              "color": "white"
             }
            },
            "type": "table"
           }
          ]
         },
         "layout": {
          "annotationdefaults": {
           "arrowcolor": "#2a3f5f",
           "arrowhead": 0,
           "arrowwidth": 1
          },
          "autotypenumbers": "strict",
          "coloraxis": {
           "colorbar": {
            "outlinewidth": 0,
            "ticks": ""
           }
          },
          "colorscale": {
           "diverging": [
            [
             0,
             "#8e0152"
            ],
            [
             0.1,
             "#c51b7d"
            ],
            [
             0.2,
             "#de77ae"
            ],
            [
             0.3,
             "#f1b6da"
            ],
            [
             0.4,
             "#fde0ef"
            ],
            [
             0.5,
             "#f7f7f7"
            ],
            [
             0.6,
             "#e6f5d0"
            ],
            [
             0.7,
             "#b8e186"
            ],
            [
             0.8,
             "#7fbc41"
            ],
            [
             0.9,
             "#4d9221"
            ],
            [
             1,
             "#276419"
            ]
           ],
           "sequential": [
            [
             0,
             "#0d0887"
            ],
            [
             0.1111111111111111,
             "#46039f"
            ],
            [
             0.2222222222222222,
             "#7201a8"
            ],
            [
             0.3333333333333333,
             "#9c179e"
            ],
            [
             0.4444444444444444,
             "#bd3786"
            ],
            [
             0.5555555555555556,
             "#d8576b"
            ],
            [
             0.6666666666666666,
             "#ed7953"
            ],
            [
             0.7777777777777778,
             "#fb9f3a"
            ],
            [
             0.8888888888888888,
             "#fdca26"
            ],
            [
             1,
             "#f0f921"
            ]
           ],
           "sequentialminus": [
            [
             0,
             "#0d0887"
            ],
            [
             0.1111111111111111,
             "#46039f"
            ],
            [
             0.2222222222222222,
             "#7201a8"
            ],
            [
             0.3333333333333333,
             "#9c179e"
            ],
            [
             0.4444444444444444,
             "#bd3786"
            ],
            [
             0.5555555555555556,
             "#d8576b"
            ],
            [
             0.6666666666666666,
             "#ed7953"
            ],
            [
             0.7777777777777778,
             "#fb9f3a"
            ],
            [
             0.8888888888888888,
             "#fdca26"
            ],
            [
             1,
             "#f0f921"
            ]
           ]
          },
          "colorway": [
           "#636efa",
           "#EF553B",
           "#00cc96",
           "#ab63fa",
           "#FFA15A",
           "#19d3f3",
           "#FF6692",
           "#B6E880",
           "#FF97FF",
           "#FECB52"
          ],
          "font": {
           "color": "#2a3f5f"
          },
          "geo": {
           "bgcolor": "white",
           "lakecolor": "white",
           "landcolor": "white",
           "showlakes": true,
           "showland": true,
           "subunitcolor": "#C8D4E3"
          },
          "hoverlabel": {
           "align": "left"
          },
          "hovermode": "closest",
          "mapbox": {
           "style": "light"
          },
          "paper_bgcolor": "white",
          "plot_bgcolor": "white",
          "polar": {
           "angularaxis": {
            "gridcolor": "#EBF0F8",
            "linecolor": "#EBF0F8",
            "ticks": ""
           },
           "bgcolor": "white",
           "radialaxis": {
            "gridcolor": "#EBF0F8",
            "linecolor": "#EBF0F8",
            "ticks": ""
           }
          },
          "scene": {
           "xaxis": {
            "backgroundcolor": "white",
            "gridcolor": "#DFE8F3",
            "gridwidth": 2,
            "linecolor": "#EBF0F8",
            "showbackground": true,
            "ticks": "",
            "zerolinecolor": "#EBF0F8"
           },
           "yaxis": {
            "backgroundcolor": "white",
            "gridcolor": "#DFE8F3",
            "gridwidth": 2,
            "linecolor": "#EBF0F8",
            "showbackground": true,
            "ticks": "",
            "zerolinecolor": "#EBF0F8"
           },
           "zaxis": {
            "backgroundcolor": "white",
            "gridcolor": "#DFE8F3",
            "gridwidth": 2,
            "linecolor": "#EBF0F8",
            "showbackground": true,
            "ticks": "",
            "zerolinecolor": "#EBF0F8"
           }
          },
          "shapedefaults": {
           "line": {
            "color": "#2a3f5f"
           }
          },
          "ternary": {
           "aaxis": {
            "gridcolor": "#DFE8F3",
            "linecolor": "#A2B1C6",
            "ticks": ""
           },
           "baxis": {
            "gridcolor": "#DFE8F3",
            "linecolor": "#A2B1C6",
            "ticks": ""
           },
           "bgcolor": "white",
           "caxis": {
            "gridcolor": "#DFE8F3",
            "linecolor": "#A2B1C6",
            "ticks": ""
           }
          },
          "title": {
           "x": 0.05
          },
          "xaxis": {
           "automargin": true,
           "gridcolor": "#EBF0F8",
           "linecolor": "#EBF0F8",
           "ticks": "",
           "title": {
            "standoff": 15
           },
           "zerolinecolor": "#EBF0F8",
           "zerolinewidth": 2
          },
          "yaxis": {
           "automargin": true,
           "gridcolor": "#EBF0F8",
           "linecolor": "#EBF0F8",
           "ticks": "",
           "title": {
            "standoff": 15
           },
           "zerolinecolor": "#EBF0F8",
           "zerolinewidth": 2
          }
         }
        },
        "title": {
         "text": "<b>Top Coin Pairs by Daily % Change on PancakeSwap"
        },
        "xaxis": {
         "anchor": "y",
         "domain": [
          0,
          1
         ],
         "title": {
          "text": "trade_date"
         }
        },
        "yaxis": {
         "anchor": "x",
         "domain": [
          0,
          1
         ],
         "title": {
          "text": "pct_ch"
         },
         "type": "log"
        }
       }
      },
      "text/html": [
       "<div>                            <div id=\"90d1cd5b-2dd2-4b98-a360-49e87276abd3\" class=\"plotly-graph-div\" style=\"height:525px; width:100%;\"></div>            <script type=\"text/javascript\">                require([\"plotly\"], function(Plotly) {                    window.PLOTLYENV=window.PLOTLYENV || {};                                    if (document.getElementById(\"90d1cd5b-2dd2-4b98-a360-49e87276abd3\")) {                    Plotly.newPlot(                        \"90d1cd5b-2dd2-4b98-a360-49e87276abd3\",                        [{\"alignmentgroup\": \"True\", \"hovertemplate\": \"pair=BURGER/WBNB<br>trade_date=%{x}<br>pct_ch=%{y}<extra></extra>\", \"legendgroup\": \"BURGER/WBNB\", \"marker\": {\"color\": \"rgb(102, 197, 204)\"}, \"name\": \"BURGER/WBNB\", \"offsetgroup\": \"BURGER/WBNB\", \"orientation\": \"v\", \"showlegend\": true, \"textposition\": \"auto\", \"type\": \"bar\", \"x\": [\"2021-04-01T00:00:00\", \"2021-04-02T00:00:00\", \"2021-04-03T00:00:00\", \"2021-04-04T00:00:00\", \"2021-04-06T00:00:00\", \"2021-04-07T00:00:00\", \"2021-04-12T00:00:00\", \"2021-04-13T00:00:00\", \"2021-04-14T00:00:00\", \"2021-04-15T00:00:00\", \"2021-04-16T00:00:00\", \"2021-04-17T00:00:00\", \"2021-04-18T00:00:00\", \"2021-04-24T00:00:00\", \"2021-04-27T00:00:00\", \"2021-04-28T00:00:00\", \"2021-04-29T00:00:00\", \"2021-04-30T00:00:00\", \"2021-05-01T00:00:00\", \"2021-05-02T00:00:00\", \"2021-05-03T00:00:00\", \"2021-05-04T00:00:00\", \"2021-05-05T00:00:00\", \"2021-05-06T00:00:00\"], \"xaxis\": \"x\", \"y\": [0.0, 6.790123456790131, -9.826589595375722, -29.487179487179482, 19.999999999999996, 80.3030303030303, 30.672268907563026, -24.115755627009648, -43.220338983050844, 76.11940298507463, -40.2542372881356, 16.31205673758864, -15.243902439024392, 2286.3309352517986, -95.38739825143202, 96.078431372549, 95.66666666666667, 24.53151618398637, -38.7140902872777, 92.1875, 12.311265969802566, -62.978283350568766, -37.150837988826815, -7.1111111111111125], \"yaxis\": \"y\"}, {\"alignmentgroup\": \"True\", \"hovertemplate\": \"pair=CODEX/WBNB<br>trade_date=%{x}<br>pct_ch=%{y}<extra></extra>\", \"legendgroup\": \"CODEX/WBNB\", \"marker\": {\"color\": \"rgb(246, 207, 113)\"}, \"name\": \"CODEX/WBNB\", \"offsetgroup\": \"CODEX/WBNB\", \"orientation\": \"v\", \"showlegend\": true, \"textposition\": \"auto\", \"type\": \"bar\", \"x\": [\"2021-04-02T00:00:00\", \"2021-04-03T00:00:00\", \"2021-04-04T00:00:00\", \"2021-04-05T00:00:00\", \"2021-04-06T00:00:00\", \"2021-04-07T00:00:00\", \"2021-04-08T00:00:00\", \"2021-04-09T00:00:00\", \"2021-04-10T00:00:00\", \"2021-04-11T00:00:00\", \"2021-04-12T00:00:00\", \"2021-04-13T00:00:00\", \"2021-04-14T00:00:00\", \"2021-04-15T00:00:00\", \"2021-04-16T00:00:00\", \"2021-04-17T00:00:00\", \"2021-04-18T00:00:00\", \"2021-04-19T00:00:00\", \"2021-04-20T00:00:00\", \"2021-04-21T00:00:00\", \"2021-04-22T00:00:00\", \"2021-04-23T00:00:00\", \"2021-04-24T00:00:00\", \"2021-04-25T00:00:00\", \"2021-04-26T00:00:00\", \"2021-04-27T00:00:00\", \"2021-04-28T00:00:00\", \"2021-04-29T00:00:00\", \"2021-04-30T00:00:00\", \"2021-05-01T00:00:00\", \"2021-05-02T00:00:00\", \"2021-05-05T00:00:00\", \"2021-05-06T00:00:00\"], \"xaxis\": \"x\", \"y\": [0.0, 2595.3488372093025, 116.91113028472819, -17.263325377883852, -5.673076923076925, -5.198776758409784, -26.55913978494624, -16.76427525622255, -27.176781002638517, -4.468599033816423, 13.02149178255374, 5.033557046979875, -12.247071352502658, -13.228155339805825, -14.685314685314687, -14.098360655737707, -26.908396946564885, 19.321148825065283, -3.938730853391681, -9.339407744874716, -5.025125628140703, -26.190476190476186, -10.035842293906805, -5.976095617529875, 0.4237288135593209, -2.1097046413502074, -34.48275862068966, 28.947368421052634, -31.63265306122449, -8.955223880597018, -18.852459016393443, -20.2020202020202, -11.392405063291145], \"yaxis\": \"y\"}, {\"alignmentgroup\": \"True\", \"hovertemplate\": \"pair=DIS/WBNB<br>trade_date=%{x}<br>pct_ch=%{y}<extra></extra>\", \"legendgroup\": \"DIS/WBNB\", \"marker\": {\"color\": \"rgb(248, 156, 116)\"}, \"name\": \"DIS/WBNB\", \"offsetgroup\": \"DIS/WBNB\", \"orientation\": \"v\", \"showlegend\": true, \"textposition\": \"auto\", \"type\": \"bar\", \"x\": [\"2021-04-10T00:00:00\", \"2021-04-11T00:00:00\", \"2021-04-12T00:00:00\", \"2021-04-13T00:00:00\", \"2021-04-14T00:00:00\", \"2021-04-15T00:00:00\", \"2021-04-16T00:00:00\", \"2021-04-17T00:00:00\", \"2021-04-20T00:00:00\", \"2021-04-26T00:00:00\", \"2021-04-26T00:00:00\", \"2021-04-27T00:00:00\", \"2021-04-27T00:00:00\", \"2021-04-28T00:00:00\", \"2021-04-29T00:00:00\", \"2021-04-30T00:00:00\", \"2021-05-02T00:00:00\", \"2021-05-03T00:00:00\", \"2021-05-05T00:00:00\", \"2021-05-06T00:00:00\"], \"xaxis\": \"x\", \"y\": [0.0, 7.692307692307687, -33.333333333333336, 125.0, -12.698412698412698, -43.63636363636364, -29.032258064516125, 27.27272727272727, 28.57142857142858, 3125.0, -97.41602067183463, 886.6666666666667, -91.89189189189189, 16.666666666666675, 7.14285714285714, 3.3333333333333437, -67.74193548387098, 0.0, -60.0, 75.0], \"yaxis\": \"y\"}, {\"alignmentgroup\": \"True\", \"hovertemplate\": \"pair=HASH/WBNB<br>trade_date=%{x}<br>pct_ch=%{y}<extra></extra>\", \"legendgroup\": \"HASH/WBNB\", \"marker\": {\"color\": \"rgb(220, 176, 242)\"}, \"name\": \"HASH/WBNB\", \"offsetgroup\": \"HASH/WBNB\", \"orientation\": \"v\", \"showlegend\": true, \"textposition\": \"auto\", \"type\": \"bar\", \"x\": [\"2021-04-05T00:00:00\", \"2021-04-14T00:00:00\", \"2021-04-18T00:00:00\"], \"xaxis\": \"x\", \"y\": [0.0, -33.333333333333336, 13050.0], \"yaxis\": \"y\"}, {\"alignmentgroup\": \"True\", \"hovertemplate\": \"pair=HZN/BUSD<br>trade_date=%{x}<br>pct_ch=%{y}<extra></extra>\", \"legendgroup\": \"HZN/BUSD\", \"marker\": {\"color\": \"rgb(135, 197, 95)\"}, \"name\": \"HZN/BUSD\", \"offsetgroup\": \"HZN/BUSD\", \"orientation\": \"v\", \"showlegend\": true, \"textposition\": \"auto\", \"type\": \"bar\", \"x\": [\"2021-04-15T00:00:00\"], \"xaxis\": \"x\", \"y\": [0.0], \"yaxis\": \"y\"}, {\"alignmentgroup\": \"True\", \"hovertemplate\": \"pair=HZN/WBNB<br>trade_date=%{x}<br>pct_ch=%{y}<extra></extra>\", \"legendgroup\": \"HZN/WBNB\", \"marker\": {\"color\": \"rgb(158, 185, 243)\"}, \"name\": \"HZN/WBNB\", \"offsetgroup\": \"HZN/WBNB\", \"orientation\": \"v\", \"showlegend\": true, \"textposition\": \"auto\", \"type\": \"bar\", \"x\": [\"2021-04-07T00:00:00\", \"2021-04-09T00:00:00\", \"2021-04-10T00:00:00\", \"2021-04-11T00:00:00\", \"2021-04-12T00:00:00\", \"2021-04-13T00:00:00\", \"2021-04-15T00:00:00\", \"2021-04-15T00:00:00\", \"2021-04-16T00:00:00\", \"2021-04-17T00:00:00\", \"2021-04-18T00:00:00\", \"2021-04-19T00:00:00\", \"2021-04-20T00:00:00\", \"2021-04-20T00:00:00\", \"2021-04-21T00:00:00\", \"2021-04-21T00:00:00\", \"2021-04-22T00:00:00\", \"2021-04-23T00:00:00\", \"2021-04-24T00:00:00\", \"2021-04-26T00:00:00\", \"2021-04-27T00:00:00\", \"2021-04-27T00:00:00\", \"2021-04-30T00:00:00\", \"2021-05-01T00:00:00\", \"2021-05-02T00:00:00\", \"2021-05-03T00:00:00\", \"2021-05-04T00:00:00\", \"2021-05-05T00:00:00\", \"2021-05-06T00:00:00\"], \"xaxis\": \"x\", \"y\": [0.0, -45.52845528455285, 168.65671641791047, -55.00000000000001, 16.666666666666675, -26.455026455026452, 10973.381294964029, -99.33082120582121, 2371.8446601941746, -49.057344854674, -39.01310717039321, 8.470290771175737, 4.545454545454541, -63.65663322185061, 107.6687116564417, -61.44756277695716, 166.28352490421454, -31.654676258992808, -57.47368421052632, -41.584158415841586, -27.966101694915256, -7.058823529411762, 53.16455696202531, -29.75206611570248, -10.588235294117643, -34.210526315789465, 0.0, 6.000000000000005, -30.188679245283023], \"yaxis\": \"y\"}, {\"alignmentgroup\": \"True\", \"hovertemplate\": \"pair=MEL/BUSD<br>trade_date=%{x}<br>pct_ch=%{y}<extra></extra>\", \"legendgroup\": \"MEL/BUSD\", \"marker\": {\"color\": \"rgb(254, 136, 177)\"}, \"name\": \"MEL/BUSD\", \"offsetgroup\": \"MEL/BUSD\", \"orientation\": \"v\", \"showlegend\": true, \"textposition\": \"auto\", \"type\": \"bar\", \"x\": [\"2021-04-29T00:00:00\", \"2021-04-30T00:00:00\", \"2021-05-01T00:00:00\", \"2021-05-02T00:00:00\", \"2021-05-03T00:00:00\", \"2021-05-04T00:00:00\", \"2021-05-05T00:00:00\", \"2021-05-06T00:00:00\"], \"xaxis\": \"x\", \"y\": [0.0, 123.95833333333334, -11.627906976744185, 2.6315789473684292, 642.0512820512821, -57.98203178991016, -48.026315789473685, -33.86075949367089], \"yaxis\": \"y\"}, {\"alignmentgroup\": \"True\", \"hovertemplate\": \"pair=MEL/Cake<br>trade_date=%{x}<br>pct_ch=%{y}<extra></extra>\", \"legendgroup\": \"MEL/Cake\", \"marker\": {\"color\": \"rgb(201, 219, 116)\"}, \"name\": \"MEL/Cake\", \"offsetgroup\": \"MEL/Cake\", \"orientation\": \"v\", \"showlegend\": true, \"textposition\": \"auto\", \"type\": \"bar\", \"x\": [\"2021-04-30T00:00:00\", \"2021-05-01T00:00:00\", \"2021-05-03T00:00:00\", \"2021-05-04T00:00:00\", \"2021-05-05T00:00:00\", \"2021-05-06T00:00:00\"], \"xaxis\": \"x\", \"y\": [0.0, 13.888888888888884, 636.5853658536586, -31.12582781456954, -77.40384615384616, 46.808510638297875], \"yaxis\": \"y\"}, {\"alignmentgroup\": \"True\", \"hovertemplate\": \"pair=MEL/DAI<br>trade_date=%{x}<br>pct_ch=%{y}<extra></extra>\", \"legendgroup\": \"MEL/DAI\", \"marker\": {\"color\": \"rgb(139, 224, 164)\"}, \"name\": \"MEL/DAI\", \"offsetgroup\": \"MEL/DAI\", \"orientation\": \"v\", \"showlegend\": true, \"textposition\": \"auto\", \"type\": \"bar\", \"x\": [\"2021-04-30T00:00:00\", \"2021-05-01T00:00:00\", \"2021-05-02T00:00:00\", \"2021-05-03T00:00:00\", \"2021-05-04T00:00:00\", \"2021-05-05T00:00:00\", \"2021-05-06T00:00:00\"], \"xaxis\": \"x\", \"y\": [0.0, 2.3255813953488413, -9.848484848484851, 699.1596638655462, -51.419558359621455, -67.09956709956711, 19.078947368421062], \"yaxis\": \"y\"}, {\"alignmentgroup\": \"True\", \"hovertemplate\": \"pair=MEL/WBNB<br>trade_date=%{x}<br>pct_ch=%{y}<extra></extra>\", \"legendgroup\": \"MEL/WBNB\", \"marker\": {\"color\": \"rgb(180, 151, 231)\"}, \"name\": \"MEL/WBNB\", \"offsetgroup\": \"MEL/WBNB\", \"orientation\": \"v\", \"showlegend\": true, \"textposition\": \"auto\", \"type\": \"bar\", \"x\": [\"2021-04-08T00:00:00\", \"2021-04-30T00:00:00\", \"2021-05-01T00:00:00\", \"2021-05-02T00:00:00\", \"2021-05-03T00:00:00\", \"2021-05-04T00:00:00\", \"2021-05-05T00:00:00\", \"2021-05-06T00:00:00\"], \"xaxis\": \"x\", \"y\": [0.0, -64.97695852534562, -10.964912280701755, 5.9113300492610765, 687.4418604651163, -57.94447725930301, -40.87078651685393, -38.717339667458425], \"yaxis\": \"y\"}, {\"alignmentgroup\": \"True\", \"hovertemplate\": \"pair=MILK/WBNB<br>trade_date=%{x}<br>pct_ch=%{y}<extra></extra>\", \"legendgroup\": \"MILK/WBNB\", \"marker\": {\"color\": \"rgb(179, 179, 179)\"}, \"name\": \"MILK/WBNB\", \"offsetgroup\": \"MILK/WBNB\", \"orientation\": \"v\", \"showlegend\": true, \"textposition\": \"auto\", \"type\": \"bar\", \"x\": [\"2021-04-01T00:00:00\", \"2021-04-04T00:00:00\", \"2021-04-05T00:00:00\", \"2021-04-06T00:00:00\", \"2021-04-08T00:00:00\", \"2021-04-09T00:00:00\", \"2021-04-10T00:00:00\", \"2021-04-22T00:00:00\", \"2021-04-26T00:00:00\", \"2021-04-27T00:00:00\", \"2021-04-28T00:00:00\", \"2021-05-02T00:00:00\", \"2021-05-05T00:00:00\", \"2021-05-06T00:00:00\"], \"xaxis\": \"x\", \"y\": [0.0, -0.8547008547008517, -5.1724137931034475, 48.181818181818194, 4.294478527607359, -16.470588235294116, -21.830985915492963, 478.37837837837844, -66.1993769470405, -67.2811059907834, -42.25352112676056, -39.02439024390244, 2768.0, 2.231520223152028], \"yaxis\": \"y\"}, {\"alignmentgroup\": \"True\", \"hovertemplate\": \"pair=MOONPIRATE/WBNB<br>trade_date=%{x}<br>pct_ch=%{y}<extra></extra>\", \"legendgroup\": \"MOONPIRATE/WBNB\", \"marker\": {\"color\": \"rgb(102, 197, 204)\"}, \"name\": \"MOONPIRATE/WBNB\", \"offsetgroup\": \"MOONPIRATE/WBNB\", \"orientation\": \"v\", \"showlegend\": true, \"textposition\": \"auto\", \"type\": \"bar\", \"x\": [\"2021-04-16T00:00:00\", \"2021-04-17T00:00:00\", \"2021-04-18T00:00:00\", \"2021-04-19T00:00:00\", \"2021-04-20T00:00:00\", \"2021-04-21T00:00:00\", \"2021-04-22T00:00:00\", \"2021-04-23T00:00:00\", \"2021-04-24T00:00:00\", \"2021-04-25T00:00:00\", \"2021-04-26T00:00:00\", \"2021-04-27T00:00:00\", \"2021-04-27T00:00:00\", \"2021-04-28T00:00:00\", \"2021-04-29T00:00:00\", \"2021-04-30T00:00:00\", \"2021-05-01T00:00:00\", \"2021-05-02T00:00:00\", \"2021-05-03T00:00:00\", \"2021-05-04T00:00:00\", \"2021-05-05T00:00:00\", \"2021-05-06T00:00:00\"], \"xaxis\": \"x\", \"y\": [0.0, 24.699278267842818, 68.55305466237942, 3.2048836322014607, 86.72828096118299, -14.92773708176599, -2.6762857807772877, -56.2649450023912, -18.37069436850738, 11.051574012056253, -9.831121833534384, -19.39799331103679, -99.91701244813278, 151700.0, -38.27404479578392, -12.273212379935961, -20.92457420924574, 0.9230769230769154, -9.29878048780488, -7.563025210084029, 0.363636363636366, -35.14492753623188], \"yaxis\": \"y\"}, {\"alignmentgroup\": \"True\", \"hovertemplate\": \"pair=PHX/WBNB<br>trade_date=%{x}<br>pct_ch=%{y}<extra></extra>\", \"legendgroup\": \"PHX/WBNB\", \"marker\": {\"color\": \"rgb(246, 207, 113)\"}, \"name\": \"PHX/WBNB\", \"offsetgroup\": \"PHX/WBNB\", \"orientation\": \"v\", \"showlegend\": true, \"textposition\": \"auto\", \"type\": \"bar\", \"x\": [\"2021-04-01T00:00:00\", \"2021-04-16T00:00:00\", \"2021-04-17T00:00:00\"], \"xaxis\": \"x\", \"y\": [0.0, 2277.777777777778, -55.140186915887845], \"yaxis\": \"y\"}, {\"alignmentgroup\": \"True\", \"hovertemplate\": \"pair=SALT/BUSD<br>trade_date=%{x}<br>pct_ch=%{y}<extra></extra>\", \"legendgroup\": \"SALT/BUSD\", \"marker\": {\"color\": \"rgb(248, 156, 116)\"}, \"name\": \"SALT/BUSD\", \"offsetgroup\": \"SALT/BUSD\", \"orientation\": \"v\", \"showlegend\": true, \"textposition\": \"auto\", \"type\": \"bar\", \"x\": [\"2021-04-01T00:00:00\", \"2021-04-02T00:00:00\", \"2021-04-03T00:00:00\", \"2021-04-04T00:00:00\", \"2021-04-06T00:00:00\", \"2021-04-07T00:00:00\", \"2021-04-09T00:00:00\", \"2021-04-10T00:00:00\", \"2021-04-11T00:00:00\", \"2021-04-12T00:00:00\", \"2021-04-14T00:00:00\", \"2021-05-01T00:00:00\", \"2021-05-02T00:00:00\", \"2021-05-03T00:00:00\", \"2021-05-04T00:00:00\", \"2021-05-05T00:00:00\", \"2021-05-06T00:00:00\"], \"xaxis\": \"x\", \"y\": [0.0, 4.347826086956519, -8.333333333333337, -28.030303030303028, 31.578947368421062, 20.799999999999997, -11.92052980132451, -21.052631578947366, -4.761904761904767, 29.000000000000004, -39.53488372093024, -3.8461538461538436, 4537.333333333334, -79.67222541690626, -60.254596888260245, 3.558718861209975, -48.109965635738824], \"yaxis\": \"y\"}, {\"alignmentgroup\": \"True\", \"hovertemplate\": \"pair=SALT/WBNB<br>trade_date=%{x}<br>pct_ch=%{y}<extra></extra>\", \"legendgroup\": \"SALT/WBNB\", \"marker\": {\"color\": \"rgb(220, 176, 242)\"}, \"name\": \"SALT/WBNB\", \"offsetgroup\": \"SALT/WBNB\", \"orientation\": \"v\", \"showlegend\": true, \"textposition\": \"auto\", \"type\": \"bar\", \"x\": [\"2021-04-01T00:00:00\", \"2021-04-02T00:00:00\", \"2021-04-04T00:00:00\", \"2021-05-02T00:00:00\", \"2021-05-03T00:00:00\", \"2021-05-04T00:00:00\", \"2021-05-05T00:00:00\", \"2021-05-06T00:00:00\"], \"xaxis\": \"x\", \"y\": [0.0, -15.760869565217394, -0.6451612903225823, 2243.506493506494, -78.05486284289277, -66.28787878787878, 17.602996254681646, -52.547770700636946], \"yaxis\": \"y\"}, {\"alignmentgroup\": \"True\", \"hovertemplate\": \"pair=UNFI/WBNB<br>trade_date=%{x}<br>pct_ch=%{y}<extra></extra>\", \"legendgroup\": \"UNFI/WBNB\", \"marker\": {\"color\": \"rgb(135, 197, 95)\"}, \"name\": \"UNFI/WBNB\", \"offsetgroup\": \"UNFI/WBNB\", \"orientation\": \"v\", \"showlegend\": true, \"textposition\": \"auto\", \"type\": \"bar\", \"x\": [\"2021-04-01T00:00:00\", \"2021-04-02T00:00:00\", \"2021-04-03T00:00:00\", \"2021-04-04T00:00:00\", \"2021-04-05T00:00:00\", \"2021-04-06T00:00:00\", \"2021-04-07T00:00:00\", \"2021-04-07T00:00:00\", \"2021-04-08T00:00:00\", \"2021-04-08T00:00:00\", \"2021-04-09T00:00:00\", \"2021-04-09T00:00:00\", \"2021-04-10T00:00:00\", \"2021-04-10T00:00:00\", \"2021-04-11T00:00:00\", \"2021-04-11T00:00:00\", \"2021-04-12T00:00:00\", \"2021-04-13T00:00:00\", \"2021-04-14T00:00:00\", \"2021-04-15T00:00:00\", \"2021-04-16T00:00:00\", \"2021-04-17T00:00:00\", \"2021-04-18T00:00:00\", \"2021-04-19T00:00:00\", \"2021-04-20T00:00:00\", \"2021-04-20T00:00:00\", \"2021-04-21T00:00:00\", \"2021-04-21T00:00:00\", \"2021-04-22T00:00:00\", \"2021-04-22T00:00:00\", \"2021-04-23T00:00:00\", \"2021-04-23T00:00:00\", \"2021-04-24T00:00:00\", \"2021-04-25T00:00:00\", \"2021-04-29T00:00:00\"], \"xaxis\": \"x\", \"y\": [0.0, -15.047021943573668, -34.31734317343174, 20.78651685393258, 20.93023255813953, 51.153846153846146, 15.776081424936383, 1393.1868131868132, 460.0088313217545, -98.86193392383105, -15.704387990762125, 585.7534246575343, -88.41390331602076, 309.6551724137931, -77.27272727272727, 123.33333333333334, -7.628524046434492, -33.572710951526034, 95.4054054054054, -34.99308437067773, -40.42553191489362, -32.85714285714286, 82.4468085106383, 10.20408163265305, -12.43386243386243, 449.8489425981873, -86.31868131868133, 448.59437751004015, -83.601756954612, 478.125, -80.54054054054053, 235.71428571428572, -82.38770685579196, -54.36241610738255, -14.70588235294118], \"yaxis\": \"y\"}, {\"alignmentgroup\": \"True\", \"hovertemplate\": \"pair=WATER/WBNB<br>trade_date=%{x}<br>pct_ch=%{y}<extra></extra>\", \"legendgroup\": \"WATER/WBNB\", \"marker\": {\"color\": \"rgb(158, 185, 243)\"}, \"name\": \"WATER/WBNB\", \"offsetgroup\": \"WATER/WBNB\", \"orientation\": \"v\", \"showlegend\": true, \"textposition\": \"auto\", \"type\": \"bar\", \"x\": [\"2021-04-03T00:00:00\", \"2021-04-14T00:00:00\"], \"xaxis\": \"x\", \"y\": [0.0, 2070.4545454545455], \"yaxis\": \"y\"}, {\"alignmentgroup\": \"True\", \"hovertemplate\": \"pair=upBNB/WBNB<br>trade_date=%{x}<br>pct_ch=%{y}<extra></extra>\", \"legendgroup\": \"upBNB/WBNB\", \"marker\": {\"color\": \"rgb(254, 136, 177)\"}, \"name\": \"upBNB/WBNB\", \"offsetgroup\": \"upBNB/WBNB\", \"orientation\": \"v\", \"showlegend\": true, \"textposition\": \"auto\", \"type\": \"bar\", \"x\": [\"2021-04-27T00:00:00\", \"2021-04-28T00:00:00\", \"2021-04-29T00:00:00\", \"2021-04-30T00:00:00\", \"2021-05-01T00:00:00\", \"2021-05-02T00:00:00\", \"2021-05-03T00:00:00\", \"2021-05-04T00:00:00\", \"2021-05-05T00:00:00\", \"2021-05-06T00:00:00\"], \"xaxis\": \"x\", \"y\": [0.0, 10041.379310344828, -78.2046922815369, -57.09828393135725, -10.909090909090914, -16.326530612244895, -15.609756097560979, -38.72832369942196, 28.301886792452823, -53.67647058823529], \"yaxis\": \"y\"}],                        {\"barmode\": \"relative\", \"legend\": {\"title\": {\"text\": \"pair\"}, \"tracegroupgap\": 0}, \"template\": {\"data\": {\"bar\": [{\"error_x\": {\"color\": \"#2a3f5f\"}, \"error_y\": {\"color\": \"#2a3f5f\"}, \"marker\": {\"line\": {\"color\": \"white\", \"width\": 0.5}}, \"type\": \"bar\"}], \"barpolar\": [{\"marker\": {\"line\": {\"color\": \"white\", \"width\": 0.5}}, \"type\": \"barpolar\"}], \"carpet\": [{\"aaxis\": {\"endlinecolor\": \"#2a3f5f\", \"gridcolor\": \"#C8D4E3\", \"linecolor\": \"#C8D4E3\", \"minorgridcolor\": \"#C8D4E3\", \"startlinecolor\": \"#2a3f5f\"}, \"baxis\": {\"endlinecolor\": \"#2a3f5f\", \"gridcolor\": \"#C8D4E3\", \"linecolor\": \"#C8D4E3\", \"minorgridcolor\": \"#C8D4E3\", \"startlinecolor\": \"#2a3f5f\"}, \"type\": \"carpet\"}], \"choropleth\": [{\"colorbar\": {\"outlinewidth\": 0, \"ticks\": \"\"}, \"type\": \"choropleth\"}], \"contour\": [{\"colorbar\": {\"outlinewidth\": 0, \"ticks\": \"\"}, \"colorscale\": [[0.0, \"#0d0887\"], [0.1111111111111111, \"#46039f\"], [0.2222222222222222, \"#7201a8\"], [0.3333333333333333, \"#9c179e\"], [0.4444444444444444, \"#bd3786\"], [0.5555555555555556, \"#d8576b\"], [0.6666666666666666, \"#ed7953\"], [0.7777777777777778, \"#fb9f3a\"], [0.8888888888888888, \"#fdca26\"], [1.0, \"#f0f921\"]], \"type\": \"contour\"}], \"contourcarpet\": [{\"colorbar\": {\"outlinewidth\": 0, \"ticks\": \"\"}, \"type\": \"contourcarpet\"}], \"heatmap\": [{\"colorbar\": {\"outlinewidth\": 0, \"ticks\": \"\"}, \"colorscale\": [[0.0, \"#0d0887\"], [0.1111111111111111, \"#46039f\"], [0.2222222222222222, \"#7201a8\"], [0.3333333333333333, \"#9c179e\"], [0.4444444444444444, \"#bd3786\"], [0.5555555555555556, \"#d8576b\"], [0.6666666666666666, \"#ed7953\"], [0.7777777777777778, \"#fb9f3a\"], [0.8888888888888888, \"#fdca26\"], [1.0, \"#f0f921\"]], \"type\": \"heatmap\"}], \"heatmapgl\": [{\"colorbar\": {\"outlinewidth\": 0, \"ticks\": \"\"}, \"colorscale\": [[0.0, \"#0d0887\"], [0.1111111111111111, \"#46039f\"], [0.2222222222222222, \"#7201a8\"], [0.3333333333333333, \"#9c179e\"], [0.4444444444444444, \"#bd3786\"], [0.5555555555555556, \"#d8576b\"], [0.6666666666666666, \"#ed7953\"], [0.7777777777777778, \"#fb9f3a\"], [0.8888888888888888, \"#fdca26\"], [1.0, \"#f0f921\"]], \"type\": \"heatmapgl\"}], \"histogram\": [{\"marker\": {\"colorbar\": {\"outlinewidth\": 0, \"ticks\": \"\"}}, \"type\": \"histogram\"}], \"histogram2d\": [{\"colorbar\": {\"outlinewidth\": 0, \"ticks\": \"\"}, \"colorscale\": [[0.0, \"#0d0887\"], [0.1111111111111111, \"#46039f\"], [0.2222222222222222, \"#7201a8\"], [0.3333333333333333, \"#9c179e\"], [0.4444444444444444, \"#bd3786\"], [0.5555555555555556, \"#d8576b\"], [0.6666666666666666, \"#ed7953\"], [0.7777777777777778, \"#fb9f3a\"], [0.8888888888888888, \"#fdca26\"], [1.0, \"#f0f921\"]], \"type\": \"histogram2d\"}], \"histogram2dcontour\": [{\"colorbar\": {\"outlinewidth\": 0, \"ticks\": \"\"}, \"colorscale\": [[0.0, \"#0d0887\"], [0.1111111111111111, \"#46039f\"], [0.2222222222222222, \"#7201a8\"], [0.3333333333333333, \"#9c179e\"], [0.4444444444444444, \"#bd3786\"], [0.5555555555555556, \"#d8576b\"], [0.6666666666666666, \"#ed7953\"], [0.7777777777777778, \"#fb9f3a\"], [0.8888888888888888, \"#fdca26\"], [1.0, \"#f0f921\"]], \"type\": \"histogram2dcontour\"}], \"mesh3d\": [{\"colorbar\": {\"outlinewidth\": 0, \"ticks\": \"\"}, \"type\": \"mesh3d\"}], \"parcoords\": [{\"line\": {\"colorbar\": {\"outlinewidth\": 0, \"ticks\": \"\"}}, \"type\": \"parcoords\"}], \"pie\": [{\"automargin\": true, \"type\": \"pie\"}], \"scatter\": [{\"marker\": {\"colorbar\": {\"outlinewidth\": 0, \"ticks\": \"\"}}, \"type\": \"scatter\"}], \"scatter3d\": [{\"line\": {\"colorbar\": {\"outlinewidth\": 0, \"ticks\": \"\"}}, \"marker\": {\"colorbar\": {\"outlinewidth\": 0, \"ticks\": \"\"}}, \"type\": \"scatter3d\"}], \"scattercarpet\": [{\"marker\": {\"colorbar\": {\"outlinewidth\": 0, \"ticks\": \"\"}}, \"type\": \"scattercarpet\"}], \"scattergeo\": [{\"marker\": {\"colorbar\": {\"outlinewidth\": 0, \"ticks\": \"\"}}, \"type\": \"scattergeo\"}], \"scattergl\": [{\"marker\": {\"colorbar\": {\"outlinewidth\": 0, \"ticks\": \"\"}}, \"type\": \"scattergl\"}], \"scattermapbox\": [{\"marker\": {\"colorbar\": {\"outlinewidth\": 0, \"ticks\": \"\"}}, \"type\": \"scattermapbox\"}], \"scatterpolar\": [{\"marker\": {\"colorbar\": {\"outlinewidth\": 0, \"ticks\": \"\"}}, \"type\": \"scatterpolar\"}], \"scatterpolargl\": [{\"marker\": {\"colorbar\": {\"outlinewidth\": 0, \"ticks\": \"\"}}, \"type\": \"scatterpolargl\"}], \"scatterternary\": [{\"marker\": {\"colorbar\": {\"outlinewidth\": 0, \"ticks\": \"\"}}, \"type\": \"scatterternary\"}], \"surface\": [{\"colorbar\": {\"outlinewidth\": 0, \"ticks\": \"\"}, \"colorscale\": [[0.0, \"#0d0887\"], [0.1111111111111111, \"#46039f\"], [0.2222222222222222, \"#7201a8\"], [0.3333333333333333, \"#9c179e\"], [0.4444444444444444, \"#bd3786\"], [0.5555555555555556, \"#d8576b\"], [0.6666666666666666, \"#ed7953\"], [0.7777777777777778, \"#fb9f3a\"], [0.8888888888888888, \"#fdca26\"], [1.0, \"#f0f921\"]], \"type\": \"surface\"}], \"table\": [{\"cells\": {\"fill\": {\"color\": \"#EBF0F8\"}, \"line\": {\"color\": \"white\"}}, \"header\": {\"fill\": {\"color\": \"#C8D4E3\"}, \"line\": {\"color\": \"white\"}}, \"type\": \"table\"}]}, \"layout\": {\"annotationdefaults\": {\"arrowcolor\": \"#2a3f5f\", \"arrowhead\": 0, \"arrowwidth\": 1}, \"autotypenumbers\": \"strict\", \"coloraxis\": {\"colorbar\": {\"outlinewidth\": 0, \"ticks\": \"\"}}, \"colorscale\": {\"diverging\": [[0, \"#8e0152\"], [0.1, \"#c51b7d\"], [0.2, \"#de77ae\"], [0.3, \"#f1b6da\"], [0.4, \"#fde0ef\"], [0.5, \"#f7f7f7\"], [0.6, \"#e6f5d0\"], [0.7, \"#b8e186\"], [0.8, \"#7fbc41\"], [0.9, \"#4d9221\"], [1, \"#276419\"]], \"sequential\": [[0.0, \"#0d0887\"], [0.1111111111111111, \"#46039f\"], [0.2222222222222222, \"#7201a8\"], [0.3333333333333333, \"#9c179e\"], [0.4444444444444444, \"#bd3786\"], [0.5555555555555556, \"#d8576b\"], [0.6666666666666666, \"#ed7953\"], [0.7777777777777778, \"#fb9f3a\"], [0.8888888888888888, \"#fdca26\"], [1.0, \"#f0f921\"]], \"sequentialminus\": [[0.0, \"#0d0887\"], [0.1111111111111111, \"#46039f\"], [0.2222222222222222, \"#7201a8\"], [0.3333333333333333, \"#9c179e\"], [0.4444444444444444, \"#bd3786\"], [0.5555555555555556, \"#d8576b\"], [0.6666666666666666, \"#ed7953\"], [0.7777777777777778, \"#fb9f3a\"], [0.8888888888888888, \"#fdca26\"], [1.0, \"#f0f921\"]]}, \"colorway\": [\"#636efa\", \"#EF553B\", \"#00cc96\", \"#ab63fa\", \"#FFA15A\", \"#19d3f3\", \"#FF6692\", \"#B6E880\", \"#FF97FF\", \"#FECB52\"], \"font\": {\"color\": \"#2a3f5f\"}, \"geo\": {\"bgcolor\": \"white\", \"lakecolor\": \"white\", \"landcolor\": \"white\", \"showlakes\": true, \"showland\": true, \"subunitcolor\": \"#C8D4E3\"}, \"hoverlabel\": {\"align\": \"left\"}, \"hovermode\": \"closest\", \"mapbox\": {\"style\": \"light\"}, \"paper_bgcolor\": \"white\", \"plot_bgcolor\": \"white\", \"polar\": {\"angularaxis\": {\"gridcolor\": \"#EBF0F8\", \"linecolor\": \"#EBF0F8\", \"ticks\": \"\"}, \"bgcolor\": \"white\", \"radialaxis\": {\"gridcolor\": \"#EBF0F8\", \"linecolor\": \"#EBF0F8\", \"ticks\": \"\"}}, \"scene\": {\"xaxis\": {\"backgroundcolor\": \"white\", \"gridcolor\": \"#DFE8F3\", \"gridwidth\": 2, \"linecolor\": \"#EBF0F8\", \"showbackground\": true, \"ticks\": \"\", \"zerolinecolor\": \"#EBF0F8\"}, \"yaxis\": {\"backgroundcolor\": \"white\", \"gridcolor\": \"#DFE8F3\", \"gridwidth\": 2, \"linecolor\": \"#EBF0F8\", \"showbackground\": true, \"ticks\": \"\", \"zerolinecolor\": \"#EBF0F8\"}, \"zaxis\": {\"backgroundcolor\": \"white\", \"gridcolor\": \"#DFE8F3\", \"gridwidth\": 2, \"linecolor\": \"#EBF0F8\", \"showbackground\": true, \"ticks\": \"\", \"zerolinecolor\": \"#EBF0F8\"}}, \"shapedefaults\": {\"line\": {\"color\": \"#2a3f5f\"}}, \"ternary\": {\"aaxis\": {\"gridcolor\": \"#DFE8F3\", \"linecolor\": \"#A2B1C6\", \"ticks\": \"\"}, \"baxis\": {\"gridcolor\": \"#DFE8F3\", \"linecolor\": \"#A2B1C6\", \"ticks\": \"\"}, \"bgcolor\": \"white\", \"caxis\": {\"gridcolor\": \"#DFE8F3\", \"linecolor\": \"#A2B1C6\", \"ticks\": \"\"}}, \"title\": {\"x\": 0.05}, \"xaxis\": {\"automargin\": true, \"gridcolor\": \"#EBF0F8\", \"linecolor\": \"#EBF0F8\", \"ticks\": \"\", \"title\": {\"standoff\": 15}, \"zerolinecolor\": \"#EBF0F8\", \"zerolinewidth\": 2}, \"yaxis\": {\"automargin\": true, \"gridcolor\": \"#EBF0F8\", \"linecolor\": \"#EBF0F8\", \"ticks\": \"\", \"title\": {\"standoff\": 15}, \"zerolinecolor\": \"#EBF0F8\", \"zerolinewidth\": 2}}}, \"title\": {\"text\": \"<b>Top Coin Pairs by Daily % Change on PancakeSwap\"}, \"xaxis\": {\"anchor\": \"y\", \"domain\": [0.0, 1.0], \"title\": {\"text\": \"trade_date\"}}, \"yaxis\": {\"anchor\": \"x\", \"domain\": [0.0, 1.0], \"title\": {\"text\": \"pct_ch\"}, \"type\": \"log\"}},                        {\"responsive\": true}                    ).then(function(){\n",
       "                            \n",
       "var gd = document.getElementById('90d1cd5b-2dd2-4b98-a360-49e87276abd3');\n",
       "var x = new MutationObserver(function (mutations, observer) {{\n",
       "        var display = window.getComputedStyle(gd).display;\n",
       "        if (!display || display === 'none') {{\n",
       "            console.log([gd, 'removed!']);\n",
       "            Plotly.purge(gd);\n",
       "            observer.disconnect();\n",
       "        }}\n",
       "}});\n",
       "\n",
       "// Listen for the removal of the full notebook cells\n",
       "var notebookContainer = gd.closest('#notebook-container');\n",
       "if (notebookContainer) {{\n",
       "    x.observe(notebookContainer, {childList: true});\n",
       "}}\n",
       "\n",
       "// Listen for the clearing of the current output cell\n",
       "var outputEl = gd.closest('.output');\n",
       "if (outputEl) {{\n",
       "    x.observe(outputEl, {childList: true});\n",
       "}}\n",
       "\n",
       "                        })                };                });            </script>        </div>"
      ]
     },
     "metadata": {},
     "output_type": "display_data"
    }
   ],
   "source": [
    "fig = px.bar(df1\n",
    "             ,x='trade_date'\n",
    "             ,y='pct_ch'\n",
    "             ,color='pair'\n",
    "             ,log_y=True\n",
    "#              ,line_shape='spline'\n",
    "             ,template='plotly_white'\n",
    "             ,color_discrete_sequence=px.colors.qualitative.Pastel\n",
    "             ,title='<b>Top Coin Pairs by Daily % Change on PancakeSwap')\n",
    "fig.show()"
   ]
  },
  {
   "cell_type": "code",
   "execution_count": null,
   "metadata": {},
   "outputs": [],
   "source": []
  },
  {
   "cell_type": "code",
   "execution_count": null,
   "metadata": {},
   "outputs": [],
   "source": []
  },
  {
   "cell_type": "code",
   "execution_count": null,
   "metadata": {},
   "outputs": [],
   "source": []
  },
  {
   "cell_type": "code",
   "execution_count": null,
   "metadata": {},
   "outputs": [],
   "source": []
  },
  {
   "cell_type": "code",
   "execution_count": null,
   "metadata": {},
   "outputs": [],
   "source": []
  },
  {
   "cell_type": "code",
   "execution_count": null,
   "metadata": {},
   "outputs": [],
   "source": []
  },
  {
   "cell_type": "code",
   "execution_count": null,
   "metadata": {},
   "outputs": [],
   "source": []
  },
  {
   "cell_type": "code",
   "execution_count": null,
   "metadata": {},
   "outputs": [],
   "source": []
  },
  {
   "cell_type": "code",
   "execution_count": null,
   "metadata": {},
   "outputs": [],
   "source": []
  },
  {
   "cell_type": "code",
   "execution_count": null,
   "metadata": {},
   "outputs": [],
   "source": []
  },
  {
   "cell_type": "code",
   "execution_count": null,
   "metadata": {},
   "outputs": [],
   "source": []
  },
  {
   "cell_type": "code",
   "execution_count": null,
   "metadata": {},
   "outputs": [],
   "source": []
  },
  {
   "cell_type": "code",
   "execution_count": null,
   "metadata": {},
   "outputs": [],
   "source": []
  },
  {
   "cell_type": "code",
   "execution_count": null,
   "metadata": {},
   "outputs": [],
   "source": []
  },
  {
   "cell_type": "code",
   "execution_count": null,
   "metadata": {},
   "outputs": [],
   "source": []
  },
  {
   "cell_type": "code",
   "execution_count": null,
   "metadata": {},
   "outputs": [],
   "source": []
  },
  {
   "cell_type": "markdown",
   "metadata": {},
   "source": [
    "# Test"
   ]
  },
  {
   "cell_type": "code",
   "execution_count": null,
   "metadata": {},
   "outputs": [],
   "source": [
    "df['#_trades'] = df['#_trades'].astype('int64')\n",
    "df.dtypes"
   ]
  },
  {
   "cell_type": "code",
   "execution_count": null,
   "metadata": {},
   "outputs": [],
   "source": [
    "df['pair'] = df['pair'].fillna(0)\n",
    "df = df[df['pair'].notna()]\n",
    "df[df['pair'].isna()]"
   ]
  },
  {
   "cell_type": "code",
   "execution_count": null,
   "metadata": {},
   "outputs": [],
   "source": [
    "df['pct_ch1'] = df.groupby(['pair','trade_date'])['#_trades'].pct_change()+1\n",
    "df['pct_ch2'] = df.groupby(['trade_date','pair'])['#_trades'].apply(lambda x: x.pct_change()).to_numpy()\n",
    "df['pct_ch3'] = df.groupby(['trade_date','pair'])['#_trades'].pct_change()\n",
    "df['pct_ch4'] = df['#_trades'] / df.groupby(['trade_date','pair'])['#_trades'].shift(1)\n",
    "df['pct_ch5'] = df.groupby(['trade_date','pair'])['#_trades'].apply(lambda x: x/x.shift(1))\n",
    "df['pct_ch6'] = df.groupby(['trade_date','pair'])['#_trades'].apply(lambda x: x.pct_change())\n",
    "df['pct_ch7'] = (df.groupby(['pair','trade_date'])['#_trades'].apply(pd.Series.pct_change) + 1)\n",
    "df['pct_ch8'] = (df.groupby(['trade_date','pair'])['#_trades'].apply(lambda dfi : dfi.pct_change()) + 1)"
   ]
  },
  {
   "cell_type": "code",
   "execution_count": null,
   "metadata": {},
   "outputs": [],
   "source": [
    "pd.concat(\n",
    "    pd.read_csv(os.path.join(dirpath, fname), sep=':', index_col=0, header=None)\n",
    "    for fname in sorted(os.listdir(dirpath))\n",
    ").to_csv(output)"
   ]
  },
  {
   "cell_type": "code",
   "execution_count": null,
   "metadata": {},
   "outputs": [],
   "source": [
    "start = pd.to_datetime(\"4/1/2021\")\n",
    "df['new_date'] = pd.Series(np.arange(len(df)) // 1000) \\\n",
    "              .apply(lambda x: pd.Timedelta(days=x)) + start\n",
    "\n",
    "or\n",
    "\n",
    "start = pd.to_datetime(\"4/1/2021\")\n",
    "df['d'] = start + (df.index // 1000 * pd.Timedelta(days=1))\n",
    "print(df)"
   ]
  },
  {
   "cell_type": "code",
   "execution_count": 16,
   "metadata": {},
   "outputs": [
    {
     "name": "stdout",
     "output_type": "stream",
     "text": [
      "['ethereum']\n"
     ]
    }
   ],
   "source": [
    "import json\n",
    "import csv\n",
    "\n",
    "def get_leaves(item, key=None):\n",
    "    if isinstance(item, dict):\n",
    "        leaves = []\n",
    "        for i in item.keys():\n",
    "            leaves.extend(get_leaves(item[i], i))\n",
    "        return leaves\n",
    "    elif isinstance(item, list):\n",
    "        leaves = []\n",
    "        for i in item:\n",
    "            leaves.extend(get_leaves(i, key))\n",
    "        return leaves\n",
    "    else:\n",
    "        return [(key, item)]\n",
    "\n",
    "\n",
    "with open('pairs_json.json') as f_input, open('output.csv', 'w', newline='') as f_output:\n",
    "    csv_output = csv.writer(f_output)\n",
    "    write_header = True\n",
    "\n",
    "    for entry in json.load(f_input):\n",
    "        leaf_entries = sorted(get_leaves(entry))\n",
    "\n",
    "        if write_header:\n",
    "            csv_output.writerow([k for k, v in leaf_entries])\n",
    "            write_header = False\n",
    "            \n",
    "        print([v for k,v in leaf_entries])\n",
    "        csv_output.writerow([v for k, v in leaf_entries])"
   ]
  },
  {
   "cell_type": "code",
   "execution_count": null,
   "metadata": {},
   "outputs": [],
   "source": []
  },
  {
   "cell_type": "code",
   "execution_count": null,
   "metadata": {},
   "outputs": [],
   "source": []
  },
  {
   "cell_type": "code",
   "execution_count": null,
   "metadata": {},
   "outputs": [],
   "source": []
  },
  {
   "cell_type": "code",
   "execution_count": null,
   "metadata": {},
   "outputs": [],
   "source": []
  },
  {
   "cell_type": "code",
   "execution_count": 18,
   "metadata": {},
   "outputs": [],
   "source": [
    "def get_leaves(item, key=None):\n",
    "    if isinstance(item, dict):\n",
    "        leaves = {}\n",
    "        for i in item.keys():\n",
    "            leaves.update(get_leaves(item[i], i))\n",
    "        return leaves\n",
    "    elif isinstance(item, list):\n",
    "        leaves = {}\n",
    "        for i in item:\n",
    "            leaves.update(get_leaves(i, key))\n",
    "        return leaves\n",
    "    else:\n",
    "        return {key : item}\n",
    "\n",
    "\n",
    "with open('pairs_json.json') as f_input:\n",
    "    json_data = json.load(f_input)\n",
    "\n",
    "# First parse all entries to get the complete fieldname list\n",
    "fieldnames = set()\n",
    "\n",
    "for entry in json_data:\n",
    "    fieldnames.update(get_leaves(entry).keys())\n",
    "\n",
    "with open('output.csv', 'w', newline='') as f_output:\n",
    "    csv_output = csv.DictWriter(f_output, fieldnames=sorted(fieldnames))\n",
    "    csv_output.writeheader()\n",
    "    csv_output.writerows(get_leaves(entry) for entry in json_data)"
   ]
  },
  {
   "cell_type": "code",
   "execution_count": 37,
   "metadata": {},
   "outputs": [
    {
     "ename": "TypeError",
     "evalue": "expected str, bytes or os.PathLike object, not dict",
     "output_type": "error",
     "traceback": [
      "\u001b[0;31m---------------------------------------------------------------------------\u001b[0m",
      "\u001b[0;31mTypeError\u001b[0m                                 Traceback (most recent call last)",
      "\u001b[0;32m<ipython-input-37-9c5cc9afdef0>\u001b[0m in \u001b[0;36m<module>\u001b[0;34m\u001b[0m\n\u001b[1;32m     23\u001b[0m \u001b[0;34m\u001b[0m\u001b[0m\n\u001b[1;32m     24\u001b[0m \u001b[0;32mif\u001b[0m \u001b[0m__name__\u001b[0m \u001b[0;34m==\u001b[0m \u001b[0;34m'__main__'\u001b[0m\u001b[0;34m:\u001b[0m\u001b[0;34m\u001b[0m\u001b[0;34m\u001b[0m\u001b[0m\n\u001b[0;32m---> 25\u001b[0;31m     \u001b[0;32mwith\u001b[0m \u001b[0mopen\u001b[0m\u001b[0;34m(\u001b[0m\u001b[0mdata\u001b[0m\u001b[0;34m)\u001b[0m \u001b[0;32mas\u001b[0m \u001b[0mjson_file\u001b[0m\u001b[0;34m:\u001b[0m\u001b[0;34m\u001b[0m\u001b[0;34m\u001b[0m\u001b[0m\n\u001b[0m\u001b[1;32m     26\u001b[0m         \u001b[0mjson_data\u001b[0m \u001b[0;34m=\u001b[0m \u001b[0mjson\u001b[0m\u001b[0;34m.\u001b[0m\u001b[0mload\u001b[0m\u001b[0;34m(\u001b[0m\u001b[0mjson_file\u001b[0m\u001b[0;34m)\u001b[0m\u001b[0;34m\u001b[0m\u001b[0;34m\u001b[0m\u001b[0m\n\u001b[1;32m     27\u001b[0m \u001b[0;34m\u001b[0m\u001b[0m\n",
      "\u001b[0;31mTypeError\u001b[0m: expected str, bytes or os.PathLike object, not dict"
     ]
    }
   ],
   "source": [
    "import json\n",
    "import pandas\n",
    "\n",
    "data = json.load(open('/Users/max.bade/Downloads/pairs_json.txt'))\n",
    "\n",
    "def cross_join(left, right):\n",
    "    return left.assign(key=1).merge(right.assign(key=1), on='key', how='outer').drop('key', 1)\n",
    "\n",
    "def json_to_dataframe(data_in):\n",
    "    def to_frame(data, prev_key=None):\n",
    "        if isinstance(data, dict):\n",
    "            df = pandas.DataFrame()\n",
    "            for key in data:\n",
    "                df = cross_join(df, to_frame(data[key], prev_key + '.' + key))\n",
    "        elif isinstance(data, list):\n",
    "            df = pandas.DataFrame()\n",
    "            for i in range(len(data)):\n",
    "                df = pandas.concat([df, to_frame(data[i], prev_key)])\n",
    "        else:\n",
    "            df = pandas.DataFrame({prev_key[1:]: [data]})\n",
    "        return df\n",
    "    return to_frame(data_in)\n",
    "\n",
    "if __name__ == '__main__':\n",
    "    with open(data) as json_file:\n",
    "        json_data = json.load(json_file)\n",
    "\n",
    "    df = json_to_dataframe(json_data)\n",
    "#     df.to_csv('output.csv', mode='w')"
   ]
  },
  {
   "cell_type": "code",
   "execution_count": 36,
   "metadata": {},
   "outputs": [
    {
     "ename": "JSONDecodeError",
     "evalue": "Extra data: line 1 column 3 (char 2)",
     "output_type": "error",
     "traceback": [
      "\u001b[0;31m---------------------------------------------------------------------------\u001b[0m",
      "\u001b[0;31mJSONDecodeError\u001b[0m                           Traceback (most recent call last)",
      "\u001b[0;32m<ipython-input-36-c018574b7a11>\u001b[0m in \u001b[0;36m<module>\u001b[0;34m\u001b[0m\n\u001b[0;32m----> 1\u001b[0;31m \u001b[0mdata\u001b[0m \u001b[0;34m=\u001b[0m \u001b[0mjson\u001b[0m\u001b[0;34m.\u001b[0m\u001b[0mload\u001b[0m\u001b[0;34m(\u001b[0m\u001b[0mopen\u001b[0m\u001b[0;34m(\u001b[0m\u001b[0;34m'/Users/max.bade/Downloads/pairs_json.json'\u001b[0m\u001b[0;34m)\u001b[0m\u001b[0;34m)\u001b[0m\u001b[0;34m\u001b[0m\u001b[0;34m\u001b[0m\u001b[0m\n\u001b[0m",
      "\u001b[0;32m~/anaconda3/lib/python3.8/json/__init__.py\u001b[0m in \u001b[0;36mload\u001b[0;34m(fp, cls, object_hook, parse_float, parse_int, parse_constant, object_pairs_hook, **kw)\u001b[0m\n\u001b[1;32m    291\u001b[0m     \u001b[0mkwarg\u001b[0m\u001b[0;34m;\u001b[0m \u001b[0motherwise\u001b[0m\u001b[0;31m \u001b[0m\u001b[0;31m`\u001b[0m\u001b[0;31m`\u001b[0m\u001b[0mJSONDecoder\u001b[0m\u001b[0;31m`\u001b[0m\u001b[0;31m`\u001b[0m \u001b[0;32mis\u001b[0m \u001b[0mused\u001b[0m\u001b[0;34m.\u001b[0m\u001b[0;34m\u001b[0m\u001b[0;34m\u001b[0m\u001b[0m\n\u001b[1;32m    292\u001b[0m     \"\"\"\n\u001b[0;32m--> 293\u001b[0;31m     return loads(fp.read(),\n\u001b[0m\u001b[1;32m    294\u001b[0m         \u001b[0mcls\u001b[0m\u001b[0;34m=\u001b[0m\u001b[0mcls\u001b[0m\u001b[0;34m,\u001b[0m \u001b[0mobject_hook\u001b[0m\u001b[0;34m=\u001b[0m\u001b[0mobject_hook\u001b[0m\u001b[0;34m,\u001b[0m\u001b[0;34m\u001b[0m\u001b[0;34m\u001b[0m\u001b[0m\n\u001b[1;32m    295\u001b[0m         \u001b[0mparse_float\u001b[0m\u001b[0;34m=\u001b[0m\u001b[0mparse_float\u001b[0m\u001b[0;34m,\u001b[0m \u001b[0mparse_int\u001b[0m\u001b[0;34m=\u001b[0m\u001b[0mparse_int\u001b[0m\u001b[0;34m,\u001b[0m\u001b[0;34m\u001b[0m\u001b[0;34m\u001b[0m\u001b[0m\n",
      "\u001b[0;32m~/anaconda3/lib/python3.8/json/__init__.py\u001b[0m in \u001b[0;36mloads\u001b[0;34m(s, cls, object_hook, parse_float, parse_int, parse_constant, object_pairs_hook, **kw)\u001b[0m\n\u001b[1;32m    355\u001b[0m             \u001b[0mparse_int\u001b[0m \u001b[0;32mis\u001b[0m \u001b[0;32mNone\u001b[0m \u001b[0;32mand\u001b[0m \u001b[0mparse_float\u001b[0m \u001b[0;32mis\u001b[0m \u001b[0;32mNone\u001b[0m \u001b[0;32mand\u001b[0m\u001b[0;34m\u001b[0m\u001b[0;34m\u001b[0m\u001b[0m\n\u001b[1;32m    356\u001b[0m             parse_constant is None and object_pairs_hook is None and not kw):\n\u001b[0;32m--> 357\u001b[0;31m         \u001b[0;32mreturn\u001b[0m \u001b[0m_default_decoder\u001b[0m\u001b[0;34m.\u001b[0m\u001b[0mdecode\u001b[0m\u001b[0;34m(\u001b[0m\u001b[0ms\u001b[0m\u001b[0;34m)\u001b[0m\u001b[0;34m\u001b[0m\u001b[0;34m\u001b[0m\u001b[0m\n\u001b[0m\u001b[1;32m    358\u001b[0m     \u001b[0;32mif\u001b[0m \u001b[0mcls\u001b[0m \u001b[0;32mis\u001b[0m \u001b[0;32mNone\u001b[0m\u001b[0;34m:\u001b[0m\u001b[0;34m\u001b[0m\u001b[0;34m\u001b[0m\u001b[0m\n\u001b[1;32m    359\u001b[0m         \u001b[0mcls\u001b[0m \u001b[0;34m=\u001b[0m \u001b[0mJSONDecoder\u001b[0m\u001b[0;34m\u001b[0m\u001b[0;34m\u001b[0m\u001b[0m\n",
      "\u001b[0;32m~/anaconda3/lib/python3.8/json/decoder.py\u001b[0m in \u001b[0;36mdecode\u001b[0;34m(self, s, _w)\u001b[0m\n\u001b[1;32m    338\u001b[0m         \u001b[0mend\u001b[0m \u001b[0;34m=\u001b[0m \u001b[0m_w\u001b[0m\u001b[0;34m(\u001b[0m\u001b[0ms\u001b[0m\u001b[0;34m,\u001b[0m \u001b[0mend\u001b[0m\u001b[0;34m)\u001b[0m\u001b[0;34m.\u001b[0m\u001b[0mend\u001b[0m\u001b[0;34m(\u001b[0m\u001b[0;34m)\u001b[0m\u001b[0;34m\u001b[0m\u001b[0;34m\u001b[0m\u001b[0m\n\u001b[1;32m    339\u001b[0m         \u001b[0;32mif\u001b[0m \u001b[0mend\u001b[0m \u001b[0;34m!=\u001b[0m \u001b[0mlen\u001b[0m\u001b[0;34m(\u001b[0m\u001b[0ms\u001b[0m\u001b[0;34m)\u001b[0m\u001b[0;34m:\u001b[0m\u001b[0;34m\u001b[0m\u001b[0;34m\u001b[0m\u001b[0m\n\u001b[0;32m--> 340\u001b[0;31m             \u001b[0;32mraise\u001b[0m \u001b[0mJSONDecodeError\u001b[0m\u001b[0;34m(\u001b[0m\u001b[0;34m\"Extra data\"\u001b[0m\u001b[0;34m,\u001b[0m \u001b[0ms\u001b[0m\u001b[0;34m,\u001b[0m \u001b[0mend\u001b[0m\u001b[0;34m)\u001b[0m\u001b[0;34m\u001b[0m\u001b[0;34m\u001b[0m\u001b[0m\n\u001b[0m\u001b[1;32m    341\u001b[0m         \u001b[0;32mreturn\u001b[0m \u001b[0mobj\u001b[0m\u001b[0;34m\u001b[0m\u001b[0;34m\u001b[0m\u001b[0m\n\u001b[1;32m    342\u001b[0m \u001b[0;34m\u001b[0m\u001b[0m\n",
      "\u001b[0;31mJSONDecodeError\u001b[0m: Extra data: line 1 column 3 (char 2)"
     ]
    }
   ],
   "source": [
    "data = json.load(open('/Users/max.bade/Downloads/pairs_json.json'))"
   ]
  },
  {
   "cell_type": "code",
   "execution_count": 27,
   "metadata": {},
   "outputs": [],
   "source": [
    "# data = json.loads(raw)\n",
    "data = json.load(open('/Users/max.bade/Downloads/pairs_json.json'))\n",
    "data = pd.json_normalize(data)\n",
    "# data.to_csv('output.csv')\n",
    "# print(data.to_csv())\n",
    "# df.to_csv('pancakswap_coins.csv', index = None, header=True)"
   ]
  },
  {
   "cell_type": "code",
   "execution_count": 28,
   "metadata": {},
   "outputs": [
    {
     "data": {
      "text/html": [
       "<div>\n",
       "<style scoped>\n",
       "    .dataframe tbody tr th:only-of-type {\n",
       "        vertical-align: middle;\n",
       "    }\n",
       "\n",
       "    .dataframe tbody tr th {\n",
       "        vertical-align: top;\n",
       "    }\n",
       "\n",
       "    .dataframe thead th {\n",
       "        text-align: right;\n",
       "    }\n",
       "</style>\n",
       "<table border=\"1\" class=\"dataframe\">\n",
       "  <thead>\n",
       "    <tr style=\"text-align: right;\">\n",
       "      <th></th>\n",
       "      <th>ethereum.dexTrades</th>\n",
       "    </tr>\n",
       "  </thead>\n",
       "  <tbody>\n",
       "    <tr>\n",
       "      <th>0</th>\n",
       "      <td>[{'buyCurrency': {'symbol': 'BUSD'}, 'sellCurr...</td>\n",
       "    </tr>\n",
       "  </tbody>\n",
       "</table>\n",
       "</div>"
      ],
      "text/plain": [
       "                                  ethereum.dexTrades\n",
       "0  [{'buyCurrency': {'symbol': 'BUSD'}, 'sellCurr..."
      ]
     },
     "execution_count": 28,
     "metadata": {},
     "output_type": "execute_result"
    }
   ],
   "source": [
    "data"
   ]
  },
  {
   "cell_type": "code",
   "execution_count": null,
   "metadata": {},
   "outputs": [],
   "source": []
  },
  {
   "cell_type": "code",
   "execution_count": null,
   "metadata": {},
   "outputs": [],
   "source": []
  },
  {
   "cell_type": "code",
   "execution_count": null,
   "metadata": {},
   "outputs": [],
   "source": []
  },
  {
   "cell_type": "code",
   "execution_count": null,
   "metadata": {},
   "outputs": [],
   "source": []
  },
  {
   "cell_type": "code",
   "execution_count": 39,
   "metadata": {},
   "outputs": [
    {
     "data": {
      "text/html": [
       "<div>\n",
       "<style scoped>\n",
       "    .dataframe tbody tr th:only-of-type {\n",
       "        vertical-align: middle;\n",
       "    }\n",
       "\n",
       "    .dataframe tbody tr th {\n",
       "        vertical-align: top;\n",
       "    }\n",
       "\n",
       "    .dataframe thead th {\n",
       "        text-align: right;\n",
       "    }\n",
       "</style>\n",
       "<table border=\"1\" class=\"dataframe\">\n",
       "  <thead>\n",
       "    <tr style=\"text-align: right;\">\n",
       "      <th></th>\n",
       "      <th>ethereum</th>\n",
       "    </tr>\n",
       "  </thead>\n",
       "  <tbody>\n",
       "    <tr>\n",
       "      <th>arguments</th>\n",
       "      <td>[{'block': {'height': 7167593, 'timestamp': {'...</td>\n",
       "    </tr>\n",
       "  </tbody>\n",
       "</table>\n",
       "</div>"
      ],
      "text/plain": [
       "                                                    ethereum\n",
       "arguments  [{'block': {'height': 7167593, 'timestamp': {'..."
      ]
     },
     "execution_count": 39,
     "metadata": {},
     "output_type": "execute_result"
    }
   ],
   "source": [
    "df = pd.read_json('pancakeswap_coins.json')\n",
    "df.head()"
   ]
  },
  {
   "cell_type": "code",
   "execution_count": 41,
   "metadata": {},
   "outputs": [],
   "source": [
    "df.to_csv('pancakswap_coins.csv', index = None, header=True)"
   ]
  },
  {
   "cell_type": "code",
   "execution_count": null,
   "metadata": {},
   "outputs": [],
   "source": []
  },
  {
   "cell_type": "code",
   "execution_count": 8,
   "metadata": {},
   "outputs": [
    {
     "name": "stdout",
     "output_type": "stream",
     "text": [
      "/Users/max.bade/Downloads\r\n"
     ]
    }
   ],
   "source": [
    "!pwd"
   ]
  },
  {
   "cell_type": "code",
   "execution_count": 9,
   "metadata": {},
   "outputs": [],
   "source": [
    "df = pd.read_json(x)\n",
    "df.to_csv('test_json.csv')"
   ]
  },
  {
   "cell_type": "code",
   "execution_count": null,
   "metadata": {},
   "outputs": [],
   "source": []
  },
  {
   "cell_type": "code",
   "execution_count": null,
   "metadata": {},
   "outputs": [],
   "source": []
  },
  {
   "cell_type": "code",
   "execution_count": null,
   "metadata": {},
   "outputs": [],
   "source": []
  },
  {
   "cell_type": "code",
   "execution_count": null,
   "metadata": {},
   "outputs": [],
   "source": []
  },
  {
   "cell_type": "code",
   "execution_count": 1,
   "metadata": {},
   "outputs": [
    {
     "ename": "SystemExit",
     "evalue": "0",
     "output_type": "error",
     "traceback": [
      "An exception has occurred, use %tb to see the full traceback.\n",
      "\u001b[0;31mSystemExit\u001b[0m\u001b[0;31m:\u001b[0m 0\n"
     ]
    },
    {
     "name": "stderr",
     "output_type": "stream",
     "text": [
      "/Users/max.bade/anaconda3/lib/python3.8/site-packages/IPython/core/interactiveshell.py:3426: UserWarning: To exit: use 'exit', 'quit', or Ctrl-D.\n",
      "  warn(\"To exit: use 'exit', 'quit', or Ctrl-D.\", stacklevel=1)\n"
     ]
    }
   ],
   "source": [
    "import tkinter as tk\n",
    "from tkinter import filedialog\n",
    "from tkinter import messagebox\n",
    "import pandas as pd\n",
    "\n",
    "root= tk.Tk()\n",
    "\n",
    "canvas1 = tk.Canvas(root\n",
    "                    , width = 300\n",
    "                    , height = 300\n",
    "                    , bg = 'lightsteelblue2'\n",
    "                    , relief = 'raised'\n",
    "                   )\n",
    "canvas1.pack()\n",
    "\n",
    "label1 = tk.Label(root\n",
    "                  , text='File Conversion Tool'\n",
    "                  , bg = 'lightsteelblue2')\n",
    "label1.config(font=('helvetica', 20))\n",
    "canvas1.create_window(150, 60, window=label1)\n",
    "\n",
    "def getJSON ():\n",
    "    global read_file\n",
    "    \n",
    "    import_file_path = filedialog.askopenfilename()\n",
    "    read_file = pd.read_json (import_file_path)\n",
    "    \n",
    "browseButton_JSON = tk.Button(text=\"      Import JSON File     \"\n",
    "                              , command=getJSON\n",
    "                              , bg='green'\n",
    "                              , fg='black'\n",
    "                              , font=('helvetica', 12, 'bold')\n",
    "                             )\n",
    "canvas1.create_window(150, 130, window=browseButton_JSON)\n",
    "\n",
    "def convertToCSV ():\n",
    "    global read_file\n",
    "    \n",
    "    export_file_path = filedialog.asksaveasfilename(defaultextension='.csv')\n",
    "    read_file.to_csv (export_file_path\n",
    "                      , index = None\n",
    "                      , header=True)\n",
    "\n",
    "saveAsButton_CSV = tk.Button(text='Convert JSON to CSV'\n",
    "                             , command=convertToCSV\n",
    "                             , bg='green'\n",
    "                             , fg='black'\n",
    "                             , font=('helvetica', 12, 'bold'))\n",
    "canvas1.create_window(150, 180, window=saveAsButton_CSV)\n",
    "\n",
    "def exitApplication():\n",
    "    MsgBox = tk.messagebox.askquestion ('Exit Application'\n",
    "                                        ,'Are you sure you want to exit the application'\n",
    "                                         ,icon = 'warning')\n",
    "    if MsgBox == 'yes':\n",
    "        root.destroy()\n",
    "        \n",
    "exitButton = tk.Button (root\n",
    "                        , text='       Exit Application     '\n",
    "                        , command=exitApplication\n",
    "                        , bg='brown'\n",
    "                        , fg='black'\n",
    "                        , font=('helvetica', 12, 'bold'))\n",
    "canvas1.create_window(150, 230, window=exitButton)\n",
    "\n",
    "root.mainloop()"
   ]
  },
  {
   "cell_type": "code",
   "execution_count": 9,
   "metadata": {},
   "outputs": [
    {
     "data": {
      "text/html": [
       "<div>\n",
       "<style scoped>\n",
       "    .dataframe tbody tr th:only-of-type {\n",
       "        vertical-align: middle;\n",
       "    }\n",
       "\n",
       "    .dataframe tbody tr th {\n",
       "        vertical-align: top;\n",
       "    }\n",
       "\n",
       "    .dataframe thead th {\n",
       "        text-align: right;\n",
       "    }\n",
       "</style>\n",
       "<table border=\"1\" class=\"dataframe\">\n",
       "  <thead>\n",
       "    <tr style=\"text-align: right;\">\n",
       "      <th></th>\n",
       "      <th>ethereum</th>\n",
       "    </tr>\n",
       "  </thead>\n",
       "  <tbody>\n",
       "    <tr>\n",
       "      <th>0</th>\n",
       "      <td>{'arguments': [{'block': {'height': 7167593, '...</td>\n",
       "    </tr>\n",
       "  </tbody>\n",
       "</table>\n",
       "</div>"
      ],
      "text/plain": [
       "                                            ethereum\n",
       "0  {'arguments': [{'block': {'height': 7167593, '..."
      ]
     },
     "execution_count": 9,
     "metadata": {},
     "output_type": "execute_result"
    }
   ],
   "source": [
    "df = pd.read_json(x)\n",
    "df.head()"
   ]
  },
  {
   "cell_type": "code",
   "execution_count": 21,
   "metadata": {},
   "outputs": [
    {
     "data": {
      "text/plain": [
       "{'ethereum': {'arguments': [{'block': {'height': 7167593,\n",
       "     'timestamp': {'unixtime': 1620248019}},\n",
       "    'argument': {'name': 'token1', 'type': 'address'},\n",
       "    'reference': {'address': '0xd0e0204b1ad603df1cbeb10d5ab3b10a0b0a92bc',\n",
       "     'smartContract': {'currency': {'name': '-'}}}},\n",
       "   {'block': {'height': 7167593, 'timestamp': {'unixtime': 1620248019}},\n",
       "    'argument': {'name': 'token0', 'type': 'address'},\n",
       "    'reference': {'address': '0xbb4cdb9cbd36b01bd1cbaebf2de08d9173bc095c',\n",
       "     'smartContract': {'currency': {'name': 'Wrapped BNB'}}}},\n",
       "   {'block': {'height': 7167586, 'timestamp': {'unixtime': 1620247998}},\n",
       "    'argument': {'name': 'token0', 'type': 'address'},\n",
       "    'reference': {'address': '0x62c2455eb8b92ea8c7cb4bd0caeebca0cf846dea',\n",
       "     'smartContract': {'currency': {'name': '-'}}}},\n",
       "   {'block': {'height': 7167586, 'timestamp': {'unixtime': 1620247998}},\n",
       "    'argument': {'name': 'token1', 'type': 'address'},\n",
       "    'reference': {'address': '0xbb4cdb9cbd36b01bd1cbaebf2de08d9173bc095c',\n",
       "     'smartContract': {'currency': {'name': 'Wrapped BNB'}}}},\n",
       "   {'block': {'height': 7167538, 'timestamp': {'unixtime': 1620247854}},\n",
       "    'argument': {'name': 'token0', 'type': 'address'},\n",
       "    'reference': {'address': '0xbb4cdb9cbd36b01bd1cbaebf2de08d9173bc095c',\n",
       "     'smartContract': {'currency': {'name': 'Wrapped BNB'}}}},\n",
       "   {'block': {'height': 7167538, 'timestamp': {'unixtime': 1620247854}},\n",
       "    'argument': {'name': 'token1', 'type': 'address'},\n",
       "    'reference': {'address': '0xe7b2a87392b7a83c70ec4124e1674fe158617fe2',\n",
       "     'smartContract': {'currency': {'name': '-'}}}},\n",
       "   {'block': {'height': 7167518, 'timestamp': {'unixtime': 1620247794}},\n",
       "    'argument': {'name': 'token0', 'type': 'address'},\n",
       "    'reference': {'address': '0x70e95a232639f24445fc88c8ef6479dae805989e',\n",
       "     'smartContract': {'currency': {'name': '-'}}}},\n",
       "   {'block': {'height': 7167518, 'timestamp': {'unixtime': 1620247794}},\n",
       "    'argument': {'name': 'token1', 'type': 'address'},\n",
       "    'reference': {'address': '0xbb4cdb9cbd36b01bd1cbaebf2de08d9173bc095c',\n",
       "     'smartContract': {'currency': {'name': 'Wrapped BNB'}}}},\n",
       "   {'block': {'height': 7167500, 'timestamp': {'unixtime': 1620247740}},\n",
       "    'argument': {'name': 'token0', 'type': 'address'},\n",
       "    'reference': {'address': '0x305655cb5a5f8233963755c6f94ff8a3b5fcbe91',\n",
       "     'smartContract': {'currency': {'name': '-'}}}},\n",
       "   {'block': {'height': 7167500, 'timestamp': {'unixtime': 1620247740}},\n",
       "    'argument': {'name': 'token1', 'type': 'address'},\n",
       "    'reference': {'address': '0xbb4cdb9cbd36b01bd1cbaebf2de08d9173bc095c',\n",
       "     'smartContract': {'currency': {'name': 'Wrapped BNB'}}}},\n",
       "   {'block': {'height': 7167466, 'timestamp': {'unixtime': 1620247638}},\n",
       "    'argument': {'name': 'token1', 'type': 'address'},\n",
       "    'reference': {'address': '0xbb4cdb9cbd36b01bd1cbaebf2de08d9173bc095c',\n",
       "     'smartContract': {'currency': {'name': 'Wrapped BNB'}}}},\n",
       "   {'block': {'height': 7167466, 'timestamp': {'unixtime': 1620247638}},\n",
       "    'argument': {'name': 'token0', 'type': 'address'},\n",
       "    'reference': {'address': '0x787bccd650654fe98d9085f3f7891be5c3a52627',\n",
       "     'smartContract': {'currency': {'name': '-'}}}},\n",
       "   {'block': {'height': 7167460, 'timestamp': {'unixtime': 1620247620}},\n",
       "    'argument': {'name': 'token1', 'type': 'address'},\n",
       "    'reference': {'address': '0xbb4cdb9cbd36b01bd1cbaebf2de08d9173bc095c',\n",
       "     'smartContract': {'currency': {'name': 'Wrapped BNB'}}}},\n",
       "   {'block': {'height': 7167460, 'timestamp': {'unixtime': 1620247620}},\n",
       "    'argument': {'name': 'token0', 'type': 'address'},\n",
       "    'reference': {'address': '0x79ac8a9fbd1bb85df38ecd49652a707df7a27351',\n",
       "     'smartContract': {'currency': {'name': '-'}}}},\n",
       "   {'block': {'height': 7167458, 'timestamp': {'unixtime': 1620247614}},\n",
       "    'argument': {'name': 'token1', 'type': 'address'},\n",
       "    'reference': {'address': '0xbb4cdb9cbd36b01bd1cbaebf2de08d9173bc095c',\n",
       "     'smartContract': {'currency': {'name': 'Wrapped BNB'}}}},\n",
       "   {'block': {'height': 7167458, 'timestamp': {'unixtime': 1620247614}},\n",
       "    'argument': {'name': 'token0', 'type': 'address'},\n",
       "    'reference': {'address': '0xa613fd9491b1ba8d5ec542295b02d10890bdd217',\n",
       "     'smartContract': {'currency': {'name': '-'}}}},\n",
       "   {'block': {'height': 7167337, 'timestamp': {'unixtime': 1620247250}},\n",
       "    'argument': {'name': 'token0', 'type': 'address'},\n",
       "    'reference': {'address': '0x684a9f8cd1a33ef139cead7cf350ee5c38b54003',\n",
       "     'smartContract': {'currency': {'name': '-'}}}},\n",
       "   {'block': {'height': 7167337, 'timestamp': {'unixtime': 1620247250}},\n",
       "    'argument': {'name': 'token1', 'type': 'address'},\n",
       "    'reference': {'address': '0xbb4cdb9cbd36b01bd1cbaebf2de08d9173bc095c',\n",
       "     'smartContract': {'currency': {'name': 'Wrapped BNB'}}}},\n",
       "   {'block': {'height': 7167313, 'timestamp': {'unixtime': 1620247178}},\n",
       "    'argument': {'name': 'token0', 'type': 'address'},\n",
       "    'reference': {'address': '0x59d9b67b99f9fc53f81c3dea6bd90f688d6f3cbf',\n",
       "     'smartContract': {'currency': {'name': '-'}}}},\n",
       "   {'block': {'height': 7167313, 'timestamp': {'unixtime': 1620247178}},\n",
       "    'argument': {'name': 'token1', 'type': 'address'},\n",
       "    'reference': {'address': '0xbb4cdb9cbd36b01bd1cbaebf2de08d9173bc095c',\n",
       "     'smartContract': {'currency': {'name': 'Wrapped BNB'}}}},\n",
       "   {'block': {'height': 7167277, 'timestamp': {'unixtime': 1620247070}},\n",
       "    'argument': {'name': 'token0', 'type': 'address'},\n",
       "    'reference': {'address': '0x1d30599526119dde294cc1500168e45febab4f74',\n",
       "     'smartContract': {'currency': {'name': '-'}}}},\n",
       "   {'block': {'height': 7167277, 'timestamp': {'unixtime': 1620247070}},\n",
       "    'argument': {'name': 'token1', 'type': 'address'},\n",
       "    'reference': {'address': '0xbb4cdb9cbd36b01bd1cbaebf2de08d9173bc095c',\n",
       "     'smartContract': {'currency': {'name': 'Wrapped BNB'}}}},\n",
       "   {'block': {'height': 7167273, 'timestamp': {'unixtime': 1620247058}},\n",
       "    'argument': {'name': 'token1', 'type': 'address'},\n",
       "    'reference': {'address': '0xda86dc16bf053d8a9405fee66256dd47c783cf8c',\n",
       "     'smartContract': {'currency': {'name': '-'}}}},\n",
       "   {'block': {'height': 7167273, 'timestamp': {'unixtime': 1620247058}},\n",
       "    'argument': {'name': 'token0', 'type': 'address'},\n",
       "    'reference': {'address': '0xbb4cdb9cbd36b01bd1cbaebf2de08d9173bc095c',\n",
       "     'smartContract': {'currency': {'name': 'Wrapped BNB'}}}},\n",
       "   {'block': {'height': 7167271, 'timestamp': {'unixtime': 1620247052}},\n",
       "    'argument': {'name': 'token1', 'type': 'address'},\n",
       "    'reference': {'address': '0xbb4cdb9cbd36b01bd1cbaebf2de08d9173bc095c',\n",
       "     'smartContract': {'currency': {'name': 'Wrapped BNB'}}}},\n",
       "   {'block': {'height': 7167271, 'timestamp': {'unixtime': 1620247052}},\n",
       "    'argument': {'name': 'token0', 'type': 'address'},\n",
       "    'reference': {'address': '0x99ba9f8a1a183d989b7745a13fd33ca3015282e2',\n",
       "     'smartContract': {'currency': {'name': '-'}}}},\n",
       "   {'block': {'height': 7167230, 'timestamp': {'unixtime': 1620246929}},\n",
       "    'argument': {'name': 'token1', 'type': 'address'},\n",
       "    'reference': {'address': '0xbb4cdb9cbd36b01bd1cbaebf2de08d9173bc095c',\n",
       "     'smartContract': {'currency': {'name': 'Wrapped BNB'}}}},\n",
       "   {'block': {'height': 7167230, 'timestamp': {'unixtime': 1620246929}},\n",
       "    'argument': {'name': 'token0', 'type': 'address'},\n",
       "    'reference': {'address': '0x9e9ed72df6c60d0bb62cb6be2cdc2a707dd27dc6',\n",
       "     'smartContract': {'currency': {'name': '-'}}}},\n",
       "   {'block': {'height': 7167227, 'timestamp': {'unixtime': 1620246920}},\n",
       "    'argument': {'name': 'token1', 'type': 'address'},\n",
       "    'reference': {'address': '0xf78f06312b47185ea751a72a55bc0813cb6c5b52',\n",
       "     'smartContract': {'currency': {'name': '-'}}}},\n",
       "   {'block': {'height': 7167227, 'timestamp': {'unixtime': 1620246920}},\n",
       "    'argument': {'name': 'token0', 'type': 'address'},\n",
       "    'reference': {'address': '0xbb4cdb9cbd36b01bd1cbaebf2de08d9173bc095c',\n",
       "     'smartContract': {'currency': {'name': 'Wrapped BNB'}}}},\n",
       "   {'block': {'height': 7167214, 'timestamp': {'unixtime': 1620246881}},\n",
       "    'argument': {'name': 'token1', 'type': 'address'},\n",
       "    'reference': {'address': '0xbb4cdb9cbd36b01bd1cbaebf2de08d9173bc095c',\n",
       "     'smartContract': {'currency': {'name': 'Wrapped BNB'}}}},\n",
       "   {'block': {'height': 7167214, 'timestamp': {'unixtime': 1620246881}},\n",
       "    'argument': {'name': 'token0', 'type': 'address'},\n",
       "    'reference': {'address': '0x81b6db20f04f1d01b6aeca9b00eee38853282a2b',\n",
       "     'smartContract': {'currency': {'name': '-'}}}},\n",
       "   {'block': {'height': 7167192, 'timestamp': {'unixtime': 1620246815}},\n",
       "    'argument': {'name': 'token0', 'type': 'address'},\n",
       "    'reference': {'address': '0x17b43dec64ca9bb8064550a864d1505de5d0f98f',\n",
       "     'smartContract': {'currency': {'name': '-'}}}},\n",
       "   {'block': {'height': 7167192, 'timestamp': {'unixtime': 1620246815}},\n",
       "    'argument': {'name': 'token1', 'type': 'address'},\n",
       "    'reference': {'address': '0xbb4cdb9cbd36b01bd1cbaebf2de08d9173bc095c',\n",
       "     'smartContract': {'currency': {'name': 'Wrapped BNB'}}}},\n",
       "   {'block': {'height': 7167162, 'timestamp': {'unixtime': 1620246725}},\n",
       "    'argument': {'name': 'token0', 'type': 'address'},\n",
       "    'reference': {'address': '0x6504d543e2a13dbce07b7ceb42f6c9c08786bb5e',\n",
       "     'smartContract': {'currency': {'name': '-'}}}},\n",
       "   {'block': {'height': 7167162, 'timestamp': {'unixtime': 1620246725}},\n",
       "    'argument': {'name': 'token1', 'type': 'address'},\n",
       "    'reference': {'address': '0xbb4cdb9cbd36b01bd1cbaebf2de08d9173bc095c',\n",
       "     'smartContract': {'currency': {'name': 'Wrapped BNB'}}}},\n",
       "   {'block': {'height': 7167117, 'timestamp': {'unixtime': 1620246590}},\n",
       "    'argument': {'name': 'token0', 'type': 'address'},\n",
       "    'reference': {'address': '0xbb4cdb9cbd36b01bd1cbaebf2de08d9173bc095c',\n",
       "     'smartContract': {'currency': {'name': 'Wrapped BNB'}}}},\n",
       "   {'block': {'height': 7167117, 'timestamp': {'unixtime': 1620246590}},\n",
       "    'argument': {'name': 'token1', 'type': 'address'},\n",
       "    'reference': {'address': '0xe7775f95471e6ebacc6e873b83a4353cfdbd3a2a',\n",
       "     'smartContract': {'currency': {'name': '-'}}}},\n",
       "   {'block': {'height': 7167091, 'timestamp': {'unixtime': 1620246512}},\n",
       "    'argument': {'name': 'token1', 'type': 'address'},\n",
       "    'reference': {'address': '0xbb4cdb9cbd36b01bd1cbaebf2de08d9173bc095c',\n",
       "     'smartContract': {'currency': {'name': 'Wrapped BNB'}}}},\n",
       "   {'block': {'height': 7167091, 'timestamp': {'unixtime': 1620246512}},\n",
       "    'argument': {'name': 'token0', 'type': 'address'},\n",
       "    'reference': {'address': '0x6a0bf19deb5c0491281c250adb8a1ada098bec6f',\n",
       "     'smartContract': {'currency': {'name': '-'}}}},\n",
       "   {'block': {'height': 7167065, 'timestamp': {'unixtime': 1620246434}},\n",
       "    'argument': {'name': 'token1', 'type': 'address'},\n",
       "    'reference': {'address': '0xe10b2fd29a9ccd02bc5909ea22e86e313946d4f5',\n",
       "     'smartContract': {'currency': {'name': 'BitDiamond'}}}},\n",
       "   {'block': {'height': 7167065, 'timestamp': {'unixtime': 1620246434}},\n",
       "    'argument': {'name': 'token0', 'type': 'address'},\n",
       "    'reference': {'address': '0xbb4cdb9cbd36b01bd1cbaebf2de08d9173bc095c',\n",
       "     'smartContract': {'currency': {'name': 'Wrapped BNB'}}}},\n",
       "   {'block': {'height': 7167031, 'timestamp': {'unixtime': 1620246332}},\n",
       "    'argument': {'name': 'token0', 'type': 'address'},\n",
       "    'reference': {'address': '0xbb4cdb9cbd36b01bd1cbaebf2de08d9173bc095c',\n",
       "     'smartContract': {'currency': {'name': 'Wrapped BNB'}}}},\n",
       "   {'block': {'height': 7167031, 'timestamp': {'unixtime': 1620246332}},\n",
       "    'argument': {'name': 'token1', 'type': 'address'},\n",
       "    'reference': {'address': '0xc35d830592a050dac1586cceb99665b68aa9bee5',\n",
       "     'smartContract': {'currency': {'name': '-'}}}},\n",
       "   {'block': {'height': 7167003, 'timestamp': {'unixtime': 1620246248}},\n",
       "    'argument': {'name': 'token0', 'type': 'address'},\n",
       "    'reference': {'address': '0x6542176b315fefbeb3a45ad849abaa9be27454a8',\n",
       "     'smartContract': {'currency': {'name': '-'}}}},\n",
       "   {'block': {'height': 7167003, 'timestamp': {'unixtime': 1620246248}},\n",
       "    'argument': {'name': 'token1', 'type': 'address'},\n",
       "    'reference': {'address': '0xbb4cdb9cbd36b01bd1cbaebf2de08d9173bc095c',\n",
       "     'smartContract': {'currency': {'name': 'Wrapped BNB'}}}},\n",
       "   {'block': {'height': 7166997, 'timestamp': {'unixtime': 1620246230}},\n",
       "    'argument': {'name': 'token1', 'type': 'address'},\n",
       "    'reference': {'address': '0xbb4cdb9cbd36b01bd1cbaebf2de08d9173bc095c',\n",
       "     'smartContract': {'currency': {'name': 'Wrapped BNB'}}}},\n",
       "   {'block': {'height': 7166997, 'timestamp': {'unixtime': 1620246230}},\n",
       "    'argument': {'name': 'token0', 'type': 'address'},\n",
       "    'reference': {'address': '0x8542ddd2c0b91475d615c564bd21905b1858bae9',\n",
       "     'smartContract': {'currency': {'name': '-'}}}},\n",
       "   {'block': {'height': 7166975, 'timestamp': {'unixtime': 1620246164}},\n",
       "    'argument': {'name': 'token1', 'type': 'address'},\n",
       "    'reference': {'address': '0xbb4cdb9cbd36b01bd1cbaebf2de08d9173bc095c',\n",
       "     'smartContract': {'currency': {'name': 'Wrapped BNB'}}}},\n",
       "   {'block': {'height': 7166975, 'timestamp': {'unixtime': 1620246164}},\n",
       "    'argument': {'name': 'token0', 'type': 'address'},\n",
       "    'reference': {'address': '0x6da2f9b8c706da47f172632d681533e550923fbd',\n",
       "     'smartContract': {'currency': {'name': '-'}}}},\n",
       "   {'block': {'height': 7166968, 'timestamp': {'unixtime': 1620246143}},\n",
       "    'argument': {'name': 'token1', 'type': 'address'},\n",
       "    'reference': {'address': '0xbb4cdb9cbd36b01bd1cbaebf2de08d9173bc095c',\n",
       "     'smartContract': {'currency': {'name': 'Wrapped BNB'}}}},\n",
       "   {'block': {'height': 7166968, 'timestamp': {'unixtime': 1620246143}},\n",
       "    'argument': {'name': 'token0', 'type': 'address'},\n",
       "    'reference': {'address': '0x4cc41670ad93b211a8cc4d2cca86d3901a625add',\n",
       "     'smartContract': {'currency': {'name': '-'}}}},\n",
       "   {'block': {'height': 7166953, 'timestamp': {'unixtime': 1620246098}},\n",
       "    'argument': {'name': 'token1', 'type': 'address'},\n",
       "    'reference': {'address': '0xfd0c4247d5674e523e8ef4dcc44ee5a01accd7f3',\n",
       "     'smartContract': {'currency': {'name': '-'}}}},\n",
       "   {'block': {'height': 7166953, 'timestamp': {'unixtime': 1620246098}},\n",
       "    'argument': {'name': 'token0', 'type': 'address'},\n",
       "    'reference': {'address': '0xbb4cdb9cbd36b01bd1cbaebf2de08d9173bc095c',\n",
       "     'smartContract': {'currency': {'name': 'Wrapped BNB'}}}},\n",
       "   {'block': {'height': 7166921, 'timestamp': {'unixtime': 1620246002}},\n",
       "    'argument': {'name': 'token0', 'type': 'address'},\n",
       "    'reference': {'address': '0x32eacd585c0802958a561f7a2942a82ac5be5847',\n",
       "     'smartContract': {'currency': {'name': '-'}}}},\n",
       "   {'block': {'height': 7166921, 'timestamp': {'unixtime': 1620246002}},\n",
       "    'argument': {'name': 'token1', 'type': 'address'},\n",
       "    'reference': {'address': '0xbb4cdb9cbd36b01bd1cbaebf2de08d9173bc095c',\n",
       "     'smartContract': {'currency': {'name': 'Wrapped BNB'}}}},\n",
       "   {'block': {'height': 7166910, 'timestamp': {'unixtime': 1620245969}},\n",
       "    'argument': {'name': 'token0', 'type': 'address'},\n",
       "    'reference': {'address': '0x505db001fe516b614871da374182117f4a7e7ad2',\n",
       "     'smartContract': {'currency': {'name': '-'}}}},\n",
       "   {'block': {'height': 7166910, 'timestamp': {'unixtime': 1620245969}},\n",
       "    'argument': {'name': 'token1', 'type': 'address'},\n",
       "    'reference': {'address': '0xbb4cdb9cbd36b01bd1cbaebf2de08d9173bc095c',\n",
       "     'smartContract': {'currency': {'name': 'Wrapped BNB'}}}},\n",
       "   {'block': {'height': 7166860, 'timestamp': {'unixtime': 1620245819}},\n",
       "    'argument': {'name': 'token0', 'type': 'address'},\n",
       "    'reference': {'address': '0x448bda142e072a3752f2f0ee68053f3f3da8f2e3',\n",
       "     'smartContract': {'currency': {'name': '-'}}}},\n",
       "   {'block': {'height': 7166860, 'timestamp': {'unixtime': 1620245819}},\n",
       "    'argument': {'name': 'token1', 'type': 'address'},\n",
       "    'reference': {'address': '0xbb4cdb9cbd36b01bd1cbaebf2de08d9173bc095c',\n",
       "     'smartContract': {'currency': {'name': 'Wrapped BNB'}}}},\n",
       "   {'block': {'height': 7166769, 'timestamp': {'unixtime': 1620245529}},\n",
       "    'argument': {'name': 'token1', 'type': 'address'},\n",
       "    'reference': {'address': '0xe6304e64e98bd60948995f644542c869f1f49bab',\n",
       "     'smartContract': {'currency': {'name': '-'}}}},\n",
       "   {'block': {'height': 7166769, 'timestamp': {'unixtime': 1620245529}},\n",
       "    'argument': {'name': 'token0', 'type': 'address'},\n",
       "    'reference': {'address': '0xbb4cdb9cbd36b01bd1cbaebf2de08d9173bc095c',\n",
       "     'smartContract': {'currency': {'name': 'Wrapped BNB'}}}},\n",
       "   {'block': {'height': 7166766, 'timestamp': {'unixtime': 1620245520}},\n",
       "    'argument': {'name': 'token0', 'type': 'address'},\n",
       "    'reference': {'address': '0x68c39322c8149e3f9c65ac3d565c14b01b9582fd',\n",
       "     'smartContract': {'currency': {'name': '-'}}}},\n",
       "   {'block': {'height': 7166766, 'timestamp': {'unixtime': 1620245520}},\n",
       "    'argument': {'name': 'token1', 'type': 'address'},\n",
       "    'reference': {'address': '0xbb4cdb9cbd36b01bd1cbaebf2de08d9173bc095c',\n",
       "     'smartContract': {'currency': {'name': 'Wrapped BNB'}}}},\n",
       "   {'block': {'height': 7166690, 'timestamp': {'unixtime': 1620245292}},\n",
       "    'argument': {'name': 'token1', 'type': 'address'},\n",
       "    'reference': {'address': '0xbb4cdb9cbd36b01bd1cbaebf2de08d9173bc095c',\n",
       "     'smartContract': {'currency': {'name': 'Wrapped BNB'}}}},\n",
       "   {'block': {'height': 7166690, 'timestamp': {'unixtime': 1620245292}},\n",
       "    'argument': {'name': 'token0', 'type': 'address'},\n",
       "    'reference': {'address': '0x5e8e7050e973a9497f92d8594833a0f3d65a4742',\n",
       "     'smartContract': {'currency': {'name': 'ALITY'}}}},\n",
       "   {'block': {'height': 7166667, 'timestamp': {'unixtime': 1620245223}},\n",
       "    'argument': {'name': 'token0', 'type': 'address'},\n",
       "    'reference': {'address': '0xbb4cdb9cbd36b01bd1cbaebf2de08d9173bc095c',\n",
       "     'smartContract': {'currency': {'name': 'Wrapped BNB'}}}},\n",
       "   {'block': {'height': 7166667, 'timestamp': {'unixtime': 1620245223}},\n",
       "    'argument': {'name': 'token1', 'type': 'address'},\n",
       "    'reference': {'address': '0xf7c5c1593169eb2a729a7557713b068f0901eba3',\n",
       "     'smartContract': {'currency': {'name': 'Turbo DEFI'}}}},\n",
       "   {'block': {'height': 7166588, 'timestamp': {'unixtime': 1620244986}},\n",
       "    'argument': {'name': 'token1', 'type': 'address'},\n",
       "    'reference': {'address': '0xcd8a304935f50da7d8d0abe3249dfb7dc3ef8b7b',\n",
       "     'smartContract': {'currency': {'name': 'Jack in The Box'}}}},\n",
       "   {'block': {'height': 7166588, 'timestamp': {'unixtime': 1620244986}},\n",
       "    'argument': {'name': 'token0', 'type': 'address'},\n",
       "    'reference': {'address': '0xbb4cdb9cbd36b01bd1cbaebf2de08d9173bc095c',\n",
       "     'smartContract': {'currency': {'name': 'Wrapped BNB'}}}},\n",
       "   {'block': {'height': 7166482, 'timestamp': {'unixtime': 1620244668}},\n",
       "    'argument': {'name': 'token0', 'type': 'address'},\n",
       "    'reference': {'address': '0xbb4cdb9cbd36b01bd1cbaebf2de08d9173bc095c',\n",
       "     'smartContract': {'currency': {'name': 'Wrapped BNB'}}}},\n",
       "   {'block': {'height': 7166482, 'timestamp': {'unixtime': 1620244668}},\n",
       "    'argument': {'name': 'token1', 'type': 'address'},\n",
       "    'reference': {'address': '0xc69091a2bdadef1cec9a6ce949acdbbe0e448f4d',\n",
       "     'smartContract': {'currency': {'name': 'Amazon Web Services'}}}},\n",
       "   {'block': {'height': 7166454, 'timestamp': {'unixtime': 1620244584}},\n",
       "    'argument': {'name': 'token0', 'type': 'address'},\n",
       "    'reference': {'address': '0x3ae056aa4f531fb0dbab104f7df14e89e9c8cd98',\n",
       "     'smartContract': {'currency': {'name': 'Crypto Fishing'}}}},\n",
       "   {'block': {'height': 7166454, 'timestamp': {'unixtime': 1620244584}},\n",
       "    'argument': {'name': 'token1', 'type': 'address'},\n",
       "    'reference': {'address': '0xbb4cdb9cbd36b01bd1cbaebf2de08d9173bc095c',\n",
       "     'smartContract': {'currency': {'name': 'Wrapped BNB'}}}},\n",
       "   {'block': {'height': 7166447, 'timestamp': {'unixtime': 1620244563}},\n",
       "    'argument': {'name': 'token0', 'type': 'address'},\n",
       "    'reference': {'address': '0x9ad30f56ff0e32fecc8879b4bc1d53349d2a2dd6',\n",
       "     'smartContract': {'currency': {'name': 'Black Lives Matter Coin'}}}},\n",
       "   {'block': {'height': 7166447, 'timestamp': {'unixtime': 1620244563}},\n",
       "    'argument': {'name': 'token0', 'type': 'address'},\n",
       "    'reference': {'address': '0x593c02aecf4f2f97537f368d3c13a94f85a47a6b',\n",
       "     'smartContract': {'currency': {'name': 'BabyBull'}}}},\n",
       "   {'block': {'height': 7166447, 'timestamp': {'unixtime': 1620244563}},\n",
       "    'argument': {'name': 'token1', 'type': 'address'},\n",
       "    'reference': {'address': '0xbb4cdb9cbd36b01bd1cbaebf2de08d9173bc095c',\n",
       "     'smartContract': {'currency': {'name': 'Wrapped BNB'}}}},\n",
       "   {'block': {'height': 7166413, 'timestamp': {'unixtime': 1620244461}},\n",
       "    'argument': {'name': 'token0', 'type': 'address'},\n",
       "    'reference': {'address': '0x9e88a200f047748c03c8dea96dd9274964735cfa',\n",
       "     'smartContract': {'currency': {'name': 'KnoxProtocol'}}}},\n",
       "   {'block': {'height': 7166413, 'timestamp': {'unixtime': 1620244461}},\n",
       "    'argument': {'name': 'token1', 'type': 'address'},\n",
       "    'reference': {'address': '0xbb4cdb9cbd36b01bd1cbaebf2de08d9173bc095c',\n",
       "     'smartContract': {'currency': {'name': 'Wrapped BNB'}}}},\n",
       "   {'block': {'height': 7166368, 'timestamp': {'unixtime': 1620244326}},\n",
       "    'argument': {'name': 'token0', 'type': 'address'},\n",
       "    'reference': {'address': '0xbb4cdb9cbd36b01bd1cbaebf2de08d9173bc095c',\n",
       "     'smartContract': {'currency': {'name': 'Wrapped BNB'}}}},\n",
       "   {'block': {'height': 7166368, 'timestamp': {'unixtime': 1620244326}},\n",
       "    'argument': {'name': 'token1', 'type': 'address'},\n",
       "    'reference': {'address': '0xf66d3ffa31f5e4df3fd3da7d808f5bb1aaf06a9c',\n",
       "     'smartContract': {'currency': {'name': 'Centaur'}}}},\n",
       "   {'block': {'height': 7166356, 'timestamp': {'unixtime': 1620244290}},\n",
       "    'argument': {'name': 'token0', 'type': 'address'},\n",
       "    'reference': {'address': '0xbb4cdb9cbd36b01bd1cbaebf2de08d9173bc095c',\n",
       "     'smartContract': {'currency': {'name': 'Wrapped BNB'}}}},\n",
       "   {'block': {'height': 7166356, 'timestamp': {'unixtime': 1620244290}},\n",
       "    'argument': {'name': 'token1', 'type': 'address'},\n",
       "    'reference': {'address': '0xca8b60c45be22e3b5e313344c48d4779bfab9583',\n",
       "     'smartContract': {'currency': {'name': 'YIELDFIREFLY.ME'}}}},\n",
       "   {'block': {'height': 7166354, 'timestamp': {'unixtime': 1620244284}},\n",
       "    'argument': {'name': 'token1', 'type': 'address'},\n",
       "    'reference': {'address': '0xbb4cdb9cbd36b01bd1cbaebf2de08d9173bc095c',\n",
       "     'smartContract': {'currency': {'name': 'Wrapped BNB'}}}},\n",
       "   {'block': {'height': 7166354, 'timestamp': {'unixtime': 1620244284}},\n",
       "    'argument': {'name': 'token0', 'type': 'address'},\n",
       "    'reference': {'address': '0x601ca524407560b6516835088bd9bd7ca78ae7aa',\n",
       "     'smartContract': {'currency': {'name': 'Booking Token'}}}},\n",
       "   {'block': {'height': 7166328, 'timestamp': {'unixtime': 1620244206}},\n",
       "    'argument': {'name': 'token1', 'type': 'address'},\n",
       "    'reference': {'address': '0xbb4cdb9cbd36b01bd1cbaebf2de08d9173bc095c',\n",
       "     'smartContract': {'currency': {'name': 'Wrapped BNB'}}}},\n",
       "   {'block': {'height': 7166328, 'timestamp': {'unixtime': 1620244206}},\n",
       "    'argument': {'name': 'token0', 'type': 'address'},\n",
       "    'reference': {'address': '0x2cbf8a1d81dfdef41b7d10f09104cae4e815f1e9',\n",
       "     'smartContract': {'currency': {'name': 'BOTHUNTER'}}}},\n",
       "   {'block': {'height': 7166302, 'timestamp': {'unixtime': 1620244128}},\n",
       "    'argument': {'name': 'token1', 'type': 'address'},\n",
       "    'reference': {'address': '0xbb4cdb9cbd36b01bd1cbaebf2de08d9173bc095c',\n",
       "     'smartContract': {'currency': {'name': 'Wrapped BNB'}}}},\n",
       "   {'block': {'height': 7166302, 'timestamp': {'unixtime': 1620244128}},\n",
       "    'argument': {'name': 'token0', 'type': 'address'},\n",
       "    'reference': {'address': '0x36e9c1e516c615de1ada70a49b23502e60d5a2e9',\n",
       "     'smartContract': {'currency': {'name': 'Safe Nova'}}}},\n",
       "   {'block': {'height': 7166249, 'timestamp': {'unixtime': 1620243969}},\n",
       "    'argument': {'name': 'token0', 'type': 'address'},\n",
       "    'reference': {'address': '0x29358be9b8658c8ffde4ff621328925839d1ab7b',\n",
       "     'smartContract': {'currency': {'name': 'Chelsea F.C.'}}}},\n",
       "   {'block': {'height': 7166249, 'timestamp': {'unixtime': 1620243969}},\n",
       "    'argument': {'name': 'token1', 'type': 'address'},\n",
       "    'reference': {'address': '0xbb4cdb9cbd36b01bd1cbaebf2de08d9173bc095c',\n",
       "     'smartContract': {'currency': {'name': 'Wrapped BNB'}}}},\n",
       "   {'block': {'height': 7166236, 'timestamp': {'unixtime': 1620243930}},\n",
       "    'argument': {'name': 'token1', 'type': 'address'},\n",
       "    'reference': {'address': '0xbb4cdb9cbd36b01bd1cbaebf2de08d9173bc095c',\n",
       "     'smartContract': {'currency': {'name': 'Wrapped BNB'}}}},\n",
       "   {'block': {'height': 7166236, 'timestamp': {'unixtime': 1620243930}},\n",
       "    'argument': {'name': 'token0', 'type': 'address'},\n",
       "    'reference': {'address': '0x22fac3ccac631f7ead6e4043a41eab8bf19553bb',\n",
       "     'smartContract': {'currency': {'name': 'MoonBlade'}}}},\n",
       "   {'block': {'height': 7166235, 'timestamp': {'unixtime': 1620243927}},\n",
       "    'argument': {'name': 'token1', 'type': 'address'},\n",
       "    'reference': {'address': '0xbc0b65c7561d043eece189e1d70d256c05959d11',\n",
       "     'smartContract': {'currency': {'name': 'Google LLC '}}}},\n",
       "   {'block': {'height': 7166235, 'timestamp': {'unixtime': 1620243927}},\n",
       "    'argument': {'name': 'token0', 'type': 'address'},\n",
       "    'reference': {'address': '0xbb4cdb9cbd36b01bd1cbaebf2de08d9173bc095c',\n",
       "     'smartContract': {'currency': {'name': 'Wrapped BNB'}}}},\n",
       "   {'block': {'height': 7166214, 'timestamp': {'unixtime': 1620243862}},\n",
       "    'argument': {'name': 'token0', 'type': 'address'},\n",
       "    'reference': {'address': '0xbb4cdb9cbd36b01bd1cbaebf2de08d9173bc095c',\n",
       "     'smartContract': {'currency': {'name': 'Wrapped BNB'}}}},\n",
       "   {'block': {'height': 7166214, 'timestamp': {'unixtime': 1620243862}},\n",
       "    'argument': {'name': 'token1', 'type': 'address'},\n",
       "    'reference': {'address': '0xe907f0ddcfd564020a820fc030487e5f58c87b24',\n",
       "     'smartContract': {'currency': {'name': 'KhalifaToken'}}}},\n",
       "   {'block': {'height': 7166177, 'timestamp': {'unixtime': 1620243729}},\n",
       "    'argument': {'name': 'token0', 'type': 'address'},\n",
       "    'reference': {'address': '0x412b6aa963e68a7e5fa6bbee2918ce390d2893ef',\n",
       "     'smartContract': {'currency': {'name': 'WhatsApp Protocol'}}}},\n",
       "   {'block': {'height': 7166177, 'timestamp': {'unixtime': 1620243729}},\n",
       "    'argument': {'name': 'token1', 'type': 'address'},\n",
       "    'reference': {'address': '0xbb4cdb9cbd36b01bd1cbaebf2de08d9173bc095c',\n",
       "     'smartContract': {'currency': {'name': 'Wrapped BNB'}}}},\n",
       "   {'block': {'height': 7166169, 'timestamp': {'unixtime': 1620243697}},\n",
       "    'argument': {'name': 'token0', 'type': 'address'},\n",
       "    'reference': {'address': '0xbb4cdb9cbd36b01bd1cbaebf2de08d9173bc095c',\n",
       "     'smartContract': {'currency': {'name': 'Wrapped BNB'}}}}]}}"
      ]
     },
     "execution_count": 21,
     "metadata": {},
     "output_type": "execute_result"
    }
   ],
   "source": [
    "data = json.load(open('/Users/max.bade/Downloads/pancakeswap_coins.json'))\n",
    "jtopy=json.dumps(data) #json.dumps take a dictionary as input and returns a string as output.\n",
    "x=json.loads(jtopy) # json.loads take a string as input and returns a dictionary as output.\n",
    "# print(dict_json[\"shipments\"])\n",
    "x"
   ]
  },
  {
   "cell_type": "code",
   "execution_count": 33,
   "metadata": {},
   "outputs": [
    {
     "ename": "TypeError",
     "evalue": "a bytes-like object is required, not 'str'",
     "output_type": "error",
     "traceback": [
      "\u001b[0;31m---------------------------------------------------------------------------\u001b[0m",
      "\u001b[0;31mTypeError\u001b[0m                                 Traceback (most recent call last)",
      "\u001b[0;32m<ipython-input-33-6f932077443d>\u001b[0m in \u001b[0;36m<module>\u001b[0;34m\u001b[0m\n\u001b[1;32m      6\u001b[0m \u001b[0;31m# Write CSV Header, If you dont need that, remove this line\u001b[0m\u001b[0;34m\u001b[0m\u001b[0;34m\u001b[0m\u001b[0;34m\u001b[0m\u001b[0m\n\u001b[1;32m      7\u001b[0m \u001b[0;31m# f.writerow([\"pk\", \"model\", \"codename\", \"name\", \"content_type\"])\u001b[0m\u001b[0;34m\u001b[0m\u001b[0;34m\u001b[0m\u001b[0;34m\u001b[0m\u001b[0m\n\u001b[0;32m----> 8\u001b[0;31m f.writerow([\"block\", \"height\", \"timestamp\"\n\u001b[0m\u001b[1;32m      9\u001b[0m             \u001b[0;34m,\u001b[0m \u001b[0;34m\"name\"\u001b[0m\u001b[0;34m,\u001b[0m \u001b[0;34m\"type\"\u001b[0m\u001b[0;34m,\u001b[0m \u001b[0;34m\"address\"\u001b[0m\u001b[0;34m\u001b[0m\u001b[0;34m\u001b[0m\u001b[0m\n\u001b[1;32m     10\u001b[0m             , \"currency\", \"name\"])\n",
      "\u001b[0;31mTypeError\u001b[0m: a bytes-like object is required, not 'str'"
     ]
    }
   ],
   "source": [
    "# x = json.loads(x)\n",
    "x = jtopy\n",
    "\n",
    "f = csv.writer(open(\"pancakswap_coins.csv\", \"wb+\"))\n",
    "\n",
    "# Write CSV Header, If you dont need that, remove this line\n",
    "# f.writerow([\"pk\", \"model\", \"codename\", \"name\", \"content_type\"])\n",
    "f.writerow([\"block\", \"height\", \"timestamp\"\n",
    "            , \"name\", \"type\", \"address\"\n",
    "            , \"currency\", \"name\"])\n",
    "\n",
    "# for x in x:\n",
    "#     f.writerow([x[\"pk\"],\n",
    "#                 x[\"model\"],\n",
    "#                 x[\"fields\"][\"codename\"],\n",
    "#                 x[\"fields\"][\"name\"],\n",
    "#                 x[\"fields\"][\"content_type\"]])\n",
    "\n",
    "for x in x:\n",
    "    f.writerow([x[\"ethereum\"][\"arguments\"][\"block\"][\"height\"],\n",
    "                x[\"ethereum\"][\"arguments\"][\"block\"][\"timestamp\"][\"unixtime\"],\n",
    "                x[\"ethereum\"][\"arguments\"][\"argument\"][\"name\"],\n",
    "                x[\"ethereum\"][\"arguments\"][\"argument\"][\"type\"],\n",
    "                x[\"ethereum\"][\"reference\"][\"address\"],\n",
    "                x[\"ethereum\"][\"reference\"][\"smartContract\"][\"currency\"][\"name\"]\n",
    "               ])"
   ]
  },
  {
   "cell_type": "code",
   "execution_count": 37,
   "metadata": {},
   "outputs": [
    {
     "ename": "TypeError",
     "evalue": "expected str, bytes or os.PathLike object, not dict",
     "output_type": "error",
     "traceback": [
      "\u001b[0;31m---------------------------------------------------------------------------\u001b[0m",
      "\u001b[0;31mTypeError\u001b[0m                                 Traceback (most recent call last)",
      "\u001b[0;32m<ipython-input-37-1f125a2b7298>\u001b[0m in \u001b[0;36m<module>\u001b[0;34m\u001b[0m\n\u001b[1;32m      1\u001b[0m \u001b[0mx\u001b[0m \u001b[0;34m=\u001b[0m \u001b[0mjson\u001b[0m\u001b[0;34m.\u001b[0m\u001b[0mload\u001b[0m\u001b[0;34m(\u001b[0m\u001b[0mopen\u001b[0m\u001b[0;34m(\u001b[0m\u001b[0;34m'/Users/max.bade/Downloads/pancakeswap_coins.json'\u001b[0m\u001b[0;34m)\u001b[0m\u001b[0;34m)\u001b[0m\u001b[0;34m\u001b[0m\u001b[0;34m\u001b[0m\u001b[0m\n\u001b[0;32m----> 2\u001b[0;31m \u001b[0;32mwith\u001b[0m \u001b[0mopen\u001b[0m\u001b[0;34m(\u001b[0m\u001b[0mx\u001b[0m\u001b[0;34m)\u001b[0m \u001b[0;32mas\u001b[0m \u001b[0mjson_file\u001b[0m\u001b[0;34m:\u001b[0m\u001b[0;34m\u001b[0m\u001b[0;34m\u001b[0m\u001b[0m\n\u001b[0m\u001b[1;32m      3\u001b[0m     \u001b[0mdata\u001b[0m \u001b[0;34m=\u001b[0m \u001b[0mjson\u001b[0m\u001b[0;34m.\u001b[0m\u001b[0mdumps\u001b[0m\u001b[0;34m(\u001b[0m\u001b[0mjson_file\u001b[0m\u001b[0;34m)\u001b[0m\u001b[0;34m\u001b[0m\u001b[0;34m\u001b[0m\u001b[0m\n",
      "\u001b[0;31mTypeError\u001b[0m: expected str, bytes or os.PathLike object, not dict"
     ]
    }
   ],
   "source": [
    "x = json.load(open('/Users/max.bade/Downloads/pancakeswap_coins.json'))\n",
    "with open(x) as json_file:\n",
    "    data = json.dumps(json_file)"
   ]
  },
  {
   "cell_type": "code",
   "execution_count": 34,
   "metadata": {},
   "outputs": [
    {
     "ename": "TypeError",
     "evalue": "expected str, bytes or os.PathLike object, not dict",
     "output_type": "error",
     "traceback": [
      "\u001b[0;31m---------------------------------------------------------------------------\u001b[0m",
      "\u001b[0;31mTypeError\u001b[0m                                 Traceback (most recent call last)",
      "\u001b[0;32m<ipython-input-34-6739220c82f1>\u001b[0m in \u001b[0;36m<module>\u001b[0;34m\u001b[0m\n\u001b[1;32m      9\u001b[0m \u001b[0;34m\u001b[0m\u001b[0m\n\u001b[1;32m     10\u001b[0m \u001b[0mx\u001b[0m \u001b[0;34m=\u001b[0m \u001b[0mjson\u001b[0m\u001b[0;34m.\u001b[0m\u001b[0mload\u001b[0m\u001b[0;34m(\u001b[0m\u001b[0mopen\u001b[0m\u001b[0;34m(\u001b[0m\u001b[0;34m'/Users/max.bade/Downloads/pancakeswap_coins.json'\u001b[0m\u001b[0;34m)\u001b[0m\u001b[0;34m)\u001b[0m\u001b[0;34m\u001b[0m\u001b[0;34m\u001b[0m\u001b[0m\n\u001b[0;32m---> 11\u001b[0;31m \u001b[0;32mwith\u001b[0m \u001b[0mopen\u001b[0m\u001b[0;34m(\u001b[0m\u001b[0mx\u001b[0m\u001b[0;34m)\u001b[0m \u001b[0;32mas\u001b[0m \u001b[0mjson_file\u001b[0m\u001b[0;34m:\u001b[0m\u001b[0;34m\u001b[0m\u001b[0;34m\u001b[0m\u001b[0m\n\u001b[0m\u001b[1;32m     12\u001b[0m     \u001b[0mdata\u001b[0m \u001b[0;34m=\u001b[0m \u001b[0mjson\u001b[0m\u001b[0;34m.\u001b[0m\u001b[0mload\u001b[0m\u001b[0;34m(\u001b[0m\u001b[0mjson_file\u001b[0m\u001b[0;34m)\u001b[0m\u001b[0;34m\u001b[0m\u001b[0;34m\u001b[0m\u001b[0m\n\u001b[1;32m     13\u001b[0m \u001b[0;34m\u001b[0m\u001b[0m\n",
      "\u001b[0;31mTypeError\u001b[0m: expected str, bytes or os.PathLike object, not dict"
     ]
    }
   ],
   "source": [
    "# Python program to convert\n",
    "# JSON file to CSV\n",
    "\n",
    "import json\n",
    "import csv\n",
    "  \n",
    "# Opening JSON file and loading the data\n",
    "# into the variable data\n",
    "\n",
    "x = json.load(open('/Users/max.bade/Downloads/pancakeswap_coins.json'))\n",
    "with open(x) as json_file:\n",
    "    data = json.load(json_file)\n",
    "    \n",
    "coins_data = data[\"ethereum\"][\"arguments\"]\n",
    "  \n",
    "# now we will open a file for writing\n",
    "data_file = open('data_file.csv', 'w')\n",
    "  \n",
    "# create the csv writer object\n",
    "csv_writer = csv.writer(data_file)\n",
    "  \n",
    "# Counter variable used for writing \n",
    "# headers to the CSV file\n",
    "count = 0\n",
    "  \n",
    "for coin in coins_data:\n",
    "    if count == 0:\n",
    "  \n",
    "        # Writing headers of CSV file\n",
    "        header = coin.keys()\n",
    "        csv_writer.writerow(header)\n",
    "        count += 1\n",
    "  \n",
    "    # Writing data of CSV file\n",
    "    csv_writer.writerow(coin.values())\n",
    "\n",
    "data_file.close()"
   ]
  },
  {
   "cell_type": "code",
   "execution_count": null,
   "metadata": {},
   "outputs": [],
   "source": []
  }
 ],
 "metadata": {
  "kernelspec": {
   "display_name": "Python 3",
   "language": "python",
   "name": "python3"
  },
  "language_info": {
   "codemirror_mode": {
    "name": "ipython",
    "version": 3
   },
   "file_extension": ".py",
   "mimetype": "text/x-python",
   "name": "python",
   "nbconvert_exporter": "python",
   "pygments_lexer": "ipython3",
   "version": "3.8.5"
  }
 },
 "nbformat": 4,
 "nbformat_minor": 4
}
